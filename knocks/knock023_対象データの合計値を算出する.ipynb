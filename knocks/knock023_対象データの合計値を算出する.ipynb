{
 "cells": [
  {
   "cell_type": "markdown",
   "metadata": {},
   "source": [
    "## knock 023 対象データの合計値を算出する"
   ]
  },
  {
   "cell_type": "code",
   "execution_count": 4,
   "metadata": {},
   "outputs": [
    {
     "data": {
      "text/plain": [
       "polars.config.Config"
      ]
     },
     "execution_count": 4,
     "metadata": {},
     "output_type": "execute_result"
    }
   ],
   "source": [
    "import polars as pl\n",
    "pl.Config.set_tbl_cols(-1)# 列が省略されないようにする"
   ]
  },
  {
   "cell_type": "markdown",
   "metadata": {},
   "source": [
    "### データを読み込む"
   ]
  },
  {
   "cell_type": "code",
   "execution_count": 5,
   "metadata": {},
   "outputs": [
    {
     "data": {
      "text/html": [
       "<div><style>\n",
       ".dataframe > thead > tr,\n",
       ".dataframe > tbody > tr {\n",
       "  text-align: right;\n",
       "  white-space: pre-wrap;\n",
       "}\n",
       "</style>\n",
       "<small>shape: (5, 9)</small><table border=\"1\" class=\"dataframe\"><thead><tr><th>sales_ymd</th><th>sales_epoch</th><th>store_cd</th><th>receipt_no</th><th>receipt_sub_no</th><th>customer_id</th><th>product_cd</th><th>quantity</th><th>amount</th></tr><tr><td>i64</td><td>i64</td><td>str</td><td>i64</td><td>i64</td><td>str</td><td>str</td><td>i64</td><td>i64</td></tr></thead><tbody><tr><td>20181103</td><td>1541203200</td><td>&quot;S14006&quot;</td><td>112</td><td>1</td><td>&quot;CS006214000001…</td><td>&quot;P070305012&quot;</td><td>1</td><td>158</td></tr><tr><td>20181118</td><td>1542499200</td><td>&quot;S13008&quot;</td><td>1132</td><td>2</td><td>&quot;CS008415000097…</td><td>&quot;P070701017&quot;</td><td>1</td><td>81</td></tr><tr><td>20170712</td><td>1499817600</td><td>&quot;S14028&quot;</td><td>1102</td><td>1</td><td>&quot;CS028414000014…</td><td>&quot;P060101005&quot;</td><td>1</td><td>170</td></tr><tr><td>20190205</td><td>1549324800</td><td>&quot;S14042&quot;</td><td>1132</td><td>1</td><td>&quot;ZZ000000000000…</td><td>&quot;P050301001&quot;</td><td>1</td><td>25</td></tr><tr><td>20180821</td><td>1534809600</td><td>&quot;S14025&quot;</td><td>1102</td><td>2</td><td>&quot;CS025415000050…</td><td>&quot;P060102007&quot;</td><td>1</td><td>90</td></tr></tbody></table></div>"
      ],
      "text/plain": [
       "shape: (5, 9)\n",
       "┌───────────┬───────────┬──────────┬──────────┬──────────┬──────────┬──────────┬──────────┬────────┐\n",
       "│ sales_ymd ┆ sales_epo ┆ store_cd ┆ receipt_ ┆ receipt_ ┆ customer ┆ product_ ┆ quantity ┆ amount │\n",
       "│ ---       ┆ ch        ┆ ---      ┆ no       ┆ sub_no   ┆ _id      ┆ cd       ┆ ---      ┆ ---    │\n",
       "│ i64       ┆ ---       ┆ str      ┆ ---      ┆ ---      ┆ ---      ┆ ---      ┆ i64      ┆ i64    │\n",
       "│           ┆ i64       ┆          ┆ i64      ┆ i64      ┆ str      ┆ str      ┆          ┆        │\n",
       "╞═══════════╪═══════════╪══════════╪══════════╪══════════╪══════════╪══════════╪══════════╪════════╡\n",
       "│ 20181103  ┆ 154120320 ┆ S14006   ┆ 112      ┆ 1        ┆ CS006214 ┆ P0703050 ┆ 1        ┆ 158    │\n",
       "│           ┆ 0         ┆          ┆          ┆          ┆ 000001   ┆ 12       ┆          ┆        │\n",
       "│ 20181118  ┆ 154249920 ┆ S13008   ┆ 1132     ┆ 2        ┆ CS008415 ┆ P0707010 ┆ 1        ┆ 81     │\n",
       "│           ┆ 0         ┆          ┆          ┆          ┆ 000097   ┆ 17       ┆          ┆        │\n",
       "│ 20170712  ┆ 149981760 ┆ S14028   ┆ 1102     ┆ 1        ┆ CS028414 ┆ P0601010 ┆ 1        ┆ 170    │\n",
       "│           ┆ 0         ┆          ┆          ┆          ┆ 000014   ┆ 05       ┆          ┆        │\n",
       "│ 20190205  ┆ 154932480 ┆ S14042   ┆ 1132     ┆ 1        ┆ ZZ000000 ┆ P0503010 ┆ 1        ┆ 25     │\n",
       "│           ┆ 0         ┆          ┆          ┆          ┆ 000000   ┆ 01       ┆          ┆        │\n",
       "│ 20180821  ┆ 153480960 ┆ S14025   ┆ 1102     ┆ 2        ┆ CS025415 ┆ P0601020 ┆ 1        ┆ 90     │\n",
       "│           ┆ 0         ┆          ┆          ┆          ┆ 000050   ┆ 07       ┆          ┆        │\n",
       "└───────────┴───────────┴──────────┴──────────┴──────────┴──────────┴──────────┴──────────┴────────┘"
      ]
     },
     "execution_count": 5,
     "metadata": {},
     "output_type": "execute_result"
    }
   ],
   "source": [
    "df_receipt = pl.read_csv(\"../docker/work/data/receipt.csv\")\n",
    "df_receipt.head()"
   ]
  },
  {
   "cell_type": "markdown",
   "metadata": {},
   "source": [
    "### ノック"
   ]
  },
  {
   "cell_type": "code",
   "execution_count": 6,
   "metadata": {},
   "outputs": [
    {
     "data": {
      "text/html": [
       "<div><style>\n",
       ".dataframe > thead > tr,\n",
       ".dataframe > tbody > tr {\n",
       "  text-align: right;\n",
       "  white-space: pre-wrap;\n",
       "}\n",
       "</style>\n",
       "<small>shape: (52, 3)</small><table border=\"1\" class=\"dataframe\"><thead><tr><th>store_cd</th><th>amount</th><th>quantity</th></tr><tr><td>str</td><td>i64</td><td>i64</td></tr></thead><tbody><tr><td>&quot;S12007&quot;</td><td>638761</td><td>2099</td></tr><tr><td>&quot;S12013&quot;</td><td>787513</td><td>2425</td></tr><tr><td>&quot;S12014&quot;</td><td>725167</td><td>2358</td></tr><tr><td>&quot;S12029&quot;</td><td>794741</td><td>2555</td></tr><tr><td>&quot;S12030&quot;</td><td>684402</td><td>2403</td></tr><tr><td>&quot;S13001&quot;</td><td>811936</td><td>2347</td></tr><tr><td>&quot;S13002&quot;</td><td>727821</td><td>2340</td></tr><tr><td>&quot;S13003&quot;</td><td>764294</td><td>2197</td></tr><tr><td>&quot;S13004&quot;</td><td>779373</td><td>2390</td></tr><tr><td>&quot;S13005&quot;</td><td>629876</td><td>2004</td></tr><tr><td>&quot;S13008&quot;</td><td>809288</td><td>2491</td></tr><tr><td>&quot;S13009&quot;</td><td>808870</td><td>2486</td></tr><tr><td>&hellip;</td><td>&hellip;</td><td>&hellip;</td></tr><tr><td>&quot;S14028&quot;</td><td>786145</td><td>2458</td></tr><tr><td>&quot;S14033&quot;</td><td>725318</td><td>2282</td></tr><tr><td>&quot;S14034&quot;</td><td>653681</td><td>2024</td></tr><tr><td>&quot;S14036&quot;</td><td>203694</td><td>635</td></tr><tr><td>&quot;S14040&quot;</td><td>701858</td><td>2233</td></tr><tr><td>&quot;S14042&quot;</td><td>534689</td><td>1935</td></tr><tr><td>&quot;S14045&quot;</td><td>458484</td><td>1398</td></tr><tr><td>&quot;S14046&quot;</td><td>412646</td><td>1354</td></tr><tr><td>&quot;S14047&quot;</td><td>338329</td><td>1041</td></tr><tr><td>&quot;S14048&quot;</td><td>234276</td><td>769</td></tr><tr><td>&quot;S14049&quot;</td><td>230808</td><td>788</td></tr><tr><td>&quot;S14050&quot;</td><td>167090</td><td>580</td></tr></tbody></table></div>"
      ],
      "text/plain": [
       "shape: (52, 3)\n",
       "┌──────────┬────────┬──────────┐\n",
       "│ store_cd ┆ amount ┆ quantity │\n",
       "│ ---      ┆ ---    ┆ ---      │\n",
       "│ str      ┆ i64    ┆ i64      │\n",
       "╞══════════╪════════╪══════════╡\n",
       "│ S12007   ┆ 638761 ┆ 2099     │\n",
       "│ S12013   ┆ 787513 ┆ 2425     │\n",
       "│ S12014   ┆ 725167 ┆ 2358     │\n",
       "│ S12029   ┆ 794741 ┆ 2555     │\n",
       "│ …        ┆ …      ┆ …        │\n",
       "│ S14047   ┆ 338329 ┆ 1041     │\n",
       "│ S14048   ┆ 234276 ┆ 769      │\n",
       "│ S14049   ┆ 230808 ┆ 788      │\n",
       "│ S14050   ┆ 167090 ┆ 580      │\n",
       "└──────────┴────────┴──────────┘"
      ]
     },
     "execution_count": 6,
     "metadata": {},
     "output_type": "execute_result"
    }
   ],
   "source": [
    "df_receipt.group_by(by = \"store_cd\").agg( pl.sum(\"amount\"), pl.sum(\"quantity\") ).sort(by = \"store_cd\")"
   ]
  }
 ],
 "metadata": {
  "kernelspec": {
   "display_name": "Python 3",
   "language": "python",
   "name": "python3"
  },
  "language_info": {
   "codemirror_mode": {
    "name": "ipython",
    "version": 3
   },
   "file_extension": ".py",
   "mimetype": "text/x-python",
   "name": "python",
   "nbconvert_exporter": "python",
   "pygments_lexer": "ipython3",
   "version": "3.11.4"
  }
 },
 "nbformat": 4,
 "nbformat_minor": 2
}
