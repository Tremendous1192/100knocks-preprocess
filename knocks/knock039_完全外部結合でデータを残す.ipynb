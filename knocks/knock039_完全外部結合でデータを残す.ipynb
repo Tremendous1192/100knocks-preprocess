{
 "cells": [
  {
   "cell_type": "markdown",
   "metadata": {},
   "source": [
    "## knock 039 完全外部結合でデータを残す"
   ]
  },
  {
   "cell_type": "code",
   "execution_count": 9,
   "metadata": {},
   "outputs": [
    {
     "data": {
      "text/plain": [
       "polars.config.Config"
      ]
     },
     "execution_count": 9,
     "metadata": {},
     "output_type": "execute_result"
    }
   ],
   "source": [
    "import polars as pl\n",
    "pl.Config.set_tbl_cols(-1)# 列が省略されないようにする"
   ]
  },
  {
   "cell_type": "markdown",
   "metadata": {},
   "source": [
    "### データを読み込む"
   ]
  },
  {
   "cell_type": "code",
   "execution_count": 10,
   "metadata": {},
   "outputs": [
    {
     "data": {
      "text/html": [
       "<div><style>\n",
       ".dataframe > thead > tr,\n",
       ".dataframe > tbody > tr {\n",
       "  text-align: right;\n",
       "  white-space: pre-wrap;\n",
       "}\n",
       "</style>\n",
       "<small>shape: (5, 9)</small><table border=\"1\" class=\"dataframe\"><thead><tr><th>sales_ymd</th><th>sales_epoch</th><th>store_cd</th><th>receipt_no</th><th>receipt_sub_no</th><th>customer_id</th><th>product_cd</th><th>quantity</th><th>amount</th></tr><tr><td>i64</td><td>i64</td><td>str</td><td>i64</td><td>i64</td><td>str</td><td>str</td><td>i64</td><td>i64</td></tr></thead><tbody><tr><td>20181103</td><td>1541203200</td><td>&quot;S14006&quot;</td><td>112</td><td>1</td><td>&quot;CS006214000001…</td><td>&quot;P070305012&quot;</td><td>1</td><td>158</td></tr><tr><td>20181118</td><td>1542499200</td><td>&quot;S13008&quot;</td><td>1132</td><td>2</td><td>&quot;CS008415000097…</td><td>&quot;P070701017&quot;</td><td>1</td><td>81</td></tr><tr><td>20170712</td><td>1499817600</td><td>&quot;S14028&quot;</td><td>1102</td><td>1</td><td>&quot;CS028414000014…</td><td>&quot;P060101005&quot;</td><td>1</td><td>170</td></tr><tr><td>20190205</td><td>1549324800</td><td>&quot;S14042&quot;</td><td>1132</td><td>1</td><td>&quot;ZZ000000000000…</td><td>&quot;P050301001&quot;</td><td>1</td><td>25</td></tr><tr><td>20180821</td><td>1534809600</td><td>&quot;S14025&quot;</td><td>1102</td><td>2</td><td>&quot;CS025415000050…</td><td>&quot;P060102007&quot;</td><td>1</td><td>90</td></tr></tbody></table></div>"
      ],
      "text/plain": [
       "shape: (5, 9)\n",
       "┌───────────┬───────────┬──────────┬──────────┬──────────┬──────────┬──────────┬──────────┬────────┐\n",
       "│ sales_ymd ┆ sales_epo ┆ store_cd ┆ receipt_ ┆ receipt_ ┆ customer ┆ product_ ┆ quantity ┆ amount │\n",
       "│ ---       ┆ ch        ┆ ---      ┆ no       ┆ sub_no   ┆ _id      ┆ cd       ┆ ---      ┆ ---    │\n",
       "│ i64       ┆ ---       ┆ str      ┆ ---      ┆ ---      ┆ ---      ┆ ---      ┆ i64      ┆ i64    │\n",
       "│           ┆ i64       ┆          ┆ i64      ┆ i64      ┆ str      ┆ str      ┆          ┆        │\n",
       "╞═══════════╪═══════════╪══════════╪══════════╪══════════╪══════════╪══════════╪══════════╪════════╡\n",
       "│ 20181103  ┆ 154120320 ┆ S14006   ┆ 112      ┆ 1        ┆ CS006214 ┆ P0703050 ┆ 1        ┆ 158    │\n",
       "│           ┆ 0         ┆          ┆          ┆          ┆ 000001   ┆ 12       ┆          ┆        │\n",
       "│ 20181118  ┆ 154249920 ┆ S13008   ┆ 1132     ┆ 2        ┆ CS008415 ┆ P0707010 ┆ 1        ┆ 81     │\n",
       "│           ┆ 0         ┆          ┆          ┆          ┆ 000097   ┆ 17       ┆          ┆        │\n",
       "│ 20170712  ┆ 149981760 ┆ S14028   ┆ 1102     ┆ 1        ┆ CS028414 ┆ P0601010 ┆ 1        ┆ 170    │\n",
       "│           ┆ 0         ┆          ┆          ┆          ┆ 000014   ┆ 05       ┆          ┆        │\n",
       "│ 20190205  ┆ 154932480 ┆ S14042   ┆ 1132     ┆ 1        ┆ ZZ000000 ┆ P0503010 ┆ 1        ┆ 25     │\n",
       "│           ┆ 0         ┆          ┆          ┆          ┆ 000000   ┆ 01       ┆          ┆        │\n",
       "│ 20180821  ┆ 153480960 ┆ S14025   ┆ 1102     ┆ 2        ┆ CS025415 ┆ P0601020 ┆ 1        ┆ 90     │\n",
       "│           ┆ 0         ┆          ┆          ┆          ┆ 000050   ┆ 07       ┆          ┆        │\n",
       "└───────────┴───────────┴──────────┴──────────┴──────────┴──────────┴──────────┴──────────┴────────┘"
      ]
     },
     "metadata": {},
     "output_type": "display_data"
    }
   ],
   "source": [
    "df_receipt = pl.read_csv(\"../docker/work/data/receipt.csv\")\n",
    "display(df_receipt.head())"
   ]
  },
  {
   "cell_type": "markdown",
   "metadata": {},
   "source": [
    "### ノック"
   ]
  },
  {
   "cell_type": "code",
   "execution_count": 12,
   "metadata": {},
   "outputs": [
    {
     "data": {
      "text/html": [
       "<div><style>\n",
       ".dataframe > thead > tr,\n",
       ".dataframe > tbody > tr {\n",
       "  text-align: right;\n",
       "  white-space: pre-wrap;\n",
       "}\n",
       "</style>\n",
       "<small>shape: (34, 3)</small><table border=\"1\" class=\"dataframe\"><thead><tr><th>customer_id</th><th>sales_ymd</th><th>amount</th></tr><tr><td>str</td><td>u32</td><td>i64</td></tr></thead><tbody><tr><td>&quot;CS040214000008…</td><td>23</td><td>null</td></tr><tr><td>&quot;CS015415000185…</td><td>22</td><td>20153</td></tr><tr><td>&quot;CS010214000010…</td><td>22</td><td>18585</td></tr><tr><td>&quot;CS028415000007…</td><td>21</td><td>19127</td></tr><tr><td>&quot;CS010214000002…</td><td>21</td><td>null</td></tr><tr><td>&quot;CS017415000097…</td><td>20</td><td>23086</td></tr><tr><td>&quot;CS016415000141…</td><td>20</td><td>18372</td></tr><tr><td>&quot;CS031414000051…</td><td>19</td><td>19202</td></tr><tr><td>&quot;CS021515000172…</td><td>19</td><td>null</td></tr><tr><td>&quot;CS014214000023…</td><td>19</td><td>null</td></tr><tr><td>&quot;CS021514000045…</td><td>19</td><td>null</td></tr><tr><td>&quot;CS022515000226…</td><td>19</td><td>null</td></tr><tr><td>&hellip;</td><td>&hellip;</td><td>&hellip;</td></tr><tr><td>&quot;CS009414000059…</td><td>null</td><td>15492</td></tr><tr><td>&quot;CS007514000094…</td><td>null</td><td>15735</td></tr><tr><td>&quot;CS034415000047…</td><td>null</td><td>16083</td></tr><tr><td>&quot;CS011415000006…</td><td>null</td><td>16094</td></tr><tr><td>&quot;CS016415000101…</td><td>null</td><td>16348</td></tr><tr><td>&quot;CS032414000072…</td><td>null</td><td>16563</td></tr><tr><td>&quot;CS021515000089…</td><td>null</td><td>17580</td></tr><tr><td>&quot;CS035414000024…</td><td>null</td><td>17615</td></tr><tr><td>&quot;CS038415000104…</td><td>null</td><td>17847</td></tr><tr><td>&quot;CS011414000106…</td><td>null</td><td>18338</td></tr><tr><td>&quot;CS006515000023…</td><td>null</td><td>18372</td></tr><tr><td>&quot;CS001605000009…</td><td>null</td><td>18925</td></tr></tbody></table></div>"
      ],
      "text/plain": [
       "shape: (34, 3)\n",
       "┌────────────────┬───────────┬────────┐\n",
       "│ customer_id    ┆ sales_ymd ┆ amount │\n",
       "│ ---            ┆ ---       ┆ ---    │\n",
       "│ str            ┆ u32       ┆ i64    │\n",
       "╞════════════════╪═══════════╪════════╡\n",
       "│ CS040214000008 ┆ 23        ┆ null   │\n",
       "│ CS015415000185 ┆ 22        ┆ 20153  │\n",
       "│ CS010214000010 ┆ 22        ┆ 18585  │\n",
       "│ CS028415000007 ┆ 21        ┆ 19127  │\n",
       "│ …              ┆ …         ┆ …      │\n",
       "│ CS038415000104 ┆ null      ┆ 17847  │\n",
       "│ CS011414000106 ┆ null      ┆ 18338  │\n",
       "│ CS006515000023 ┆ null      ┆ 18372  │\n",
       "│ CS001605000009 ┆ null      ┆ 18925  │\n",
       "└────────────────┴───────────┴────────┘"
      ]
     },
     "execution_count": 12,
     "metadata": {},
     "output_type": "execute_result"
    }
   ],
   "source": [
    "df_cnt = (\n",
    "    df_receipt\n",
    "    # 非会員は除く\n",
    "    .filter( ~pl.col(\"customer_id\").str.starts_with(\"Z\") )\n",
    "    # 来店日数を集計するために、来店日時のユニーク値を取り出す\n",
    "    .unique(subset = [\"customer_id\", \"sales_ymd\"])\n",
    "    # 来店日数を計数する\n",
    "    .group_by(by = \"customer_id\")\n",
    "    .agg( pl.count(\"sales_ymd\"))\n",
    "    # 上位20名を抽出する\n",
    "    .sort(by = \"sales_ymd\", descending = True)\n",
    "    .head(n = 20)\n",
    ")\n",
    "\n",
    "df_sum = (\n",
    "    df_receipt\n",
    "    # 非会員は除く\n",
    "    .filter( ~pl.col(\"customer_id\").str.starts_with(\"Z\") )\n",
    "    # 合計売上を計算する\n",
    "    .group_by(by = \"customer_id\")\n",
    "    .agg(pl.sum(\"amount\"))\n",
    "    # 上位20名を抽出する\n",
    "    .sort(by = \"amount\", descending = True)\n",
    "    .head(n = 20)\n",
    ")\n",
    "\n",
    "(\n",
    "    df_cnt\n",
    "    .join(other = df_sum,\n",
    "          on = \"customer_id\",\n",
    "          how = \"outer\")\n",
    "    .sort(by = \"sales_ymd\", descending = True, nulls_last = True)\n",
    ")"
   ]
  }
 ],
 "metadata": {
  "kernelspec": {
   "display_name": "Python 3",
   "language": "python",
   "name": "python3"
  },
  "language_info": {
   "codemirror_mode": {
    "name": "ipython",
    "version": 3
   },
   "file_extension": ".py",
   "mimetype": "text/x-python",
   "name": "python",
   "nbconvert_exporter": "python",
   "pygments_lexer": "ipython3",
   "version": "3.11.4"
  }
 },
 "nbformat": 4,
 "nbformat_minor": 2
}
