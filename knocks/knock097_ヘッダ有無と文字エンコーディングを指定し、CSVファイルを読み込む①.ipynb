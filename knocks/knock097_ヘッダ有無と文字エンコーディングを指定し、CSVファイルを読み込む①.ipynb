{
 "cells": [
  {
   "cell_type": "markdown",
   "metadata": {},
   "source": [
    "## knock 097 ヘッダ有無と文字エンコーディングを指定し、CSVファイルを読み込む①"
   ]
  },
  {
   "cell_type": "code",
   "execution_count": 1,
   "metadata": {},
   "outputs": [],
   "source": [
    "import polars as pl\n",
    "pl.Config.set_tbl_cols(-1)# 列の表示が省略されないようにする\n",
    "import polars.selectors as cs# 抽出条件のプリセット"
   ]
  },
  {
   "cell_type": "markdown",
   "metadata": {},
   "source": [
    "### ノック"
   ]
  },
  {
   "cell_type": "code",
   "execution_count": 3,
   "metadata": {},
   "outputs": [
    {
     "data": {
      "text/html": [
       "<div><style>\n",
       ".dataframe > thead > tr,\n",
       ".dataframe > tbody > tr {\n",
       "  text-align: right;\n",
       "  white-space: pre-wrap;\n",
       "}\n",
       "</style>\n",
       "<small>shape: (3, 9)</small><table border=\"1\" class=\"dataframe\"><thead><tr><th>product_cd</th><th>category_major_cd</th><th>category_medium_cd</th><th>category_small_cd</th><th>unit_price</th><th>unit_cost</th><th>category_major_name</th><th>category_medium_name</th><th>category_small_name</th></tr><tr><td>str</td><td>i64</td><td>i64</td><td>i64</td><td>i64</td><td>i64</td><td>str</td><td>str</td><td>str</td></tr></thead><tbody><tr><td>&quot;P040101001&quot;</td><td>4</td><td>401</td><td>40101</td><td>198</td><td>149</td><td>&quot;惣菜&quot;</td><td>&quot;御飯類&quot;</td><td>&quot;弁当類&quot;</td></tr><tr><td>&quot;P040101002&quot;</td><td>4</td><td>401</td><td>40101</td><td>218</td><td>164</td><td>&quot;惣菜&quot;</td><td>&quot;御飯類&quot;</td><td>&quot;弁当類&quot;</td></tr><tr><td>&quot;P040101003&quot;</td><td>4</td><td>401</td><td>40101</td><td>230</td><td>173</td><td>&quot;惣菜&quot;</td><td>&quot;御飯類&quot;</td><td>&quot;弁当類&quot;</td></tr></tbody></table></div>"
      ],
      "text/plain": [
       "shape: (3, 9)\n",
       "┌──────────┬──────────┬──────────┬──────────┬──────────┬──────────┬──────────┬──────────┬──────────┐\n",
       "│ product_ ┆ category ┆ category ┆ category ┆ unit_pri ┆ unit_cos ┆ category ┆ category ┆ category │\n",
       "│ cd       ┆ _major_c ┆ _medium_ ┆ _small_c ┆ ce       ┆ t        ┆ _major_n ┆ _medium_ ┆ _small_n │\n",
       "│ ---      ┆ d        ┆ cd       ┆ d        ┆ ---      ┆ ---      ┆ ame      ┆ name     ┆ ame      │\n",
       "│ str      ┆ ---      ┆ ---      ┆ ---      ┆ i64      ┆ i64      ┆ ---      ┆ ---      ┆ ---      │\n",
       "│          ┆ i64      ┆ i64      ┆ i64      ┆          ┆          ┆ str      ┆ str      ┆ str      │\n",
       "╞══════════╪══════════╪══════════╪══════════╪══════════╪══════════╪══════════╪══════════╪══════════╡\n",
       "│ P0401010 ┆ 4        ┆ 401      ┆ 40101    ┆ 198      ┆ 149      ┆ 惣菜     ┆ 御飯類   ┆ 弁当類   │\n",
       "│ 01       ┆          ┆          ┆          ┆          ┆          ┆          ┆          ┆          │\n",
       "│ P0401010 ┆ 4        ┆ 401      ┆ 40101    ┆ 218      ┆ 164      ┆ 惣菜     ┆ 御飯類   ┆ 弁当類   │\n",
       "│ 02       ┆          ┆          ┆          ┆          ┆          ┆          ┆          ┆          │\n",
       "│ P0401010 ┆ 4        ┆ 401      ┆ 40101    ┆ 230      ┆ 173      ┆ 惣菜     ┆ 御飯類   ┆ 弁当類   │\n",
       "│ 03       ┆          ┆          ┆          ┆          ┆          ┆          ┆          ┆          │\n",
       "└──────────┴──────────┴──────────┴──────────┴──────────┴──────────┴──────────┴──────────┴──────────┘"
      ]
     },
     "execution_count": 3,
     "metadata": {},
     "output_type": "execute_result"
    }
   ],
   "source": [
    "pl.read_csv('../docker/work/data/P_df_product_full_UTF-8_header.csv').head(3)"
   ]
  }
 ],
 "metadata": {
  "kernelspec": {
   "display_name": "Python 3",
   "language": "python",
   "name": "python3"
  },
  "language_info": {
   "codemirror_mode": {
    "name": "ipython",
    "version": 3
   },
   "file_extension": ".py",
   "mimetype": "text/x-python",
   "name": "python",
   "nbconvert_exporter": "python",
   "pygments_lexer": "ipython3",
   "version": "3.11.4"
  }
 },
 "nbformat": 4,
 "nbformat_minor": 2
}
