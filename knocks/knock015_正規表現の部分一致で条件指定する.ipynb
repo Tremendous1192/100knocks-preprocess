{
 "cells": [
  {
   "cell_type": "markdown",
   "metadata": {},
   "source": [
    "## knock 015 正規表現の部分一致で条件指定する"
   ]
  },
  {
   "cell_type": "code",
   "execution_count": 2,
   "metadata": {},
   "outputs": [
    {
     "data": {
      "text/plain": [
       "polars.config.Config"
      ]
     },
     "execution_count": 2,
     "metadata": {},
     "output_type": "execute_result"
    }
   ],
   "source": [
    "import polars as pl\n",
    "pl.Config.set_tbl_cols(-1)# 列が省略されないようにする"
   ]
  },
  {
   "cell_type": "markdown",
   "metadata": {},
   "source": [
    "### データを読み込む"
   ]
  },
  {
   "cell_type": "code",
   "execution_count": 3,
   "metadata": {},
   "outputs": [
    {
     "data": {
      "text/html": [
       "<div><style>\n",
       ".dataframe > thead > tr,\n",
       ".dataframe > tbody > tr {\n",
       "  text-align: right;\n",
       "  white-space: pre-wrap;\n",
       "}\n",
       "</style>\n",
       "<small>shape: (5, 11)</small><table border=\"1\" class=\"dataframe\"><thead><tr><th>customer_id</th><th>customer_name</th><th>gender_cd</th><th>gender</th><th>birth_day</th><th>age</th><th>postal_cd</th><th>address</th><th>application_store_cd</th><th>application_date</th><th>status_cd</th></tr><tr><td>str</td><td>str</td><td>i64</td><td>str</td><td>str</td><td>i64</td><td>str</td><td>str</td><td>str</td><td>i64</td><td>str</td></tr></thead><tbody><tr><td>&quot;CS021313000114…</td><td>&quot;大野 あや子&quot;</td><td>1</td><td>&quot;女性&quot;</td><td>&quot;1981-04-29&quot;</td><td>37</td><td>&quot;259-1113&quot;</td><td>&quot;神奈川県伊勢原市粟窪****…</td><td>&quot;S14021&quot;</td><td>20150905</td><td>&quot;0-00000000-0&quot;</td></tr><tr><td>&quot;CS037613000071…</td><td>&quot;六角 雅彦&quot;</td><td>9</td><td>&quot;不明&quot;</td><td>&quot;1952-04-01&quot;</td><td>66</td><td>&quot;136-0076&quot;</td><td>&quot;東京都江東区南砂******…</td><td>&quot;S13037&quot;</td><td>20150414</td><td>&quot;0-00000000-0&quot;</td></tr><tr><td>&quot;CS031415000172…</td><td>&quot;宇多田 貴美子&quot;</td><td>1</td><td>&quot;女性&quot;</td><td>&quot;1976-10-04&quot;</td><td>42</td><td>&quot;151-0053&quot;</td><td>&quot;東京都渋谷区代々木*****…</td><td>&quot;S13031&quot;</td><td>20150529</td><td>&quot;D-20100325-C&quot;</td></tr><tr><td>&quot;CS028811000001…</td><td>&quot;堀井 かおり&quot;</td><td>1</td><td>&quot;女性&quot;</td><td>&quot;1933-03-27&quot;</td><td>86</td><td>&quot;245-0016&quot;</td><td>&quot;神奈川県横浜市泉区和泉町**…</td><td>&quot;S14028&quot;</td><td>20160115</td><td>&quot;0-00000000-0&quot;</td></tr><tr><td>&quot;CS001215000145…</td><td>&quot;田崎 美紀&quot;</td><td>1</td><td>&quot;女性&quot;</td><td>&quot;1995-03-29&quot;</td><td>24</td><td>&quot;144-0055&quot;</td><td>&quot;東京都大田区仲六郷*****…</td><td>&quot;S13001&quot;</td><td>20170605</td><td>&quot;6-20090929-2&quot;</td></tr></tbody></table></div>"
      ],
      "text/plain": [
       "shape: (5, 11)\n",
       "┌─────────┬─────────┬─────────┬────────┬────────┬─────┬────────┬────────┬────────┬────────┬────────┐\n",
       "│ custome ┆ custome ┆ gender_ ┆ gender ┆ birth_ ┆ age ┆ postal ┆ addres ┆ applic ┆ applic ┆ status │\n",
       "│ r_id    ┆ r_name  ┆ cd      ┆ ---    ┆ day    ┆ --- ┆ _cd    ┆ s      ┆ ation_ ┆ ation_ ┆ _cd    │\n",
       "│ ---     ┆ ---     ┆ ---     ┆ str    ┆ ---    ┆ i64 ┆ ---    ┆ ---    ┆ store_ ┆ date   ┆ ---    │\n",
       "│ str     ┆ str     ┆ i64     ┆        ┆ str    ┆     ┆ str    ┆ str    ┆ cd     ┆ ---    ┆ str    │\n",
       "│         ┆         ┆         ┆        ┆        ┆     ┆        ┆        ┆ ---    ┆ i64    ┆        │\n",
       "│         ┆         ┆         ┆        ┆        ┆     ┆        ┆        ┆ str    ┆        ┆        │\n",
       "╞═════════╪═════════╪═════════╪════════╪════════╪═════╪════════╪════════╪════════╪════════╪════════╡\n",
       "│ CS02131 ┆ 大野    ┆ 1       ┆ 女性   ┆ 1981-0 ┆ 37  ┆ 259-11 ┆ 神奈川 ┆ S14021 ┆ 201509 ┆ 0-0000 │\n",
       "│ 3000114 ┆ あや子  ┆         ┆        ┆ 4-29   ┆     ┆ 13     ┆ 県伊勢 ┆        ┆ 05     ┆ 0000-0 │\n",
       "│         ┆         ┆         ┆        ┆        ┆     ┆        ┆ 原市粟 ┆        ┆        ┆        │\n",
       "│         ┆         ┆         ┆        ┆        ┆     ┆        ┆ 窪**** ┆        ┆        ┆        │\n",
       "│         ┆         ┆         ┆        ┆        ┆     ┆        ┆ ****** ┆        ┆        ┆        │\n",
       "│ CS03761 ┆ 六角    ┆ 9       ┆ 不明   ┆ 1952-0 ┆ 66  ┆ 136-00 ┆ 東京都 ┆ S13037 ┆ 201504 ┆ 0-0000 │\n",
       "│ 3000071 ┆ 雅彦    ┆         ┆        ┆ 4-01   ┆     ┆ 76     ┆ 江東区 ┆        ┆ 14     ┆ 0000-0 │\n",
       "│         ┆         ┆         ┆        ┆        ┆     ┆        ┆ 南砂** ┆        ┆        ┆        │\n",
       "│         ┆         ┆         ┆        ┆        ┆     ┆        ┆ ****** ┆        ┆        ┆        │\n",
       "│         ┆         ┆         ┆        ┆        ┆     ┆        ┆ **     ┆        ┆        ┆        │\n",
       "│ CS03141 ┆ 宇多田  ┆ 1       ┆ 女性   ┆ 1976-1 ┆ 42  ┆ 151-00 ┆ 東京都 ┆ S13031 ┆ 201505 ┆ D-2010 │\n",
       "│ 5000172 ┆ 貴美子  ┆         ┆        ┆ 0-04   ┆     ┆ 53     ┆ 渋谷区 ┆        ┆ 29     ┆ 0325-C │\n",
       "│         ┆         ┆         ┆        ┆        ┆     ┆        ┆ 代々木 ┆        ┆        ┆        │\n",
       "│         ┆         ┆         ┆        ┆        ┆     ┆        ┆ ****** ┆        ┆        ┆        │\n",
       "│         ┆         ┆         ┆        ┆        ┆     ┆        ┆ ****   ┆        ┆        ┆        │\n",
       "│ CS02881 ┆ 堀井    ┆ 1       ┆ 女性   ┆ 1933-0 ┆ 86  ┆ 245-00 ┆ 神奈川 ┆ S14028 ┆ 201601 ┆ 0-0000 │\n",
       "│ 1000001 ┆ かおり  ┆         ┆        ┆ 3-27   ┆     ┆ 16     ┆ 県横浜 ┆        ┆ 15     ┆ 0000-0 │\n",
       "│         ┆         ┆         ┆        ┆        ┆     ┆        ┆ 市泉区 ┆        ┆        ┆        │\n",
       "│         ┆         ┆         ┆        ┆        ┆     ┆        ┆ 和泉町 ┆        ┆        ┆        │\n",
       "│         ┆         ┆         ┆        ┆        ┆     ┆        ┆ ****** ┆        ┆        ┆        │\n",
       "│         ┆         ┆         ┆        ┆        ┆     ┆        ┆ ****   ┆        ┆        ┆        │\n",
       "│ CS00121 ┆ 田崎    ┆ 1       ┆ 女性   ┆ 1995-0 ┆ 24  ┆ 144-00 ┆ 東京都 ┆ S13001 ┆ 201706 ┆ 6-2009 │\n",
       "│ 5000145 ┆ 美紀    ┆         ┆        ┆ 3-29   ┆     ┆ 55     ┆ 大田区 ┆        ┆ 05     ┆ 0929-2 │\n",
       "│         ┆         ┆         ┆        ┆        ┆     ┆        ┆ 仲六郷 ┆        ┆        ┆        │\n",
       "│         ┆         ┆         ┆        ┆        ┆     ┆        ┆ ****** ┆        ┆        ┆        │\n",
       "│         ┆         ┆         ┆        ┆        ┆     ┆        ┆ ****   ┆        ┆        ┆        │\n",
       "└─────────┴─────────┴─────────┴────────┴────────┴─────┴────────┴────────┴────────┴────────┴────────┘"
      ]
     },
     "execution_count": 3,
     "metadata": {},
     "output_type": "execute_result"
    }
   ],
   "source": [
    "df_customer = pl.read_csv(\"../docker/work/data/customer.csv\")\n",
    "df_customer.head()"
   ]
  },
  {
   "cell_type": "markdown",
   "metadata": {},
   "source": [
    "### ノック"
   ]
  },
  {
   "cell_type": "code",
   "execution_count": 4,
   "metadata": {},
   "outputs": [
    {
     "data": {
      "text/html": [
       "<div><style>\n",
       ".dataframe > thead > tr,\n",
       ".dataframe > tbody > tr {\n",
       "  text-align: right;\n",
       "  white-space: pre-wrap;\n",
       "}\n",
       "</style>\n",
       "<small>shape: (10, 11)</small><table border=\"1\" class=\"dataframe\"><thead><tr><th>customer_id</th><th>customer_name</th><th>gender_cd</th><th>gender</th><th>birth_day</th><th>age</th><th>postal_cd</th><th>address</th><th>application_store_cd</th><th>application_date</th><th>status_cd</th></tr><tr><td>str</td><td>str</td><td>i64</td><td>str</td><td>str</td><td>i64</td><td>str</td><td>str</td><td>str</td><td>i64</td><td>str</td></tr></thead><tbody><tr><td>&quot;CS011215000048…</td><td>&quot;芦田 沙耶&quot;</td><td>1</td><td>&quot;女性&quot;</td><td>&quot;1992-02-01&quot;</td><td>27</td><td>&quot;223-0062&quot;</td><td>&quot;神奈川県横浜市港北区日吉本町…</td><td>&quot;S14011&quot;</td><td>20150228</td><td>&quot;C-20100421-9&quot;</td></tr><tr><td>&quot;CS022513000105…</td><td>&quot;島村 貴美子&quot;</td><td>1</td><td>&quot;女性&quot;</td><td>&quot;1962-03-12&quot;</td><td>57</td><td>&quot;249-0002&quot;</td><td>&quot;神奈川県逗子市山の根****…</td><td>&quot;S14022&quot;</td><td>20150320</td><td>&quot;A-20091115-7&quot;</td></tr><tr><td>&quot;CS001515000096…</td><td>&quot;水野 陽子&quot;</td><td>9</td><td>&quot;不明&quot;</td><td>&quot;1960-11-29&quot;</td><td>58</td><td>&quot;144-0053&quot;</td><td>&quot;東京都大田区蒲田本町****…</td><td>&quot;S13001&quot;</td><td>20150614</td><td>&quot;A-20100724-7&quot;</td></tr><tr><td>&quot;CS013615000053…</td><td>&quot;西脇 季衣&quot;</td><td>1</td><td>&quot;女性&quot;</td><td>&quot;1953-10-18&quot;</td><td>65</td><td>&quot;261-0026&quot;</td><td>&quot;千葉県千葉市美浜区幕張西**…</td><td>&quot;S12013&quot;</td><td>20150128</td><td>&quot;B-20100329-6&quot;</td></tr><tr><td>&quot;CS020412000161…</td><td>&quot;小宮 薫&quot;</td><td>1</td><td>&quot;女性&quot;</td><td>&quot;1974-05-21&quot;</td><td>44</td><td>&quot;174-0042&quot;</td><td>&quot;東京都板橋区東坂下*****…</td><td>&quot;S13020&quot;</td><td>20150822</td><td>&quot;B-20081021-3&quot;</td></tr><tr><td>&quot;CS001215000097…</td><td>&quot;竹中 あさみ&quot;</td><td>1</td><td>&quot;女性&quot;</td><td>&quot;1990-07-25&quot;</td><td>28</td><td>&quot;146-0095&quot;</td><td>&quot;東京都大田区多摩川*****…</td><td>&quot;S13001&quot;</td><td>20170315</td><td>&quot;A-20100211-2&quot;</td></tr><tr><td>&quot;CS035212000007…</td><td>&quot;内村 恵梨香&quot;</td><td>1</td><td>&quot;女性&quot;</td><td>&quot;1990-12-04&quot;</td><td>28</td><td>&quot;152-0023&quot;</td><td>&quot;東京都目黒区八雲******…</td><td>&quot;S13035&quot;</td><td>20151013</td><td>&quot;B-20101018-6&quot;</td></tr><tr><td>&quot;CS002515000386…</td><td>&quot;野田 コウ&quot;</td><td>1</td><td>&quot;女性&quot;</td><td>&quot;1963-05-30&quot;</td><td>55</td><td>&quot;185-0013&quot;</td><td>&quot;東京都国分寺市西恋ケ窪***…</td><td>&quot;S13002&quot;</td><td>20160410</td><td>&quot;C-20100127-8&quot;</td></tr><tr><td>&quot;CS001615000372…</td><td>&quot;稲垣 寿々花&quot;</td><td>1</td><td>&quot;女性&quot;</td><td>&quot;1956-10-29&quot;</td><td>62</td><td>&quot;144-0035&quot;</td><td>&quot;東京都大田区南蒲田*****…</td><td>&quot;S13001&quot;</td><td>20170403</td><td>&quot;A-20100104-1&quot;</td></tr><tr><td>&quot;CS032512000121…</td><td>&quot;松井 知世&quot;</td><td>1</td><td>&quot;女性&quot;</td><td>&quot;1962-09-04&quot;</td><td>56</td><td>&quot;210-0011&quot;</td><td>&quot;神奈川県川崎市川崎区富士見*…</td><td>&quot;S13032&quot;</td><td>20150727</td><td>&quot;A-20100103-5&quot;</td></tr></tbody></table></div>"
      ],
      "text/plain": [
       "shape: (10, 11)\n",
       "┌─────────┬─────────┬─────────┬────────┬────────┬─────┬────────┬────────┬────────┬────────┬────────┐\n",
       "│ custome ┆ custome ┆ gender_ ┆ gender ┆ birth_ ┆ age ┆ postal ┆ addres ┆ applic ┆ applic ┆ status │\n",
       "│ r_id    ┆ r_name  ┆ cd      ┆ ---    ┆ day    ┆ --- ┆ _cd    ┆ s      ┆ ation_ ┆ ation_ ┆ _cd    │\n",
       "│ ---     ┆ ---     ┆ ---     ┆ str    ┆ ---    ┆ i64 ┆ ---    ┆ ---    ┆ store_ ┆ date   ┆ ---    │\n",
       "│ str     ┆ str     ┆ i64     ┆        ┆ str    ┆     ┆ str    ┆ str    ┆ cd     ┆ ---    ┆ str    │\n",
       "│         ┆         ┆         ┆        ┆        ┆     ┆        ┆        ┆ ---    ┆ i64    ┆        │\n",
       "│         ┆         ┆         ┆        ┆        ┆     ┆        ┆        ┆ str    ┆        ┆        │\n",
       "╞═════════╪═════════╪═════════╪════════╪════════╪═════╪════════╪════════╪════════╪════════╪════════╡\n",
       "│ CS01121 ┆ 芦田    ┆ 1       ┆ 女性   ┆ 1992-0 ┆ 27  ┆ 223-00 ┆ 神奈川 ┆ S14011 ┆ 201502 ┆ C-2010 │\n",
       "│ 5000048 ┆ 沙耶    ┆         ┆        ┆ 2-01   ┆     ┆ 62     ┆ 県横浜 ┆        ┆ 28     ┆ 0421-9 │\n",
       "│         ┆         ┆         ┆        ┆        ┆     ┆        ┆ 市港北 ┆        ┆        ┆        │\n",
       "│         ┆         ┆         ┆        ┆        ┆     ┆        ┆ 区日吉 ┆        ┆        ┆        │\n",
       "│         ┆         ┆         ┆        ┆        ┆     ┆        ┆ 本町** ┆        ┆        ┆        │\n",
       "│         ┆         ┆         ┆        ┆        ┆     ┆        ┆ ****** ┆        ┆        ┆        │\n",
       "│         ┆         ┆         ┆        ┆        ┆     ┆        ┆ **     ┆        ┆        ┆        │\n",
       "│ CS02251 ┆ 島村    ┆ 1       ┆ 女性   ┆ 1962-0 ┆ 57  ┆ 249-00 ┆ 神奈川 ┆ S14022 ┆ 201503 ┆ A-2009 │\n",
       "│ 3000105 ┆ 貴美子  ┆         ┆        ┆ 3-12   ┆     ┆ 02     ┆ 県逗子 ┆        ┆ 20     ┆ 1115-7 │\n",
       "│         ┆         ┆         ┆        ┆        ┆     ┆        ┆ 市山の ┆        ┆        ┆        │\n",
       "│         ┆         ┆         ┆        ┆        ┆     ┆        ┆ 根**** ┆        ┆        ┆        │\n",
       "│         ┆         ┆         ┆        ┆        ┆     ┆        ┆ ****** ┆        ┆        ┆        │\n",
       "│ CS00151 ┆ 水野    ┆ 9       ┆ 不明   ┆ 1960-1 ┆ 58  ┆ 144-00 ┆ 東京都 ┆ S13001 ┆ 201506 ┆ A-2010 │\n",
       "│ 5000096 ┆ 陽子    ┆         ┆        ┆ 1-29   ┆     ┆ 53     ┆ 大田区 ┆        ┆ 14     ┆ 0724-7 │\n",
       "│         ┆         ┆         ┆        ┆        ┆     ┆        ┆ 蒲田本 ┆        ┆        ┆        │\n",
       "│         ┆         ┆         ┆        ┆        ┆     ┆        ┆ 町**** ┆        ┆        ┆        │\n",
       "│         ┆         ┆         ┆        ┆        ┆     ┆        ┆ ****** ┆        ┆        ┆        │\n",
       "│ CS01361 ┆ 西脇    ┆ 1       ┆ 女性   ┆ 1953-1 ┆ 65  ┆ 261-00 ┆ 千葉県 ┆ S12013 ┆ 201501 ┆ B-2010 │\n",
       "│ 5000053 ┆ 季衣    ┆         ┆        ┆ 0-18   ┆     ┆ 26     ┆ 千葉市 ┆        ┆ 28     ┆ 0329-6 │\n",
       "│         ┆         ┆         ┆        ┆        ┆     ┆        ┆ 美浜区 ┆        ┆        ┆        │\n",
       "│         ┆         ┆         ┆        ┆        ┆     ┆        ┆ 幕張西 ┆        ┆        ┆        │\n",
       "│         ┆         ┆         ┆        ┆        ┆     ┆        ┆ ****** ┆        ┆        ┆        │\n",
       "│         ┆         ┆         ┆        ┆        ┆     ┆        ┆ ****   ┆        ┆        ┆        │\n",
       "│ …       ┆ …       ┆ …       ┆ …      ┆ …      ┆ …   ┆ …      ┆ …      ┆ …      ┆ …      ┆ …      │\n",
       "│ CS03521 ┆ 内村    ┆ 1       ┆ 女性   ┆ 1990-1 ┆ 28  ┆ 152-00 ┆ 東京都 ┆ S13035 ┆ 201510 ┆ B-2010 │\n",
       "│ 2000007 ┆ 恵梨香  ┆         ┆        ┆ 2-04   ┆     ┆ 23     ┆ 目黒区 ┆        ┆ 13     ┆ 1018-6 │\n",
       "│         ┆         ┆         ┆        ┆        ┆     ┆        ┆ 八雲** ┆        ┆        ┆        │\n",
       "│         ┆         ┆         ┆        ┆        ┆     ┆        ┆ ****** ┆        ┆        ┆        │\n",
       "│         ┆         ┆         ┆        ┆        ┆     ┆        ┆ **     ┆        ┆        ┆        │\n",
       "│ CS00251 ┆ 野田    ┆ 1       ┆ 女性   ┆ 1963-0 ┆ 55  ┆ 185-00 ┆ 東京都 ┆ S13002 ┆ 201604 ┆ C-2010 │\n",
       "│ 5000386 ┆ コウ    ┆         ┆        ┆ 5-30   ┆     ┆ 13     ┆ 国分寺 ┆        ┆ 10     ┆ 0127-8 │\n",
       "│         ┆         ┆         ┆        ┆        ┆     ┆        ┆ 市西恋 ┆        ┆        ┆        │\n",
       "│         ┆         ┆         ┆        ┆        ┆     ┆        ┆ ケ窪** ┆        ┆        ┆        │\n",
       "│         ┆         ┆         ┆        ┆        ┆     ┆        ┆ ****** ┆        ┆        ┆        │\n",
       "│         ┆         ┆         ┆        ┆        ┆     ┆        ┆ **     ┆        ┆        ┆        │\n",
       "│ CS00161 ┆ 稲垣    ┆ 1       ┆ 女性   ┆ 1956-1 ┆ 62  ┆ 144-00 ┆ 東京都 ┆ S13001 ┆ 201704 ┆ A-2010 │\n",
       "│ 5000372 ┆ 寿々花  ┆         ┆        ┆ 0-29   ┆     ┆ 35     ┆ 大田区 ┆        ┆ 03     ┆ 0104-1 │\n",
       "│         ┆         ┆         ┆        ┆        ┆     ┆        ┆ 南蒲田 ┆        ┆        ┆        │\n",
       "│         ┆         ┆         ┆        ┆        ┆     ┆        ┆ ****** ┆        ┆        ┆        │\n",
       "│         ┆         ┆         ┆        ┆        ┆     ┆        ┆ ****   ┆        ┆        ┆        │\n",
       "│ CS03251 ┆ 松井    ┆ 1       ┆ 女性   ┆ 1962-0 ┆ 56  ┆ 210-00 ┆ 神奈川 ┆ S13032 ┆ 201507 ┆ A-2010 │\n",
       "│ 2000121 ┆ 知世    ┆         ┆        ┆ 9-04   ┆     ┆ 11     ┆ 県川崎 ┆        ┆ 27     ┆ 0103-5 │\n",
       "│         ┆         ┆         ┆        ┆        ┆     ┆        ┆ 市川崎 ┆        ┆        ┆        │\n",
       "│         ┆         ┆         ┆        ┆        ┆     ┆        ┆ 区富士 ┆        ┆        ┆        │\n",
       "│         ┆         ┆         ┆        ┆        ┆     ┆        ┆ 見**** ┆        ┆        ┆        │\n",
       "│         ┆         ┆         ┆        ┆        ┆     ┆        ┆ ****** ┆        ┆        ┆        │\n",
       "└─────────┴─────────┴─────────┴────────┴────────┴─────┴────────┴────────┴────────┴────────┴────────┘"
      ]
     },
     "execution_count": 4,
     "metadata": {},
     "output_type": "execute_result"
    }
   ],
   "source": [
    "# 正規表現はcontainsメソッドで機能する\n",
    "(\n",
    "    df_customer\n",
    "    # AからF ハイフン で抽出する\n",
    "    # 前方一致のために条件を追加している\n",
    "    .filter(pl.col(\"status_cd\").str.contains(r\"(A|B|C|D|E|F)-\"))\n",
    "    # 8桁の数字 ハイフン 1から９ で抽出する\n",
    "    # 後方一致のために他の条件も追加している\n",
    "    .filter(pl.col(\"status_cd\").str.contains(r\"\\d{8}-(1|2|3|4|5|6|7|8|9)\"))\n",
    "    .head(n = 10)\n",
    ")"
   ]
  },
  {
   "cell_type": "code",
   "execution_count": 5,
   "metadata": {},
   "outputs": [
    {
     "data": {
      "text/html": [
       "<div><style>\n",
       ".dataframe > thead > tr,\n",
       ".dataframe > tbody > tr {\n",
       "  text-align: right;\n",
       "  white-space: pre-wrap;\n",
       "}\n",
       "</style>\n",
       "<small>shape: (10, 11)</small><table border=\"1\" class=\"dataframe\"><thead><tr><th>customer_id</th><th>customer_name</th><th>gender_cd</th><th>gender</th><th>birth_day</th><th>age</th><th>postal_cd</th><th>address</th><th>application_store_cd</th><th>application_date</th><th>status_cd</th></tr><tr><td>str</td><td>str</td><td>i64</td><td>str</td><td>str</td><td>i64</td><td>str</td><td>str</td><td>str</td><td>i64</td><td>str</td></tr></thead><tbody><tr><td>&quot;CS011215000048…</td><td>&quot;芦田 沙耶&quot;</td><td>1</td><td>&quot;女性&quot;</td><td>&quot;1992-02-01&quot;</td><td>27</td><td>&quot;223-0062&quot;</td><td>&quot;神奈川県横浜市港北区日吉本町…</td><td>&quot;S14011&quot;</td><td>20150228</td><td>&quot;C-20100421-9&quot;</td></tr><tr><td>&quot;CS022513000105…</td><td>&quot;島村 貴美子&quot;</td><td>1</td><td>&quot;女性&quot;</td><td>&quot;1962-03-12&quot;</td><td>57</td><td>&quot;249-0002&quot;</td><td>&quot;神奈川県逗子市山の根****…</td><td>&quot;S14022&quot;</td><td>20150320</td><td>&quot;A-20091115-7&quot;</td></tr><tr><td>&quot;CS001515000096…</td><td>&quot;水野 陽子&quot;</td><td>9</td><td>&quot;不明&quot;</td><td>&quot;1960-11-29&quot;</td><td>58</td><td>&quot;144-0053&quot;</td><td>&quot;東京都大田区蒲田本町****…</td><td>&quot;S13001&quot;</td><td>20150614</td><td>&quot;A-20100724-7&quot;</td></tr><tr><td>&quot;CS013615000053…</td><td>&quot;西脇 季衣&quot;</td><td>1</td><td>&quot;女性&quot;</td><td>&quot;1953-10-18&quot;</td><td>65</td><td>&quot;261-0026&quot;</td><td>&quot;千葉県千葉市美浜区幕張西**…</td><td>&quot;S12013&quot;</td><td>20150128</td><td>&quot;B-20100329-6&quot;</td></tr><tr><td>&quot;CS020412000161…</td><td>&quot;小宮 薫&quot;</td><td>1</td><td>&quot;女性&quot;</td><td>&quot;1974-05-21&quot;</td><td>44</td><td>&quot;174-0042&quot;</td><td>&quot;東京都板橋区東坂下*****…</td><td>&quot;S13020&quot;</td><td>20150822</td><td>&quot;B-20081021-3&quot;</td></tr><tr><td>&quot;CS001215000097…</td><td>&quot;竹中 あさみ&quot;</td><td>1</td><td>&quot;女性&quot;</td><td>&quot;1990-07-25&quot;</td><td>28</td><td>&quot;146-0095&quot;</td><td>&quot;東京都大田区多摩川*****…</td><td>&quot;S13001&quot;</td><td>20170315</td><td>&quot;A-20100211-2&quot;</td></tr><tr><td>&quot;CS035212000007…</td><td>&quot;内村 恵梨香&quot;</td><td>1</td><td>&quot;女性&quot;</td><td>&quot;1990-12-04&quot;</td><td>28</td><td>&quot;152-0023&quot;</td><td>&quot;東京都目黒区八雲******…</td><td>&quot;S13035&quot;</td><td>20151013</td><td>&quot;B-20101018-6&quot;</td></tr><tr><td>&quot;CS002515000386…</td><td>&quot;野田 コウ&quot;</td><td>1</td><td>&quot;女性&quot;</td><td>&quot;1963-05-30&quot;</td><td>55</td><td>&quot;185-0013&quot;</td><td>&quot;東京都国分寺市西恋ケ窪***…</td><td>&quot;S13002&quot;</td><td>20160410</td><td>&quot;C-20100127-8&quot;</td></tr><tr><td>&quot;CS001615000372…</td><td>&quot;稲垣 寿々花&quot;</td><td>1</td><td>&quot;女性&quot;</td><td>&quot;1956-10-29&quot;</td><td>62</td><td>&quot;144-0035&quot;</td><td>&quot;東京都大田区南蒲田*****…</td><td>&quot;S13001&quot;</td><td>20170403</td><td>&quot;A-20100104-1&quot;</td></tr><tr><td>&quot;CS032512000121…</td><td>&quot;松井 知世&quot;</td><td>1</td><td>&quot;女性&quot;</td><td>&quot;1962-09-04&quot;</td><td>56</td><td>&quot;210-0011&quot;</td><td>&quot;神奈川県川崎市川崎区富士見*…</td><td>&quot;S13032&quot;</td><td>20150727</td><td>&quot;A-20100103-5&quot;</td></tr></tbody></table></div>"
      ],
      "text/plain": [
       "shape: (10, 11)\n",
       "┌─────────┬─────────┬─────────┬────────┬────────┬─────┬────────┬────────┬────────┬────────┬────────┐\n",
       "│ custome ┆ custome ┆ gender_ ┆ gender ┆ birth_ ┆ age ┆ postal ┆ addres ┆ applic ┆ applic ┆ status │\n",
       "│ r_id    ┆ r_name  ┆ cd      ┆ ---    ┆ day    ┆ --- ┆ _cd    ┆ s      ┆ ation_ ┆ ation_ ┆ _cd    │\n",
       "│ ---     ┆ ---     ┆ ---     ┆ str    ┆ ---    ┆ i64 ┆ ---    ┆ ---    ┆ store_ ┆ date   ┆ ---    │\n",
       "│ str     ┆ str     ┆ i64     ┆        ┆ str    ┆     ┆ str    ┆ str    ┆ cd     ┆ ---    ┆ str    │\n",
       "│         ┆         ┆         ┆        ┆        ┆     ┆        ┆        ┆ ---    ┆ i64    ┆        │\n",
       "│         ┆         ┆         ┆        ┆        ┆     ┆        ┆        ┆ str    ┆        ┆        │\n",
       "╞═════════╪═════════╪═════════╪════════╪════════╪═════╪════════╪════════╪════════╪════════╪════════╡\n",
       "│ CS01121 ┆ 芦田    ┆ 1       ┆ 女性   ┆ 1992-0 ┆ 27  ┆ 223-00 ┆ 神奈川 ┆ S14011 ┆ 201502 ┆ C-2010 │\n",
       "│ 5000048 ┆ 沙耶    ┆         ┆        ┆ 2-01   ┆     ┆ 62     ┆ 県横浜 ┆        ┆ 28     ┆ 0421-9 │\n",
       "│         ┆         ┆         ┆        ┆        ┆     ┆        ┆ 市港北 ┆        ┆        ┆        │\n",
       "│         ┆         ┆         ┆        ┆        ┆     ┆        ┆ 区日吉 ┆        ┆        ┆        │\n",
       "│         ┆         ┆         ┆        ┆        ┆     ┆        ┆ 本町** ┆        ┆        ┆        │\n",
       "│         ┆         ┆         ┆        ┆        ┆     ┆        ┆ ****** ┆        ┆        ┆        │\n",
       "│         ┆         ┆         ┆        ┆        ┆     ┆        ┆ **     ┆        ┆        ┆        │\n",
       "│ CS02251 ┆ 島村    ┆ 1       ┆ 女性   ┆ 1962-0 ┆ 57  ┆ 249-00 ┆ 神奈川 ┆ S14022 ┆ 201503 ┆ A-2009 │\n",
       "│ 3000105 ┆ 貴美子  ┆         ┆        ┆ 3-12   ┆     ┆ 02     ┆ 県逗子 ┆        ┆ 20     ┆ 1115-7 │\n",
       "│         ┆         ┆         ┆        ┆        ┆     ┆        ┆ 市山の ┆        ┆        ┆        │\n",
       "│         ┆         ┆         ┆        ┆        ┆     ┆        ┆ 根**** ┆        ┆        ┆        │\n",
       "│         ┆         ┆         ┆        ┆        ┆     ┆        ┆ ****** ┆        ┆        ┆        │\n",
       "│ CS00151 ┆ 水野    ┆ 9       ┆ 不明   ┆ 1960-1 ┆ 58  ┆ 144-00 ┆ 東京都 ┆ S13001 ┆ 201506 ┆ A-2010 │\n",
       "│ 5000096 ┆ 陽子    ┆         ┆        ┆ 1-29   ┆     ┆ 53     ┆ 大田区 ┆        ┆ 14     ┆ 0724-7 │\n",
       "│         ┆         ┆         ┆        ┆        ┆     ┆        ┆ 蒲田本 ┆        ┆        ┆        │\n",
       "│         ┆         ┆         ┆        ┆        ┆     ┆        ┆ 町**** ┆        ┆        ┆        │\n",
       "│         ┆         ┆         ┆        ┆        ┆     ┆        ┆ ****** ┆        ┆        ┆        │\n",
       "│ CS01361 ┆ 西脇    ┆ 1       ┆ 女性   ┆ 1953-1 ┆ 65  ┆ 261-00 ┆ 千葉県 ┆ S12013 ┆ 201501 ┆ B-2010 │\n",
       "│ 5000053 ┆ 季衣    ┆         ┆        ┆ 0-18   ┆     ┆ 26     ┆ 千葉市 ┆        ┆ 28     ┆ 0329-6 │\n",
       "│         ┆         ┆         ┆        ┆        ┆     ┆        ┆ 美浜区 ┆        ┆        ┆        │\n",
       "│         ┆         ┆         ┆        ┆        ┆     ┆        ┆ 幕張西 ┆        ┆        ┆        │\n",
       "│         ┆         ┆         ┆        ┆        ┆     ┆        ┆ ****** ┆        ┆        ┆        │\n",
       "│         ┆         ┆         ┆        ┆        ┆     ┆        ┆ ****   ┆        ┆        ┆        │\n",
       "│ …       ┆ …       ┆ …       ┆ …      ┆ …      ┆ …   ┆ …      ┆ …      ┆ …      ┆ …      ┆ …      │\n",
       "│ CS03521 ┆ 内村    ┆ 1       ┆ 女性   ┆ 1990-1 ┆ 28  ┆ 152-00 ┆ 東京都 ┆ S13035 ┆ 201510 ┆ B-2010 │\n",
       "│ 2000007 ┆ 恵梨香  ┆         ┆        ┆ 2-04   ┆     ┆ 23     ┆ 目黒区 ┆        ┆ 13     ┆ 1018-6 │\n",
       "│         ┆         ┆         ┆        ┆        ┆     ┆        ┆ 八雲** ┆        ┆        ┆        │\n",
       "│         ┆         ┆         ┆        ┆        ┆     ┆        ┆ ****** ┆        ┆        ┆        │\n",
       "│         ┆         ┆         ┆        ┆        ┆     ┆        ┆ **     ┆        ┆        ┆        │\n",
       "│ CS00251 ┆ 野田    ┆ 1       ┆ 女性   ┆ 1963-0 ┆ 55  ┆ 185-00 ┆ 東京都 ┆ S13002 ┆ 201604 ┆ C-2010 │\n",
       "│ 5000386 ┆ コウ    ┆         ┆        ┆ 5-30   ┆     ┆ 13     ┆ 国分寺 ┆        ┆ 10     ┆ 0127-8 │\n",
       "│         ┆         ┆         ┆        ┆        ┆     ┆        ┆ 市西恋 ┆        ┆        ┆        │\n",
       "│         ┆         ┆         ┆        ┆        ┆     ┆        ┆ ケ窪** ┆        ┆        ┆        │\n",
       "│         ┆         ┆         ┆        ┆        ┆     ┆        ┆ ****** ┆        ┆        ┆        │\n",
       "│         ┆         ┆         ┆        ┆        ┆     ┆        ┆ **     ┆        ┆        ┆        │\n",
       "│ CS00161 ┆ 稲垣    ┆ 1       ┆ 女性   ┆ 1956-1 ┆ 62  ┆ 144-00 ┆ 東京都 ┆ S13001 ┆ 201704 ┆ A-2010 │\n",
       "│ 5000372 ┆ 寿々花  ┆         ┆        ┆ 0-29   ┆     ┆ 35     ┆ 大田区 ┆        ┆ 03     ┆ 0104-1 │\n",
       "│         ┆         ┆         ┆        ┆        ┆     ┆        ┆ 南蒲田 ┆        ┆        ┆        │\n",
       "│         ┆         ┆         ┆        ┆        ┆     ┆        ┆ ****** ┆        ┆        ┆        │\n",
       "│         ┆         ┆         ┆        ┆        ┆     ┆        ┆ ****   ┆        ┆        ┆        │\n",
       "│ CS03251 ┆ 松井    ┆ 1       ┆ 女性   ┆ 1962-0 ┆ 56  ┆ 210-00 ┆ 神奈川 ┆ S13032 ┆ 201507 ┆ A-2010 │\n",
       "│ 2000121 ┆ 知世    ┆         ┆        ┆ 9-04   ┆     ┆ 11     ┆ 県川崎 ┆        ┆ 27     ┆ 0103-5 │\n",
       "│         ┆         ┆         ┆        ┆        ┆     ┆        ┆ 市川崎 ┆        ┆        ┆        │\n",
       "│         ┆         ┆         ┆        ┆        ┆     ┆        ┆ 区富士 ┆        ┆        ┆        │\n",
       "│         ┆         ┆         ┆        ┆        ┆     ┆        ┆ 見**** ┆        ┆        ┆        │\n",
       "│         ┆         ┆         ┆        ┆        ┆     ┆        ┆ ****** ┆        ┆        ┆        │\n",
       "└─────────┴─────────┴─────────┴────────┴────────┴─────┴────────┴────────┴────────┴────────┴────────┘"
      ]
     },
     "execution_count": 5,
     "metadata": {},
     "output_type": "execute_result"
    }
   ],
   "source": [
    "(\n",
    "    df_customer\n",
    "    # 前方一致\n",
    "    .filter(pl.col(\"status_cd\").str.starts_with(\"A\") |\n",
    "            pl.col(\"status_cd\").str.starts_with(\"B\") |\n",
    "            pl.col(\"status_cd\").str.starts_with(\"C\") |\n",
    "            pl.col(\"status_cd\").str.starts_with(\"D\") |\n",
    "            pl.col(\"status_cd\").str.starts_with(\"E\") |\n",
    "            pl.col(\"status_cd\").str.starts_with(\"F\"))\n",
    "    # 後方一致\n",
    "    .filter(pl.col(\"status_cd\").str.ends_with(\"1\") |\n",
    "            pl.col(\"status_cd\").str.ends_with(\"2\") |\n",
    "            pl.col(\"status_cd\").str.ends_with(\"3\") |\n",
    "            pl.col(\"status_cd\").str.ends_with(\"4\") |\n",
    "            pl.col(\"status_cd\").str.ends_with(\"5\") |\n",
    "            pl.col(\"status_cd\").str.ends_with(\"6\") |\n",
    "            pl.col(\"status_cd\").str.ends_with(\"7\") |\n",
    "            pl.col(\"status_cd\").str.ends_with(\"8\") |\n",
    "            pl.col(\"status_cd\").str.ends_with(\"9\"))\n",
    "    .head(n = 10)\n",
    ")"
   ]
  }
 ],
 "metadata": {
  "kernelspec": {
   "display_name": "Python 3",
   "language": "python",
   "name": "python3"
  },
  "language_info": {
   "codemirror_mode": {
    "name": "ipython",
    "version": 3
   },
   "file_extension": ".py",
   "mimetype": "text/x-python",
   "name": "python",
   "nbconvert_exporter": "python",
   "pygments_lexer": "ipython3",
   "version": "3.11.4"
  }
 },
 "nbformat": 4,
 "nbformat_minor": 2
}
