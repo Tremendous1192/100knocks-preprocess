{
 "cells": [
  {
   "cell_type": "markdown",
   "metadata": {},
   "source": [
    "## knock 031 対象データの標準偏差を求める"
   ]
  },
  {
   "cell_type": "code",
   "execution_count": 1,
   "metadata": {},
   "outputs": [
    {
     "data": {
      "text/plain": [
       "polars.config.Config"
      ]
     },
     "execution_count": 1,
     "metadata": {},
     "output_type": "execute_result"
    }
   ],
   "source": [
    "import polars as pl\n",
    "pl.Config.set_tbl_cols(-1)# 列が省略されないようにする"
   ]
  },
  {
   "cell_type": "markdown",
   "metadata": {},
   "source": [
    "### データを読み込む"
   ]
  },
  {
   "cell_type": "code",
   "execution_count": 2,
   "metadata": {},
   "outputs": [
    {
     "data": {
      "text/html": [
       "<div><style>\n",
       ".dataframe > thead > tr,\n",
       ".dataframe > tbody > tr {\n",
       "  text-align: right;\n",
       "  white-space: pre-wrap;\n",
       "}\n",
       "</style>\n",
       "<small>shape: (5, 9)</small><table border=\"1\" class=\"dataframe\"><thead><tr><th>sales_ymd</th><th>sales_epoch</th><th>store_cd</th><th>receipt_no</th><th>receipt_sub_no</th><th>customer_id</th><th>product_cd</th><th>quantity</th><th>amount</th></tr><tr><td>i64</td><td>i64</td><td>str</td><td>i64</td><td>i64</td><td>str</td><td>str</td><td>i64</td><td>i64</td></tr></thead><tbody><tr><td>20181103</td><td>1541203200</td><td>&quot;S14006&quot;</td><td>112</td><td>1</td><td>&quot;CS006214000001…</td><td>&quot;P070305012&quot;</td><td>1</td><td>158</td></tr><tr><td>20181118</td><td>1542499200</td><td>&quot;S13008&quot;</td><td>1132</td><td>2</td><td>&quot;CS008415000097…</td><td>&quot;P070701017&quot;</td><td>1</td><td>81</td></tr><tr><td>20170712</td><td>1499817600</td><td>&quot;S14028&quot;</td><td>1102</td><td>1</td><td>&quot;CS028414000014…</td><td>&quot;P060101005&quot;</td><td>1</td><td>170</td></tr><tr><td>20190205</td><td>1549324800</td><td>&quot;S14042&quot;</td><td>1132</td><td>1</td><td>&quot;ZZ000000000000…</td><td>&quot;P050301001&quot;</td><td>1</td><td>25</td></tr><tr><td>20180821</td><td>1534809600</td><td>&quot;S14025&quot;</td><td>1102</td><td>2</td><td>&quot;CS025415000050…</td><td>&quot;P060102007&quot;</td><td>1</td><td>90</td></tr></tbody></table></div>"
      ],
      "text/plain": [
       "shape: (5, 9)\n",
       "┌───────────┬───────────┬──────────┬──────────┬──────────┬──────────┬──────────┬──────────┬────────┐\n",
       "│ sales_ymd ┆ sales_epo ┆ store_cd ┆ receipt_ ┆ receipt_ ┆ customer ┆ product_ ┆ quantity ┆ amount │\n",
       "│ ---       ┆ ch        ┆ ---      ┆ no       ┆ sub_no   ┆ _id      ┆ cd       ┆ ---      ┆ ---    │\n",
       "│ i64       ┆ ---       ┆ str      ┆ ---      ┆ ---      ┆ ---      ┆ ---      ┆ i64      ┆ i64    │\n",
       "│           ┆ i64       ┆          ┆ i64      ┆ i64      ┆ str      ┆ str      ┆          ┆        │\n",
       "╞═══════════╪═══════════╪══════════╪══════════╪══════════╪══════════╪══════════╪══════════╪════════╡\n",
       "│ 20181103  ┆ 154120320 ┆ S14006   ┆ 112      ┆ 1        ┆ CS006214 ┆ P0703050 ┆ 1        ┆ 158    │\n",
       "│           ┆ 0         ┆          ┆          ┆          ┆ 000001   ┆ 12       ┆          ┆        │\n",
       "│ 20181118  ┆ 154249920 ┆ S13008   ┆ 1132     ┆ 2        ┆ CS008415 ┆ P0707010 ┆ 1        ┆ 81     │\n",
       "│           ┆ 0         ┆          ┆          ┆          ┆ 000097   ┆ 17       ┆          ┆        │\n",
       "│ 20170712  ┆ 149981760 ┆ S14028   ┆ 1102     ┆ 1        ┆ CS028414 ┆ P0601010 ┆ 1        ┆ 170    │\n",
       "│           ┆ 0         ┆          ┆          ┆          ┆ 000014   ┆ 05       ┆          ┆        │\n",
       "│ 20190205  ┆ 154932480 ┆ S14042   ┆ 1132     ┆ 1        ┆ ZZ000000 ┆ P0503010 ┆ 1        ┆ 25     │\n",
       "│           ┆ 0         ┆          ┆          ┆          ┆ 000000   ┆ 01       ┆          ┆        │\n",
       "│ 20180821  ┆ 153480960 ┆ S14025   ┆ 1102     ┆ 2        ┆ CS025415 ┆ P0601020 ┆ 1        ┆ 90     │\n",
       "│           ┆ 0         ┆          ┆          ┆          ┆ 000050   ┆ 07       ┆          ┆        │\n",
       "└───────────┴───────────┴──────────┴──────────┴──────────┴──────────┴──────────┴──────────┴────────┘"
      ]
     },
     "execution_count": 2,
     "metadata": {},
     "output_type": "execute_result"
    }
   ],
   "source": [
    "df_receipt = pl.read_csv(\"../docker/work/data/receipt.csv\")\n",
    "df_receipt.head()"
   ]
  },
  {
   "cell_type": "markdown",
   "metadata": {},
   "source": [
    "### ノック"
   ]
  },
  {
   "cell_type": "code",
   "execution_count": 3,
   "metadata": {},
   "outputs": [
    {
     "data": {
      "text/html": [
       "<div><style>\n",
       ".dataframe > thead > tr,\n",
       ".dataframe > tbody > tr {\n",
       "  text-align: right;\n",
       "  white-space: pre-wrap;\n",
       "}\n",
       "</style>\n",
       "<small>shape: (5, 2)</small><table border=\"1\" class=\"dataframe\"><thead><tr><th>store_cd</th><th>amount</th></tr><tr><td>str</td><td>f64</td></tr></thead><tbody><tr><td>&quot;S13052&quot;</td><td>664.727954</td></tr><tr><td>&quot;S14011&quot;</td><td>553.572256</td></tr><tr><td>&quot;S14034&quot;</td><td>545.039808</td></tr><tr><td>&quot;S13001&quot;</td><td>543.653237</td></tr><tr><td>&quot;S13015&quot;</td><td>543.532149</td></tr></tbody></table></div>"
      ],
      "text/plain": [
       "shape: (5, 2)\n",
       "┌──────────┬────────────┐\n",
       "│ store_cd ┆ amount     │\n",
       "│ ---      ┆ ---        │\n",
       "│ str      ┆ f64        │\n",
       "╞══════════╪════════════╡\n",
       "│ S13052   ┆ 664.727954 │\n",
       "│ S14011   ┆ 553.572256 │\n",
       "│ S14034   ┆ 545.039808 │\n",
       "│ S13001   ┆ 543.653237 │\n",
       "│ S13015   ┆ 543.532149 │\n",
       "└──────────┴────────────┘"
      ]
     },
     "execution_count": 3,
     "metadata": {},
     "output_type": "execute_result"
    }
   ],
   "source": [
    "(\n",
    "    df_receipt\n",
    "    .group_by(by = \"store_cd\")\n",
    "    .agg(pl.std(\"amount\"))\n",
    "    .sort(by = \"amount\", descending = True)\n",
    "    .head()\n",
    ")"
   ]
  }
 ],
 "metadata": {
  "kernelspec": {
   "display_name": "Python 3",
   "language": "python",
   "name": "python3"
  },
  "language_info": {
   "codemirror_mode": {
    "name": "ipython",
    "version": 3
   },
   "file_extension": ".py",
   "mimetype": "text/x-python",
   "name": "python",
   "nbconvert_exporter": "python",
   "pygments_lexer": "ipython3",
   "version": "3.11.4"
  }
 },
 "nbformat": 4,
 "nbformat_minor": 2
}
