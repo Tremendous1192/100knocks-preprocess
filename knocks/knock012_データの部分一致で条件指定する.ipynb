{
 "cells": [
  {
   "cell_type": "markdown",
   "metadata": {},
   "source": [
    "## knock 012 データの部分一致で条件指定する"
   ]
  },
  {
   "cell_type": "code",
   "execution_count": 1,
   "metadata": {},
   "outputs": [
    {
     "data": {
      "text/plain": [
       "polars.config.Config"
      ]
     },
     "execution_count": 1,
     "metadata": {},
     "output_type": "execute_result"
    }
   ],
   "source": [
    "import polars as pl\n",
    "pl.Config.set_tbl_cols(-1)# 列が省略されないようにする"
   ]
  },
  {
   "cell_type": "markdown",
   "metadata": {},
   "source": [
    "### データを読み込む"
   ]
  },
  {
   "cell_type": "code",
   "execution_count": 2,
   "metadata": {},
   "outputs": [
    {
     "data": {
      "text/html": [
       "<div><style>\n",
       ".dataframe > thead > tr,\n",
       ".dataframe > tbody > tr {\n",
       "  text-align: right;\n",
       "  white-space: pre-wrap;\n",
       "}\n",
       "</style>\n",
       "<small>shape: (5, 10)</small><table border=\"1\" class=\"dataframe\"><thead><tr><th>store_cd</th><th>store_name</th><th>prefecture_cd</th><th>prefecture</th><th>address</th><th>address_kana</th><th>tel_no</th><th>longitude</th><th>latitude</th><th>floor_area</th></tr><tr><td>str</td><td>str</td><td>i64</td><td>str</td><td>str</td><td>str</td><td>str</td><td>f64</td><td>f64</td><td>f64</td></tr></thead><tbody><tr><td>&quot;S12014&quot;</td><td>&quot;千草台店&quot;</td><td>12</td><td>&quot;千葉県&quot;</td><td>&quot;千葉県千葉市稲毛区千草台一丁…</td><td>&quot;チバケンチバシイナゲクチグサ…</td><td>&quot;043-123-4003&quot;</td><td>140.118</td><td>35.63559</td><td>1698.0</td></tr><tr><td>&quot;S13002&quot;</td><td>&quot;国分寺店&quot;</td><td>13</td><td>&quot;東京都&quot;</td><td>&quot;東京都国分寺市本多二丁目&quot;</td><td>&quot;トウキョウトコクブンジシホン…</td><td>&quot;042-123-4008&quot;</td><td>139.4802</td><td>35.70566</td><td>1735.0</td></tr><tr><td>&quot;S14010&quot;</td><td>&quot;菊名店&quot;</td><td>14</td><td>&quot;神奈川県&quot;</td><td>&quot;神奈川県横浜市港北区菊名一丁…</td><td>&quot;カナガワケンヨコハマシコウホ…</td><td>&quot;045-123-4032&quot;</td><td>139.6326</td><td>35.50049</td><td>1732.0</td></tr><tr><td>&quot;S14033&quot;</td><td>&quot;阿久和店&quot;</td><td>14</td><td>&quot;神奈川県&quot;</td><td>&quot;神奈川県横浜市瀬谷区阿久和西…</td><td>&quot;カナガワケンヨコハマシセヤク…</td><td>&quot;045-123-4043&quot;</td><td>139.4961</td><td>35.45918</td><td>1495.0</td></tr><tr><td>&quot;S14036&quot;</td><td>&quot;相模原中央店&quot;</td><td>14</td><td>&quot;神奈川県&quot;</td><td>&quot;神奈川県相模原市中央二丁目&quot;</td><td>&quot;カナガワケンサガミハラシチュ…</td><td>&quot;042-123-4045&quot;</td><td>139.3716</td><td>35.57327</td><td>1679.0</td></tr></tbody></table></div>"
      ],
      "text/plain": [
       "shape: (5, 10)\n",
       "┌─────────┬─────────┬─────────┬─────────┬─────────┬─────────┬─────────┬─────────┬─────────┬────────┐\n",
       "│ store_c ┆ store_n ┆ prefect ┆ prefect ┆ address ┆ address ┆ tel_no  ┆ longitu ┆ latitud ┆ floor_ │\n",
       "│ d       ┆ ame     ┆ ure_cd  ┆ ure     ┆ ---     ┆ _kana   ┆ ---     ┆ de      ┆ e       ┆ area   │\n",
       "│ ---     ┆ ---     ┆ ---     ┆ ---     ┆ str     ┆ ---     ┆ str     ┆ ---     ┆ ---     ┆ ---    │\n",
       "│ str     ┆ str     ┆ i64     ┆ str     ┆         ┆ str     ┆         ┆ f64     ┆ f64     ┆ f64    │\n",
       "╞═════════╪═════════╪═════════╪═════════╪═════════╪═════════╪═════════╪═════════╪═════════╪════════╡\n",
       "│ S12014  ┆ 千草台  ┆ 12      ┆ 千葉県  ┆ 千葉県  ┆ チバケ  ┆ 043-123 ┆ 140.118 ┆ 35.6355 ┆ 1698.0 │\n",
       "│         ┆ 店      ┆         ┆         ┆ 千葉市  ┆ ンチバ  ┆ -4003   ┆         ┆ 9       ┆        │\n",
       "│         ┆         ┆         ┆         ┆ 稲毛区  ┆ シイナ  ┆         ┆         ┆         ┆        │\n",
       "│         ┆         ┆         ┆         ┆ 千草台  ┆ ゲクチ  ┆         ┆         ┆         ┆        │\n",
       "│         ┆         ┆         ┆         ┆ 一丁目  ┆ グサダ  ┆         ┆         ┆         ┆        │\n",
       "│         ┆         ┆         ┆         ┆         ┆ イイッ  ┆         ┆         ┆         ┆        │\n",
       "│         ┆         ┆         ┆         ┆         ┆ チョウ  ┆         ┆         ┆         ┆        │\n",
       "│         ┆         ┆         ┆         ┆         ┆ メ      ┆         ┆         ┆         ┆        │\n",
       "│ S13002  ┆ 国分寺  ┆ 13      ┆ 東京都  ┆ 東京都  ┆ トウキ  ┆ 042-123 ┆ 139.480 ┆ 35.7056 ┆ 1735.0 │\n",
       "│         ┆ 店      ┆         ┆         ┆ 国分寺  ┆ ョウト  ┆ -4008   ┆ 2       ┆ 6       ┆        │\n",
       "│         ┆         ┆         ┆         ┆ 市本多  ┆ コクブ  ┆         ┆         ┆         ┆        │\n",
       "│         ┆         ┆         ┆         ┆ 二丁目  ┆ ンジシ  ┆         ┆         ┆         ┆        │\n",
       "│         ┆         ┆         ┆         ┆         ┆ ホンダ  ┆         ┆         ┆         ┆        │\n",
       "│         ┆         ┆         ┆         ┆         ┆ ニチョ  ┆         ┆         ┆         ┆        │\n",
       "│         ┆         ┆         ┆         ┆         ┆ ウメ    ┆         ┆         ┆         ┆        │\n",
       "│ S14010  ┆ 菊名店  ┆ 14      ┆ 神奈川  ┆ 神奈川  ┆ カナガ  ┆ 045-123 ┆ 139.632 ┆ 35.5004 ┆ 1732.0 │\n",
       "│         ┆         ┆         ┆ 県      ┆ 県横浜  ┆ ワケン  ┆ -4032   ┆ 6       ┆ 9       ┆        │\n",
       "│         ┆         ┆         ┆         ┆ 市港北  ┆ ヨコハ  ┆         ┆         ┆         ┆        │\n",
       "│         ┆         ┆         ┆         ┆ 区菊名  ┆ マシコ  ┆         ┆         ┆         ┆        │\n",
       "│         ┆         ┆         ┆         ┆ 一丁目  ┆ ウホク  ┆         ┆         ┆         ┆        │\n",
       "│         ┆         ┆         ┆         ┆         ┆ クキク  ┆         ┆         ┆         ┆        │\n",
       "│         ┆         ┆         ┆         ┆         ┆ ナイッ  ┆         ┆         ┆         ┆        │\n",
       "│         ┆         ┆         ┆         ┆         ┆ チョウ  ┆         ┆         ┆         ┆        │\n",
       "│         ┆         ┆         ┆         ┆         ┆ メ      ┆         ┆         ┆         ┆        │\n",
       "│ S14033  ┆ 阿久和  ┆ 14      ┆ 神奈川  ┆ 神奈川  ┆ カナガ  ┆ 045-123 ┆ 139.496 ┆ 35.4591 ┆ 1495.0 │\n",
       "│         ┆ 店      ┆         ┆ 県      ┆ 県横浜  ┆ ワケン  ┆ -4043   ┆ 1       ┆ 8       ┆        │\n",
       "│         ┆         ┆         ┆         ┆ 市瀬谷  ┆ ヨコハ  ┆         ┆         ┆         ┆        │\n",
       "│         ┆         ┆         ┆         ┆ 区阿久  ┆ マシセ  ┆         ┆         ┆         ┆        │\n",
       "│         ┆         ┆         ┆         ┆ 和西一  ┆ ヤクア  ┆         ┆         ┆         ┆        │\n",
       "│         ┆         ┆         ┆         ┆ 丁目    ┆ クワニ  ┆         ┆         ┆         ┆        │\n",
       "│         ┆         ┆         ┆         ┆         ┆ シイッ  ┆         ┆         ┆         ┆        │\n",
       "│         ┆         ┆         ┆         ┆         ┆ チョウ  ┆         ┆         ┆         ┆        │\n",
       "│         ┆         ┆         ┆         ┆         ┆ メ      ┆         ┆         ┆         ┆        │\n",
       "│ S14036  ┆ 相模原  ┆ 14      ┆ 神奈川  ┆ 神奈川  ┆ カナガ  ┆ 042-123 ┆ 139.371 ┆ 35.5732 ┆ 1679.0 │\n",
       "│         ┆ 中央店  ┆         ┆ 県      ┆ 県相模  ┆ ワケン  ┆ -4045   ┆ 6       ┆ 7       ┆        │\n",
       "│         ┆         ┆         ┆         ┆ 原市中  ┆ サガミ  ┆         ┆         ┆         ┆        │\n",
       "│         ┆         ┆         ┆         ┆ 央二丁  ┆ ハラシ  ┆         ┆         ┆         ┆        │\n",
       "│         ┆         ┆         ┆         ┆ 目      ┆ チュウ  ┆         ┆         ┆         ┆        │\n",
       "│         ┆         ┆         ┆         ┆         ┆ オウニ  ┆         ┆         ┆         ┆        │\n",
       "│         ┆         ┆         ┆         ┆         ┆ チョウ  ┆         ┆         ┆         ┆        │\n",
       "│         ┆         ┆         ┆         ┆         ┆ メ      ┆         ┆         ┆         ┆        │\n",
       "└─────────┴─────────┴─────────┴─────────┴─────────┴─────────┴─────────┴─────────┴─────────┴────────┘"
      ]
     },
     "execution_count": 2,
     "metadata": {},
     "output_type": "execute_result"
    }
   ],
   "source": [
    "df_store = pl.read_csv(\"../docker/work/data/store.csv\")\n",
    "df_store.head()"
   ]
  },
  {
   "cell_type": "markdown",
   "metadata": {},
   "source": [
    "### ノック"
   ]
  },
  {
   "cell_type": "code",
   "execution_count": 3,
   "metadata": {},
   "outputs": [
    {
     "data": {
      "text/html": [
       "<div><style>\n",
       ".dataframe > thead > tr,\n",
       ".dataframe > tbody > tr {\n",
       "  text-align: right;\n",
       "  white-space: pre-wrap;\n",
       "}\n",
       "</style>\n",
       "<small>shape: (11, 10)</small><table border=\"1\" class=\"dataframe\"><thead><tr><th>store_cd</th><th>store_name</th><th>prefecture_cd</th><th>prefecture</th><th>address</th><th>address_kana</th><th>tel_no</th><th>longitude</th><th>latitude</th><th>floor_area</th></tr><tr><td>str</td><td>str</td><td>i64</td><td>str</td><td>str</td><td>str</td><td>str</td><td>f64</td><td>f64</td><td>f64</td></tr></thead><tbody><tr><td>&quot;S14010&quot;</td><td>&quot;菊名店&quot;</td><td>14</td><td>&quot;神奈川県&quot;</td><td>&quot;神奈川県横浜市港北区菊名一丁…</td><td>&quot;カナガワケンヨコハマシコウホ…</td><td>&quot;045-123-4032&quot;</td><td>139.6326</td><td>35.50049</td><td>1732.0</td></tr><tr><td>&quot;S14033&quot;</td><td>&quot;阿久和店&quot;</td><td>14</td><td>&quot;神奈川県&quot;</td><td>&quot;神奈川県横浜市瀬谷区阿久和西…</td><td>&quot;カナガワケンヨコハマシセヤク…</td><td>&quot;045-123-4043&quot;</td><td>139.4961</td><td>35.45918</td><td>1495.0</td></tr><tr><td>&quot;S14040&quot;</td><td>&quot;長津田店&quot;</td><td>14</td><td>&quot;神奈川県&quot;</td><td>&quot;神奈川県横浜市緑区長津田みな…</td><td>&quot;カナガワケンヨコハマシミドリ…</td><td>&quot;045-123-4046&quot;</td><td>139.4994</td><td>35.52398</td><td>1548.0</td></tr><tr><td>&quot;S14050&quot;</td><td>&quot;阿久和西店&quot;</td><td>14</td><td>&quot;神奈川県&quot;</td><td>&quot;神奈川県横浜市瀬谷区阿久和西…</td><td>&quot;カナガワケンヨコハマシセヤク…</td><td>&quot;045-123-4053&quot;</td><td>139.4961</td><td>35.45918</td><td>1830.0</td></tr><tr><td>&quot;S14028&quot;</td><td>&quot;二ツ橋店&quot;</td><td>14</td><td>&quot;神奈川県&quot;</td><td>&quot;神奈川県横浜市瀬谷区二ツ橋町…</td><td>&quot;カナガワケンヨコハマシセヤク…</td><td>&quot;045-123-4042&quot;</td><td>139.4963</td><td>35.46304</td><td>1574.0</td></tr><tr><td>&quot;S14012&quot;</td><td>&quot;本牧和田店&quot;</td><td>14</td><td>&quot;神奈川県&quot;</td><td>&quot;神奈川県横浜市中区本牧和田&quot;</td><td>&quot;カナガワケンヨコハマシナカク…</td><td>&quot;045-123-4034&quot;</td><td>139.6582</td><td>35.42156</td><td>1341.0</td></tr><tr><td>&quot;S14046&quot;</td><td>&quot;北山田店&quot;</td><td>14</td><td>&quot;神奈川県&quot;</td><td>&quot;神奈川県横浜市都筑区北山田一…</td><td>&quot;カナガワケンヨコハマシツヅキ…</td><td>&quot;045-123-4049&quot;</td><td>139.5916</td><td>35.56189</td><td>831.0</td></tr><tr><td>&quot;S14011&quot;</td><td>&quot;日吉本町店&quot;</td><td>14</td><td>&quot;神奈川県&quot;</td><td>&quot;神奈川県横浜市港北区日吉本町…</td><td>&quot;カナガワケンヨコハマシコウホ…</td><td>&quot;045-123-4033&quot;</td><td>139.6316</td><td>35.54655</td><td>890.0</td></tr><tr><td>&quot;S14048&quot;</td><td>&quot;中川中央店&quot;</td><td>14</td><td>&quot;神奈川県&quot;</td><td>&quot;神奈川県横浜市都筑区中川中央…</td><td>&quot;カナガワケンヨコハマシツヅキ…</td><td>&quot;045-123-4051&quot;</td><td>139.5758</td><td>35.54912</td><td>1657.0</td></tr><tr><td>&quot;S14042&quot;</td><td>&quot;新山下店&quot;</td><td>14</td><td>&quot;神奈川県&quot;</td><td>&quot;神奈川県横浜市中区新山下二丁…</td><td>&quot;カナガワケンヨコハマシナカク…</td><td>&quot;045-123-4047&quot;</td><td>139.6593</td><td>35.43894</td><td>1044.0</td></tr><tr><td>&quot;S14006&quot;</td><td>&quot;葛が谷店&quot;</td><td>14</td><td>&quot;神奈川県&quot;</td><td>&quot;神奈川県横浜市都筑区葛が谷&quot;</td><td>&quot;カナガワケンヨコハマシツヅキ…</td><td>&quot;045-123-4031&quot;</td><td>139.5633</td><td>35.53573</td><td>1886.0</td></tr></tbody></table></div>"
      ],
      "text/plain": [
       "shape: (11, 10)\n",
       "┌─────────┬─────────┬─────────┬─────────┬─────────┬─────────┬─────────┬─────────┬─────────┬────────┐\n",
       "│ store_c ┆ store_n ┆ prefect ┆ prefect ┆ address ┆ address ┆ tel_no  ┆ longitu ┆ latitud ┆ floor_ │\n",
       "│ d       ┆ ame     ┆ ure_cd  ┆ ure     ┆ ---     ┆ _kana   ┆ ---     ┆ de      ┆ e       ┆ area   │\n",
       "│ ---     ┆ ---     ┆ ---     ┆ ---     ┆ str     ┆ ---     ┆ str     ┆ ---     ┆ ---     ┆ ---    │\n",
       "│ str     ┆ str     ┆ i64     ┆ str     ┆         ┆ str     ┆         ┆ f64     ┆ f64     ┆ f64    │\n",
       "╞═════════╪═════════╪═════════╪═════════╪═════════╪═════════╪═════════╪═════════╪═════════╪════════╡\n",
       "│ S14010  ┆ 菊名店  ┆ 14      ┆ 神奈川  ┆ 神奈川  ┆ カナガ  ┆ 045-123 ┆ 139.632 ┆ 35.5004 ┆ 1732.0 │\n",
       "│         ┆         ┆         ┆ 県      ┆ 県横浜  ┆ ワケン  ┆ -4032   ┆ 6       ┆ 9       ┆        │\n",
       "│         ┆         ┆         ┆         ┆ 市港北  ┆ ヨコハ  ┆         ┆         ┆         ┆        │\n",
       "│         ┆         ┆         ┆         ┆ 区菊名  ┆ マシコ  ┆         ┆         ┆         ┆        │\n",
       "│         ┆         ┆         ┆         ┆ 一丁目  ┆ ウホク  ┆         ┆         ┆         ┆        │\n",
       "│         ┆         ┆         ┆         ┆         ┆ クキク  ┆         ┆         ┆         ┆        │\n",
       "│         ┆         ┆         ┆         ┆         ┆ ナイッ  ┆         ┆         ┆         ┆        │\n",
       "│         ┆         ┆         ┆         ┆         ┆ チョウ  ┆         ┆         ┆         ┆        │\n",
       "│         ┆         ┆         ┆         ┆         ┆ メ      ┆         ┆         ┆         ┆        │\n",
       "│ S14033  ┆ 阿久和  ┆ 14      ┆ 神奈川  ┆ 神奈川  ┆ カナガ  ┆ 045-123 ┆ 139.496 ┆ 35.4591 ┆ 1495.0 │\n",
       "│         ┆ 店      ┆         ┆ 県      ┆ 県横浜  ┆ ワケン  ┆ -4043   ┆ 1       ┆ 8       ┆        │\n",
       "│         ┆         ┆         ┆         ┆ 市瀬谷  ┆ ヨコハ  ┆         ┆         ┆         ┆        │\n",
       "│         ┆         ┆         ┆         ┆ 区阿久  ┆ マシセ  ┆         ┆         ┆         ┆        │\n",
       "│         ┆         ┆         ┆         ┆ 和西一  ┆ ヤクア  ┆         ┆         ┆         ┆        │\n",
       "│         ┆         ┆         ┆         ┆ 丁目    ┆ クワニ  ┆         ┆         ┆         ┆        │\n",
       "│         ┆         ┆         ┆         ┆         ┆ シイッ  ┆         ┆         ┆         ┆        │\n",
       "│         ┆         ┆         ┆         ┆         ┆ チョウ  ┆         ┆         ┆         ┆        │\n",
       "│         ┆         ┆         ┆         ┆         ┆ メ      ┆         ┆         ┆         ┆        │\n",
       "│ S14040  ┆ 長津田  ┆ 14      ┆ 神奈川  ┆ 神奈川  ┆ カナガ  ┆ 045-123 ┆ 139.499 ┆ 35.5239 ┆ 1548.0 │\n",
       "│         ┆ 店      ┆         ┆ 県      ┆ 県横浜  ┆ ワケン  ┆ -4046   ┆ 4       ┆ 8       ┆        │\n",
       "│         ┆         ┆         ┆         ┆ 市緑区  ┆ ヨコハ  ┆         ┆         ┆         ┆        │\n",
       "│         ┆         ┆         ┆         ┆ 長津田  ┆ マシミ  ┆         ┆         ┆         ┆        │\n",
       "│         ┆         ┆         ┆         ┆ みなみ  ┆ ドリク  ┆         ┆         ┆         ┆        │\n",
       "│         ┆         ┆         ┆         ┆ 台五丁  ┆ ナガツ  ┆         ┆         ┆         ┆        │\n",
       "│         ┆         ┆         ┆         ┆ 目      ┆ タミナ  ┆         ┆         ┆         ┆        │\n",
       "│         ┆         ┆         ┆         ┆         ┆ ミダイ  ┆         ┆         ┆         ┆        │\n",
       "│         ┆         ┆         ┆         ┆         ┆ ゴチョ  ┆         ┆         ┆         ┆        │\n",
       "│         ┆         ┆         ┆         ┆         ┆ ウメ    ┆         ┆         ┆         ┆        │\n",
       "│ S14050  ┆ 阿久和  ┆ 14      ┆ 神奈川  ┆ 神奈川  ┆ カナガ  ┆ 045-123 ┆ 139.496 ┆ 35.4591 ┆ 1830.0 │\n",
       "│         ┆ 西店    ┆         ┆ 県      ┆ 県横浜  ┆ ワケン  ┆ -4053   ┆ 1       ┆ 8       ┆        │\n",
       "│         ┆         ┆         ┆         ┆ 市瀬谷  ┆ ヨコハ  ┆         ┆         ┆         ┆        │\n",
       "│         ┆         ┆         ┆         ┆ 区阿久  ┆ マシセ  ┆         ┆         ┆         ┆        │\n",
       "│         ┆         ┆         ┆         ┆ 和西一  ┆ ヤクア  ┆         ┆         ┆         ┆        │\n",
       "│         ┆         ┆         ┆         ┆ 丁目    ┆ クワニ  ┆         ┆         ┆         ┆        │\n",
       "│         ┆         ┆         ┆         ┆         ┆ シイッ  ┆         ┆         ┆         ┆        │\n",
       "│         ┆         ┆         ┆         ┆         ┆ チョウ  ┆         ┆         ┆         ┆        │\n",
       "│         ┆         ┆         ┆         ┆         ┆ メ      ┆         ┆         ┆         ┆        │\n",
       "│ …       ┆ …       ┆ …       ┆ …       ┆ …       ┆ …       ┆ …       ┆ …       ┆ …       ┆ …      │\n",
       "│ S14011  ┆ 日吉本  ┆ 14      ┆ 神奈川  ┆ 神奈川  ┆ カナガ  ┆ 045-123 ┆ 139.631 ┆ 35.5465 ┆ 890.0  │\n",
       "│         ┆ 町店    ┆         ┆ 県      ┆ 県横浜  ┆ ワケン  ┆ -4033   ┆ 6       ┆ 5       ┆        │\n",
       "│         ┆         ┆         ┆         ┆ 市港北  ┆ ヨコハ  ┆         ┆         ┆         ┆        │\n",
       "│         ┆         ┆         ┆         ┆ 区日吉  ┆ マシコ  ┆         ┆         ┆         ┆        │\n",
       "│         ┆         ┆         ┆         ┆ 本町四  ┆ ウホク  ┆         ┆         ┆         ┆        │\n",
       "│         ┆         ┆         ┆         ┆ 丁目    ┆ クヒヨ  ┆         ┆         ┆         ┆        │\n",
       "│         ┆         ┆         ┆         ┆         ┆ シホン  ┆         ┆         ┆         ┆        │\n",
       "│         ┆         ┆         ┆         ┆         ┆ チョウ  ┆         ┆         ┆         ┆        │\n",
       "│         ┆         ┆         ┆         ┆         ┆ ヨンチ  ┆         ┆         ┆         ┆        │\n",
       "│         ┆         ┆         ┆         ┆         ┆ ョウメ  ┆         ┆         ┆         ┆        │\n",
       "│ S14048  ┆ 中川中  ┆ 14      ┆ 神奈川  ┆ 神奈川  ┆ カナガ  ┆ 045-123 ┆ 139.575 ┆ 35.5491 ┆ 1657.0 │\n",
       "│         ┆ 央店    ┆         ┆ 県      ┆ 県横浜  ┆ ワケン  ┆ -4051   ┆ 8       ┆ 2       ┆        │\n",
       "│         ┆         ┆         ┆         ┆ 市都筑  ┆ ヨコハ  ┆         ┆         ┆         ┆        │\n",
       "│         ┆         ┆         ┆         ┆ 区中川  ┆ マシツ  ┆         ┆         ┆         ┆        │\n",
       "│         ┆         ┆         ┆         ┆ 中央二  ┆ ヅキク  ┆         ┆         ┆         ┆        │\n",
       "│         ┆         ┆         ┆         ┆ 丁目    ┆ ナカガ  ┆         ┆         ┆         ┆        │\n",
       "│         ┆         ┆         ┆         ┆         ┆ ワチュ  ┆         ┆         ┆         ┆        │\n",
       "│         ┆         ┆         ┆         ┆         ┆ ウオウ  ┆         ┆         ┆         ┆        │\n",
       "│         ┆         ┆         ┆         ┆         ┆ ニチョ  ┆         ┆         ┆         ┆        │\n",
       "│         ┆         ┆         ┆         ┆         ┆ ウメ    ┆         ┆         ┆         ┆        │\n",
       "│ S14042  ┆ 新山下  ┆ 14      ┆ 神奈川  ┆ 神奈川  ┆ カナガ  ┆ 045-123 ┆ 139.659 ┆ 35.4389 ┆ 1044.0 │\n",
       "│         ┆ 店      ┆         ┆ 県      ┆ 県横浜  ┆ ワケン  ┆ -4047   ┆ 3       ┆ 4       ┆        │\n",
       "│         ┆         ┆         ┆         ┆ 市中区  ┆ ヨコハ  ┆         ┆         ┆         ┆        │\n",
       "│         ┆         ┆         ┆         ┆ 新山下  ┆ マシナ  ┆         ┆         ┆         ┆        │\n",
       "│         ┆         ┆         ┆         ┆ 二丁目  ┆ カクシ  ┆         ┆         ┆         ┆        │\n",
       "│         ┆         ┆         ┆         ┆         ┆ ンヤマ  ┆         ┆         ┆         ┆        │\n",
       "│         ┆         ┆         ┆         ┆         ┆ シタニ  ┆         ┆         ┆         ┆        │\n",
       "│         ┆         ┆         ┆         ┆         ┆ チョウ  ┆         ┆         ┆         ┆        │\n",
       "│         ┆         ┆         ┆         ┆         ┆ メ      ┆         ┆         ┆         ┆        │\n",
       "│ S14006  ┆ 葛が谷  ┆ 14      ┆ 神奈川  ┆ 神奈川  ┆ カナガ  ┆ 045-123 ┆ 139.563 ┆ 35.5357 ┆ 1886.0 │\n",
       "│         ┆ 店      ┆         ┆ 県      ┆ 県横浜  ┆ ワケン  ┆ -4031   ┆ 3       ┆ 3       ┆        │\n",
       "│         ┆         ┆         ┆         ┆ 市都筑  ┆ ヨコハ  ┆         ┆         ┆         ┆        │\n",
       "│         ┆         ┆         ┆         ┆ 区葛が  ┆ マシツ  ┆         ┆         ┆         ┆        │\n",
       "│         ┆         ┆         ┆         ┆ 谷      ┆ ヅキク  ┆         ┆         ┆         ┆        │\n",
       "│         ┆         ┆         ┆         ┆         ┆ クズガ  ┆         ┆         ┆         ┆        │\n",
       "│         ┆         ┆         ┆         ┆         ┆ ヤ      ┆         ┆         ┆         ┆        │\n",
       "└─────────┴─────────┴─────────┴─────────┴─────────┴─────────┴─────────┴─────────┴─────────┴────────┘"
      ]
     },
     "execution_count": 3,
     "metadata": {},
     "output_type": "execute_result"
    }
   ],
   "source": [
    "df_store.filter( pl.col(\"address\").str.contains(\"横浜市\"))"
   ]
  }
 ],
 "metadata": {
  "kernelspec": {
   "display_name": "Python 3",
   "language": "python",
   "name": "python3"
  },
  "language_info": {
   "codemirror_mode": {
    "name": "ipython",
    "version": 3
   },
   "file_extension": ".py",
   "mimetype": "text/x-python",
   "name": "python",
   "nbconvert_exporter": "python",
   "pygments_lexer": "ipython3",
   "version": "3.11.4"
  }
 },
 "nbformat": 4,
 "nbformat_minor": 2
}
