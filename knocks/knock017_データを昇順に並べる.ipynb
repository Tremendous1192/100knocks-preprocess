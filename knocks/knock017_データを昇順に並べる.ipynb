{
 "cells": [
  {
   "cell_type": "markdown",
   "metadata": {},
   "source": [
    "## knock 017 データを昇順に並べる"
   ]
  },
  {
   "cell_type": "code",
   "execution_count": 1,
   "metadata": {},
   "outputs": [
    {
     "data": {
      "text/plain": [
       "polars.config.Config"
      ]
     },
     "execution_count": 1,
     "metadata": {},
     "output_type": "execute_result"
    }
   ],
   "source": [
    "import polars as pl\n",
    "pl.Config.set_tbl_cols(-1)# 列が省略されないようにする"
   ]
  },
  {
   "cell_type": "markdown",
   "metadata": {},
   "source": [
    "### データを読み込む"
   ]
  },
  {
   "cell_type": "code",
   "execution_count": 2,
   "metadata": {},
   "outputs": [
    {
     "data": {
      "text/html": [
       "<div><style>\n",
       ".dataframe > thead > tr,\n",
       ".dataframe > tbody > tr {\n",
       "  text-align: right;\n",
       "  white-space: pre-wrap;\n",
       "}\n",
       "</style>\n",
       "<small>shape: (5, 11)</small><table border=\"1\" class=\"dataframe\"><thead><tr><th>customer_id</th><th>customer_name</th><th>gender_cd</th><th>gender</th><th>birth_day</th><th>age</th><th>postal_cd</th><th>address</th><th>application_store_cd</th><th>application_date</th><th>status_cd</th></tr><tr><td>str</td><td>str</td><td>i64</td><td>str</td><td>str</td><td>i64</td><td>str</td><td>str</td><td>str</td><td>i64</td><td>str</td></tr></thead><tbody><tr><td>&quot;CS021313000114…</td><td>&quot;大野 あや子&quot;</td><td>1</td><td>&quot;女性&quot;</td><td>&quot;1981-04-29&quot;</td><td>37</td><td>&quot;259-1113&quot;</td><td>&quot;神奈川県伊勢原市粟窪****…</td><td>&quot;S14021&quot;</td><td>20150905</td><td>&quot;0-00000000-0&quot;</td></tr><tr><td>&quot;CS037613000071…</td><td>&quot;六角 雅彦&quot;</td><td>9</td><td>&quot;不明&quot;</td><td>&quot;1952-04-01&quot;</td><td>66</td><td>&quot;136-0076&quot;</td><td>&quot;東京都江東区南砂******…</td><td>&quot;S13037&quot;</td><td>20150414</td><td>&quot;0-00000000-0&quot;</td></tr><tr><td>&quot;CS031415000172…</td><td>&quot;宇多田 貴美子&quot;</td><td>1</td><td>&quot;女性&quot;</td><td>&quot;1976-10-04&quot;</td><td>42</td><td>&quot;151-0053&quot;</td><td>&quot;東京都渋谷区代々木*****…</td><td>&quot;S13031&quot;</td><td>20150529</td><td>&quot;D-20100325-C&quot;</td></tr><tr><td>&quot;CS028811000001…</td><td>&quot;堀井 かおり&quot;</td><td>1</td><td>&quot;女性&quot;</td><td>&quot;1933-03-27&quot;</td><td>86</td><td>&quot;245-0016&quot;</td><td>&quot;神奈川県横浜市泉区和泉町**…</td><td>&quot;S14028&quot;</td><td>20160115</td><td>&quot;0-00000000-0&quot;</td></tr><tr><td>&quot;CS001215000145…</td><td>&quot;田崎 美紀&quot;</td><td>1</td><td>&quot;女性&quot;</td><td>&quot;1995-03-29&quot;</td><td>24</td><td>&quot;144-0055&quot;</td><td>&quot;東京都大田区仲六郷*****…</td><td>&quot;S13001&quot;</td><td>20170605</td><td>&quot;6-20090929-2&quot;</td></tr></tbody></table></div>"
      ],
      "text/plain": [
       "shape: (5, 11)\n",
       "┌─────────┬─────────┬─────────┬────────┬────────┬─────┬────────┬────────┬────────┬────────┬────────┐\n",
       "│ custome ┆ custome ┆ gender_ ┆ gender ┆ birth_ ┆ age ┆ postal ┆ addres ┆ applic ┆ applic ┆ status │\n",
       "│ r_id    ┆ r_name  ┆ cd      ┆ ---    ┆ day    ┆ --- ┆ _cd    ┆ s      ┆ ation_ ┆ ation_ ┆ _cd    │\n",
       "│ ---     ┆ ---     ┆ ---     ┆ str    ┆ ---    ┆ i64 ┆ ---    ┆ ---    ┆ store_ ┆ date   ┆ ---    │\n",
       "│ str     ┆ str     ┆ i64     ┆        ┆ str    ┆     ┆ str    ┆ str    ┆ cd     ┆ ---    ┆ str    │\n",
       "│         ┆         ┆         ┆        ┆        ┆     ┆        ┆        ┆ ---    ┆ i64    ┆        │\n",
       "│         ┆         ┆         ┆        ┆        ┆     ┆        ┆        ┆ str    ┆        ┆        │\n",
       "╞═════════╪═════════╪═════════╪════════╪════════╪═════╪════════╪════════╪════════╪════════╪════════╡\n",
       "│ CS02131 ┆ 大野    ┆ 1       ┆ 女性   ┆ 1981-0 ┆ 37  ┆ 259-11 ┆ 神奈川 ┆ S14021 ┆ 201509 ┆ 0-0000 │\n",
       "│ 3000114 ┆ あや子  ┆         ┆        ┆ 4-29   ┆     ┆ 13     ┆ 県伊勢 ┆        ┆ 05     ┆ 0000-0 │\n",
       "│         ┆         ┆         ┆        ┆        ┆     ┆        ┆ 原市粟 ┆        ┆        ┆        │\n",
       "│         ┆         ┆         ┆        ┆        ┆     ┆        ┆ 窪**** ┆        ┆        ┆        │\n",
       "│         ┆         ┆         ┆        ┆        ┆     ┆        ┆ ****** ┆        ┆        ┆        │\n",
       "│ CS03761 ┆ 六角    ┆ 9       ┆ 不明   ┆ 1952-0 ┆ 66  ┆ 136-00 ┆ 東京都 ┆ S13037 ┆ 201504 ┆ 0-0000 │\n",
       "│ 3000071 ┆ 雅彦    ┆         ┆        ┆ 4-01   ┆     ┆ 76     ┆ 江東区 ┆        ┆ 14     ┆ 0000-0 │\n",
       "│         ┆         ┆         ┆        ┆        ┆     ┆        ┆ 南砂** ┆        ┆        ┆        │\n",
       "│         ┆         ┆         ┆        ┆        ┆     ┆        ┆ ****** ┆        ┆        ┆        │\n",
       "│         ┆         ┆         ┆        ┆        ┆     ┆        ┆ **     ┆        ┆        ┆        │\n",
       "│ CS03141 ┆ 宇多田  ┆ 1       ┆ 女性   ┆ 1976-1 ┆ 42  ┆ 151-00 ┆ 東京都 ┆ S13031 ┆ 201505 ┆ D-2010 │\n",
       "│ 5000172 ┆ 貴美子  ┆         ┆        ┆ 0-04   ┆     ┆ 53     ┆ 渋谷区 ┆        ┆ 29     ┆ 0325-C │\n",
       "│         ┆         ┆         ┆        ┆        ┆     ┆        ┆ 代々木 ┆        ┆        ┆        │\n",
       "│         ┆         ┆         ┆        ┆        ┆     ┆        ┆ ****** ┆        ┆        ┆        │\n",
       "│         ┆         ┆         ┆        ┆        ┆     ┆        ┆ ****   ┆        ┆        ┆        │\n",
       "│ CS02881 ┆ 堀井    ┆ 1       ┆ 女性   ┆ 1933-0 ┆ 86  ┆ 245-00 ┆ 神奈川 ┆ S14028 ┆ 201601 ┆ 0-0000 │\n",
       "│ 1000001 ┆ かおり  ┆         ┆        ┆ 3-27   ┆     ┆ 16     ┆ 県横浜 ┆        ┆ 15     ┆ 0000-0 │\n",
       "│         ┆         ┆         ┆        ┆        ┆     ┆        ┆ 市泉区 ┆        ┆        ┆        │\n",
       "│         ┆         ┆         ┆        ┆        ┆     ┆        ┆ 和泉町 ┆        ┆        ┆        │\n",
       "│         ┆         ┆         ┆        ┆        ┆     ┆        ┆ ****** ┆        ┆        ┆        │\n",
       "│         ┆         ┆         ┆        ┆        ┆     ┆        ┆ ****   ┆        ┆        ┆        │\n",
       "│ CS00121 ┆ 田崎    ┆ 1       ┆ 女性   ┆ 1995-0 ┆ 24  ┆ 144-00 ┆ 東京都 ┆ S13001 ┆ 201706 ┆ 6-2009 │\n",
       "│ 5000145 ┆ 美紀    ┆         ┆        ┆ 3-29   ┆     ┆ 55     ┆ 大田区 ┆        ┆ 05     ┆ 0929-2 │\n",
       "│         ┆         ┆         ┆        ┆        ┆     ┆        ┆ 仲六郷 ┆        ┆        ┆        │\n",
       "│         ┆         ┆         ┆        ┆        ┆     ┆        ┆ ****** ┆        ┆        ┆        │\n",
       "│         ┆         ┆         ┆        ┆        ┆     ┆        ┆ ****   ┆        ┆        ┆        │\n",
       "└─────────┴─────────┴─────────┴────────┴────────┴─────┴────────┴────────┴────────┴────────┴────────┘"
      ]
     },
     "execution_count": 2,
     "metadata": {},
     "output_type": "execute_result"
    }
   ],
   "source": [
    "df_customer = pl.read_csv(\"../docker/work/data/customer.csv\")\n",
    "df_customer.head()"
   ]
  },
  {
   "cell_type": "markdown",
   "metadata": {},
   "source": [
    "### ノック"
   ]
  },
  {
   "cell_type": "code",
   "execution_count": 3,
   "metadata": {},
   "outputs": [
    {
     "data": {
      "text/html": [
       "<div><style>\n",
       ".dataframe > thead > tr,\n",
       ".dataframe > tbody > tr {\n",
       "  text-align: right;\n",
       "  white-space: pre-wrap;\n",
       "}\n",
       "</style>\n",
       "<small>shape: (10, 11)</small><table border=\"1\" class=\"dataframe\"><thead><tr><th>customer_id</th><th>customer_name</th><th>gender_cd</th><th>gender</th><th>birth_day</th><th>age</th><th>postal_cd</th><th>address</th><th>application_store_cd</th><th>application_date</th><th>status_cd</th></tr><tr><td>str</td><td>str</td><td>i64</td><td>str</td><td>str</td><td>i64</td><td>str</td><td>str</td><td>str</td><td>i64</td><td>str</td></tr></thead><tbody><tr><td>&quot;CS003813000014…</td><td>&quot;村山 菜々美&quot;</td><td>1</td><td>&quot;女性&quot;</td><td>&quot;1928-11-26&quot;</td><td>90</td><td>&quot;182-0007&quot;</td><td>&quot;東京都調布市菊野台*****…</td><td>&quot;S13003&quot;</td><td>20160214</td><td>&quot;0-00000000-0&quot;</td></tr><tr><td>&quot;CS026813000004…</td><td>&quot;吉村 朝陽&quot;</td><td>1</td><td>&quot;女性&quot;</td><td>&quot;1928-12-14&quot;</td><td>90</td><td>&quot;251-0043&quot;</td><td>&quot;神奈川県藤沢市辻堂元町***…</td><td>&quot;S14026&quot;</td><td>20150723</td><td>&quot;0-00000000-0&quot;</td></tr><tr><td>&quot;CS018811000003…</td><td>&quot;熊沢 美里&quot;</td><td>1</td><td>&quot;女性&quot;</td><td>&quot;1929-01-07&quot;</td><td>90</td><td>&quot;204-0004&quot;</td><td>&quot;東京都清瀬市野塩******…</td><td>&quot;S13018&quot;</td><td>20150403</td><td>&quot;0-00000000-0&quot;</td></tr><tr><td>&quot;CS027803000004…</td><td>&quot;内村 拓郎&quot;</td><td>0</td><td>&quot;男性&quot;</td><td>&quot;1929-01-12&quot;</td><td>90</td><td>&quot;251-0031&quot;</td><td>&quot;神奈川県藤沢市鵠沼藤が谷**…</td><td>&quot;S14027&quot;</td><td>20151227</td><td>&quot;0-00000000-0&quot;</td></tr><tr><td>&quot;CS013801000003…</td><td>&quot;天野 拓郎&quot;</td><td>0</td><td>&quot;男性&quot;</td><td>&quot;1929-01-15&quot;</td><td>90</td><td>&quot;274-0824&quot;</td><td>&quot;千葉県船橋市前原東*****…</td><td>&quot;S12013&quot;</td><td>20160120</td><td>&quot;0-00000000-0&quot;</td></tr><tr><td>&quot;CS001814000022…</td><td>&quot;鶴田 里穂&quot;</td><td>1</td><td>&quot;女性&quot;</td><td>&quot;1929-01-28&quot;</td><td>90</td><td>&quot;144-0045&quot;</td><td>&quot;東京都大田区南六郷*****…</td><td>&quot;S13001&quot;</td><td>20161012</td><td>&quot;A-20090415-7&quot;</td></tr><tr><td>&quot;CS016815000002…</td><td>&quot;山元 美紀&quot;</td><td>1</td><td>&quot;女性&quot;</td><td>&quot;1929-02-22&quot;</td><td>90</td><td>&quot;184-0005&quot;</td><td>&quot;東京都小金井市桜町*****…</td><td>&quot;S13016&quot;</td><td>20150629</td><td>&quot;C-20090923-C&quot;</td></tr><tr><td>&quot;CS009815000003…</td><td>&quot;中田 里穂&quot;</td><td>1</td><td>&quot;女性&quot;</td><td>&quot;1929-04-08&quot;</td><td>89</td><td>&quot;154-0014&quot;</td><td>&quot;東京都世田谷区新町*****…</td><td>&quot;S13009&quot;</td><td>20150421</td><td>&quot;D-20091021-E&quot;</td></tr><tr><td>&quot;CS012813000013…</td><td>&quot;宇野 南朋&quot;</td><td>1</td><td>&quot;女性&quot;</td><td>&quot;1929-04-09&quot;</td><td>89</td><td>&quot;231-0806&quot;</td><td>&quot;神奈川県横浜市中区本牧町**…</td><td>&quot;S14012&quot;</td><td>20150712</td><td>&quot;0-00000000-0&quot;</td></tr><tr><td>&quot;CS005813000015…</td><td>&quot;金谷 恵梨香&quot;</td><td>1</td><td>&quot;女性&quot;</td><td>&quot;1929-04-09&quot;</td><td>89</td><td>&quot;165-0032&quot;</td><td>&quot;東京都中野区鷺宮******…</td><td>&quot;S13005&quot;</td><td>20150506</td><td>&quot;0-00000000-0&quot;</td></tr></tbody></table></div>"
      ],
      "text/plain": [
       "shape: (10, 11)\n",
       "┌─────────┬─────────┬─────────┬────────┬────────┬─────┬────────┬────────┬────────┬────────┬────────┐\n",
       "│ custome ┆ custome ┆ gender_ ┆ gender ┆ birth_ ┆ age ┆ postal ┆ addres ┆ applic ┆ applic ┆ status │\n",
       "│ r_id    ┆ r_name  ┆ cd      ┆ ---    ┆ day    ┆ --- ┆ _cd    ┆ s      ┆ ation_ ┆ ation_ ┆ _cd    │\n",
       "│ ---     ┆ ---     ┆ ---     ┆ str    ┆ ---    ┆ i64 ┆ ---    ┆ ---    ┆ store_ ┆ date   ┆ ---    │\n",
       "│ str     ┆ str     ┆ i64     ┆        ┆ str    ┆     ┆ str    ┆ str    ┆ cd     ┆ ---    ┆ str    │\n",
       "│         ┆         ┆         ┆        ┆        ┆     ┆        ┆        ┆ ---    ┆ i64    ┆        │\n",
       "│         ┆         ┆         ┆        ┆        ┆     ┆        ┆        ┆ str    ┆        ┆        │\n",
       "╞═════════╪═════════╪═════════╪════════╪════════╪═════╪════════╪════════╪════════╪════════╪════════╡\n",
       "│ CS00381 ┆ 村山    ┆ 1       ┆ 女性   ┆ 1928-1 ┆ 90  ┆ 182-00 ┆ 東京都 ┆ S13003 ┆ 201602 ┆ 0-0000 │\n",
       "│ 3000014 ┆ 菜々美  ┆         ┆        ┆ 1-26   ┆     ┆ 07     ┆ 調布市 ┆        ┆ 14     ┆ 0000-0 │\n",
       "│         ┆         ┆         ┆        ┆        ┆     ┆        ┆ 菊野台 ┆        ┆        ┆        │\n",
       "│         ┆         ┆         ┆        ┆        ┆     ┆        ┆ ****** ┆        ┆        ┆        │\n",
       "│         ┆         ┆         ┆        ┆        ┆     ┆        ┆ ****   ┆        ┆        ┆        │\n",
       "│ CS02681 ┆ 吉村    ┆ 1       ┆ 女性   ┆ 1928-1 ┆ 90  ┆ 251-00 ┆ 神奈川 ┆ S14026 ┆ 201507 ┆ 0-0000 │\n",
       "│ 3000004 ┆ 朝陽    ┆         ┆        ┆ 2-14   ┆     ┆ 43     ┆ 県藤沢 ┆        ┆ 23     ┆ 0000-0 │\n",
       "│         ┆         ┆         ┆        ┆        ┆     ┆        ┆ 市辻堂 ┆        ┆        ┆        │\n",
       "│         ┆         ┆         ┆        ┆        ┆     ┆        ┆ 元町** ┆        ┆        ┆        │\n",
       "│         ┆         ┆         ┆        ┆        ┆     ┆        ┆ ****** ┆        ┆        ┆        │\n",
       "│         ┆         ┆         ┆        ┆        ┆     ┆        ┆ **     ┆        ┆        ┆        │\n",
       "│ CS01881 ┆ 熊沢    ┆ 1       ┆ 女性   ┆ 1929-0 ┆ 90  ┆ 204-00 ┆ 東京都 ┆ S13018 ┆ 201504 ┆ 0-0000 │\n",
       "│ 1000003 ┆ 美里    ┆         ┆        ┆ 1-07   ┆     ┆ 04     ┆ 清瀬市 ┆        ┆ 03     ┆ 0000-0 │\n",
       "│         ┆         ┆         ┆        ┆        ┆     ┆        ┆ 野塩** ┆        ┆        ┆        │\n",
       "│         ┆         ┆         ┆        ┆        ┆     ┆        ┆ ****** ┆        ┆        ┆        │\n",
       "│         ┆         ┆         ┆        ┆        ┆     ┆        ┆ **     ┆        ┆        ┆        │\n",
       "│ CS02780 ┆ 内村    ┆ 0       ┆ 男性   ┆ 1929-0 ┆ 90  ┆ 251-00 ┆ 神奈川 ┆ S14027 ┆ 201512 ┆ 0-0000 │\n",
       "│ 3000004 ┆ 拓郎    ┆         ┆        ┆ 1-12   ┆     ┆ 31     ┆ 県藤沢 ┆        ┆ 27     ┆ 0000-0 │\n",
       "│         ┆         ┆         ┆        ┆        ┆     ┆        ┆ 市鵠沼 ┆        ┆        ┆        │\n",
       "│         ┆         ┆         ┆        ┆        ┆     ┆        ┆ 藤が谷 ┆        ┆        ┆        │\n",
       "│         ┆         ┆         ┆        ┆        ┆     ┆        ┆ ****** ┆        ┆        ┆        │\n",
       "│         ┆         ┆         ┆        ┆        ┆     ┆        ┆ ****   ┆        ┆        ┆        │\n",
       "│ …       ┆ …       ┆ …       ┆ …      ┆ …      ┆ …   ┆ …      ┆ …      ┆ …      ┆ …      ┆ …      │\n",
       "│ CS01681 ┆ 山元    ┆ 1       ┆ 女性   ┆ 1929-0 ┆ 90  ┆ 184-00 ┆ 東京都 ┆ S13016 ┆ 201506 ┆ C-2009 │\n",
       "│ 5000002 ┆ 美紀    ┆         ┆        ┆ 2-22   ┆     ┆ 05     ┆ 小金井 ┆        ┆ 29     ┆ 0923-C │\n",
       "│         ┆         ┆         ┆        ┆        ┆     ┆        ┆ 市桜町 ┆        ┆        ┆        │\n",
       "│         ┆         ┆         ┆        ┆        ┆     ┆        ┆ ****** ┆        ┆        ┆        │\n",
       "│         ┆         ┆         ┆        ┆        ┆     ┆        ┆ ****   ┆        ┆        ┆        │\n",
       "│ CS00981 ┆ 中田    ┆ 1       ┆ 女性   ┆ 1929-0 ┆ 89  ┆ 154-00 ┆ 東京都 ┆ S13009 ┆ 201504 ┆ D-2009 │\n",
       "│ 5000003 ┆ 里穂    ┆         ┆        ┆ 4-08   ┆     ┆ 14     ┆ 世田谷 ┆        ┆ 21     ┆ 1021-E │\n",
       "│         ┆         ┆         ┆        ┆        ┆     ┆        ┆ 区新町 ┆        ┆        ┆        │\n",
       "│         ┆         ┆         ┆        ┆        ┆     ┆        ┆ ****** ┆        ┆        ┆        │\n",
       "│         ┆         ┆         ┆        ┆        ┆     ┆        ┆ ****   ┆        ┆        ┆        │\n",
       "│ CS01281 ┆ 宇野    ┆ 1       ┆ 女性   ┆ 1929-0 ┆ 89  ┆ 231-08 ┆ 神奈川 ┆ S14012 ┆ 201507 ┆ 0-0000 │\n",
       "│ 3000013 ┆ 南朋    ┆         ┆        ┆ 4-09   ┆     ┆ 06     ┆ 県横浜 ┆        ┆ 12     ┆ 0000-0 │\n",
       "│         ┆         ┆         ┆        ┆        ┆     ┆        ┆ 市中区 ┆        ┆        ┆        │\n",
       "│         ┆         ┆         ┆        ┆        ┆     ┆        ┆ 本牧町 ┆        ┆        ┆        │\n",
       "│         ┆         ┆         ┆        ┆        ┆     ┆        ┆ ****** ┆        ┆        ┆        │\n",
       "│         ┆         ┆         ┆        ┆        ┆     ┆        ┆ ****   ┆        ┆        ┆        │\n",
       "│ CS00581 ┆ 金谷    ┆ 1       ┆ 女性   ┆ 1929-0 ┆ 89  ┆ 165-00 ┆ 東京都 ┆ S13005 ┆ 201505 ┆ 0-0000 │\n",
       "│ 3000015 ┆ 恵梨香  ┆         ┆        ┆ 4-09   ┆     ┆ 32     ┆ 中野区 ┆        ┆ 06     ┆ 0000-0 │\n",
       "│         ┆         ┆         ┆        ┆        ┆     ┆        ┆ 鷺宮** ┆        ┆        ┆        │\n",
       "│         ┆         ┆         ┆        ┆        ┆     ┆        ┆ ****** ┆        ┆        ┆        │\n",
       "│         ┆         ┆         ┆        ┆        ┆     ┆        ┆ **     ┆        ┆        ┆        │\n",
       "└─────────┴─────────┴─────────┴────────┴────────┴─────┴────────┴────────┴────────┴────────┴────────┘"
      ]
     },
     "execution_count": 3,
     "metadata": {},
     "output_type": "execute_result"
    }
   ],
   "source": [
    "df_customer.sort(by = \"birth_day\").head(n = 10)"
   ]
  }
 ],
 "metadata": {
  "kernelspec": {
   "display_name": "Python 3",
   "language": "python",
   "name": "python3"
  },
  "language_info": {
   "codemirror_mode": {
    "name": "ipython",
    "version": 3
   },
   "file_extension": ".py",
   "mimetype": "text/x-python",
   "name": "python",
   "nbconvert_exporter": "python",
   "pygments_lexer": "ipython3",
   "version": "3.11.4"
  }
 },
 "nbformat": 4,
 "nbformat_minor": 2
}
