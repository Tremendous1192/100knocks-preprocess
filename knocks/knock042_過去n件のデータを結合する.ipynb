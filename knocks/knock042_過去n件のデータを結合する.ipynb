{
 "cells": [
  {
   "cell_type": "markdown",
   "metadata": {},
   "source": [
    "## knock 042 過去n件のデータを結合する"
   ]
  },
  {
   "cell_type": "code",
   "execution_count": 4,
   "metadata": {},
   "outputs": [
    {
     "data": {
      "text/plain": [
       "polars.config.Config"
      ]
     },
     "execution_count": 4,
     "metadata": {},
     "output_type": "execute_result"
    }
   ],
   "source": [
    "import polars as pl\n",
    "pl.Config.set_tbl_cols(-1)# 列が省略されないようにする"
   ]
  },
  {
   "cell_type": "markdown",
   "metadata": {},
   "source": [
    "### データを読み込む"
   ]
  },
  {
   "cell_type": "code",
   "execution_count": 5,
   "metadata": {},
   "outputs": [
    {
     "data": {
      "text/html": [
       "<div><style>\n",
       ".dataframe > thead > tr,\n",
       ".dataframe > tbody > tr {\n",
       "  text-align: right;\n",
       "  white-space: pre-wrap;\n",
       "}\n",
       "</style>\n",
       "<small>shape: (5, 9)</small><table border=\"1\" class=\"dataframe\"><thead><tr><th>sales_ymd</th><th>sales_epoch</th><th>store_cd</th><th>receipt_no</th><th>receipt_sub_no</th><th>customer_id</th><th>product_cd</th><th>quantity</th><th>amount</th></tr><tr><td>i64</td><td>i64</td><td>str</td><td>i64</td><td>i64</td><td>str</td><td>str</td><td>i64</td><td>i64</td></tr></thead><tbody><tr><td>20181103</td><td>1541203200</td><td>&quot;S14006&quot;</td><td>112</td><td>1</td><td>&quot;CS006214000001…</td><td>&quot;P070305012&quot;</td><td>1</td><td>158</td></tr><tr><td>20181118</td><td>1542499200</td><td>&quot;S13008&quot;</td><td>1132</td><td>2</td><td>&quot;CS008415000097…</td><td>&quot;P070701017&quot;</td><td>1</td><td>81</td></tr><tr><td>20170712</td><td>1499817600</td><td>&quot;S14028&quot;</td><td>1102</td><td>1</td><td>&quot;CS028414000014…</td><td>&quot;P060101005&quot;</td><td>1</td><td>170</td></tr><tr><td>20190205</td><td>1549324800</td><td>&quot;S14042&quot;</td><td>1132</td><td>1</td><td>&quot;ZZ000000000000…</td><td>&quot;P050301001&quot;</td><td>1</td><td>25</td></tr><tr><td>20180821</td><td>1534809600</td><td>&quot;S14025&quot;</td><td>1102</td><td>2</td><td>&quot;CS025415000050…</td><td>&quot;P060102007&quot;</td><td>1</td><td>90</td></tr></tbody></table></div>"
      ],
      "text/plain": [
       "shape: (5, 9)\n",
       "┌───────────┬───────────┬──────────┬──────────┬──────────┬──────────┬──────────┬──────────┬────────┐\n",
       "│ sales_ymd ┆ sales_epo ┆ store_cd ┆ receipt_ ┆ receipt_ ┆ customer ┆ product_ ┆ quantity ┆ amount │\n",
       "│ ---       ┆ ch        ┆ ---      ┆ no       ┆ sub_no   ┆ _id      ┆ cd       ┆ ---      ┆ ---    │\n",
       "│ i64       ┆ ---       ┆ str      ┆ ---      ┆ ---      ┆ ---      ┆ ---      ┆ i64      ┆ i64    │\n",
       "│           ┆ i64       ┆          ┆ i64      ┆ i64      ┆ str      ┆ str      ┆          ┆        │\n",
       "╞═══════════╪═══════════╪══════════╪══════════╪══════════╪══════════╪══════════╪══════════╪════════╡\n",
       "│ 20181103  ┆ 154120320 ┆ S14006   ┆ 112      ┆ 1        ┆ CS006214 ┆ P0703050 ┆ 1        ┆ 158    │\n",
       "│           ┆ 0         ┆          ┆          ┆          ┆ 000001   ┆ 12       ┆          ┆        │\n",
       "│ 20181118  ┆ 154249920 ┆ S13008   ┆ 1132     ┆ 2        ┆ CS008415 ┆ P0707010 ┆ 1        ┆ 81     │\n",
       "│           ┆ 0         ┆          ┆          ┆          ┆ 000097   ┆ 17       ┆          ┆        │\n",
       "│ 20170712  ┆ 149981760 ┆ S14028   ┆ 1102     ┆ 1        ┆ CS028414 ┆ P0601010 ┆ 1        ┆ 170    │\n",
       "│           ┆ 0         ┆          ┆          ┆          ┆ 000014   ┆ 05       ┆          ┆        │\n",
       "│ 20190205  ┆ 154932480 ┆ S14042   ┆ 1132     ┆ 1        ┆ ZZ000000 ┆ P0503010 ┆ 1        ┆ 25     │\n",
       "│           ┆ 0         ┆          ┆          ┆          ┆ 000000   ┆ 01       ┆          ┆        │\n",
       "│ 20180821  ┆ 153480960 ┆ S14025   ┆ 1102     ┆ 2        ┆ CS025415 ┆ P0601020 ┆ 1        ┆ 90     │\n",
       "│           ┆ 0         ┆          ┆          ┆          ┆ 000050   ┆ 07       ┆          ┆        │\n",
       "└───────────┴───────────┴──────────┴──────────┴──────────┴──────────┴──────────┴──────────┴────────┘"
      ]
     },
     "metadata": {},
     "output_type": "display_data"
    }
   ],
   "source": [
    "df_receipt = pl.read_csv(\"../docker/work/data/receipt.csv\")\n",
    "display(df_receipt.head())"
   ]
  },
  {
   "cell_type": "markdown",
   "metadata": {},
   "source": [
    "### ノック"
   ]
  },
  {
   "cell_type": "code",
   "execution_count": 7,
   "metadata": {},
   "outputs": [
    {
     "data": {
      "text/html": [
       "<div><style>\n",
       ".dataframe > thead > tr,\n",
       ".dataframe > tbody > tr {\n",
       "  text-align: right;\n",
       "  white-space: pre-wrap;\n",
       "}\n",
       "</style>\n",
       "<small>shape: (10, 8)</small><table border=\"1\" class=\"dataframe\"><thead><tr><th>sales_ymd</th><th>amount</th><th>lag_ymd_1</th><th>lag_amount_1</th><th>lag_ymd_2</th><th>lag_amount_2</th><th>lag_ymd_3</th><th>lag_amount_3</th></tr><tr><td>i64</td><td>i64</td><td>i64</td><td>i64</td><td>i64</td><td>i64</td><td>i64</td><td>i64</td></tr></thead><tbody><tr><td>20170104</td><td>36165</td><td>20170103</td><td>27503</td><td>20170102</td><td>24165</td><td>20170101</td><td>33723</td></tr><tr><td>20170105</td><td>37830</td><td>20170104</td><td>36165</td><td>20170103</td><td>27503</td><td>20170102</td><td>24165</td></tr><tr><td>20170106</td><td>32387</td><td>20170105</td><td>37830</td><td>20170104</td><td>36165</td><td>20170103</td><td>27503</td></tr><tr><td>20170107</td><td>23415</td><td>20170106</td><td>32387</td><td>20170105</td><td>37830</td><td>20170104</td><td>36165</td></tr><tr><td>20170108</td><td>24737</td><td>20170107</td><td>23415</td><td>20170106</td><td>32387</td><td>20170105</td><td>37830</td></tr><tr><td>20170109</td><td>26718</td><td>20170108</td><td>24737</td><td>20170107</td><td>23415</td><td>20170106</td><td>32387</td></tr><tr><td>20170110</td><td>20143</td><td>20170109</td><td>26718</td><td>20170108</td><td>24737</td><td>20170107</td><td>23415</td></tr><tr><td>20170111</td><td>24287</td><td>20170110</td><td>20143</td><td>20170109</td><td>26718</td><td>20170108</td><td>24737</td></tr><tr><td>20170112</td><td>23526</td><td>20170111</td><td>24287</td><td>20170110</td><td>20143</td><td>20170109</td><td>26718</td></tr><tr><td>20170113</td><td>28004</td><td>20170112</td><td>23526</td><td>20170111</td><td>24287</td><td>20170110</td><td>20143</td></tr></tbody></table></div>"
      ],
      "text/plain": [
       "shape: (10, 8)\n",
       "┌───────────┬────────┬───────────┬─────────────┬───────────┬─────────────┬───────────┬─────────────┐\n",
       "│ sales_ymd ┆ amount ┆ lag_ymd_1 ┆ lag_amount_ ┆ lag_ymd_2 ┆ lag_amount_ ┆ lag_ymd_3 ┆ lag_amount_ │\n",
       "│ ---       ┆ ---    ┆ ---       ┆ 1           ┆ ---       ┆ 2           ┆ ---       ┆ 3           │\n",
       "│ i64       ┆ i64    ┆ i64       ┆ ---         ┆ i64       ┆ ---         ┆ i64       ┆ ---         │\n",
       "│           ┆        ┆           ┆ i64         ┆           ┆ i64         ┆           ┆ i64         │\n",
       "╞═══════════╪════════╪═══════════╪═════════════╪═══════════╪═════════════╪═══════════╪═════════════╡\n",
       "│ 20170104  ┆ 36165  ┆ 20170103  ┆ 27503       ┆ 20170102  ┆ 24165       ┆ 20170101  ┆ 33723       │\n",
       "│ 20170105  ┆ 37830  ┆ 20170104  ┆ 36165       ┆ 20170103  ┆ 27503       ┆ 20170102  ┆ 24165       │\n",
       "│ 20170106  ┆ 32387  ┆ 20170105  ┆ 37830       ┆ 20170104  ┆ 36165       ┆ 20170103  ┆ 27503       │\n",
       "│ 20170107  ┆ 23415  ┆ 20170106  ┆ 32387       ┆ 20170105  ┆ 37830       ┆ 20170104  ┆ 36165       │\n",
       "│ …         ┆ …      ┆ …         ┆ …           ┆ …         ┆ …           ┆ …         ┆ …           │\n",
       "│ 20170110  ┆ 20143  ┆ 20170109  ┆ 26718       ┆ 20170108  ┆ 24737       ┆ 20170107  ┆ 23415       │\n",
       "│ 20170111  ┆ 24287  ┆ 20170110  ┆ 20143       ┆ 20170109  ┆ 26718       ┆ 20170108  ┆ 24737       │\n",
       "│ 20170112  ┆ 23526  ┆ 20170111  ┆ 24287       ┆ 20170110  ┆ 20143       ┆ 20170109  ┆ 26718       │\n",
       "│ 20170113  ┆ 28004  ┆ 20170112  ┆ 23526       ┆ 20170111  ┆ 24287       ┆ 20170110  ┆ 20143       │\n",
       "└───────────┴────────┴───────────┴─────────────┴───────────┴─────────────┴───────────┴─────────────┘"
      ]
     },
     "execution_count": 7,
     "metadata": {},
     "output_type": "execute_result"
    }
   ],
   "source": [
    "# 月毎の合計売上\n",
    "df_group_by = (\n",
    "    df_receipt[[\"sales_ymd\", \"amount\"]]\n",
    "    # 月毎の合計売上\n",
    "    .group_by(by = \"sales_ymd\")\n",
    "    .agg( pl.sum(\"amount\") )\n",
    "    .sort(by = \"sales_ymd\")\n",
    ")\n",
    "\n",
    "(\n",
    "    pl.concat(items = [df_group_by,\n",
    "                       df_group_by.shift(n = 1).rename(mapping = {\"sales_ymd\": \"lag_ymd_1\", \"amount\": \"lag_amount_1\"}),\n",
    "                       df_group_by.shift(n = 2).rename(mapping = {\"sales_ymd\": \"lag_ymd_2\", \"amount\": \"lag_amount_2\"}),\n",
    "                       df_group_by.shift(n = 3).rename(mapping = {\"sales_ymd\": \"lag_ymd_3\", \"amount\": \"lag_amount_3\"})],\n",
    "            how = \"horizontal\")\n",
    "    # 4営業日分のデータが無い行を削除する\n",
    "    .drop_nulls()\n",
    "    .head(n = 10)\n",
    ")"
   ]
  }
 ],
 "metadata": {
  "kernelspec": {
   "display_name": "Python 3",
   "language": "python",
   "name": "python3"
  },
  "language_info": {
   "codemirror_mode": {
    "name": "ipython",
    "version": 3
   },
   "file_extension": ".py",
   "mimetype": "text/x-python",
   "name": "python",
   "nbconvert_exporter": "python",
   "pygments_lexer": "ipython3",
   "version": "3.11.4"
  }
 },
 "nbformat": 4,
 "nbformat_minor": 2
}
