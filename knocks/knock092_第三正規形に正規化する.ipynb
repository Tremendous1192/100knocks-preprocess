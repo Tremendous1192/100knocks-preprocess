{
 "cells": [
  {
   "cell_type": "markdown",
   "metadata": {},
   "source": [
    "## knock 092 第三正規形に正規化する"
   ]
  },
  {
   "cell_type": "code",
   "execution_count": 1,
   "metadata": {},
   "outputs": [],
   "source": [
    "import polars as pl\n",
    "pl.Config.set_tbl_cols(-1)# 列の表示が省略されないようにする\n",
    "import polars.selectors as cs# 抽出条件のプリセット"
   ]
  },
  {
   "cell_type": "markdown",
   "metadata": {},
   "source": [
    "### データを読み込む"
   ]
  },
  {
   "cell_type": "code",
   "execution_count": 2,
   "metadata": {},
   "outputs": [
    {
     "data": {
      "text/html": [
       "<div><style>\n",
       ".dataframe > thead > tr,\n",
       ".dataframe > tbody > tr {\n",
       "  text-align: right;\n",
       "  white-space: pre-wrap;\n",
       "}\n",
       "</style>\n",
       "<small>shape: (5, 11)</small><table border=\"1\" class=\"dataframe\"><thead><tr><th>customer_id</th><th>customer_name</th><th>gender_cd</th><th>gender</th><th>birth_day</th><th>age</th><th>postal_cd</th><th>address</th><th>application_store_cd</th><th>application_date</th><th>status_cd</th></tr><tr><td>str</td><td>str</td><td>i64</td><td>str</td><td>str</td><td>i64</td><td>str</td><td>str</td><td>str</td><td>i64</td><td>str</td></tr></thead><tbody><tr><td>&quot;CS021313000114…</td><td>&quot;大野 あや子&quot;</td><td>1</td><td>&quot;女性&quot;</td><td>&quot;1981-04-29&quot;</td><td>37</td><td>&quot;259-1113&quot;</td><td>&quot;神奈川県伊勢原市粟窪****…</td><td>&quot;S14021&quot;</td><td>20150905</td><td>&quot;0-00000000-0&quot;</td></tr><tr><td>&quot;CS037613000071…</td><td>&quot;六角 雅彦&quot;</td><td>9</td><td>&quot;不明&quot;</td><td>&quot;1952-04-01&quot;</td><td>66</td><td>&quot;136-0076&quot;</td><td>&quot;東京都江東区南砂******…</td><td>&quot;S13037&quot;</td><td>20150414</td><td>&quot;0-00000000-0&quot;</td></tr><tr><td>&quot;CS031415000172…</td><td>&quot;宇多田 貴美子&quot;</td><td>1</td><td>&quot;女性&quot;</td><td>&quot;1976-10-04&quot;</td><td>42</td><td>&quot;151-0053&quot;</td><td>&quot;東京都渋谷区代々木*****…</td><td>&quot;S13031&quot;</td><td>20150529</td><td>&quot;D-20100325-C&quot;</td></tr><tr><td>&quot;CS028811000001…</td><td>&quot;堀井 かおり&quot;</td><td>1</td><td>&quot;女性&quot;</td><td>&quot;1933-03-27&quot;</td><td>86</td><td>&quot;245-0016&quot;</td><td>&quot;神奈川県横浜市泉区和泉町**…</td><td>&quot;S14028&quot;</td><td>20160115</td><td>&quot;0-00000000-0&quot;</td></tr><tr><td>&quot;CS001215000145…</td><td>&quot;田崎 美紀&quot;</td><td>1</td><td>&quot;女性&quot;</td><td>&quot;1995-03-29&quot;</td><td>24</td><td>&quot;144-0055&quot;</td><td>&quot;東京都大田区仲六郷*****…</td><td>&quot;S13001&quot;</td><td>20170605</td><td>&quot;6-20090929-2&quot;</td></tr></tbody></table></div>"
      ],
      "text/plain": [
       "shape: (5, 11)\n",
       "┌─────────┬─────────┬─────────┬────────┬────────┬─────┬────────┬────────┬────────┬────────┬────────┐\n",
       "│ custome ┆ custome ┆ gender_ ┆ gender ┆ birth_ ┆ age ┆ postal ┆ addres ┆ applic ┆ applic ┆ status │\n",
       "│ r_id    ┆ r_name  ┆ cd      ┆ ---    ┆ day    ┆ --- ┆ _cd    ┆ s      ┆ ation_ ┆ ation_ ┆ _cd    │\n",
       "│ ---     ┆ ---     ┆ ---     ┆ str    ┆ ---    ┆ i64 ┆ ---    ┆ ---    ┆ store_ ┆ date   ┆ ---    │\n",
       "│ str     ┆ str     ┆ i64     ┆        ┆ str    ┆     ┆ str    ┆ str    ┆ cd     ┆ ---    ┆ str    │\n",
       "│         ┆         ┆         ┆        ┆        ┆     ┆        ┆        ┆ ---    ┆ i64    ┆        │\n",
       "│         ┆         ┆         ┆        ┆        ┆     ┆        ┆        ┆ str    ┆        ┆        │\n",
       "╞═════════╪═════════╪═════════╪════════╪════════╪═════╪════════╪════════╪════════╪════════╪════════╡\n",
       "│ CS02131 ┆ 大野    ┆ 1       ┆ 女性   ┆ 1981-0 ┆ 37  ┆ 259-11 ┆ 神奈川 ┆ S14021 ┆ 201509 ┆ 0-0000 │\n",
       "│ 3000114 ┆ あや子  ┆         ┆        ┆ 4-29   ┆     ┆ 13     ┆ 県伊勢 ┆        ┆ 05     ┆ 0000-0 │\n",
       "│         ┆         ┆         ┆        ┆        ┆     ┆        ┆ 原市粟 ┆        ┆        ┆        │\n",
       "│         ┆         ┆         ┆        ┆        ┆     ┆        ┆ 窪**** ┆        ┆        ┆        │\n",
       "│         ┆         ┆         ┆        ┆        ┆     ┆        ┆ ****** ┆        ┆        ┆        │\n",
       "│ CS03761 ┆ 六角    ┆ 9       ┆ 不明   ┆ 1952-0 ┆ 66  ┆ 136-00 ┆ 東京都 ┆ S13037 ┆ 201504 ┆ 0-0000 │\n",
       "│ 3000071 ┆ 雅彦    ┆         ┆        ┆ 4-01   ┆     ┆ 76     ┆ 江東区 ┆        ┆ 14     ┆ 0000-0 │\n",
       "│         ┆         ┆         ┆        ┆        ┆     ┆        ┆ 南砂** ┆        ┆        ┆        │\n",
       "│         ┆         ┆         ┆        ┆        ┆     ┆        ┆ ****** ┆        ┆        ┆        │\n",
       "│         ┆         ┆         ┆        ┆        ┆     ┆        ┆ **     ┆        ┆        ┆        │\n",
       "│ CS03141 ┆ 宇多田  ┆ 1       ┆ 女性   ┆ 1976-1 ┆ 42  ┆ 151-00 ┆ 東京都 ┆ S13031 ┆ 201505 ┆ D-2010 │\n",
       "│ 5000172 ┆ 貴美子  ┆         ┆        ┆ 0-04   ┆     ┆ 53     ┆ 渋谷区 ┆        ┆ 29     ┆ 0325-C │\n",
       "│         ┆         ┆         ┆        ┆        ┆     ┆        ┆ 代々木 ┆        ┆        ┆        │\n",
       "│         ┆         ┆         ┆        ┆        ┆     ┆        ┆ ****** ┆        ┆        ┆        │\n",
       "│         ┆         ┆         ┆        ┆        ┆     ┆        ┆ ****   ┆        ┆        ┆        │\n",
       "│ CS02881 ┆ 堀井    ┆ 1       ┆ 女性   ┆ 1933-0 ┆ 86  ┆ 245-00 ┆ 神奈川 ┆ S14028 ┆ 201601 ┆ 0-0000 │\n",
       "│ 1000001 ┆ かおり  ┆         ┆        ┆ 3-27   ┆     ┆ 16     ┆ 県横浜 ┆        ┆ 15     ┆ 0000-0 │\n",
       "│         ┆         ┆         ┆        ┆        ┆     ┆        ┆ 市泉区 ┆        ┆        ┆        │\n",
       "│         ┆         ┆         ┆        ┆        ┆     ┆        ┆ 和泉町 ┆        ┆        ┆        │\n",
       "│         ┆         ┆         ┆        ┆        ┆     ┆        ┆ ****** ┆        ┆        ┆        │\n",
       "│         ┆         ┆         ┆        ┆        ┆     ┆        ┆ ****   ┆        ┆        ┆        │\n",
       "│ CS00121 ┆ 田崎    ┆ 1       ┆ 女性   ┆ 1995-0 ┆ 24  ┆ 144-00 ┆ 東京都 ┆ S13001 ┆ 201706 ┆ 6-2009 │\n",
       "│ 5000145 ┆ 美紀    ┆         ┆        ┆ 3-29   ┆     ┆ 55     ┆ 大田区 ┆        ┆ 05     ┆ 0929-2 │\n",
       "│         ┆         ┆         ┆        ┆        ┆     ┆        ┆ 仲六郷 ┆        ┆        ┆        │\n",
       "│         ┆         ┆         ┆        ┆        ┆     ┆        ┆ ****** ┆        ┆        ┆        │\n",
       "│         ┆         ┆         ┆        ┆        ┆     ┆        ┆ ****   ┆        ┆        ┆        │\n",
       "└─────────┴─────────┴─────────┴────────┴────────┴─────┴────────┴────────┴────────┴────────┴────────┘"
      ]
     },
     "metadata": {},
     "output_type": "display_data"
    }
   ],
   "source": [
    "df_customer = pl.read_csv(\"../docker/work/data/customer.csv\")\n",
    "display(df_customer.head())"
   ]
  },
  {
   "cell_type": "markdown",
   "metadata": {},
   "source": [
    "### ノック"
   ]
  },
  {
   "cell_type": "code",
   "execution_count": 3,
   "metadata": {},
   "outputs": [
    {
     "data": {
      "text/html": [
       "<div><style>\n",
       ".dataframe > thead > tr,\n",
       ".dataframe > tbody > tr {\n",
       "  text-align: right;\n",
       "  white-space: pre-wrap;\n",
       "}\n",
       "</style>\n",
       "<small>shape: (3, 2)</small><table border=\"1\" class=\"dataframe\"><thead><tr><th>gender_cd</th><th>gender</th></tr><tr><td>i64</td><td>str</td></tr></thead><tbody><tr><td>9</td><td>&quot;不明&quot;</td></tr><tr><td>1</td><td>&quot;女性&quot;</td></tr><tr><td>0</td><td>&quot;男性&quot;</td></tr></tbody></table></div>"
      ],
      "text/plain": [
       "shape: (3, 2)\n",
       "┌───────────┬────────┐\n",
       "│ gender_cd ┆ gender │\n",
       "│ ---       ┆ ---    │\n",
       "│ i64       ┆ str    │\n",
       "╞═══════════╪════════╡\n",
       "│ 9         ┆ 不明   │\n",
       "│ 1         ┆ 女性   │\n",
       "│ 0         ┆ 男性   │\n",
       "└───────────┴────────┘"
      ]
     },
     "metadata": {},
     "output_type": "display_data"
    },
    {
     "data": {
      "text/html": [
       "<div><style>\n",
       ".dataframe > thead > tr,\n",
       ".dataframe > tbody > tr {\n",
       "  text-align: right;\n",
       "  white-space: pre-wrap;\n",
       "}\n",
       "</style>\n",
       "<small>shape: (5, 10)</small><table border=\"1\" class=\"dataframe\"><thead><tr><th>customer_id</th><th>customer_name</th><th>gender_cd</th><th>birth_day</th><th>age</th><th>postal_cd</th><th>address</th><th>application_store_cd</th><th>application_date</th><th>status_cd</th></tr><tr><td>str</td><td>str</td><td>i64</td><td>str</td><td>i64</td><td>str</td><td>str</td><td>str</td><td>i64</td><td>str</td></tr></thead><tbody><tr><td>&quot;CS021313000114…</td><td>&quot;大野 あや子&quot;</td><td>1</td><td>&quot;1981-04-29&quot;</td><td>37</td><td>&quot;259-1113&quot;</td><td>&quot;神奈川県伊勢原市粟窪****…</td><td>&quot;S14021&quot;</td><td>20150905</td><td>&quot;0-00000000-0&quot;</td></tr><tr><td>&quot;CS037613000071…</td><td>&quot;六角 雅彦&quot;</td><td>9</td><td>&quot;1952-04-01&quot;</td><td>66</td><td>&quot;136-0076&quot;</td><td>&quot;東京都江東区南砂******…</td><td>&quot;S13037&quot;</td><td>20150414</td><td>&quot;0-00000000-0&quot;</td></tr><tr><td>&quot;CS031415000172…</td><td>&quot;宇多田 貴美子&quot;</td><td>1</td><td>&quot;1976-10-04&quot;</td><td>42</td><td>&quot;151-0053&quot;</td><td>&quot;東京都渋谷区代々木*****…</td><td>&quot;S13031&quot;</td><td>20150529</td><td>&quot;D-20100325-C&quot;</td></tr><tr><td>&quot;CS028811000001…</td><td>&quot;堀井 かおり&quot;</td><td>1</td><td>&quot;1933-03-27&quot;</td><td>86</td><td>&quot;245-0016&quot;</td><td>&quot;神奈川県横浜市泉区和泉町**…</td><td>&quot;S14028&quot;</td><td>20160115</td><td>&quot;0-00000000-0&quot;</td></tr><tr><td>&quot;CS001215000145…</td><td>&quot;田崎 美紀&quot;</td><td>1</td><td>&quot;1995-03-29&quot;</td><td>24</td><td>&quot;144-0055&quot;</td><td>&quot;東京都大田区仲六郷*****…</td><td>&quot;S13001&quot;</td><td>20170605</td><td>&quot;6-20090929-2&quot;</td></tr></tbody></table></div>"
      ],
      "text/plain": [
       "shape: (5, 10)\n",
       "┌──────────┬──────────┬──────────┬─────────┬─────┬─────────┬─────────┬─────────┬─────────┬─────────┐\n",
       "│ customer ┆ customer ┆ gender_c ┆ birth_d ┆ age ┆ postal_ ┆ address ┆ applica ┆ applica ┆ status_ │\n",
       "│ _id      ┆ _name    ┆ d        ┆ ay      ┆ --- ┆ cd      ┆ ---     ┆ tion_st ┆ tion_da ┆ cd      │\n",
       "│ ---      ┆ ---      ┆ ---      ┆ ---     ┆ i64 ┆ ---     ┆ str     ┆ ore_cd  ┆ te      ┆ ---     │\n",
       "│ str      ┆ str      ┆ i64      ┆ str     ┆     ┆ str     ┆         ┆ ---     ┆ ---     ┆ str     │\n",
       "│          ┆          ┆          ┆         ┆     ┆         ┆         ┆ str     ┆ i64     ┆         │\n",
       "╞══════════╪══════════╪══════════╪═════════╪═════╪═════════╪═════════╪═════════╪═════════╪═════════╡\n",
       "│ CS021313 ┆ 大野     ┆ 1        ┆ 1981-04 ┆ 37  ┆ 259-111 ┆ 神奈川  ┆ S14021  ┆ 2015090 ┆ 0-00000 │\n",
       "│ 000114   ┆ あや子   ┆          ┆ -29     ┆     ┆ 3       ┆ 県伊勢  ┆         ┆ 5       ┆ 000-0   │\n",
       "│          ┆          ┆          ┆         ┆     ┆         ┆ 原市粟  ┆         ┆         ┆         │\n",
       "│          ┆          ┆          ┆         ┆     ┆         ┆ 窪***** ┆         ┆         ┆         │\n",
       "│          ┆          ┆          ┆         ┆     ┆         ┆ *****   ┆         ┆         ┆         │\n",
       "│ CS037613 ┆ 六角     ┆ 9        ┆ 1952-04 ┆ 66  ┆ 136-007 ┆ 東京都  ┆ S13037  ┆ 2015041 ┆ 0-00000 │\n",
       "│ 000071   ┆ 雅彦     ┆          ┆ -01     ┆     ┆ 6       ┆ 江東区  ┆         ┆ 4       ┆ 000-0   │\n",
       "│          ┆          ┆          ┆         ┆     ┆         ┆ 南砂*** ┆         ┆         ┆         │\n",
       "│          ┆          ┆          ┆         ┆     ┆         ┆ ******* ┆         ┆         ┆         │\n",
       "│ CS031415 ┆ 宇多田   ┆ 1        ┆ 1976-10 ┆ 42  ┆ 151-005 ┆ 東京都  ┆ S13031  ┆ 2015052 ┆ D-20100 │\n",
       "│ 000172   ┆ 貴美子   ┆          ┆ -04     ┆     ┆ 3       ┆ 渋谷区  ┆         ┆ 9       ┆ 325-C   │\n",
       "│          ┆          ┆          ┆         ┆     ┆         ┆ 代々木* ┆         ┆         ┆         │\n",
       "│          ┆          ┆          ┆         ┆     ┆         ┆ ******* ┆         ┆         ┆         │\n",
       "│          ┆          ┆          ┆         ┆     ┆         ┆ **      ┆         ┆         ┆         │\n",
       "│ CS028811 ┆ 堀井     ┆ 1        ┆ 1933-03 ┆ 86  ┆ 245-001 ┆ 神奈川  ┆ S14028  ┆ 2016011 ┆ 0-00000 │\n",
       "│ 000001   ┆ かおり   ┆          ┆ -27     ┆     ┆ 6       ┆ 県横浜  ┆         ┆ 5       ┆ 000-0   │\n",
       "│          ┆          ┆          ┆         ┆     ┆         ┆ 市泉区  ┆         ┆         ┆         │\n",
       "│          ┆          ┆          ┆         ┆     ┆         ┆ 和泉町* ┆         ┆         ┆         │\n",
       "│          ┆          ┆          ┆         ┆     ┆         ┆ ******* ┆         ┆         ┆         │\n",
       "│          ┆          ┆          ┆         ┆     ┆         ┆ **      ┆         ┆         ┆         │\n",
       "│ CS001215 ┆ 田崎     ┆ 1        ┆ 1995-03 ┆ 24  ┆ 144-005 ┆ 東京都  ┆ S13001  ┆ 2017060 ┆ 6-20090 │\n",
       "│ 000145   ┆ 美紀     ┆          ┆ -29     ┆     ┆ 5       ┆ 大田区  ┆         ┆ 5       ┆ 929-2   │\n",
       "│          ┆          ┆          ┆         ┆     ┆         ┆ 仲六郷* ┆         ┆         ┆         │\n",
       "│          ┆          ┆          ┆         ┆     ┆         ┆ ******* ┆         ┆         ┆         │\n",
       "│          ┆          ┆          ┆         ┆     ┆         ┆ **      ┆         ┆         ┆         │\n",
       "└──────────┴──────────┴──────────┴─────────┴─────┴─────────┴─────────┴─────────┴─────────┴─────────┘"
      ]
     },
     "metadata": {},
     "output_type": "display_data"
    }
   ],
   "source": [
    "df_gender_std = (\n",
    "    df_customer\n",
    "    # 使用する列を抽出する\n",
    "    .select([\n",
    "        pl.col(\"gender_cd\"),\n",
    "        pl.col(\"gender\")\n",
    "    ])\n",
    "    # 同じデータを削除する\n",
    "    .unique()\n",
    ")\n",
    "\n",
    "df_customer_std = (\n",
    "    df_customer\n",
    "    # 性別列を削除する\n",
    "    .drop(columns = [\"gender\"])\n",
    ")\n",
    "\n",
    "display(df_gender_std.head(), df_customer_std.head())"
   ]
  }
 ],
 "metadata": {
  "kernelspec": {
   "display_name": "Python 3",
   "language": "python",
   "name": "python3"
  },
  "language_info": {
   "codemirror_mode": {
    "name": "ipython",
    "version": 3
   },
   "file_extension": ".py",
   "mimetype": "text/x-python",
   "name": "python",
   "nbconvert_exporter": "python",
   "pygments_lexer": "ipython3",
   "version": "3.11.4"
  }
 },
 "nbformat": 4,
 "nbformat_minor": 2
}
