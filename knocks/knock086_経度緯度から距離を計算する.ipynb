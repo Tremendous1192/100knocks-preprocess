{
 "cells": [
  {
   "cell_type": "markdown",
   "metadata": {},
   "source": [
    "## knock 086 経度緯度から距離を計算する"
   ]
  },
  {
   "cell_type": "code",
   "execution_count": 39,
   "metadata": {},
   "outputs": [],
   "source": [
    "import polars as pl\n",
    "pl.Config.set_tbl_cols(-1)# 列の表示が省略されないようにする\n",
    "import polars.selectors as cs# 抽出条件のプリセット"
   ]
  },
  {
   "cell_type": "markdown",
   "metadata": {},
   "source": [
    "### データを読み込む"
   ]
  },
  {
   "cell_type": "code",
   "execution_count": 40,
   "metadata": {},
   "outputs": [
    {
     "data": {
      "text/html": [
       "<div><style>\n",
       ".dataframe > thead > tr,\n",
       ".dataframe > tbody > tr {\n",
       "  text-align: right;\n",
       "  white-space: pre-wrap;\n",
       "}\n",
       "</style>\n",
       "<small>shape: (5, 11)</small><table border=\"1\" class=\"dataframe\"><thead><tr><th>customer_id</th><th>customer_name</th><th>gender_cd</th><th>gender</th><th>birth_day</th><th>age</th><th>postal_cd</th><th>address</th><th>application_store_cd</th><th>application_date</th><th>status_cd</th></tr><tr><td>str</td><td>str</td><td>i64</td><td>str</td><td>str</td><td>i64</td><td>str</td><td>str</td><td>str</td><td>i64</td><td>str</td></tr></thead><tbody><tr><td>&quot;CS021313000114…</td><td>&quot;大野 あや子&quot;</td><td>1</td><td>&quot;女性&quot;</td><td>&quot;1981-04-29&quot;</td><td>37</td><td>&quot;259-1113&quot;</td><td>&quot;神奈川県伊勢原市粟窪****…</td><td>&quot;S14021&quot;</td><td>20150905</td><td>&quot;0-00000000-0&quot;</td></tr><tr><td>&quot;CS037613000071…</td><td>&quot;六角 雅彦&quot;</td><td>9</td><td>&quot;不明&quot;</td><td>&quot;1952-04-01&quot;</td><td>66</td><td>&quot;136-0076&quot;</td><td>&quot;東京都江東区南砂******…</td><td>&quot;S13037&quot;</td><td>20150414</td><td>&quot;0-00000000-0&quot;</td></tr><tr><td>&quot;CS031415000172…</td><td>&quot;宇多田 貴美子&quot;</td><td>1</td><td>&quot;女性&quot;</td><td>&quot;1976-10-04&quot;</td><td>42</td><td>&quot;151-0053&quot;</td><td>&quot;東京都渋谷区代々木*****…</td><td>&quot;S13031&quot;</td><td>20150529</td><td>&quot;D-20100325-C&quot;</td></tr><tr><td>&quot;CS028811000001…</td><td>&quot;堀井 かおり&quot;</td><td>1</td><td>&quot;女性&quot;</td><td>&quot;1933-03-27&quot;</td><td>86</td><td>&quot;245-0016&quot;</td><td>&quot;神奈川県横浜市泉区和泉町**…</td><td>&quot;S14028&quot;</td><td>20160115</td><td>&quot;0-00000000-0&quot;</td></tr><tr><td>&quot;CS001215000145…</td><td>&quot;田崎 美紀&quot;</td><td>1</td><td>&quot;女性&quot;</td><td>&quot;1995-03-29&quot;</td><td>24</td><td>&quot;144-0055&quot;</td><td>&quot;東京都大田区仲六郷*****…</td><td>&quot;S13001&quot;</td><td>20170605</td><td>&quot;6-20090929-2&quot;</td></tr></tbody></table></div>"
      ],
      "text/plain": [
       "shape: (5, 11)\n",
       "┌─────────┬─────────┬─────────┬────────┬────────┬─────┬────────┬────────┬────────┬────────┬────────┐\n",
       "│ custome ┆ custome ┆ gender_ ┆ gender ┆ birth_ ┆ age ┆ postal ┆ addres ┆ applic ┆ applic ┆ status │\n",
       "│ r_id    ┆ r_name  ┆ cd      ┆ ---    ┆ day    ┆ --- ┆ _cd    ┆ s      ┆ ation_ ┆ ation_ ┆ _cd    │\n",
       "│ ---     ┆ ---     ┆ ---     ┆ str    ┆ ---    ┆ i64 ┆ ---    ┆ ---    ┆ store_ ┆ date   ┆ ---    │\n",
       "│ str     ┆ str     ┆ i64     ┆        ┆ str    ┆     ┆ str    ┆ str    ┆ cd     ┆ ---    ┆ str    │\n",
       "│         ┆         ┆         ┆        ┆        ┆     ┆        ┆        ┆ ---    ┆ i64    ┆        │\n",
       "│         ┆         ┆         ┆        ┆        ┆     ┆        ┆        ┆ str    ┆        ┆        │\n",
       "╞═════════╪═════════╪═════════╪════════╪════════╪═════╪════════╪════════╪════════╪════════╪════════╡\n",
       "│ CS02131 ┆ 大野    ┆ 1       ┆ 女性   ┆ 1981-0 ┆ 37  ┆ 259-11 ┆ 神奈川 ┆ S14021 ┆ 201509 ┆ 0-0000 │\n",
       "│ 3000114 ┆ あや子  ┆         ┆        ┆ 4-29   ┆     ┆ 13     ┆ 県伊勢 ┆        ┆ 05     ┆ 0000-0 │\n",
       "│         ┆         ┆         ┆        ┆        ┆     ┆        ┆ 原市粟 ┆        ┆        ┆        │\n",
       "│         ┆         ┆         ┆        ┆        ┆     ┆        ┆ 窪**** ┆        ┆        ┆        │\n",
       "│         ┆         ┆         ┆        ┆        ┆     ┆        ┆ ****** ┆        ┆        ┆        │\n",
       "│ CS03761 ┆ 六角    ┆ 9       ┆ 不明   ┆ 1952-0 ┆ 66  ┆ 136-00 ┆ 東京都 ┆ S13037 ┆ 201504 ┆ 0-0000 │\n",
       "│ 3000071 ┆ 雅彦    ┆         ┆        ┆ 4-01   ┆     ┆ 76     ┆ 江東区 ┆        ┆ 14     ┆ 0000-0 │\n",
       "│         ┆         ┆         ┆        ┆        ┆     ┆        ┆ 南砂** ┆        ┆        ┆        │\n",
       "│         ┆         ┆         ┆        ┆        ┆     ┆        ┆ ****** ┆        ┆        ┆        │\n",
       "│         ┆         ┆         ┆        ┆        ┆     ┆        ┆ **     ┆        ┆        ┆        │\n",
       "│ CS03141 ┆ 宇多田  ┆ 1       ┆ 女性   ┆ 1976-1 ┆ 42  ┆ 151-00 ┆ 東京都 ┆ S13031 ┆ 201505 ┆ D-2010 │\n",
       "│ 5000172 ┆ 貴美子  ┆         ┆        ┆ 0-04   ┆     ┆ 53     ┆ 渋谷区 ┆        ┆ 29     ┆ 0325-C │\n",
       "│         ┆         ┆         ┆        ┆        ┆     ┆        ┆ 代々木 ┆        ┆        ┆        │\n",
       "│         ┆         ┆         ┆        ┆        ┆     ┆        ┆ ****** ┆        ┆        ┆        │\n",
       "│         ┆         ┆         ┆        ┆        ┆     ┆        ┆ ****   ┆        ┆        ┆        │\n",
       "│ CS02881 ┆ 堀井    ┆ 1       ┆ 女性   ┆ 1933-0 ┆ 86  ┆ 245-00 ┆ 神奈川 ┆ S14028 ┆ 201601 ┆ 0-0000 │\n",
       "│ 1000001 ┆ かおり  ┆         ┆        ┆ 3-27   ┆     ┆ 16     ┆ 県横浜 ┆        ┆ 15     ┆ 0000-0 │\n",
       "│         ┆         ┆         ┆        ┆        ┆     ┆        ┆ 市泉区 ┆        ┆        ┆        │\n",
       "│         ┆         ┆         ┆        ┆        ┆     ┆        ┆ 和泉町 ┆        ┆        ┆        │\n",
       "│         ┆         ┆         ┆        ┆        ┆     ┆        ┆ ****** ┆        ┆        ┆        │\n",
       "│         ┆         ┆         ┆        ┆        ┆     ┆        ┆ ****   ┆        ┆        ┆        │\n",
       "│ CS00121 ┆ 田崎    ┆ 1       ┆ 女性   ┆ 1995-0 ┆ 24  ┆ 144-00 ┆ 東京都 ┆ S13001 ┆ 201706 ┆ 6-2009 │\n",
       "│ 5000145 ┆ 美紀    ┆         ┆        ┆ 3-29   ┆     ┆ 55     ┆ 大田区 ┆        ┆ 05     ┆ 0929-2 │\n",
       "│         ┆         ┆         ┆        ┆        ┆     ┆        ┆ 仲六郷 ┆        ┆        ┆        │\n",
       "│         ┆         ┆         ┆        ┆        ┆     ┆        ┆ ****** ┆        ┆        ┆        │\n",
       "│         ┆         ┆         ┆        ┆        ┆     ┆        ┆ ****   ┆        ┆        ┆        │\n",
       "└─────────┴─────────┴─────────┴────────┴────────┴─────┴────────┴────────┴────────┴────────┴────────┘"
      ]
     },
     "metadata": {},
     "output_type": "display_data"
    },
    {
     "data": {
      "text/html": [
       "<div><style>\n",
       ".dataframe > thead > tr,\n",
       ".dataframe > tbody > tr {\n",
       "  text-align: right;\n",
       "  white-space: pre-wrap;\n",
       "}\n",
       "</style>\n",
       "<small>shape: (5, 9)</small><table border=\"1\" class=\"dataframe\"><thead><tr><th>postal_cd</th><th>prefecture</th><th>city</th><th>town</th><th>street</th><th>address</th><th>full_address</th><th>longitude</th><th>latitude</th></tr><tr><td>str</td><td>str</td><td>str</td><td>str</td><td>str</td><td>str</td><td>str</td><td>f64</td><td>f64</td></tr></thead><tbody><tr><td>&quot;060-0000&quot;</td><td>&quot;北海道&quot;</td><td>&quot;札幌市中央区&quot;</td><td>null</td><td>null</td><td>null</td><td>&quot;北海道札幌市中央区&quot;</td><td>141.34103</td><td>43.05513</td></tr><tr><td>&quot;064-0941&quot;</td><td>&quot;北海道&quot;</td><td>&quot;札幌市中央区&quot;</td><td>&quot;旭ケ丘&quot;</td><td>null</td><td>null</td><td>&quot;北海道札幌市中央区旭ケ丘&quot;</td><td>141.31972</td><td>43.04223</td></tr><tr><td>&quot;060-0042&quot;</td><td>&quot;北海道&quot;</td><td>&quot;札幌市中央区&quot;</td><td>&quot;大通西&quot;</td><td>null</td><td>&quot;１丁目&quot;</td><td>&quot;北海道札幌市中央区大通西１丁…</td><td>141.35637</td><td>43.06102</td></tr><tr><td>&quot;060-0042&quot;</td><td>&quot;北海道&quot;</td><td>&quot;札幌市中央区&quot;</td><td>&quot;大通西&quot;</td><td>null</td><td>&quot;２丁目&quot;</td><td>&quot;北海道札幌市中央区大通西２丁…</td><td>141.35445</td><td>43.0608</td></tr><tr><td>&quot;060-0042&quot;</td><td>&quot;北海道&quot;</td><td>&quot;札幌市中央区&quot;</td><td>&quot;大通西&quot;</td><td>null</td><td>&quot;３丁目&quot;</td><td>&quot;北海道札幌市中央区大通西３丁…</td><td>141.35275</td><td>43.06086</td></tr></tbody></table></div>"
      ],
      "text/plain": [
       "shape: (5, 9)\n",
       "┌───────────┬───────────┬───────────┬────────┬────────┬─────────┬───────────┬───────────┬──────────┐\n",
       "│ postal_cd ┆ prefectur ┆ city      ┆ town   ┆ street ┆ address ┆ full_addr ┆ longitude ┆ latitude │\n",
       "│ ---       ┆ e         ┆ ---       ┆ ---    ┆ ---    ┆ ---     ┆ ess       ┆ ---       ┆ ---      │\n",
       "│ str       ┆ ---       ┆ str       ┆ str    ┆ str    ┆ str     ┆ ---       ┆ f64       ┆ f64      │\n",
       "│           ┆ str       ┆           ┆        ┆        ┆         ┆ str       ┆           ┆          │\n",
       "╞═══════════╪═══════════╪═══════════╪════════╪════════╪═════════╪═══════════╪═══════════╪══════════╡\n",
       "│ 060-0000  ┆ 北海道    ┆ 札幌市中  ┆ null   ┆ null   ┆ null    ┆ 北海道札  ┆ 141.34103 ┆ 43.05513 │\n",
       "│           ┆           ┆ 央区      ┆        ┆        ┆         ┆ 幌市中央  ┆           ┆          │\n",
       "│           ┆           ┆           ┆        ┆        ┆         ┆ 区        ┆           ┆          │\n",
       "│ 064-0941  ┆ 北海道    ┆ 札幌市中  ┆ 旭ケ丘 ┆ null   ┆ null    ┆ 北海道札  ┆ 141.31972 ┆ 43.04223 │\n",
       "│           ┆           ┆ 央区      ┆        ┆        ┆         ┆ 幌市中央  ┆           ┆          │\n",
       "│           ┆           ┆           ┆        ┆        ┆         ┆ 区旭ケ丘  ┆           ┆          │\n",
       "│ 060-0042  ┆ 北海道    ┆ 札幌市中  ┆ 大通西 ┆ null   ┆ １丁目  ┆ 北海道札  ┆ 141.35637 ┆ 43.06102 │\n",
       "│           ┆           ┆ 央区      ┆        ┆        ┆         ┆ 幌市中央  ┆           ┆          │\n",
       "│           ┆           ┆           ┆        ┆        ┆         ┆ 区大通西  ┆           ┆          │\n",
       "│           ┆           ┆           ┆        ┆        ┆         ┆ １丁目    ┆           ┆          │\n",
       "│ 060-0042  ┆ 北海道    ┆ 札幌市中  ┆ 大通西 ┆ null   ┆ ２丁目  ┆ 北海道札  ┆ 141.35445 ┆ 43.0608  │\n",
       "│           ┆           ┆ 央区      ┆        ┆        ┆         ┆ 幌市中央  ┆           ┆          │\n",
       "│           ┆           ┆           ┆        ┆        ┆         ┆ 区大通西  ┆           ┆          │\n",
       "│           ┆           ┆           ┆        ┆        ┆         ┆ ２丁目    ┆           ┆          │\n",
       "│ 060-0042  ┆ 北海道    ┆ 札幌市中  ┆ 大通西 ┆ null   ┆ ３丁目  ┆ 北海道札  ┆ 141.35275 ┆ 43.06086 │\n",
       "│           ┆           ┆ 央区      ┆        ┆        ┆         ┆ 幌市中央  ┆           ┆          │\n",
       "│           ┆           ┆           ┆        ┆        ┆         ┆ 区大通西  ┆           ┆          │\n",
       "│           ┆           ┆           ┆        ┆        ┆         ┆ ３丁目    ┆           ┆          │\n",
       "└───────────┴───────────┴───────────┴────────┴────────┴─────────┴───────────┴───────────┴──────────┘"
      ]
     },
     "metadata": {},
     "output_type": "display_data"
    },
    {
     "data": {
      "text/html": [
       "<div><style>\n",
       ".dataframe > thead > tr,\n",
       ".dataframe > tbody > tr {\n",
       "  text-align: right;\n",
       "  white-space: pre-wrap;\n",
       "}\n",
       "</style>\n",
       "<small>shape: (5, 10)</small><table border=\"1\" class=\"dataframe\"><thead><tr><th>store_cd</th><th>store_name</th><th>prefecture_cd</th><th>prefecture</th><th>address</th><th>address_kana</th><th>tel_no</th><th>longitude</th><th>latitude</th><th>floor_area</th></tr><tr><td>str</td><td>str</td><td>i64</td><td>str</td><td>str</td><td>str</td><td>str</td><td>f64</td><td>f64</td><td>f64</td></tr></thead><tbody><tr><td>&quot;S12014&quot;</td><td>&quot;千草台店&quot;</td><td>12</td><td>&quot;千葉県&quot;</td><td>&quot;千葉県千葉市稲毛区千草台一丁…</td><td>&quot;チバケンチバシイナゲクチグサ…</td><td>&quot;043-123-4003&quot;</td><td>140.118</td><td>35.63559</td><td>1698.0</td></tr><tr><td>&quot;S13002&quot;</td><td>&quot;国分寺店&quot;</td><td>13</td><td>&quot;東京都&quot;</td><td>&quot;東京都国分寺市本多二丁目&quot;</td><td>&quot;トウキョウトコクブンジシホン…</td><td>&quot;042-123-4008&quot;</td><td>139.4802</td><td>35.70566</td><td>1735.0</td></tr><tr><td>&quot;S14010&quot;</td><td>&quot;菊名店&quot;</td><td>14</td><td>&quot;神奈川県&quot;</td><td>&quot;神奈川県横浜市港北区菊名一丁…</td><td>&quot;カナガワケンヨコハマシコウホ…</td><td>&quot;045-123-4032&quot;</td><td>139.6326</td><td>35.50049</td><td>1732.0</td></tr><tr><td>&quot;S14033&quot;</td><td>&quot;阿久和店&quot;</td><td>14</td><td>&quot;神奈川県&quot;</td><td>&quot;神奈川県横浜市瀬谷区阿久和西…</td><td>&quot;カナガワケンヨコハマシセヤク…</td><td>&quot;045-123-4043&quot;</td><td>139.4961</td><td>35.45918</td><td>1495.0</td></tr><tr><td>&quot;S14036&quot;</td><td>&quot;相模原中央店&quot;</td><td>14</td><td>&quot;神奈川県&quot;</td><td>&quot;神奈川県相模原市中央二丁目&quot;</td><td>&quot;カナガワケンサガミハラシチュ…</td><td>&quot;042-123-4045&quot;</td><td>139.3716</td><td>35.57327</td><td>1679.0</td></tr></tbody></table></div>"
      ],
      "text/plain": [
       "shape: (5, 10)\n",
       "┌─────────┬─────────┬─────────┬─────────┬─────────┬─────────┬─────────┬─────────┬─────────┬────────┐\n",
       "│ store_c ┆ store_n ┆ prefect ┆ prefect ┆ address ┆ address ┆ tel_no  ┆ longitu ┆ latitud ┆ floor_ │\n",
       "│ d       ┆ ame     ┆ ure_cd  ┆ ure     ┆ ---     ┆ _kana   ┆ ---     ┆ de      ┆ e       ┆ area   │\n",
       "│ ---     ┆ ---     ┆ ---     ┆ ---     ┆ str     ┆ ---     ┆ str     ┆ ---     ┆ ---     ┆ ---    │\n",
       "│ str     ┆ str     ┆ i64     ┆ str     ┆         ┆ str     ┆         ┆ f64     ┆ f64     ┆ f64    │\n",
       "╞═════════╪═════════╪═════════╪═════════╪═════════╪═════════╪═════════╪═════════╪═════════╪════════╡\n",
       "│ S12014  ┆ 千草台  ┆ 12      ┆ 千葉県  ┆ 千葉県  ┆ チバケ  ┆ 043-123 ┆ 140.118 ┆ 35.6355 ┆ 1698.0 │\n",
       "│         ┆ 店      ┆         ┆         ┆ 千葉市  ┆ ンチバ  ┆ -4003   ┆         ┆ 9       ┆        │\n",
       "│         ┆         ┆         ┆         ┆ 稲毛区  ┆ シイナ  ┆         ┆         ┆         ┆        │\n",
       "│         ┆         ┆         ┆         ┆ 千草台  ┆ ゲクチ  ┆         ┆         ┆         ┆        │\n",
       "│         ┆         ┆         ┆         ┆ 一丁目  ┆ グサダ  ┆         ┆         ┆         ┆        │\n",
       "│         ┆         ┆         ┆         ┆         ┆ イイッ  ┆         ┆         ┆         ┆        │\n",
       "│         ┆         ┆         ┆         ┆         ┆ チョウ  ┆         ┆         ┆         ┆        │\n",
       "│         ┆         ┆         ┆         ┆         ┆ メ      ┆         ┆         ┆         ┆        │\n",
       "│ S13002  ┆ 国分寺  ┆ 13      ┆ 東京都  ┆ 東京都  ┆ トウキ  ┆ 042-123 ┆ 139.480 ┆ 35.7056 ┆ 1735.0 │\n",
       "│         ┆ 店      ┆         ┆         ┆ 国分寺  ┆ ョウト  ┆ -4008   ┆ 2       ┆ 6       ┆        │\n",
       "│         ┆         ┆         ┆         ┆ 市本多  ┆ コクブ  ┆         ┆         ┆         ┆        │\n",
       "│         ┆         ┆         ┆         ┆ 二丁目  ┆ ンジシ  ┆         ┆         ┆         ┆        │\n",
       "│         ┆         ┆         ┆         ┆         ┆ ホンダ  ┆         ┆         ┆         ┆        │\n",
       "│         ┆         ┆         ┆         ┆         ┆ ニチョ  ┆         ┆         ┆         ┆        │\n",
       "│         ┆         ┆         ┆         ┆         ┆ ウメ    ┆         ┆         ┆         ┆        │\n",
       "│ S14010  ┆ 菊名店  ┆ 14      ┆ 神奈川  ┆ 神奈川  ┆ カナガ  ┆ 045-123 ┆ 139.632 ┆ 35.5004 ┆ 1732.0 │\n",
       "│         ┆         ┆         ┆ 県      ┆ 県横浜  ┆ ワケン  ┆ -4032   ┆ 6       ┆ 9       ┆        │\n",
       "│         ┆         ┆         ┆         ┆ 市港北  ┆ ヨコハ  ┆         ┆         ┆         ┆        │\n",
       "│         ┆         ┆         ┆         ┆ 区菊名  ┆ マシコ  ┆         ┆         ┆         ┆        │\n",
       "│         ┆         ┆         ┆         ┆ 一丁目  ┆ ウホク  ┆         ┆         ┆         ┆        │\n",
       "│         ┆         ┆         ┆         ┆         ┆ クキク  ┆         ┆         ┆         ┆        │\n",
       "│         ┆         ┆         ┆         ┆         ┆ ナイッ  ┆         ┆         ┆         ┆        │\n",
       "│         ┆         ┆         ┆         ┆         ┆ チョウ  ┆         ┆         ┆         ┆        │\n",
       "│         ┆         ┆         ┆         ┆         ┆ メ      ┆         ┆         ┆         ┆        │\n",
       "│ S14033  ┆ 阿久和  ┆ 14      ┆ 神奈川  ┆ 神奈川  ┆ カナガ  ┆ 045-123 ┆ 139.496 ┆ 35.4591 ┆ 1495.0 │\n",
       "│         ┆ 店      ┆         ┆ 県      ┆ 県横浜  ┆ ワケン  ┆ -4043   ┆ 1       ┆ 8       ┆        │\n",
       "│         ┆         ┆         ┆         ┆ 市瀬谷  ┆ ヨコハ  ┆         ┆         ┆         ┆        │\n",
       "│         ┆         ┆         ┆         ┆ 区阿久  ┆ マシセ  ┆         ┆         ┆         ┆        │\n",
       "│         ┆         ┆         ┆         ┆ 和西一  ┆ ヤクア  ┆         ┆         ┆         ┆        │\n",
       "│         ┆         ┆         ┆         ┆ 丁目    ┆ クワニ  ┆         ┆         ┆         ┆        │\n",
       "│         ┆         ┆         ┆         ┆         ┆ シイッ  ┆         ┆         ┆         ┆        │\n",
       "│         ┆         ┆         ┆         ┆         ┆ チョウ  ┆         ┆         ┆         ┆        │\n",
       "│         ┆         ┆         ┆         ┆         ┆ メ      ┆         ┆         ┆         ┆        │\n",
       "│ S14036  ┆ 相模原  ┆ 14      ┆ 神奈川  ┆ 神奈川  ┆ カナガ  ┆ 042-123 ┆ 139.371 ┆ 35.5732 ┆ 1679.0 │\n",
       "│         ┆ 中央店  ┆         ┆ 県      ┆ 県相模  ┆ ワケン  ┆ -4045   ┆ 6       ┆ 7       ┆        │\n",
       "│         ┆         ┆         ┆         ┆ 原市中  ┆ サガミ  ┆         ┆         ┆         ┆        │\n",
       "│         ┆         ┆         ┆         ┆ 央二丁  ┆ ハラシ  ┆         ┆         ┆         ┆        │\n",
       "│         ┆         ┆         ┆         ┆ 目      ┆ チュウ  ┆         ┆         ┆         ┆        │\n",
       "│         ┆         ┆         ┆         ┆         ┆ オウニ  ┆         ┆         ┆         ┆        │\n",
       "│         ┆         ┆         ┆         ┆         ┆ チョウ  ┆         ┆         ┆         ┆        │\n",
       "│         ┆         ┆         ┆         ┆         ┆ メ      ┆         ┆         ┆         ┆        │\n",
       "└─────────┴─────────┴─────────┴─────────┴─────────┴─────────┴─────────┴─────────┴─────────┴────────┘"
      ]
     },
     "metadata": {},
     "output_type": "display_data"
    }
   ],
   "source": [
    "df_customer = pl.read_csv(\"../docker/work/data/customer.csv\")\n",
    "display(df_customer.head())\n",
    "\n",
    "df_geocode = pl.read_csv(\"../docker/work/data/geocode.csv\")\n",
    "display(df_geocode.head())\n",
    "\n",
    "df_store = pl.read_csv(\"../docker/work/data/store.csv\")\n",
    "display(df_store.head())"
   ]
  },
  {
   "cell_type": "markdown",
   "metadata": {},
   "source": [
    "### ノック"
   ]
  },
  {
   "cell_type": "code",
   "execution_count": 41,
   "metadata": {},
   "outputs": [
    {
     "data": {
      "text/html": [
       "<div><style>\n",
       ".dataframe > thead > tr,\n",
       ".dataframe > tbody > tr {\n",
       "  text-align: right;\n",
       "  white-space: pre-wrap;\n",
       "}\n",
       "</style>\n",
       "<small>shape: (10, 4)</small><table border=\"1\" class=\"dataframe\"><thead><tr><th>customer_id</th><th>customer_address</th><th>store_address</th><th>distance</th></tr><tr><td>str</td><td>str</td><td>str</td><td>f64</td></tr></thead><tbody><tr><td>&quot;CS021313000114…</td><td>&quot;神奈川県伊勢原市粟窪****…</td><td>&quot;神奈川県伊勢原市伊勢原四丁目…</td><td>1.394409</td></tr><tr><td>&quot;CS037613000071…</td><td>&quot;東京都江東区南砂******…</td><td>&quot;東京都江東区南砂一丁目&quot;</td><td>1.451182</td></tr><tr><td>&quot;CS031415000172…</td><td>&quot;東京都渋谷区代々木*****…</td><td>&quot;東京都渋谷区初台二丁目&quot;</td><td>0.411733</td></tr><tr><td>&quot;CS028811000001…</td><td>&quot;神奈川県横浜市泉区和泉町**…</td><td>&quot;神奈川県横浜市瀬谷区二ツ橋町…</td><td>8.065196</td></tr><tr><td>&quot;CS001215000145…</td><td>&quot;東京都大田区仲六郷*****…</td><td>&quot;東京都大田区仲六郷二丁目&quot;</td><td>1.268421</td></tr><tr><td>&quot;CS020401000016…</td><td>&quot;東京都板橋区若木******…</td><td>&quot;東京都北区十条仲原三丁目&quot;</td><td>4.185905</td></tr><tr><td>&quot;CS015414000103…</td><td>&quot;東京都江東区北砂******…</td><td>&quot;東京都江東区南砂二丁目&quot;</td><td>1.449673</td></tr><tr><td>&quot;CS029403000008…</td><td>&quot;千葉県浦安市海楽******…</td><td>&quot;千葉県浦安市東野一丁目&quot;</td><td>0.804858</td></tr><tr><td>&quot;CS015804000004…</td><td>&quot;東京都江東区北砂******…</td><td>&quot;東京都江東区南砂二丁目&quot;</td><td>1.449673</td></tr><tr><td>&quot;CS033513000180…</td><td>&quot;神奈川県横浜市旭区善部町**…</td><td>&quot;神奈川県横浜市瀬谷区阿久和西…</td><td>1.956947</td></tr></tbody></table></div>"
      ],
      "text/plain": [
       "shape: (10, 4)\n",
       "┌────────────────┬───────────────────────────────────┬──────────────────────────────────┬──────────┐\n",
       "│ customer_id    ┆ customer_address                  ┆ store_address                    ┆ distance │\n",
       "│ ---            ┆ ---                               ┆ ---                              ┆ ---      │\n",
       "│ str            ┆ str                               ┆ str                              ┆ f64      │\n",
       "╞════════════════╪═══════════════════════════════════╪══════════════════════════════════╪══════════╡\n",
       "│ CS021313000114 ┆ 神奈川県伊勢原市粟窪**********    ┆ 神奈川県伊勢原市伊勢原四丁目     ┆ 1.394409 │\n",
       "│ CS037613000071 ┆ 東京都江東区南砂**********        ┆ 東京都江東区南砂一丁目           ┆ 1.451182 │\n",
       "│ CS031415000172 ┆ 東京都渋谷区代々木**********      ┆ 東京都渋谷区初台二丁目           ┆ 0.411733 │\n",
       "│ CS028811000001 ┆ 神奈川県横浜市泉区和泉町********* ┆ 神奈川県横浜市瀬谷区二ツ橋町     ┆ 8.065196 │\n",
       "│                ┆ *                                 ┆                                  ┆          │\n",
       "│ …              ┆ …                                 ┆ …                                ┆ …        │\n",
       "│ CS015414000103 ┆ 東京都江東区北砂**********        ┆ 東京都江東区南砂二丁目           ┆ 1.449673 │\n",
       "│ CS029403000008 ┆ 千葉県浦安市海楽**********        ┆ 千葉県浦安市東野一丁目           ┆ 0.804858 │\n",
       "│ CS015804000004 ┆ 東京都江東区北砂**********        ┆ 東京都江東区南砂二丁目           ┆ 1.449673 │\n",
       "│ CS033513000180 ┆ 神奈川県横浜市旭区善部町********* ┆ 神奈川県横浜市瀬谷区阿久和西一丁 ┆ 1.956947 │\n",
       "│                ┆ *                                 ┆ 目                               ┆          │\n",
       "└────────────────┴───────────────────────────────────┴──────────────────────────────────┴──────────┘"
      ]
     },
     "execution_count": 41,
     "metadata": {},
     "output_type": "execute_result"
    }
   ],
   "source": [
    "import math\n",
    "\n",
    "df_knock = (\n",
    "    df_customer\n",
    "    .select([\n",
    "        pl.col(\"customer_id\"),\n",
    "        pl.col(\"address\").alias(\"customer_address\"),\n",
    "        pl.col(\"postal_cd\"),\n",
    "        pl.col(\"application_store_cd\")\n",
    "    ])\n",
    "    # 郵便番号ごとの経度(longitude)・緯度(latitude)の平均値を加える\n",
    "    .join(\n",
    "        other =\n",
    "        df_geocode\n",
    "        .group_by(by = \"postal_cd\")\n",
    "        .agg([\n",
    "            pl.mean(\"longitude\").alias(\"longitude_customer\"),\n",
    "            pl.mean(\"latitude\").alias(\"latitude_customer\")\n",
    "        ]),\n",
    "        on = \"postal_cd\",\n",
    "        how = \"left\"        \n",
    "    )\n",
    "    # 店舗の住所情報を加える\n",
    "    .join(\n",
    "        other = df_store\n",
    "        .select([\n",
    "            pl.col(\"store_cd\"),\n",
    "            pl.col(\"address\").alias(\"store_address\"),\n",
    "            pl.col(\"longitude\").alias(\"longitude_store\"),\n",
    "            pl.col(\"latitude\").alias(\"latitude_store\")\n",
    "        ]),\n",
    "        left_on = \"application_store_cd\",\n",
    "        right_on = \"store_cd\",\n",
    "        how = \"left\"\n",
    "    )\n",
    "    # ラジアン列を追加する\n",
    "    .with_columns([\n",
    "        (pl.col(\"longitude_customer\") / 180 * math.pi).alias(\"λ1\"),\n",
    "        (pl.col(\"latitude_customer\") / 180 * math.pi).alias(\"φ1\"),\n",
    "        (pl.col(\"longitude_store\") / 180 * math.pi).alias(\"λ2\"),\n",
    "        (pl.col(\"latitude_store\") / 180 * math.pi).alias(\"φ2\"),\n",
    "    ])\n",
    "    # 簡易式に基づいて顧客住所と店舗との距離を計算する\n",
    "    .with_columns(\n",
    "        (6371\n",
    "         * (pl.col(\"φ1\").sin() * pl.col(\"φ2\").sin()\n",
    "            + pl.col(\"φ1\").cos() * pl.col(\"φ2\").cos() * (pl.col(\"λ1\") - pl.col(\"λ2\")).cos()\n",
    "            )\n",
    "            .arccos()\n",
    "        )\n",
    "        .alias(\"distance\")\n",
    "    )\n",
    "    #\n",
    "    .select([\n",
    "        pl.col(\"customer_id\"),\n",
    "        pl.col(\"customer_address\"),\n",
    "        pl.col(\"store_address\"),\n",
    "        pl.col(\"distance\")\n",
    "    ])\n",
    ")\n",
    "\n",
    "# 先頭10行を表示する\n",
    "df_knock.head(n = 10)"
   ]
  },
  {
   "cell_type": "markdown",
   "metadata": {},
   "source": [
    "### 検算"
   ]
  },
  {
   "cell_type": "code",
   "execution_count": 43,
   "metadata": {},
   "outputs": [
    {
     "data": {
      "text/html": [
       "<div><style>\n",
       ".dataframe > thead > tr,\n",
       ".dataframe > tbody > tr {\n",
       "  text-align: right;\n",
       "  white-space: pre-wrap;\n",
       "}\n",
       "</style>\n",
       "<small>shape: (10, 4)</small><table border=\"1\" class=\"dataframe\"><thead><tr><th>customer_id</th><th>customer_address</th><th>store_address</th><th>distance</th></tr><tr><td>str</td><td>str</td><td>str</td><td>f64</td></tr></thead><tbody><tr><td>&quot;CS021313000114…</td><td>&quot;神奈川県伊勢原市粟窪****…</td><td>&quot;神奈川県伊勢原市伊勢原四丁目…</td><td>1.394409</td></tr><tr><td>&quot;CS021313000025…</td><td>&quot;神奈川県伊勢原市伊勢原***…</td><td>&quot;神奈川県伊勢原市伊勢原四丁目…</td><td>0.474282</td></tr><tr><td>&quot;CS021413000022…</td><td>&quot;神奈川県伊勢原市伊勢原***…</td><td>&quot;神奈川県伊勢原市伊勢原四丁目…</td><td>0.474282</td></tr><tr><td>&quot;CS021413000094…</td><td>&quot;神奈川県伊勢原市伊勢原***…</td><td>&quot;神奈川県伊勢原市伊勢原四丁目…</td><td>0.474282</td></tr><tr><td>&quot;CS021303000023…</td><td>&quot;神奈川県伊勢原市粟窪****…</td><td>&quot;神奈川県伊勢原市伊勢原四丁目…</td><td>1.394409</td></tr><tr><td>&quot;CS021303000007…</td><td>&quot;神奈川県伊勢原市粟窪****…</td><td>&quot;神奈川県伊勢原市伊勢原四丁目…</td><td>1.394409</td></tr><tr><td>&quot;CS021313000183…</td><td>&quot;神奈川県伊勢原市粟窪****…</td><td>&quot;神奈川県伊勢原市伊勢原四丁目…</td><td>1.394409</td></tr><tr><td>&quot;CS021314000098…</td><td>&quot;神奈川県伊勢原市粟窪****…</td><td>&quot;神奈川県伊勢原市伊勢原四丁目…</td><td>1.394409</td></tr><tr><td>&quot;CS021314000093…</td><td>&quot;神奈川県伊勢原市粟窪****…</td><td>&quot;神奈川県伊勢原市伊勢原四丁目…</td><td>1.394409</td></tr><tr><td>&quot;CS021413000049…</td><td>&quot;神奈川県伊勢原市粟窪****…</td><td>&quot;神奈川県伊勢原市伊勢原四丁目…</td><td>1.394409</td></tr></tbody></table></div>"
      ],
      "text/plain": [
       "shape: (10, 4)\n",
       "┌────────────────┬──────────────────────────────────┬──────────────────────────────┬──────────┐\n",
       "│ customer_id    ┆ customer_address                 ┆ store_address                ┆ distance │\n",
       "│ ---            ┆ ---                              ┆ ---                          ┆ ---      │\n",
       "│ str            ┆ str                              ┆ str                          ┆ f64      │\n",
       "╞════════════════╪══════════════════════════════════╪══════════════════════════════╪══════════╡\n",
       "│ CS021313000114 ┆ 神奈川県伊勢原市粟窪**********   ┆ 神奈川県伊勢原市伊勢原四丁目 ┆ 1.394409 │\n",
       "│ CS021313000025 ┆ 神奈川県伊勢原市伊勢原********** ┆ 神奈川県伊勢原市伊勢原四丁目 ┆ 0.474282 │\n",
       "│ CS021413000022 ┆ 神奈川県伊勢原市伊勢原********** ┆ 神奈川県伊勢原市伊勢原四丁目 ┆ 0.474282 │\n",
       "│ CS021413000094 ┆ 神奈川県伊勢原市伊勢原********** ┆ 神奈川県伊勢原市伊勢原四丁目 ┆ 0.474282 │\n",
       "│ …              ┆ …                                ┆ …                            ┆ …        │\n",
       "│ CS021313000183 ┆ 神奈川県伊勢原市粟窪**********   ┆ 神奈川県伊勢原市伊勢原四丁目 ┆ 1.394409 │\n",
       "│ CS021314000098 ┆ 神奈川県伊勢原市粟窪**********   ┆ 神奈川県伊勢原市伊勢原四丁目 ┆ 1.394409 │\n",
       "│ CS021314000093 ┆ 神奈川県伊勢原市粟窪**********   ┆ 神奈川県伊勢原市伊勢原四丁目 ┆ 1.394409 │\n",
       "│ CS021413000049 ┆ 神奈川県伊勢原市粟窪**********   ┆ 神奈川県伊勢原市伊勢原四丁目 ┆ 1.394409 │\n",
       "└────────────────┴──────────────────────────────────┴──────────────────────────────┴──────────┘"
      ]
     },
     "execution_count": 43,
     "metadata": {},
     "output_type": "execute_result"
    }
   ],
   "source": [
    "df_knock.filter(\n",
    "    (pl.col(\"customer_id\") == \"CS021313000114\") |\n",
    "    (pl.col(\"customer_id\") == \"CS021303000023\") |\n",
    "    (pl.col(\"customer_id\") == \"CS021303000007\") |\n",
    "    (pl.col(\"customer_id\") == \"CS021313000183\") |\n",
    "    (pl.col(\"customer_id\") == \"CS021314000098\") |\n",
    "\n",
    "    (pl.col(\"customer_id\") == \"CS021314000093\") |\n",
    "    (pl.col(\"customer_id\") == \"CS021413000049\") |\n",
    "    (pl.col(\"customer_id\") == \"CS021313000025\") |\n",
    "    (pl.col(\"customer_id\") == \"CS021413000022\") |\n",
    "    (pl.col(\"customer_id\") == \"CS021413000094\")\n",
    ")"
   ]
  }
 ],
 "metadata": {
  "kernelspec": {
   "display_name": "Python 3",
   "language": "python",
   "name": "python3"
  },
  "language_info": {
   "codemirror_mode": {
    "name": "ipython",
    "version": 3
   },
   "file_extension": ".py",
   "mimetype": "text/x-python",
   "name": "python",
   "nbconvert_exporter": "python",
   "pygments_lexer": "ipython3",
   "version": "3.11.4"
  }
 },
 "nbformat": 4,
 "nbformat_minor": 2
}
