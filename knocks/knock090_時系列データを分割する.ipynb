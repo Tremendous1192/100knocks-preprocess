{
 "cells": [
  {
   "cell_type": "markdown",
   "metadata": {},
   "source": [
    "## knock 090 時系列データを分割する"
   ]
  },
  {
   "cell_type": "code",
   "execution_count": 27,
   "metadata": {},
   "outputs": [],
   "source": [
    "import polars as pl\n",
    "pl.Config.set_tbl_cols(-1)# 列の表示が省略されないようにする\n",
    "import polars.selectors as cs# 抽出条件のプリセット"
   ]
  },
  {
   "cell_type": "markdown",
   "metadata": {},
   "source": [
    "### データを読み込む"
   ]
  },
  {
   "cell_type": "code",
   "execution_count": 28,
   "metadata": {},
   "outputs": [
    {
     "data": {
      "text/html": [
       "<div><style>\n",
       ".dataframe > thead > tr,\n",
       ".dataframe > tbody > tr {\n",
       "  text-align: right;\n",
       "  white-space: pre-wrap;\n",
       "}\n",
       "</style>\n",
       "<small>shape: (5, 9)</small><table border=\"1\" class=\"dataframe\"><thead><tr><th>sales_ymd</th><th>sales_epoch</th><th>store_cd</th><th>receipt_no</th><th>receipt_sub_no</th><th>customer_id</th><th>product_cd</th><th>quantity</th><th>amount</th></tr><tr><td>i64</td><td>i64</td><td>str</td><td>i64</td><td>i64</td><td>str</td><td>str</td><td>i64</td><td>i64</td></tr></thead><tbody><tr><td>20181103</td><td>1541203200</td><td>&quot;S14006&quot;</td><td>112</td><td>1</td><td>&quot;CS006214000001…</td><td>&quot;P070305012&quot;</td><td>1</td><td>158</td></tr><tr><td>20181118</td><td>1542499200</td><td>&quot;S13008&quot;</td><td>1132</td><td>2</td><td>&quot;CS008415000097…</td><td>&quot;P070701017&quot;</td><td>1</td><td>81</td></tr><tr><td>20170712</td><td>1499817600</td><td>&quot;S14028&quot;</td><td>1102</td><td>1</td><td>&quot;CS028414000014…</td><td>&quot;P060101005&quot;</td><td>1</td><td>170</td></tr><tr><td>20190205</td><td>1549324800</td><td>&quot;S14042&quot;</td><td>1132</td><td>1</td><td>&quot;ZZ000000000000…</td><td>&quot;P050301001&quot;</td><td>1</td><td>25</td></tr><tr><td>20180821</td><td>1534809600</td><td>&quot;S14025&quot;</td><td>1102</td><td>2</td><td>&quot;CS025415000050…</td><td>&quot;P060102007&quot;</td><td>1</td><td>90</td></tr></tbody></table></div>"
      ],
      "text/plain": [
       "shape: (5, 9)\n",
       "┌───────────┬───────────┬──────────┬──────────┬──────────┬──────────┬──────────┬──────────┬────────┐\n",
       "│ sales_ymd ┆ sales_epo ┆ store_cd ┆ receipt_ ┆ receipt_ ┆ customer ┆ product_ ┆ quantity ┆ amount │\n",
       "│ ---       ┆ ch        ┆ ---      ┆ no       ┆ sub_no   ┆ _id      ┆ cd       ┆ ---      ┆ ---    │\n",
       "│ i64       ┆ ---       ┆ str      ┆ ---      ┆ ---      ┆ ---      ┆ ---      ┆ i64      ┆ i64    │\n",
       "│           ┆ i64       ┆          ┆ i64      ┆ i64      ┆ str      ┆ str      ┆          ┆        │\n",
       "╞═══════════╪═══════════╪══════════╪══════════╪══════════╪══════════╪══════════╪══════════╪════════╡\n",
       "│ 20181103  ┆ 154120320 ┆ S14006   ┆ 112      ┆ 1        ┆ CS006214 ┆ P0703050 ┆ 1        ┆ 158    │\n",
       "│           ┆ 0         ┆          ┆          ┆          ┆ 000001   ┆ 12       ┆          ┆        │\n",
       "│ 20181118  ┆ 154249920 ┆ S13008   ┆ 1132     ┆ 2        ┆ CS008415 ┆ P0707010 ┆ 1        ┆ 81     │\n",
       "│           ┆ 0         ┆          ┆          ┆          ┆ 000097   ┆ 17       ┆          ┆        │\n",
       "│ 20170712  ┆ 149981760 ┆ S14028   ┆ 1102     ┆ 1        ┆ CS028414 ┆ P0601010 ┆ 1        ┆ 170    │\n",
       "│           ┆ 0         ┆          ┆          ┆          ┆ 000014   ┆ 05       ┆          ┆        │\n",
       "│ 20190205  ┆ 154932480 ┆ S14042   ┆ 1132     ┆ 1        ┆ ZZ000000 ┆ P0503010 ┆ 1        ┆ 25     │\n",
       "│           ┆ 0         ┆          ┆          ┆          ┆ 000000   ┆ 01       ┆          ┆        │\n",
       "│ 20180821  ┆ 153480960 ┆ S14025   ┆ 1102     ┆ 2        ┆ CS025415 ┆ P0601020 ┆ 1        ┆ 90     │\n",
       "│           ┆ 0         ┆          ┆          ┆          ┆ 000050   ┆ 07       ┆          ┆        │\n",
       "└───────────┴───────────┴──────────┴──────────┴──────────┴──────────┴──────────┴──────────┴────────┘"
      ]
     },
     "metadata": {},
     "output_type": "display_data"
    }
   ],
   "source": [
    "df_receipt = pl.read_csv(\"../docker/work/data/receipt.csv\")\n",
    "display(df_receipt.head())"
   ]
  },
  {
   "cell_type": "markdown",
   "metadata": {},
   "source": [
    "### ノック"
   ]
  },
  {
   "cell_type": "code",
   "execution_count": 29,
   "metadata": {},
   "outputs": [
    {
     "data": {
      "text/html": [
       "<div><style>\n",
       ".dataframe > thead > tr,\n",
       ".dataframe > tbody > tr {\n",
       "  text-align: right;\n",
       "  white-space: pre-wrap;\n",
       "}\n",
       "</style>\n",
       "<small>shape: (34,)</small><table border=\"1\" class=\"dataframe\"><thead><tr><th>sales_ymd</th></tr><tr><td>i64</td></tr></thead><tbody><tr><td>201701</td></tr><tr><td>201702</td></tr><tr><td>201703</td></tr><tr><td>201704</td></tr><tr><td>201705</td></tr><tr><td>201706</td></tr><tr><td>201707</td></tr><tr><td>201708</td></tr><tr><td>201709</td></tr><tr><td>201710</td></tr><tr><td>201711</td></tr><tr><td>201712</td></tr><tr><td>&hellip;</td></tr><tr><td>201811</td></tr><tr><td>201812</td></tr><tr><td>201901</td></tr><tr><td>201902</td></tr><tr><td>201903</td></tr><tr><td>201904</td></tr><tr><td>201905</td></tr><tr><td>201906</td></tr><tr><td>201907</td></tr><tr><td>201908</td></tr><tr><td>201909</td></tr><tr><td>201910</td></tr></tbody></table></div>"
      ],
      "text/plain": [
       "shape: (34,)\n",
       "Series: 'sales_ymd' [i64]\n",
       "[\n",
       "\t201701\n",
       "\t201702\n",
       "\t201703\n",
       "\t201704\n",
       "\t201705\n",
       "\t201706\n",
       "\t201707\n",
       "\t201708\n",
       "\t201709\n",
       "\t201710\n",
       "\t201711\n",
       "\t201712\n",
       "\t…\n",
       "\t201810\n",
       "\t201811\n",
       "\t201812\n",
       "\t201901\n",
       "\t201902\n",
       "\t201903\n",
       "\t201904\n",
       "\t201905\n",
       "\t201906\n",
       "\t201907\n",
       "\t201908\n",
       "\t201909\n",
       "\t201910\n",
       "]"
      ]
     },
     "execution_count": 29,
     "metadata": {},
     "output_type": "execute_result"
    }
   ],
   "source": [
    "#2017年1月から2019年10月までの3ヵ月の\n",
    "(df_receipt[\"sales_ymd\"] // 100).unique().sort()"
   ]
  },
  {
   "cell_type": "code",
   "execution_count": 30,
   "metadata": {},
   "outputs": [
    {
     "data": {
      "text/html": [
       "<div><style>\n",
       ".dataframe > thead > tr,\n",
       ".dataframe > tbody > tr {\n",
       "  text-align: right;\n",
       "  white-space: pre-wrap;\n",
       "}\n",
       "</style>\n",
       "<small>shape: (5, 3)</small><table border=\"1\" class=\"dataframe\"><thead><tr><th>sales_ym</th><th>sum_amount</th><th>test_flg</th></tr><tr><td>i64</td><td>i64</td><td>i64</td></tr></thead><tbody><tr><td>201701</td><td>902056</td><td>0</td></tr><tr><td>201702</td><td>764413</td><td>0</td></tr><tr><td>201703</td><td>962945</td><td>0</td></tr><tr><td>201704</td><td>847566</td><td>0</td></tr><tr><td>201705</td><td>884010</td><td>0</td></tr></tbody></table></div>"
      ],
      "text/plain": [
       "shape: (5, 3)\n",
       "┌──────────┬────────────┬──────────┐\n",
       "│ sales_ym ┆ sum_amount ┆ test_flg │\n",
       "│ ---      ┆ ---        ┆ ---      │\n",
       "│ i64      ┆ i64        ┆ i64      │\n",
       "╞══════════╪════════════╪══════════╡\n",
       "│ 201701   ┆ 902056     ┆ 0        │\n",
       "│ 201702   ┆ 764413     ┆ 0        │\n",
       "│ 201703   ┆ 962945     ┆ 0        │\n",
       "│ 201704   ┆ 847566     ┆ 0        │\n",
       "│ 201705   ┆ 884010     ┆ 0        │\n",
       "└──────────┴────────────┴──────────┘"
      ]
     },
     "metadata": {},
     "output_type": "display_data"
    },
    {
     "data": {
      "text/html": [
       "<div><style>\n",
       ".dataframe > thead > tr,\n",
       ".dataframe > tbody > tr {\n",
       "  text-align: right;\n",
       "  white-space: pre-wrap;\n",
       "}\n",
       "</style>\n",
       "<small>shape: (5, 3)</small><table border=\"1\" class=\"dataframe\"><thead><tr><th>sales_ym</th><th>sum_amount</th><th>test_flg</th></tr><tr><td>i64</td><td>i64</td><td>i64</td></tr></thead><tbody><tr><td>201707</td><td>959205</td><td>0</td></tr><tr><td>201708</td><td>954836</td><td>0</td></tr><tr><td>201709</td><td>902037</td><td>0</td></tr><tr><td>201710</td><td>905739</td><td>0</td></tr><tr><td>201711</td><td>932157</td><td>0</td></tr></tbody></table></div>"
      ],
      "text/plain": [
       "shape: (5, 3)\n",
       "┌──────────┬────────────┬──────────┐\n",
       "│ sales_ym ┆ sum_amount ┆ test_flg │\n",
       "│ ---      ┆ ---        ┆ ---      │\n",
       "│ i64      ┆ i64        ┆ i64      │\n",
       "╞══════════╪════════════╪══════════╡\n",
       "│ 201707   ┆ 959205     ┆ 0        │\n",
       "│ 201708   ┆ 954836     ┆ 0        │\n",
       "│ 201709   ┆ 902037     ┆ 0        │\n",
       "│ 201710   ┆ 905739     ┆ 0        │\n",
       "│ 201711   ┆ 932157     ┆ 0        │\n",
       "└──────────┴────────────┴──────────┘"
      ]
     },
     "metadata": {},
     "output_type": "display_data"
    },
    {
     "data": {
      "text/html": [
       "<div><style>\n",
       ".dataframe > thead > tr,\n",
       ".dataframe > tbody > tr {\n",
       "  text-align: right;\n",
       "  white-space: pre-wrap;\n",
       "}\n",
       "</style>\n",
       "<small>shape: (5, 3)</small><table border=\"1\" class=\"dataframe\"><thead><tr><th>sales_ym</th><th>sum_amount</th><th>test_flg</th></tr><tr><td>i64</td><td>i64</td><td>i64</td></tr></thead><tbody><tr><td>201801</td><td>944509</td><td>0</td></tr><tr><td>201802</td><td>864128</td><td>0</td></tr><tr><td>201803</td><td>946588</td><td>0</td></tr><tr><td>201804</td><td>937099</td><td>0</td></tr><tr><td>201805</td><td>1004438</td><td>0</td></tr></tbody></table></div>"
      ],
      "text/plain": [
       "shape: (5, 3)\n",
       "┌──────────┬────────────┬──────────┐\n",
       "│ sales_ym ┆ sum_amount ┆ test_flg │\n",
       "│ ---      ┆ ---        ┆ ---      │\n",
       "│ i64      ┆ i64        ┆ i64      │\n",
       "╞══════════╪════════════╪══════════╡\n",
       "│ 201801   ┆ 944509     ┆ 0        │\n",
       "│ 201802   ┆ 864128     ┆ 0        │\n",
       "│ 201803   ┆ 946588     ┆ 0        │\n",
       "│ 201804   ┆ 937099     ┆ 0        │\n",
       "│ 201805   ┆ 1004438    ┆ 0        │\n",
       "└──────────┴────────────┴──────────┘"
      ]
     },
     "metadata": {},
     "output_type": "display_data"
    }
   ],
   "source": [
    "# 該当期間の前半12ヵ月を訓練データ(0)、後半6ヵ月をテストデータ(1)とする\n",
    "flg_series = (\n",
    "    pl.Series(\"test_flg\",\n",
    "              [0, 0, 0, 0, 0,\n",
    "               0, 0, 0, 0, 0,\n",
    "               0, 0,\n",
    "               1, 1, 1, 1, 1,\n",
    "               1])\n",
    ")\n",
    "\n",
    "df_ts = (\n",
    "    df_receipt\n",
    "    # 販売月の列を加える\n",
    "    .with_columns(\n",
    "        (pl.col(\"sales_ymd\") // 100).alias(\"sales_ym\")\n",
    "    )\n",
    "    # 月毎の売上高を計算する\n",
    "    .group_by(by = \"sales_ym\")\n",
    "    .agg( pl.sum(\"amount\").alias(\"sum_amount\"))\n",
    "    # 月の昇順に並べ替える\n",
    "    .sort(by = \"sales_ym\")\n",
    ")\n",
    "#display(df_ts)\n",
    "\n",
    "# 期間ごとにテストデータを作成する\n",
    "df_train_1 = df_ts[0:18].with_columns(flg_series)\n",
    "df_train_2 = df_ts[6:24].with_columns(flg_series)\n",
    "df_train_3 = df_ts[12:30].with_columns(flg_series)\n",
    "\n",
    "display(df_train_1.head(), df_train_2.head(), df_train_3.head())"
   ]
  },
  {
   "cell_type": "code",
   "execution_count": 31,
   "metadata": {},
   "outputs": [
    {
     "name": "stderr",
     "output_type": "stream",
     "text": [
      "C:\\Users\\treme\\AppData\\Local\\Temp\\ipykernel_24580\\703037116.py:4: DeprecationWarning: `groupby` is deprecated. It has been renamed to `group_by`.\n",
      "  df_ts_amount = df_receipt.groupby(pl.col('sales_ymd') // 100).agg(\n"
     ]
    }
   ],
   "source": [
    "# Scikit-learnを使う場合\n",
    "from sklearn.model_selection import TimeSeriesSplit\n",
    "\n",
    "df_ts_amount = df_receipt.groupby(pl.col('sales_ymd') // 100).agg(\n",
    "    pl.col('amount').sum()\n",
    ").sort('sales_ymd')\n",
    "\n",
    "tscv = TimeSeriesSplit(gap=0, max_train_size=12, n_splits=3, test_size=6)\n",
    "\n",
    "series_list = []\n",
    "for train_index, test_index in tscv.split(df_ts_amount):\n",
    "    series_list.append(\n",
    "        (df_ts_amount.with_row_count('index').filter(pl.col('index').is_in(pl.lit(train_index))), \n",
    "         df_ts_amount.with_row_count('index').filter(pl.col('index').is_in(pl.lit(test_index))))\n",
    "    )\n",
    "\n",
    "df_train_1, df_test_1 = series_list[0]\n",
    "df_train_2, df_test_2 = series_list[1]\n",
    "df_train_3, df_test_3 = series_list[2]"
   ]
  }
 ],
 "metadata": {
  "kernelspec": {
   "display_name": "Python 3",
   "language": "python",
   "name": "python3"
  },
  "language_info": {
   "codemirror_mode": {
    "name": "ipython",
    "version": 3
   },
   "file_extension": ".py",
   "mimetype": "text/x-python",
   "name": "python",
   "nbconvert_exporter": "python",
   "pygments_lexer": "ipython3",
   "version": "3.11.4"
  }
 },
 "nbformat": 4,
 "nbformat_minor": 2
}
