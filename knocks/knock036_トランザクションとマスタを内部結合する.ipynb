{
 "cells": [
  {
   "cell_type": "markdown",
   "metadata": {},
   "source": [
    "## knock 036 トランザクションとマスタを内部結合する"
   ]
  },
  {
   "cell_type": "code",
   "execution_count": 9,
   "metadata": {},
   "outputs": [
    {
     "data": {
      "text/plain": [
       "polars.config.Config"
      ]
     },
     "execution_count": 9,
     "metadata": {},
     "output_type": "execute_result"
    }
   ],
   "source": [
    "import polars as pl\n",
    "pl.Config.set_tbl_cols(-1)# 列が省略されないようにする"
   ]
  },
  {
   "cell_type": "markdown",
   "metadata": {},
   "source": [
    "### データを読み込む"
   ]
  },
  {
   "cell_type": "code",
   "execution_count": 10,
   "metadata": {},
   "outputs": [
    {
     "data": {
      "text/html": [
       "<div><style>\n",
       ".dataframe > thead > tr,\n",
       ".dataframe > tbody > tr {\n",
       "  text-align: right;\n",
       "  white-space: pre-wrap;\n",
       "}\n",
       "</style>\n",
       "<small>shape: (5, 9)</small><table border=\"1\" class=\"dataframe\"><thead><tr><th>sales_ymd</th><th>sales_epoch</th><th>store_cd</th><th>receipt_no</th><th>receipt_sub_no</th><th>customer_id</th><th>product_cd</th><th>quantity</th><th>amount</th></tr><tr><td>i64</td><td>i64</td><td>str</td><td>i64</td><td>i64</td><td>str</td><td>str</td><td>i64</td><td>i64</td></tr></thead><tbody><tr><td>20181103</td><td>1541203200</td><td>&quot;S14006&quot;</td><td>112</td><td>1</td><td>&quot;CS006214000001…</td><td>&quot;P070305012&quot;</td><td>1</td><td>158</td></tr><tr><td>20181118</td><td>1542499200</td><td>&quot;S13008&quot;</td><td>1132</td><td>2</td><td>&quot;CS008415000097…</td><td>&quot;P070701017&quot;</td><td>1</td><td>81</td></tr><tr><td>20170712</td><td>1499817600</td><td>&quot;S14028&quot;</td><td>1102</td><td>1</td><td>&quot;CS028414000014…</td><td>&quot;P060101005&quot;</td><td>1</td><td>170</td></tr><tr><td>20190205</td><td>1549324800</td><td>&quot;S14042&quot;</td><td>1132</td><td>1</td><td>&quot;ZZ000000000000…</td><td>&quot;P050301001&quot;</td><td>1</td><td>25</td></tr><tr><td>20180821</td><td>1534809600</td><td>&quot;S14025&quot;</td><td>1102</td><td>2</td><td>&quot;CS025415000050…</td><td>&quot;P060102007&quot;</td><td>1</td><td>90</td></tr></tbody></table></div>"
      ],
      "text/plain": [
       "shape: (5, 9)\n",
       "┌───────────┬───────────┬──────────┬──────────┬──────────┬──────────┬──────────┬──────────┬────────┐\n",
       "│ sales_ymd ┆ sales_epo ┆ store_cd ┆ receipt_ ┆ receipt_ ┆ customer ┆ product_ ┆ quantity ┆ amount │\n",
       "│ ---       ┆ ch        ┆ ---      ┆ no       ┆ sub_no   ┆ _id      ┆ cd       ┆ ---      ┆ ---    │\n",
       "│ i64       ┆ ---       ┆ str      ┆ ---      ┆ ---      ┆ ---      ┆ ---      ┆ i64      ┆ i64    │\n",
       "│           ┆ i64       ┆          ┆ i64      ┆ i64      ┆ str      ┆ str      ┆          ┆        │\n",
       "╞═══════════╪═══════════╪══════════╪══════════╪══════════╪══════════╪══════════╪══════════╪════════╡\n",
       "│ 20181103  ┆ 154120320 ┆ S14006   ┆ 112      ┆ 1        ┆ CS006214 ┆ P0703050 ┆ 1        ┆ 158    │\n",
       "│           ┆ 0         ┆          ┆          ┆          ┆ 000001   ┆ 12       ┆          ┆        │\n",
       "│ 20181118  ┆ 154249920 ┆ S13008   ┆ 1132     ┆ 2        ┆ CS008415 ┆ P0707010 ┆ 1        ┆ 81     │\n",
       "│           ┆ 0         ┆          ┆          ┆          ┆ 000097   ┆ 17       ┆          ┆        │\n",
       "│ 20170712  ┆ 149981760 ┆ S14028   ┆ 1102     ┆ 1        ┆ CS028414 ┆ P0601010 ┆ 1        ┆ 170    │\n",
       "│           ┆ 0         ┆          ┆          ┆          ┆ 000014   ┆ 05       ┆          ┆        │\n",
       "│ 20190205  ┆ 154932480 ┆ S14042   ┆ 1132     ┆ 1        ┆ ZZ000000 ┆ P0503010 ┆ 1        ┆ 25     │\n",
       "│           ┆ 0         ┆          ┆          ┆          ┆ 000000   ┆ 01       ┆          ┆        │\n",
       "│ 20180821  ┆ 153480960 ┆ S14025   ┆ 1102     ┆ 2        ┆ CS025415 ┆ P0601020 ┆ 1        ┆ 90     │\n",
       "│           ┆ 0         ┆          ┆          ┆          ┆ 000050   ┆ 07       ┆          ┆        │\n",
       "└───────────┴───────────┴──────────┴──────────┴──────────┴──────────┴──────────┴──────────┴────────┘"
      ]
     },
     "metadata": {},
     "output_type": "display_data"
    },
    {
     "data": {
      "text/html": [
       "<div><style>\n",
       ".dataframe > thead > tr,\n",
       ".dataframe > tbody > tr {\n",
       "  text-align: right;\n",
       "  white-space: pre-wrap;\n",
       "}\n",
       "</style>\n",
       "<small>shape: (5, 10)</small><table border=\"1\" class=\"dataframe\"><thead><tr><th>store_cd</th><th>store_name</th><th>prefecture_cd</th><th>prefecture</th><th>address</th><th>address_kana</th><th>tel_no</th><th>longitude</th><th>latitude</th><th>floor_area</th></tr><tr><td>str</td><td>str</td><td>i64</td><td>str</td><td>str</td><td>str</td><td>str</td><td>f64</td><td>f64</td><td>f64</td></tr></thead><tbody><tr><td>&quot;S12014&quot;</td><td>&quot;千草台店&quot;</td><td>12</td><td>&quot;千葉県&quot;</td><td>&quot;千葉県千葉市稲毛区千草台一丁…</td><td>&quot;チバケンチバシイナゲクチグサ…</td><td>&quot;043-123-4003&quot;</td><td>140.118</td><td>35.63559</td><td>1698.0</td></tr><tr><td>&quot;S13002&quot;</td><td>&quot;国分寺店&quot;</td><td>13</td><td>&quot;東京都&quot;</td><td>&quot;東京都国分寺市本多二丁目&quot;</td><td>&quot;トウキョウトコクブンジシホン…</td><td>&quot;042-123-4008&quot;</td><td>139.4802</td><td>35.70566</td><td>1735.0</td></tr><tr><td>&quot;S14010&quot;</td><td>&quot;菊名店&quot;</td><td>14</td><td>&quot;神奈川県&quot;</td><td>&quot;神奈川県横浜市港北区菊名一丁…</td><td>&quot;カナガワケンヨコハマシコウホ…</td><td>&quot;045-123-4032&quot;</td><td>139.6326</td><td>35.50049</td><td>1732.0</td></tr><tr><td>&quot;S14033&quot;</td><td>&quot;阿久和店&quot;</td><td>14</td><td>&quot;神奈川県&quot;</td><td>&quot;神奈川県横浜市瀬谷区阿久和西…</td><td>&quot;カナガワケンヨコハマシセヤク…</td><td>&quot;045-123-4043&quot;</td><td>139.4961</td><td>35.45918</td><td>1495.0</td></tr><tr><td>&quot;S14036&quot;</td><td>&quot;相模原中央店&quot;</td><td>14</td><td>&quot;神奈川県&quot;</td><td>&quot;神奈川県相模原市中央二丁目&quot;</td><td>&quot;カナガワケンサガミハラシチュ…</td><td>&quot;042-123-4045&quot;</td><td>139.3716</td><td>35.57327</td><td>1679.0</td></tr></tbody></table></div>"
      ],
      "text/plain": [
       "shape: (5, 10)\n",
       "┌─────────┬─────────┬─────────┬─────────┬─────────┬─────────┬─────────┬─────────┬─────────┬────────┐\n",
       "│ store_c ┆ store_n ┆ prefect ┆ prefect ┆ address ┆ address ┆ tel_no  ┆ longitu ┆ latitud ┆ floor_ │\n",
       "│ d       ┆ ame     ┆ ure_cd  ┆ ure     ┆ ---     ┆ _kana   ┆ ---     ┆ de      ┆ e       ┆ area   │\n",
       "│ ---     ┆ ---     ┆ ---     ┆ ---     ┆ str     ┆ ---     ┆ str     ┆ ---     ┆ ---     ┆ ---    │\n",
       "│ str     ┆ str     ┆ i64     ┆ str     ┆         ┆ str     ┆         ┆ f64     ┆ f64     ┆ f64    │\n",
       "╞═════════╪═════════╪═════════╪═════════╪═════════╪═════════╪═════════╪═════════╪═════════╪════════╡\n",
       "│ S12014  ┆ 千草台  ┆ 12      ┆ 千葉県  ┆ 千葉県  ┆ チバケ  ┆ 043-123 ┆ 140.118 ┆ 35.6355 ┆ 1698.0 │\n",
       "│         ┆ 店      ┆         ┆         ┆ 千葉市  ┆ ンチバ  ┆ -4003   ┆         ┆ 9       ┆        │\n",
       "│         ┆         ┆         ┆         ┆ 稲毛区  ┆ シイナ  ┆         ┆         ┆         ┆        │\n",
       "│         ┆         ┆         ┆         ┆ 千草台  ┆ ゲクチ  ┆         ┆         ┆         ┆        │\n",
       "│         ┆         ┆         ┆         ┆ 一丁目  ┆ グサダ  ┆         ┆         ┆         ┆        │\n",
       "│         ┆         ┆         ┆         ┆         ┆ イイッ  ┆         ┆         ┆         ┆        │\n",
       "│         ┆         ┆         ┆         ┆         ┆ チョウ  ┆         ┆         ┆         ┆        │\n",
       "│         ┆         ┆         ┆         ┆         ┆ メ      ┆         ┆         ┆         ┆        │\n",
       "│ S13002  ┆ 国分寺  ┆ 13      ┆ 東京都  ┆ 東京都  ┆ トウキ  ┆ 042-123 ┆ 139.480 ┆ 35.7056 ┆ 1735.0 │\n",
       "│         ┆ 店      ┆         ┆         ┆ 国分寺  ┆ ョウト  ┆ -4008   ┆ 2       ┆ 6       ┆        │\n",
       "│         ┆         ┆         ┆         ┆ 市本多  ┆ コクブ  ┆         ┆         ┆         ┆        │\n",
       "│         ┆         ┆         ┆         ┆ 二丁目  ┆ ンジシ  ┆         ┆         ┆         ┆        │\n",
       "│         ┆         ┆         ┆         ┆         ┆ ホンダ  ┆         ┆         ┆         ┆        │\n",
       "│         ┆         ┆         ┆         ┆         ┆ ニチョ  ┆         ┆         ┆         ┆        │\n",
       "│         ┆         ┆         ┆         ┆         ┆ ウメ    ┆         ┆         ┆         ┆        │\n",
       "│ S14010  ┆ 菊名店  ┆ 14      ┆ 神奈川  ┆ 神奈川  ┆ カナガ  ┆ 045-123 ┆ 139.632 ┆ 35.5004 ┆ 1732.0 │\n",
       "│         ┆         ┆         ┆ 県      ┆ 県横浜  ┆ ワケン  ┆ -4032   ┆ 6       ┆ 9       ┆        │\n",
       "│         ┆         ┆         ┆         ┆ 市港北  ┆ ヨコハ  ┆         ┆         ┆         ┆        │\n",
       "│         ┆         ┆         ┆         ┆ 区菊名  ┆ マシコ  ┆         ┆         ┆         ┆        │\n",
       "│         ┆         ┆         ┆         ┆ 一丁目  ┆ ウホク  ┆         ┆         ┆         ┆        │\n",
       "│         ┆         ┆         ┆         ┆         ┆ クキク  ┆         ┆         ┆         ┆        │\n",
       "│         ┆         ┆         ┆         ┆         ┆ ナイッ  ┆         ┆         ┆         ┆        │\n",
       "│         ┆         ┆         ┆         ┆         ┆ チョウ  ┆         ┆         ┆         ┆        │\n",
       "│         ┆         ┆         ┆         ┆         ┆ メ      ┆         ┆         ┆         ┆        │\n",
       "│ S14033  ┆ 阿久和  ┆ 14      ┆ 神奈川  ┆ 神奈川  ┆ カナガ  ┆ 045-123 ┆ 139.496 ┆ 35.4591 ┆ 1495.0 │\n",
       "│         ┆ 店      ┆         ┆ 県      ┆ 県横浜  ┆ ワケン  ┆ -4043   ┆ 1       ┆ 8       ┆        │\n",
       "│         ┆         ┆         ┆         ┆ 市瀬谷  ┆ ヨコハ  ┆         ┆         ┆         ┆        │\n",
       "│         ┆         ┆         ┆         ┆ 区阿久  ┆ マシセ  ┆         ┆         ┆         ┆        │\n",
       "│         ┆         ┆         ┆         ┆ 和西一  ┆ ヤクア  ┆         ┆         ┆         ┆        │\n",
       "│         ┆         ┆         ┆         ┆ 丁目    ┆ クワニ  ┆         ┆         ┆         ┆        │\n",
       "│         ┆         ┆         ┆         ┆         ┆ シイッ  ┆         ┆         ┆         ┆        │\n",
       "│         ┆         ┆         ┆         ┆         ┆ チョウ  ┆         ┆         ┆         ┆        │\n",
       "│         ┆         ┆         ┆         ┆         ┆ メ      ┆         ┆         ┆         ┆        │\n",
       "│ S14036  ┆ 相模原  ┆ 14      ┆ 神奈川  ┆ 神奈川  ┆ カナガ  ┆ 042-123 ┆ 139.371 ┆ 35.5732 ┆ 1679.0 │\n",
       "│         ┆ 中央店  ┆         ┆ 県      ┆ 県相模  ┆ ワケン  ┆ -4045   ┆ 6       ┆ 7       ┆        │\n",
       "│         ┆         ┆         ┆         ┆ 原市中  ┆ サガミ  ┆         ┆         ┆         ┆        │\n",
       "│         ┆         ┆         ┆         ┆ 央二丁  ┆ ハラシ  ┆         ┆         ┆         ┆        │\n",
       "│         ┆         ┆         ┆         ┆ 目      ┆ チュウ  ┆         ┆         ┆         ┆        │\n",
       "│         ┆         ┆         ┆         ┆         ┆ オウニ  ┆         ┆         ┆         ┆        │\n",
       "│         ┆         ┆         ┆         ┆         ┆ チョウ  ┆         ┆         ┆         ┆        │\n",
       "│         ┆         ┆         ┆         ┆         ┆ メ      ┆         ┆         ┆         ┆        │\n",
       "└─────────┴─────────┴─────────┴─────────┴─────────┴─────────┴─────────┴─────────┴─────────┴────────┘"
      ]
     },
     "metadata": {},
     "output_type": "display_data"
    }
   ],
   "source": [
    "df_receipt = pl.read_csv(\"../docker/work/data/receipt.csv\")\n",
    "display(df_receipt.head())\n",
    "\n",
    "df_store = pl.read_csv(\"../docker/work/data/store.csv\")\n",
    "display(df_store.head())"
   ]
  },
  {
   "cell_type": "markdown",
   "metadata": {},
   "source": [
    "### ノック"
   ]
  },
  {
   "cell_type": "code",
   "execution_count": 13,
   "metadata": {},
   "outputs": [
    {
     "data": {
      "text/html": [
       "<div><style>\n",
       ".dataframe > thead > tr,\n",
       ".dataframe > tbody > tr {\n",
       "  text-align: right;\n",
       "  white-space: pre-wrap;\n",
       "}\n",
       "</style>\n",
       "<small>shape: (10, 10)</small><table border=\"1\" class=\"dataframe\"><thead><tr><th>sales_ymd</th><th>sales_epoch</th><th>store_cd</th><th>receipt_no</th><th>receipt_sub_no</th><th>customer_id</th><th>product_cd</th><th>quantity</th><th>amount</th><th>store_name</th></tr><tr><td>i64</td><td>i64</td><td>str</td><td>i64</td><td>i64</td><td>str</td><td>str</td><td>i64</td><td>i64</td><td>str</td></tr></thead><tbody><tr><td>20181103</td><td>1541203200</td><td>&quot;S14006&quot;</td><td>112</td><td>1</td><td>&quot;CS006214000001…</td><td>&quot;P070305012&quot;</td><td>1</td><td>158</td><td>&quot;葛が谷店&quot;</td></tr><tr><td>20181118</td><td>1542499200</td><td>&quot;S13008&quot;</td><td>1132</td><td>2</td><td>&quot;CS008415000097…</td><td>&quot;P070701017&quot;</td><td>1</td><td>81</td><td>&quot;成城店&quot;</td></tr><tr><td>20170712</td><td>1499817600</td><td>&quot;S14028&quot;</td><td>1102</td><td>1</td><td>&quot;CS028414000014…</td><td>&quot;P060101005&quot;</td><td>1</td><td>170</td><td>&quot;二ツ橋店&quot;</td></tr><tr><td>20190205</td><td>1549324800</td><td>&quot;S14042&quot;</td><td>1132</td><td>1</td><td>&quot;ZZ000000000000…</td><td>&quot;P050301001&quot;</td><td>1</td><td>25</td><td>&quot;新山下店&quot;</td></tr><tr><td>20180821</td><td>1534809600</td><td>&quot;S14025&quot;</td><td>1102</td><td>2</td><td>&quot;CS025415000050…</td><td>&quot;P060102007&quot;</td><td>1</td><td>90</td><td>&quot;大和店&quot;</td></tr><tr><td>20190605</td><td>1559692800</td><td>&quot;S13003&quot;</td><td>1112</td><td>1</td><td>&quot;CS003515000195…</td><td>&quot;P050102002&quot;</td><td>1</td><td>138</td><td>&quot;狛江店&quot;</td></tr><tr><td>20181205</td><td>1543968000</td><td>&quot;S14024&quot;</td><td>1102</td><td>2</td><td>&quot;CS024514000042…</td><td>&quot;P080101005&quot;</td><td>1</td><td>30</td><td>&quot;三田店&quot;</td></tr><tr><td>20190922</td><td>1569110400</td><td>&quot;S14040&quot;</td><td>1102</td><td>1</td><td>&quot;CS040415000178…</td><td>&quot;P070501004&quot;</td><td>1</td><td>128</td><td>&quot;長津田店&quot;</td></tr><tr><td>20170504</td><td>1493856000</td><td>&quot;S13020&quot;</td><td>1112</td><td>2</td><td>&quot;ZZ000000000000…</td><td>&quot;P071302010&quot;</td><td>1</td><td>770</td><td>&quot;十条仲原店&quot;</td></tr><tr><td>20191010</td><td>1570665600</td><td>&quot;S14027&quot;</td><td>1102</td><td>1</td><td>&quot;CS027514000015…</td><td>&quot;P071101003&quot;</td><td>1</td><td>680</td><td>&quot;南藤沢店&quot;</td></tr></tbody></table></div>"
      ],
      "text/plain": [
       "shape: (10, 10)\n",
       "┌─────────┬─────────┬─────────┬─────────┬─────────┬─────────┬─────────┬─────────┬────────┬─────────┐\n",
       "│ sales_y ┆ sales_e ┆ store_c ┆ receipt ┆ receipt ┆ custome ┆ product ┆ quantit ┆ amount ┆ store_n │\n",
       "│ md      ┆ poch    ┆ d       ┆ _no     ┆ _sub_no ┆ r_id    ┆ _cd     ┆ y       ┆ ---    ┆ ame     │\n",
       "│ ---     ┆ ---     ┆ ---     ┆ ---     ┆ ---     ┆ ---     ┆ ---     ┆ ---     ┆ i64    ┆ ---     │\n",
       "│ i64     ┆ i64     ┆ str     ┆ i64     ┆ i64     ┆ str     ┆ str     ┆ i64     ┆        ┆ str     │\n",
       "╞═════════╪═════════╪═════════╪═════════╪═════════╪═════════╪═════════╪═════════╪════════╪═════════╡\n",
       "│ 2018110 ┆ 1541203 ┆ S14006  ┆ 112     ┆ 1       ┆ CS00621 ┆ P070305 ┆ 1       ┆ 158    ┆ 葛が谷  │\n",
       "│ 3       ┆ 200     ┆         ┆         ┆         ┆ 4000001 ┆ 012     ┆         ┆        ┆ 店      │\n",
       "│ 2018111 ┆ 1542499 ┆ S13008  ┆ 1132    ┆ 2       ┆ CS00841 ┆ P070701 ┆ 1       ┆ 81     ┆ 成城店  │\n",
       "│ 8       ┆ 200     ┆         ┆         ┆         ┆ 5000097 ┆ 017     ┆         ┆        ┆         │\n",
       "│ 2017071 ┆ 1499817 ┆ S14028  ┆ 1102    ┆ 1       ┆ CS02841 ┆ P060101 ┆ 1       ┆ 170    ┆ 二ツ橋  │\n",
       "│ 2       ┆ 600     ┆         ┆         ┆         ┆ 4000014 ┆ 005     ┆         ┆        ┆ 店      │\n",
       "│ 2019020 ┆ 1549324 ┆ S14042  ┆ 1132    ┆ 1       ┆ ZZ00000 ┆ P050301 ┆ 1       ┆ 25     ┆ 新山下  │\n",
       "│ 5       ┆ 800     ┆         ┆         ┆         ┆ 0000000 ┆ 001     ┆         ┆        ┆ 店      │\n",
       "│ …       ┆ …       ┆ …       ┆ …       ┆ …       ┆ …       ┆ …       ┆ …       ┆ …      ┆ …       │\n",
       "│ 2018120 ┆ 1543968 ┆ S14024  ┆ 1102    ┆ 2       ┆ CS02451 ┆ P080101 ┆ 1       ┆ 30     ┆ 三田店  │\n",
       "│ 5       ┆ 000     ┆         ┆         ┆         ┆ 4000042 ┆ 005     ┆         ┆        ┆         │\n",
       "│ 2019092 ┆ 1569110 ┆ S14040  ┆ 1102    ┆ 1       ┆ CS04041 ┆ P070501 ┆ 1       ┆ 128    ┆ 長津田  │\n",
       "│ 2       ┆ 400     ┆         ┆         ┆         ┆ 5000178 ┆ 004     ┆         ┆        ┆ 店      │\n",
       "│ 2017050 ┆ 1493856 ┆ S13020  ┆ 1112    ┆ 2       ┆ ZZ00000 ┆ P071302 ┆ 1       ┆ 770    ┆ 十条仲  │\n",
       "│ 4       ┆ 000     ┆         ┆         ┆         ┆ 0000000 ┆ 010     ┆         ┆        ┆ 原店    │\n",
       "│ 2019101 ┆ 1570665 ┆ S14027  ┆ 1102    ┆ 1       ┆ CS02751 ┆ P071101 ┆ 1       ┆ 680    ┆ 南藤沢  │\n",
       "│ 0       ┆ 600     ┆         ┆         ┆         ┆ 4000015 ┆ 003     ┆         ┆        ┆ 店      │\n",
       "└─────────┴─────────┴─────────┴─────────┴─────────┴─────────┴─────────┴─────────┴────────┴─────────┘"
      ]
     },
     "execution_count": 13,
     "metadata": {},
     "output_type": "execute_result"
    }
   ],
   "source": [
    "(\n",
    "    df_receipt\n",
    "    .join(other = df_store[[\"store_cd\", \"store_name\"]],\n",
    "          on = \"store_cd\",\n",
    "          how = \"inner\")\n",
    "    .head(n = 10)\n",
    ")"
   ]
  }
 ],
 "metadata": {
  "kernelspec": {
   "display_name": "Python 3",
   "language": "python",
   "name": "python3"
  },
  "language_info": {
   "codemirror_mode": {
    "name": "ipython",
    "version": 3
   },
   "file_extension": ".py",
   "mimetype": "text/x-python",
   "name": "python",
   "nbconvert_exporter": "python",
   "pygments_lexer": "ipython3",
   "version": "3.11.4"
  }
 },
 "nbformat": 4,
 "nbformat_minor": 2
}
