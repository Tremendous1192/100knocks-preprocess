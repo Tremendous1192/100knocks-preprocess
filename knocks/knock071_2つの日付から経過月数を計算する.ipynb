{
 "cells": [
  {
   "cell_type": "markdown",
   "metadata": {},
   "source": [
    "## knock 071 2つの日付から経過月数を計算する"
   ]
  },
  {
   "cell_type": "code",
   "execution_count": 7,
   "metadata": {},
   "outputs": [],
   "source": [
    "import polars as pl\n",
    "pl.Config.set_tbl_cols(-1)# 列の表示が省略されないようにする\n",
    "import polars.selectors as cs# 抽出条件のプリセット"
   ]
  },
  {
   "cell_type": "markdown",
   "metadata": {},
   "source": [
    "### データを読み込む"
   ]
  },
  {
   "cell_type": "code",
   "execution_count": 8,
   "metadata": {},
   "outputs": [
    {
     "data": {
      "text/html": [
       "<div><style>\n",
       ".dataframe > thead > tr,\n",
       ".dataframe > tbody > tr {\n",
       "  text-align: right;\n",
       "  white-space: pre-wrap;\n",
       "}\n",
       "</style>\n",
       "<small>shape: (5, 11)</small><table border=\"1\" class=\"dataframe\"><thead><tr><th>customer_id</th><th>customer_name</th><th>gender_cd</th><th>gender</th><th>birth_day</th><th>age</th><th>postal_cd</th><th>address</th><th>application_store_cd</th><th>application_date</th><th>status_cd</th></tr><tr><td>str</td><td>str</td><td>i64</td><td>str</td><td>str</td><td>i64</td><td>str</td><td>str</td><td>str</td><td>i64</td><td>str</td></tr></thead><tbody><tr><td>&quot;CS021313000114…</td><td>&quot;大野 あや子&quot;</td><td>1</td><td>&quot;女性&quot;</td><td>&quot;1981-04-29&quot;</td><td>37</td><td>&quot;259-1113&quot;</td><td>&quot;神奈川県伊勢原市粟窪****…</td><td>&quot;S14021&quot;</td><td>20150905</td><td>&quot;0-00000000-0&quot;</td></tr><tr><td>&quot;CS037613000071…</td><td>&quot;六角 雅彦&quot;</td><td>9</td><td>&quot;不明&quot;</td><td>&quot;1952-04-01&quot;</td><td>66</td><td>&quot;136-0076&quot;</td><td>&quot;東京都江東区南砂******…</td><td>&quot;S13037&quot;</td><td>20150414</td><td>&quot;0-00000000-0&quot;</td></tr><tr><td>&quot;CS031415000172…</td><td>&quot;宇多田 貴美子&quot;</td><td>1</td><td>&quot;女性&quot;</td><td>&quot;1976-10-04&quot;</td><td>42</td><td>&quot;151-0053&quot;</td><td>&quot;東京都渋谷区代々木*****…</td><td>&quot;S13031&quot;</td><td>20150529</td><td>&quot;D-20100325-C&quot;</td></tr><tr><td>&quot;CS028811000001…</td><td>&quot;堀井 かおり&quot;</td><td>1</td><td>&quot;女性&quot;</td><td>&quot;1933-03-27&quot;</td><td>86</td><td>&quot;245-0016&quot;</td><td>&quot;神奈川県横浜市泉区和泉町**…</td><td>&quot;S14028&quot;</td><td>20160115</td><td>&quot;0-00000000-0&quot;</td></tr><tr><td>&quot;CS001215000145…</td><td>&quot;田崎 美紀&quot;</td><td>1</td><td>&quot;女性&quot;</td><td>&quot;1995-03-29&quot;</td><td>24</td><td>&quot;144-0055&quot;</td><td>&quot;東京都大田区仲六郷*****…</td><td>&quot;S13001&quot;</td><td>20170605</td><td>&quot;6-20090929-2&quot;</td></tr></tbody></table></div>"
      ],
      "text/plain": [
       "shape: (5, 11)\n",
       "┌─────────┬─────────┬─────────┬────────┬────────┬─────┬────────┬────────┬────────┬────────┬────────┐\n",
       "│ custome ┆ custome ┆ gender_ ┆ gender ┆ birth_ ┆ age ┆ postal ┆ addres ┆ applic ┆ applic ┆ status │\n",
       "│ r_id    ┆ r_name  ┆ cd      ┆ ---    ┆ day    ┆ --- ┆ _cd    ┆ s      ┆ ation_ ┆ ation_ ┆ _cd    │\n",
       "│ ---     ┆ ---     ┆ ---     ┆ str    ┆ ---    ┆ i64 ┆ ---    ┆ ---    ┆ store_ ┆ date   ┆ ---    │\n",
       "│ str     ┆ str     ┆ i64     ┆        ┆ str    ┆     ┆ str    ┆ str    ┆ cd     ┆ ---    ┆ str    │\n",
       "│         ┆         ┆         ┆        ┆        ┆     ┆        ┆        ┆ ---    ┆ i64    ┆        │\n",
       "│         ┆         ┆         ┆        ┆        ┆     ┆        ┆        ┆ str    ┆        ┆        │\n",
       "╞═════════╪═════════╪═════════╪════════╪════════╪═════╪════════╪════════╪════════╪════════╪════════╡\n",
       "│ CS02131 ┆ 大野    ┆ 1       ┆ 女性   ┆ 1981-0 ┆ 37  ┆ 259-11 ┆ 神奈川 ┆ S14021 ┆ 201509 ┆ 0-0000 │\n",
       "│ 3000114 ┆ あや子  ┆         ┆        ┆ 4-29   ┆     ┆ 13     ┆ 県伊勢 ┆        ┆ 05     ┆ 0000-0 │\n",
       "│         ┆         ┆         ┆        ┆        ┆     ┆        ┆ 原市粟 ┆        ┆        ┆        │\n",
       "│         ┆         ┆         ┆        ┆        ┆     ┆        ┆ 窪**** ┆        ┆        ┆        │\n",
       "│         ┆         ┆         ┆        ┆        ┆     ┆        ┆ ****** ┆        ┆        ┆        │\n",
       "│ CS03761 ┆ 六角    ┆ 9       ┆ 不明   ┆ 1952-0 ┆ 66  ┆ 136-00 ┆ 東京都 ┆ S13037 ┆ 201504 ┆ 0-0000 │\n",
       "│ 3000071 ┆ 雅彦    ┆         ┆        ┆ 4-01   ┆     ┆ 76     ┆ 江東区 ┆        ┆ 14     ┆ 0000-0 │\n",
       "│         ┆         ┆         ┆        ┆        ┆     ┆        ┆ 南砂** ┆        ┆        ┆        │\n",
       "│         ┆         ┆         ┆        ┆        ┆     ┆        ┆ ****** ┆        ┆        ┆        │\n",
       "│         ┆         ┆         ┆        ┆        ┆     ┆        ┆ **     ┆        ┆        ┆        │\n",
       "│ CS03141 ┆ 宇多田  ┆ 1       ┆ 女性   ┆ 1976-1 ┆ 42  ┆ 151-00 ┆ 東京都 ┆ S13031 ┆ 201505 ┆ D-2010 │\n",
       "│ 5000172 ┆ 貴美子  ┆         ┆        ┆ 0-04   ┆     ┆ 53     ┆ 渋谷区 ┆        ┆ 29     ┆ 0325-C │\n",
       "│         ┆         ┆         ┆        ┆        ┆     ┆        ┆ 代々木 ┆        ┆        ┆        │\n",
       "│         ┆         ┆         ┆        ┆        ┆     ┆        ┆ ****** ┆        ┆        ┆        │\n",
       "│         ┆         ┆         ┆        ┆        ┆     ┆        ┆ ****   ┆        ┆        ┆        │\n",
       "│ CS02881 ┆ 堀井    ┆ 1       ┆ 女性   ┆ 1933-0 ┆ 86  ┆ 245-00 ┆ 神奈川 ┆ S14028 ┆ 201601 ┆ 0-0000 │\n",
       "│ 1000001 ┆ かおり  ┆         ┆        ┆ 3-27   ┆     ┆ 16     ┆ 県横浜 ┆        ┆ 15     ┆ 0000-0 │\n",
       "│         ┆         ┆         ┆        ┆        ┆     ┆        ┆ 市泉区 ┆        ┆        ┆        │\n",
       "│         ┆         ┆         ┆        ┆        ┆     ┆        ┆ 和泉町 ┆        ┆        ┆        │\n",
       "│         ┆         ┆         ┆        ┆        ┆     ┆        ┆ ****** ┆        ┆        ┆        │\n",
       "│         ┆         ┆         ┆        ┆        ┆     ┆        ┆ ****   ┆        ┆        ┆        │\n",
       "│ CS00121 ┆ 田崎    ┆ 1       ┆ 女性   ┆ 1995-0 ┆ 24  ┆ 144-00 ┆ 東京都 ┆ S13001 ┆ 201706 ┆ 6-2009 │\n",
       "│ 5000145 ┆ 美紀    ┆         ┆        ┆ 3-29   ┆     ┆ 55     ┆ 大田区 ┆        ┆ 05     ┆ 0929-2 │\n",
       "│         ┆         ┆         ┆        ┆        ┆     ┆        ┆ 仲六郷 ┆        ┆        ┆        │\n",
       "│         ┆         ┆         ┆        ┆        ┆     ┆        ┆ ****** ┆        ┆        ┆        │\n",
       "│         ┆         ┆         ┆        ┆        ┆     ┆        ┆ ****   ┆        ┆        ┆        │\n",
       "└─────────┴─────────┴─────────┴────────┴────────┴─────┴────────┴────────┴────────┴────────┴────────┘"
      ]
     },
     "metadata": {},
     "output_type": "display_data"
    },
    {
     "data": {
      "text/html": [
       "<div><style>\n",
       ".dataframe > thead > tr,\n",
       ".dataframe > tbody > tr {\n",
       "  text-align: right;\n",
       "  white-space: pre-wrap;\n",
       "}\n",
       "</style>\n",
       "<small>shape: (5, 9)</small><table border=\"1\" class=\"dataframe\"><thead><tr><th>sales_ymd</th><th>sales_epoch</th><th>store_cd</th><th>receipt_no</th><th>receipt_sub_no</th><th>customer_id</th><th>product_cd</th><th>quantity</th><th>amount</th></tr><tr><td>i64</td><td>i64</td><td>str</td><td>i64</td><td>i64</td><td>str</td><td>str</td><td>i64</td><td>i64</td></tr></thead><tbody><tr><td>20181103</td><td>1541203200</td><td>&quot;S14006&quot;</td><td>112</td><td>1</td><td>&quot;CS006214000001…</td><td>&quot;P070305012&quot;</td><td>1</td><td>158</td></tr><tr><td>20181118</td><td>1542499200</td><td>&quot;S13008&quot;</td><td>1132</td><td>2</td><td>&quot;CS008415000097…</td><td>&quot;P070701017&quot;</td><td>1</td><td>81</td></tr><tr><td>20170712</td><td>1499817600</td><td>&quot;S14028&quot;</td><td>1102</td><td>1</td><td>&quot;CS028414000014…</td><td>&quot;P060101005&quot;</td><td>1</td><td>170</td></tr><tr><td>20190205</td><td>1549324800</td><td>&quot;S14042&quot;</td><td>1132</td><td>1</td><td>&quot;ZZ000000000000…</td><td>&quot;P050301001&quot;</td><td>1</td><td>25</td></tr><tr><td>20180821</td><td>1534809600</td><td>&quot;S14025&quot;</td><td>1102</td><td>2</td><td>&quot;CS025415000050…</td><td>&quot;P060102007&quot;</td><td>1</td><td>90</td></tr></tbody></table></div>"
      ],
      "text/plain": [
       "shape: (5, 9)\n",
       "┌───────────┬───────────┬──────────┬──────────┬──────────┬──────────┬──────────┬──────────┬────────┐\n",
       "│ sales_ymd ┆ sales_epo ┆ store_cd ┆ receipt_ ┆ receipt_ ┆ customer ┆ product_ ┆ quantity ┆ amount │\n",
       "│ ---       ┆ ch        ┆ ---      ┆ no       ┆ sub_no   ┆ _id      ┆ cd       ┆ ---      ┆ ---    │\n",
       "│ i64       ┆ ---       ┆ str      ┆ ---      ┆ ---      ┆ ---      ┆ ---      ┆ i64      ┆ i64    │\n",
       "│           ┆ i64       ┆          ┆ i64      ┆ i64      ┆ str      ┆ str      ┆          ┆        │\n",
       "╞═══════════╪═══════════╪══════════╪══════════╪══════════╪══════════╪══════════╪══════════╪════════╡\n",
       "│ 20181103  ┆ 154120320 ┆ S14006   ┆ 112      ┆ 1        ┆ CS006214 ┆ P0703050 ┆ 1        ┆ 158    │\n",
       "│           ┆ 0         ┆          ┆          ┆          ┆ 000001   ┆ 12       ┆          ┆        │\n",
       "│ 20181118  ┆ 154249920 ┆ S13008   ┆ 1132     ┆ 2        ┆ CS008415 ┆ P0707010 ┆ 1        ┆ 81     │\n",
       "│           ┆ 0         ┆          ┆          ┆          ┆ 000097   ┆ 17       ┆          ┆        │\n",
       "│ 20170712  ┆ 149981760 ┆ S14028   ┆ 1102     ┆ 1        ┆ CS028414 ┆ P0601010 ┆ 1        ┆ 170    │\n",
       "│           ┆ 0         ┆          ┆          ┆          ┆ 000014   ┆ 05       ┆          ┆        │\n",
       "│ 20190205  ┆ 154932480 ┆ S14042   ┆ 1132     ┆ 1        ┆ ZZ000000 ┆ P0503010 ┆ 1        ┆ 25     │\n",
       "│           ┆ 0         ┆          ┆          ┆          ┆ 000000   ┆ 01       ┆          ┆        │\n",
       "│ 20180821  ┆ 153480960 ┆ S14025   ┆ 1102     ┆ 2        ┆ CS025415 ┆ P0601020 ┆ 1        ┆ 90     │\n",
       "│           ┆ 0         ┆          ┆          ┆          ┆ 000050   ┆ 07       ┆          ┆        │\n",
       "└───────────┴───────────┴──────────┴──────────┴──────────┴──────────┴──────────┴──────────┴────────┘"
      ]
     },
     "metadata": {},
     "output_type": "display_data"
    }
   ],
   "source": [
    "df_customer = pl.read_csv(\"../docker/work/data/customer.csv\")\n",
    "display(df_customer.head())\n",
    "\n",
    "df_receipt = pl.read_csv(\"../docker/work/data/receipt.csv\")\n",
    "display(df_receipt.head())"
   ]
  },
  {
   "cell_type": "markdown",
   "metadata": {},
   "source": [
    "### ノック"
   ]
  },
  {
   "cell_type": "code",
   "execution_count": 9,
   "metadata": {},
   "outputs": [
    {
     "data": {
      "text/html": [
       "<div><style>\n",
       ".dataframe > thead > tr,\n",
       ".dataframe > tbody > tr {\n",
       "  text-align: right;\n",
       "  white-space: pre-wrap;\n",
       "}\n",
       "</style>\n",
       "<small>shape: (10, 4)</small><table border=\"1\" class=\"dataframe\"><thead><tr><th>customer_id</th><th>sales_ymd</th><th>application_date</th><th>elapsed_months</th></tr><tr><td>str</td><td>date</td><td>date</td><td>i64</td></tr></thead><tbody><tr><td>&quot;CS025415000050…</td><td>2018-08-21</td><td>2016-01-31</td><td>31</td></tr><tr><td>&quot;CS003515000195…</td><td>2019-06-05</td><td>2015-03-06</td><td>51</td></tr><tr><td>&quot;CS039414000052…</td><td>2018-05-06</td><td>2015-05-09</td><td>36</td></tr><tr><td>&quot;ZZ000000000000…</td><td>2019-01-05</td><td>null</td><td>null</td></tr><tr><td>&quot;CS026615000085…</td><td>2018-11-01</td><td>2015-08-02</td><td>39</td></tr><tr><td>&quot;CS028415000203…</td><td>2017-05-23</td><td>2015-02-04</td><td>27</td></tr><tr><td>&quot;CS014214000013…</td><td>2019-04-28</td><td>2015-03-05</td><td>49</td></tr><tr><td>&quot;CS034414000034…</td><td>2019-08-19</td><td>2015-05-16</td><td>51</td></tr><tr><td>&quot;CS026414000062…</td><td>2019-06-19</td><td>2015-06-10</td><td>48</td></tr><tr><td>&quot;CS016415000215…</td><td>2017-06-11</td><td>2014-11-05</td><td>4294967327</td></tr></tbody></table></div>"
      ],
      "text/plain": [
       "shape: (10, 4)\n",
       "┌────────────────┬────────────┬──────────────────┬────────────────┐\n",
       "│ customer_id    ┆ sales_ymd  ┆ application_date ┆ elapsed_months │\n",
       "│ ---            ┆ ---        ┆ ---              ┆ ---            │\n",
       "│ str            ┆ date       ┆ date             ┆ i64            │\n",
       "╞════════════════╪════════════╪══════════════════╪════════════════╡\n",
       "│ CS025415000050 ┆ 2018-08-21 ┆ 2016-01-31       ┆ 31             │\n",
       "│ CS003515000195 ┆ 2019-06-05 ┆ 2015-03-06       ┆ 51             │\n",
       "│ CS039414000052 ┆ 2018-05-06 ┆ 2015-05-09       ┆ 36             │\n",
       "│ ZZ000000000000 ┆ 2019-01-05 ┆ null             ┆ null           │\n",
       "│ …              ┆ …          ┆ …                ┆ …              │\n",
       "│ CS014214000013 ┆ 2019-04-28 ┆ 2015-03-05       ┆ 49             │\n",
       "│ CS034414000034 ┆ 2019-08-19 ┆ 2015-05-16       ┆ 51             │\n",
       "│ CS026414000062 ┆ 2019-06-19 ┆ 2015-06-10       ┆ 48             │\n",
       "│ CS016415000215 ┆ 2017-06-11 ┆ 2014-11-05       ┆ 4294967327     │\n",
       "└────────────────┴────────────┴──────────────────┴────────────────┘"
      ]
     },
     "execution_count": 9,
     "metadata": {},
     "output_type": "execute_result"
    }
   ],
   "source": [
    "(\n",
    "    df_receipt\n",
    "    # 使用する列を抽出する(大規模データの場合メモリ使用量を節約する効果がある)\n",
    "    .select(\n",
    "        pl.col(\"customer_id\"),\n",
    "        pl.col(\"sales_ymd\")\n",
    "    )\n",
    "    # 同一売上日かつ同一顧客のデータを削除する\n",
    "    .unique()\n",
    "    # 顧客IDに会員登録日を追加する\n",
    "    .join(\n",
    "        other = df_customer[[\"customer_id\", \"application_date\"]],\n",
    "        on = \"customer_id\",\n",
    "        how = \"left\"\n",
    "    )\n",
    "    # DateTime型に変換する\n",
    "    .with_columns([\n",
    "        pl.col(\"sales_ymd\").cast(pl.Utf8).str.strptime(dtype = pl.Date, format = \"%Y%m%d\"),\n",
    "        pl.col(\"application_date\").cast(pl.Utf8).str.strptime(dtype = pl.Date, format = \"%Y%m%d\")\n",
    "    ])\n",
    "    # 入会日から買い物までの経過月数を計算する\n",
    "    .with_columns(\n",
    "        ((pl.col(\"sales_ymd\").dt.year() - pl.col(\"application_date\").dt.year()) * 12\n",
    "        + (pl.col(\"sales_ymd\").dt.month() - pl.col(\"application_date\").dt.month()))\n",
    "        .alias(\"elapsed_months\")\n",
    "    )\n",
    "    # 先頭10行\n",
    "    .head(n = 10)\n",
    ")"
   ]
  }
 ],
 "metadata": {
  "kernelspec": {
   "display_name": "Python 3",
   "language": "python",
   "name": "python3"
  },
  "language_info": {
   "codemirror_mode": {
    "name": "ipython",
    "version": 3
   },
   "file_extension": ".py",
   "mimetype": "text/x-python",
   "name": "python",
   "nbconvert_exporter": "python",
   "pygments_lexer": "ipython3",
   "version": "3.11.4"
  }
 },
 "nbformat": 4,
 "nbformat_minor": 2
}
