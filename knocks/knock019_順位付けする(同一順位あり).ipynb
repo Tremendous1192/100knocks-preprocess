{
 "cells": [
  {
   "cell_type": "markdown",
   "metadata": {},
   "source": [
    "## knock 019 順位付けする(同一順位あり)"
   ]
  },
  {
   "cell_type": "code",
   "execution_count": 19,
   "metadata": {},
   "outputs": [
    {
     "data": {
      "text/plain": [
       "polars.config.Config"
      ]
     },
     "execution_count": 19,
     "metadata": {},
     "output_type": "execute_result"
    }
   ],
   "source": [
    "import polars as pl\n",
    "pl.Config.set_tbl_cols(-1)# 列が省略されないようにする"
   ]
  },
  {
   "cell_type": "markdown",
   "metadata": {},
   "source": [
    "### データを読み込む"
   ]
  },
  {
   "cell_type": "code",
   "execution_count": 20,
   "metadata": {},
   "outputs": [
    {
     "data": {
      "text/html": [
       "<div><style>\n",
       ".dataframe > thead > tr,\n",
       ".dataframe > tbody > tr {\n",
       "  text-align: right;\n",
       "  white-space: pre-wrap;\n",
       "}\n",
       "</style>\n",
       "<small>shape: (5, 9)</small><table border=\"1\" class=\"dataframe\"><thead><tr><th>sales_ymd</th><th>sales_epoch</th><th>store_cd</th><th>receipt_no</th><th>receipt_sub_no</th><th>customer_id</th><th>product_cd</th><th>quantity</th><th>amount</th></tr><tr><td>i64</td><td>i64</td><td>str</td><td>i64</td><td>i64</td><td>str</td><td>str</td><td>i64</td><td>i64</td></tr></thead><tbody><tr><td>20181103</td><td>1541203200</td><td>&quot;S14006&quot;</td><td>112</td><td>1</td><td>&quot;CS006214000001…</td><td>&quot;P070305012&quot;</td><td>1</td><td>158</td></tr><tr><td>20181118</td><td>1542499200</td><td>&quot;S13008&quot;</td><td>1132</td><td>2</td><td>&quot;CS008415000097…</td><td>&quot;P070701017&quot;</td><td>1</td><td>81</td></tr><tr><td>20170712</td><td>1499817600</td><td>&quot;S14028&quot;</td><td>1102</td><td>1</td><td>&quot;CS028414000014…</td><td>&quot;P060101005&quot;</td><td>1</td><td>170</td></tr><tr><td>20190205</td><td>1549324800</td><td>&quot;S14042&quot;</td><td>1132</td><td>1</td><td>&quot;ZZ000000000000…</td><td>&quot;P050301001&quot;</td><td>1</td><td>25</td></tr><tr><td>20180821</td><td>1534809600</td><td>&quot;S14025&quot;</td><td>1102</td><td>2</td><td>&quot;CS025415000050…</td><td>&quot;P060102007&quot;</td><td>1</td><td>90</td></tr></tbody></table></div>"
      ],
      "text/plain": [
       "shape: (5, 9)\n",
       "┌───────────┬───────────┬──────────┬──────────┬──────────┬──────────┬──────────┬──────────┬────────┐\n",
       "│ sales_ymd ┆ sales_epo ┆ store_cd ┆ receipt_ ┆ receipt_ ┆ customer ┆ product_ ┆ quantity ┆ amount │\n",
       "│ ---       ┆ ch        ┆ ---      ┆ no       ┆ sub_no   ┆ _id      ┆ cd       ┆ ---      ┆ ---    │\n",
       "│ i64       ┆ ---       ┆ str      ┆ ---      ┆ ---      ┆ ---      ┆ ---      ┆ i64      ┆ i64    │\n",
       "│           ┆ i64       ┆          ┆ i64      ┆ i64      ┆ str      ┆ str      ┆          ┆        │\n",
       "╞═══════════╪═══════════╪══════════╪══════════╪══════════╪══════════╪══════════╪══════════╪════════╡\n",
       "│ 20181103  ┆ 154120320 ┆ S14006   ┆ 112      ┆ 1        ┆ CS006214 ┆ P0703050 ┆ 1        ┆ 158    │\n",
       "│           ┆ 0         ┆          ┆          ┆          ┆ 000001   ┆ 12       ┆          ┆        │\n",
       "│ 20181118  ┆ 154249920 ┆ S13008   ┆ 1132     ┆ 2        ┆ CS008415 ┆ P0707010 ┆ 1        ┆ 81     │\n",
       "│           ┆ 0         ┆          ┆          ┆          ┆ 000097   ┆ 17       ┆          ┆        │\n",
       "│ 20170712  ┆ 149981760 ┆ S14028   ┆ 1102     ┆ 1        ┆ CS028414 ┆ P0601010 ┆ 1        ┆ 170    │\n",
       "│           ┆ 0         ┆          ┆          ┆          ┆ 000014   ┆ 05       ┆          ┆        │\n",
       "│ 20190205  ┆ 154932480 ┆ S14042   ┆ 1132     ┆ 1        ┆ ZZ000000 ┆ P0503010 ┆ 1        ┆ 25     │\n",
       "│           ┆ 0         ┆          ┆          ┆          ┆ 000000   ┆ 01       ┆          ┆        │\n",
       "│ 20180821  ┆ 153480960 ┆ S14025   ┆ 1102     ┆ 2        ┆ CS025415 ┆ P0601020 ┆ 1        ┆ 90     │\n",
       "│           ┆ 0         ┆          ┆          ┆          ┆ 000050   ┆ 07       ┆          ┆        │\n",
       "└───────────┴───────────┴──────────┴──────────┴──────────┴──────────┴──────────┴──────────┴────────┘"
      ]
     },
     "execution_count": 20,
     "metadata": {},
     "output_type": "execute_result"
    }
   ],
   "source": [
    "df_receipt = pl.read_csv(\"../docker/work/data/receipt.csv\")\n",
    "df_receipt.head()"
   ]
  },
  {
   "cell_type": "markdown",
   "metadata": {},
   "source": [
    "### ノック"
   ]
  },
  {
   "cell_type": "code",
   "execution_count": 21,
   "metadata": {},
   "outputs": [
    {
     "data": {
      "text/html": [
       "<div><style>\n",
       ".dataframe > thead > tr,\n",
       ".dataframe > tbody > tr {\n",
       "  text-align: right;\n",
       "  white-space: pre-wrap;\n",
       "}\n",
       "</style>\n",
       "<small>shape: (10, 10)</small><table border=\"1\" class=\"dataframe\"><thead><tr><th>sales_ymd</th><th>sales_epoch</th><th>store_cd</th><th>receipt_no</th><th>receipt_sub_no</th><th>customer_id</th><th>product_cd</th><th>quantity</th><th>amount</th><th>ranking</th></tr><tr><td>i64</td><td>i64</td><td>str</td><td>i64</td><td>i64</td><td>str</td><td>str</td><td>i64</td><td>i64</td><td>i64</td></tr></thead><tbody><tr><td>20190903</td><td>1567468800</td><td>&quot;S14011&quot;</td><td>1192</td><td>2</td><td>&quot;CS011415000006…</td><td>&quot;P080104055&quot;</td><td>1</td><td>10925</td><td>1</td></tr><tr><td>20190304</td><td>1551657600</td><td>&quot;S14046&quot;</td><td>1152</td><td>2</td><td>&quot;ZZ000000000000…</td><td>&quot;P090302118&quot;</td><td>1</td><td>6800</td><td>2</td></tr><tr><td>20170921</td><td>1505952000</td><td>&quot;S14028&quot;</td><td>1192</td><td>2</td><td>&quot;CS028605000002…</td><td>&quot;P090907210&quot;</td><td>1</td><td>5780</td><td>3</td></tr><tr><td>20170721</td><td>1500595200</td><td>&quot;S13015&quot;</td><td>1112</td><td>1</td><td>&quot;CS015515000034…</td><td>&quot;P090907208&quot;</td><td>1</td><td>5480</td><td>5</td></tr><tr><td>20190103</td><td>1546473600</td><td>&quot;S14021&quot;</td><td>1162</td><td>2</td><td>&quot;ZZ000000000000…</td><td>&quot;P090907208&quot;</td><td>1</td><td>5480</td><td>5</td></tr><tr><td>20190724</td><td>1563926400</td><td>&quot;S13009&quot;</td><td>1192</td><td>2</td><td>&quot;ZZ000000000000…</td><td>&quot;P090907209&quot;</td><td>1</td><td>5480</td><td>5</td></tr><tr><td>20180621</td><td>1529539200</td><td>&quot;S13004&quot;</td><td>1172</td><td>2</td><td>&quot;ZZ000000000000…</td><td>&quot;P090907206&quot;</td><td>1</td><td>5440</td><td>7</td></tr><tr><td>20190209</td><td>1549670400</td><td>&quot;S14021&quot;</td><td>1142</td><td>2</td><td>&quot;CS021515000089…</td><td>&quot;P090907206&quot;</td><td>1</td><td>5440</td><td>7</td></tr><tr><td>20181219</td><td>1545177600</td><td>&quot;S13015&quot;</td><td>1132</td><td>1</td><td>&quot;CS015515000083…</td><td>&quot;P071301009&quot;</td><td>1</td><td>5280</td><td>24</td></tr><tr><td>20180603</td><td>1527984000</td><td>&quot;S13017&quot;</td><td>1192</td><td>1</td><td>&quot;CS017414000114…</td><td>&quot;P071301009&quot;</td><td>1</td><td>5280</td><td>24</td></tr></tbody></table></div>"
      ],
      "text/plain": [
       "shape: (10, 10)\n",
       "┌─────────┬─────────┬─────────┬─────────┬─────────┬─────────┬─────────┬─────────┬────────┬─────────┐\n",
       "│ sales_y ┆ sales_e ┆ store_c ┆ receipt ┆ receipt ┆ custome ┆ product ┆ quantit ┆ amount ┆ ranking │\n",
       "│ md      ┆ poch    ┆ d       ┆ _no     ┆ _sub_no ┆ r_id    ┆ _cd     ┆ y       ┆ ---    ┆ ---     │\n",
       "│ ---     ┆ ---     ┆ ---     ┆ ---     ┆ ---     ┆ ---     ┆ ---     ┆ ---     ┆ i64    ┆ i64     │\n",
       "│ i64     ┆ i64     ┆ str     ┆ i64     ┆ i64     ┆ str     ┆ str     ┆ i64     ┆        ┆         │\n",
       "╞═════════╪═════════╪═════════╪═════════╪═════════╪═════════╪═════════╪═════════╪════════╪═════════╡\n",
       "│ 2019090 ┆ 1567468 ┆ S14011  ┆ 1192    ┆ 2       ┆ CS01141 ┆ P080104 ┆ 1       ┆ 10925  ┆ 1       │\n",
       "│ 3       ┆ 800     ┆         ┆         ┆         ┆ 5000006 ┆ 055     ┆         ┆        ┆         │\n",
       "│ 2019030 ┆ 1551657 ┆ S14046  ┆ 1152    ┆ 2       ┆ ZZ00000 ┆ P090302 ┆ 1       ┆ 6800   ┆ 2       │\n",
       "│ 4       ┆ 600     ┆         ┆         ┆         ┆ 0000000 ┆ 118     ┆         ┆        ┆         │\n",
       "│ 2017092 ┆ 1505952 ┆ S14028  ┆ 1192    ┆ 2       ┆ CS02860 ┆ P090907 ┆ 1       ┆ 5780   ┆ 3       │\n",
       "│ 1       ┆ 000     ┆         ┆         ┆         ┆ 5000002 ┆ 210     ┆         ┆        ┆         │\n",
       "│ 2017072 ┆ 1500595 ┆ S13015  ┆ 1112    ┆ 1       ┆ CS01551 ┆ P090907 ┆ 1       ┆ 5480   ┆ 5       │\n",
       "│ 1       ┆ 200     ┆         ┆         ┆         ┆ 5000034 ┆ 208     ┆         ┆        ┆         │\n",
       "│ …       ┆ …       ┆ …       ┆ …       ┆ …       ┆ …       ┆ …       ┆ …       ┆ …      ┆ …       │\n",
       "│ 2018062 ┆ 1529539 ┆ S13004  ┆ 1172    ┆ 2       ┆ ZZ00000 ┆ P090907 ┆ 1       ┆ 5440   ┆ 7       │\n",
       "│ 1       ┆ 200     ┆         ┆         ┆         ┆ 0000000 ┆ 206     ┆         ┆        ┆         │\n",
       "│ 2019020 ┆ 1549670 ┆ S14021  ┆ 1142    ┆ 2       ┆ CS02151 ┆ P090907 ┆ 1       ┆ 5440   ┆ 7       │\n",
       "│ 9       ┆ 400     ┆         ┆         ┆         ┆ 5000089 ┆ 206     ┆         ┆        ┆         │\n",
       "│ 2018121 ┆ 1545177 ┆ S13015  ┆ 1132    ┆ 1       ┆ CS01551 ┆ P071301 ┆ 1       ┆ 5280   ┆ 24      │\n",
       "│ 9       ┆ 600     ┆         ┆         ┆         ┆ 5000083 ┆ 009     ┆         ┆        ┆         │\n",
       "│ 2018060 ┆ 1527984 ┆ S13017  ┆ 1192    ┆ 1       ┆ CS01741 ┆ P071301 ┆ 1       ┆ 5280   ┆ 24      │\n",
       "│ 3       ┆ 000     ┆         ┆         ┆         ┆ 4000114 ┆ 009     ┆         ┆        ┆         │\n",
       "└─────────┴─────────┴─────────┴─────────┴─────────┴─────────┴─────────┴─────────┴────────┴─────────┘"
      ]
     },
     "execution_count": 21,
     "metadata": {},
     "output_type": "execute_result"
    }
   ],
   "source": [
    "(\n",
    "    df_receipt\n",
    "    .with_columns(\n",
    "        df_receipt[\"amount\"].rank(descending = True, seed = 42).cast(pl.Int64).alias(\"ranking\")\n",
    "        )\n",
    "    .sort(by = \"ranking\")\n",
    "    .head(n = 10)\n",
    ")"
   ]
  }
 ],
 "metadata": {
  "kernelspec": {
   "display_name": "Python 3",
   "language": "python",
   "name": "python3"
  },
  "language_info": {
   "codemirror_mode": {
    "name": "ipython",
    "version": 3
   },
   "file_extension": ".py",
   "mimetype": "text/x-python",
   "name": "python",
   "nbconvert_exporter": "python",
   "pygments_lexer": "ipython3",
   "version": "3.11.4"
  }
 },
 "nbformat": 4,
 "nbformat_minor": 2
}
