{
 "cells": [
  {
   "cell_type": "markdown",
   "metadata": {},
   "source": [
    "## knock 051 日付データから特定の日だけ取り出す"
   ]
  },
  {
   "cell_type": "code",
   "execution_count": 1,
   "metadata": {},
   "outputs": [
    {
     "data": {
      "text/plain": [
       "polars.config.Config"
      ]
     },
     "execution_count": 1,
     "metadata": {},
     "output_type": "execute_result"
    }
   ],
   "source": [
    "import polars as pl\n",
    "pl.Config.set_tbl_cols(-1)# 列が省略されないようにする"
   ]
  },
  {
   "cell_type": "markdown",
   "metadata": {},
   "source": [
    "### データを読み込む"
   ]
  },
  {
   "cell_type": "code",
   "execution_count": 2,
   "metadata": {},
   "outputs": [
    {
     "data": {
      "text/html": [
       "<div><style>\n",
       ".dataframe > thead > tr,\n",
       ".dataframe > tbody > tr {\n",
       "  text-align: right;\n",
       "  white-space: pre-wrap;\n",
       "}\n",
       "</style>\n",
       "<small>shape: (5, 9)</small><table border=\"1\" class=\"dataframe\"><thead><tr><th>sales_ymd</th><th>sales_epoch</th><th>store_cd</th><th>receipt_no</th><th>receipt_sub_no</th><th>customer_id</th><th>product_cd</th><th>quantity</th><th>amount</th></tr><tr><td>i64</td><td>i64</td><td>str</td><td>i64</td><td>i64</td><td>str</td><td>str</td><td>i64</td><td>i64</td></tr></thead><tbody><tr><td>20181103</td><td>1541203200</td><td>&quot;S14006&quot;</td><td>112</td><td>1</td><td>&quot;CS006214000001…</td><td>&quot;P070305012&quot;</td><td>1</td><td>158</td></tr><tr><td>20181118</td><td>1542499200</td><td>&quot;S13008&quot;</td><td>1132</td><td>2</td><td>&quot;CS008415000097…</td><td>&quot;P070701017&quot;</td><td>1</td><td>81</td></tr><tr><td>20170712</td><td>1499817600</td><td>&quot;S14028&quot;</td><td>1102</td><td>1</td><td>&quot;CS028414000014…</td><td>&quot;P060101005&quot;</td><td>1</td><td>170</td></tr><tr><td>20190205</td><td>1549324800</td><td>&quot;S14042&quot;</td><td>1132</td><td>1</td><td>&quot;ZZ000000000000…</td><td>&quot;P050301001&quot;</td><td>1</td><td>25</td></tr><tr><td>20180821</td><td>1534809600</td><td>&quot;S14025&quot;</td><td>1102</td><td>2</td><td>&quot;CS025415000050…</td><td>&quot;P060102007&quot;</td><td>1</td><td>90</td></tr></tbody></table></div>"
      ],
      "text/plain": [
       "shape: (5, 9)\n",
       "┌───────────┬───────────┬──────────┬──────────┬──────────┬──────────┬──────────┬──────────┬────────┐\n",
       "│ sales_ymd ┆ sales_epo ┆ store_cd ┆ receipt_ ┆ receipt_ ┆ customer ┆ product_ ┆ quantity ┆ amount │\n",
       "│ ---       ┆ ch        ┆ ---      ┆ no       ┆ sub_no   ┆ _id      ┆ cd       ┆ ---      ┆ ---    │\n",
       "│ i64       ┆ ---       ┆ str      ┆ ---      ┆ ---      ┆ ---      ┆ ---      ┆ i64      ┆ i64    │\n",
       "│           ┆ i64       ┆          ┆ i64      ┆ i64      ┆ str      ┆ str      ┆          ┆        │\n",
       "╞═══════════╪═══════════╪══════════╪══════════╪══════════╪══════════╪══════════╪══════════╪════════╡\n",
       "│ 20181103  ┆ 154120320 ┆ S14006   ┆ 112      ┆ 1        ┆ CS006214 ┆ P0703050 ┆ 1        ┆ 158    │\n",
       "│           ┆ 0         ┆          ┆          ┆          ┆ 000001   ┆ 12       ┆          ┆        │\n",
       "│ 20181118  ┆ 154249920 ┆ S13008   ┆ 1132     ┆ 2        ┆ CS008415 ┆ P0707010 ┆ 1        ┆ 81     │\n",
       "│           ┆ 0         ┆          ┆          ┆          ┆ 000097   ┆ 17       ┆          ┆        │\n",
       "│ 20170712  ┆ 149981760 ┆ S14028   ┆ 1102     ┆ 1        ┆ CS028414 ┆ P0601010 ┆ 1        ┆ 170    │\n",
       "│           ┆ 0         ┆          ┆          ┆          ┆ 000014   ┆ 05       ┆          ┆        │\n",
       "│ 20190205  ┆ 154932480 ┆ S14042   ┆ 1132     ┆ 1        ┆ ZZ000000 ┆ P0503010 ┆ 1        ┆ 25     │\n",
       "│           ┆ 0         ┆          ┆          ┆          ┆ 000000   ┆ 01       ┆          ┆        │\n",
       "│ 20180821  ┆ 153480960 ┆ S14025   ┆ 1102     ┆ 2        ┆ CS025415 ┆ P0601020 ┆ 1        ┆ 90     │\n",
       "│           ┆ 0         ┆          ┆          ┆          ┆ 000050   ┆ 07       ┆          ┆        │\n",
       "└───────────┴───────────┴──────────┴──────────┴──────────┴──────────┴──────────┴──────────┴────────┘"
      ]
     },
     "metadata": {},
     "output_type": "display_data"
    }
   ],
   "source": [
    "df_receipt = pl.read_csv(\"../docker/work/data/receipt.csv\")\n",
    "display(df_receipt.head())"
   ]
  },
  {
   "cell_type": "markdown",
   "metadata": {},
   "source": [
    "### ノック"
   ]
  },
  {
   "cell_type": "code",
   "execution_count": 4,
   "metadata": {},
   "outputs": [
    {
     "data": {
      "text/html": [
       "<div><style>\n",
       ".dataframe > thead > tr,\n",
       ".dataframe > tbody > tr {\n",
       "  text-align: right;\n",
       "  white-space: pre-wrap;\n",
       "}\n",
       "</style>\n",
       "<small>shape: (10, 3)</small><table border=\"1\" class=\"dataframe\"><thead><tr><th>receipt_no</th><th>receipt_sub_no</th><th>sales_day</th></tr><tr><td>i64</td><td>i64</td><td>str</td></tr></thead><tbody><tr><td>112</td><td>1</td><td>&quot;03&quot;</td></tr><tr><td>1132</td><td>2</td><td>&quot;18&quot;</td></tr><tr><td>1102</td><td>1</td><td>&quot;12&quot;</td></tr><tr><td>1132</td><td>1</td><td>&quot;05&quot;</td></tr><tr><td>1102</td><td>2</td><td>&quot;21&quot;</td></tr><tr><td>1112</td><td>1</td><td>&quot;05&quot;</td></tr><tr><td>1102</td><td>2</td><td>&quot;05&quot;</td></tr><tr><td>1102</td><td>1</td><td>&quot;22&quot;</td></tr><tr><td>1112</td><td>2</td><td>&quot;04&quot;</td></tr><tr><td>1102</td><td>1</td><td>&quot;10&quot;</td></tr></tbody></table></div>"
      ],
      "text/plain": [
       "shape: (10, 3)\n",
       "┌────────────┬────────────────┬───────────┐\n",
       "│ receipt_no ┆ receipt_sub_no ┆ sales_day │\n",
       "│ ---        ┆ ---            ┆ ---       │\n",
       "│ i64        ┆ i64            ┆ str       │\n",
       "╞════════════╪════════════════╪═══════════╡\n",
       "│ 112        ┆ 1              ┆ 03        │\n",
       "│ 1132       ┆ 2              ┆ 18        │\n",
       "│ 1102       ┆ 1              ┆ 12        │\n",
       "│ 1132       ┆ 1              ┆ 05        │\n",
       "│ …          ┆ …              ┆ …         │\n",
       "│ 1102       ┆ 2              ┆ 05        │\n",
       "│ 1102       ┆ 1              ┆ 22        │\n",
       "│ 1112       ┆ 2              ┆ 04        │\n",
       "│ 1102       ┆ 1              ┆ 10        │\n",
       "└────────────┴────────────────┴───────────┘"
      ]
     },
     "execution_count": 4,
     "metadata": {},
     "output_type": "execute_result"
    }
   ],
   "source": [
    "(\n",
    "    df_receipt\n",
    "    .select(\n",
    "        pl.col(\"receipt_no\"),\n",
    "        pl.col(\"receipt_sub_no\"),\n",
    "        (pl.col(\"sales_epoch\") * 1000)\n",
    "        # 日付型に変換する\n",
    "        .cast(pl.Datetime).dt.with_time_unit(\"ms\")\n",
    "        # 購入日に変換する\n",
    "        .dt.strftime('%d').alias(\"sales_day\")\n",
    "    )\n",
    "    .head(n = 10)\n",
    ")"
   ]
  }
 ],
 "metadata": {
  "kernelspec": {
   "display_name": "Python 3",
   "language": "python",
   "name": "python3"
  },
  "language_info": {
   "codemirror_mode": {
    "name": "ipython",
    "version": 3
   },
   "file_extension": ".py",
   "mimetype": "text/x-python",
   "name": "python",
   "nbconvert_exporter": "python",
   "pygments_lexer": "ipython3",
   "version": "3.11.4"
  }
 },
 "nbformat": 4,
 "nbformat_minor": 2
}
