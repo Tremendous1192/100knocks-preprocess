{
 "cells": [
  {
   "cell_type": "markdown",
   "metadata": {},
   "source": [
    "## knock 085 郵便番号からジオコードに変換する"
   ]
  },
  {
   "cell_type": "code",
   "execution_count": 1,
   "metadata": {},
   "outputs": [],
   "source": [
    "import polars as pl\n",
    "pl.Config.set_tbl_cols(-1)# 列の表示が省略されないようにする\n",
    "import polars.selectors as cs# 抽出条件のプリセット"
   ]
  },
  {
   "cell_type": "markdown",
   "metadata": {},
   "source": [
    "### データを読み込む"
   ]
  },
  {
   "cell_type": "code",
   "execution_count": 2,
   "metadata": {},
   "outputs": [
    {
     "data": {
      "text/html": [
       "<div><style>\n",
       ".dataframe > thead > tr,\n",
       ".dataframe > tbody > tr {\n",
       "  text-align: right;\n",
       "  white-space: pre-wrap;\n",
       "}\n",
       "</style>\n",
       "<small>shape: (5, 11)</small><table border=\"1\" class=\"dataframe\"><thead><tr><th>customer_id</th><th>customer_name</th><th>gender_cd</th><th>gender</th><th>birth_day</th><th>age</th><th>postal_cd</th><th>address</th><th>application_store_cd</th><th>application_date</th><th>status_cd</th></tr><tr><td>str</td><td>str</td><td>i64</td><td>str</td><td>str</td><td>i64</td><td>str</td><td>str</td><td>str</td><td>i64</td><td>str</td></tr></thead><tbody><tr><td>&quot;CS021313000114…</td><td>&quot;大野 あや子&quot;</td><td>1</td><td>&quot;女性&quot;</td><td>&quot;1981-04-29&quot;</td><td>37</td><td>&quot;259-1113&quot;</td><td>&quot;神奈川県伊勢原市粟窪****…</td><td>&quot;S14021&quot;</td><td>20150905</td><td>&quot;0-00000000-0&quot;</td></tr><tr><td>&quot;CS037613000071…</td><td>&quot;六角 雅彦&quot;</td><td>9</td><td>&quot;不明&quot;</td><td>&quot;1952-04-01&quot;</td><td>66</td><td>&quot;136-0076&quot;</td><td>&quot;東京都江東区南砂******…</td><td>&quot;S13037&quot;</td><td>20150414</td><td>&quot;0-00000000-0&quot;</td></tr><tr><td>&quot;CS031415000172…</td><td>&quot;宇多田 貴美子&quot;</td><td>1</td><td>&quot;女性&quot;</td><td>&quot;1976-10-04&quot;</td><td>42</td><td>&quot;151-0053&quot;</td><td>&quot;東京都渋谷区代々木*****…</td><td>&quot;S13031&quot;</td><td>20150529</td><td>&quot;D-20100325-C&quot;</td></tr><tr><td>&quot;CS028811000001…</td><td>&quot;堀井 かおり&quot;</td><td>1</td><td>&quot;女性&quot;</td><td>&quot;1933-03-27&quot;</td><td>86</td><td>&quot;245-0016&quot;</td><td>&quot;神奈川県横浜市泉区和泉町**…</td><td>&quot;S14028&quot;</td><td>20160115</td><td>&quot;0-00000000-0&quot;</td></tr><tr><td>&quot;CS001215000145…</td><td>&quot;田崎 美紀&quot;</td><td>1</td><td>&quot;女性&quot;</td><td>&quot;1995-03-29&quot;</td><td>24</td><td>&quot;144-0055&quot;</td><td>&quot;東京都大田区仲六郷*****…</td><td>&quot;S13001&quot;</td><td>20170605</td><td>&quot;6-20090929-2&quot;</td></tr></tbody></table></div>"
      ],
      "text/plain": [
       "shape: (5, 11)\n",
       "┌─────────┬─────────┬─────────┬────────┬────────┬─────┬────────┬────────┬────────┬────────┬────────┐\n",
       "│ custome ┆ custome ┆ gender_ ┆ gender ┆ birth_ ┆ age ┆ postal ┆ addres ┆ applic ┆ applic ┆ status │\n",
       "│ r_id    ┆ r_name  ┆ cd      ┆ ---    ┆ day    ┆ --- ┆ _cd    ┆ s      ┆ ation_ ┆ ation_ ┆ _cd    │\n",
       "│ ---     ┆ ---     ┆ ---     ┆ str    ┆ ---    ┆ i64 ┆ ---    ┆ ---    ┆ store_ ┆ date   ┆ ---    │\n",
       "│ str     ┆ str     ┆ i64     ┆        ┆ str    ┆     ┆ str    ┆ str    ┆ cd     ┆ ---    ┆ str    │\n",
       "│         ┆         ┆         ┆        ┆        ┆     ┆        ┆        ┆ ---    ┆ i64    ┆        │\n",
       "│         ┆         ┆         ┆        ┆        ┆     ┆        ┆        ┆ str    ┆        ┆        │\n",
       "╞═════════╪═════════╪═════════╪════════╪════════╪═════╪════════╪════════╪════════╪════════╪════════╡\n",
       "│ CS02131 ┆ 大野    ┆ 1       ┆ 女性   ┆ 1981-0 ┆ 37  ┆ 259-11 ┆ 神奈川 ┆ S14021 ┆ 201509 ┆ 0-0000 │\n",
       "│ 3000114 ┆ あや子  ┆         ┆        ┆ 4-29   ┆     ┆ 13     ┆ 県伊勢 ┆        ┆ 05     ┆ 0000-0 │\n",
       "│         ┆         ┆         ┆        ┆        ┆     ┆        ┆ 原市粟 ┆        ┆        ┆        │\n",
       "│         ┆         ┆         ┆        ┆        ┆     ┆        ┆ 窪**** ┆        ┆        ┆        │\n",
       "│         ┆         ┆         ┆        ┆        ┆     ┆        ┆ ****** ┆        ┆        ┆        │\n",
       "│ CS03761 ┆ 六角    ┆ 9       ┆ 不明   ┆ 1952-0 ┆ 66  ┆ 136-00 ┆ 東京都 ┆ S13037 ┆ 201504 ┆ 0-0000 │\n",
       "│ 3000071 ┆ 雅彦    ┆         ┆        ┆ 4-01   ┆     ┆ 76     ┆ 江東区 ┆        ┆ 14     ┆ 0000-0 │\n",
       "│         ┆         ┆         ┆        ┆        ┆     ┆        ┆ 南砂** ┆        ┆        ┆        │\n",
       "│         ┆         ┆         ┆        ┆        ┆     ┆        ┆ ****** ┆        ┆        ┆        │\n",
       "│         ┆         ┆         ┆        ┆        ┆     ┆        ┆ **     ┆        ┆        ┆        │\n",
       "│ CS03141 ┆ 宇多田  ┆ 1       ┆ 女性   ┆ 1976-1 ┆ 42  ┆ 151-00 ┆ 東京都 ┆ S13031 ┆ 201505 ┆ D-2010 │\n",
       "│ 5000172 ┆ 貴美子  ┆         ┆        ┆ 0-04   ┆     ┆ 53     ┆ 渋谷区 ┆        ┆ 29     ┆ 0325-C │\n",
       "│         ┆         ┆         ┆        ┆        ┆     ┆        ┆ 代々木 ┆        ┆        ┆        │\n",
       "│         ┆         ┆         ┆        ┆        ┆     ┆        ┆ ****** ┆        ┆        ┆        │\n",
       "│         ┆         ┆         ┆        ┆        ┆     ┆        ┆ ****   ┆        ┆        ┆        │\n",
       "│ CS02881 ┆ 堀井    ┆ 1       ┆ 女性   ┆ 1933-0 ┆ 86  ┆ 245-00 ┆ 神奈川 ┆ S14028 ┆ 201601 ┆ 0-0000 │\n",
       "│ 1000001 ┆ かおり  ┆         ┆        ┆ 3-27   ┆     ┆ 16     ┆ 県横浜 ┆        ┆ 15     ┆ 0000-0 │\n",
       "│         ┆         ┆         ┆        ┆        ┆     ┆        ┆ 市泉区 ┆        ┆        ┆        │\n",
       "│         ┆         ┆         ┆        ┆        ┆     ┆        ┆ 和泉町 ┆        ┆        ┆        │\n",
       "│         ┆         ┆         ┆        ┆        ┆     ┆        ┆ ****** ┆        ┆        ┆        │\n",
       "│         ┆         ┆         ┆        ┆        ┆     ┆        ┆ ****   ┆        ┆        ┆        │\n",
       "│ CS00121 ┆ 田崎    ┆ 1       ┆ 女性   ┆ 1995-0 ┆ 24  ┆ 144-00 ┆ 東京都 ┆ S13001 ┆ 201706 ┆ 6-2009 │\n",
       "│ 5000145 ┆ 美紀    ┆         ┆        ┆ 3-29   ┆     ┆ 55     ┆ 大田区 ┆        ┆ 05     ┆ 0929-2 │\n",
       "│         ┆         ┆         ┆        ┆        ┆     ┆        ┆ 仲六郷 ┆        ┆        ┆        │\n",
       "│         ┆         ┆         ┆        ┆        ┆     ┆        ┆ ****** ┆        ┆        ┆        │\n",
       "│         ┆         ┆         ┆        ┆        ┆     ┆        ┆ ****   ┆        ┆        ┆        │\n",
       "└─────────┴─────────┴─────────┴────────┴────────┴─────┴────────┴────────┴────────┴────────┴────────┘"
      ]
     },
     "metadata": {},
     "output_type": "display_data"
    },
    {
     "data": {
      "text/html": [
       "<div><style>\n",
       ".dataframe > thead > tr,\n",
       ".dataframe > tbody > tr {\n",
       "  text-align: right;\n",
       "  white-space: pre-wrap;\n",
       "}\n",
       "</style>\n",
       "<small>shape: (5, 9)</small><table border=\"1\" class=\"dataframe\"><thead><tr><th>postal_cd</th><th>prefecture</th><th>city</th><th>town</th><th>street</th><th>address</th><th>full_address</th><th>longitude</th><th>latitude</th></tr><tr><td>str</td><td>str</td><td>str</td><td>str</td><td>str</td><td>str</td><td>str</td><td>f64</td><td>f64</td></tr></thead><tbody><tr><td>&quot;060-0000&quot;</td><td>&quot;北海道&quot;</td><td>&quot;札幌市中央区&quot;</td><td>null</td><td>null</td><td>null</td><td>&quot;北海道札幌市中央区&quot;</td><td>141.34103</td><td>43.05513</td></tr><tr><td>&quot;064-0941&quot;</td><td>&quot;北海道&quot;</td><td>&quot;札幌市中央区&quot;</td><td>&quot;旭ケ丘&quot;</td><td>null</td><td>null</td><td>&quot;北海道札幌市中央区旭ケ丘&quot;</td><td>141.31972</td><td>43.04223</td></tr><tr><td>&quot;060-0042&quot;</td><td>&quot;北海道&quot;</td><td>&quot;札幌市中央区&quot;</td><td>&quot;大通西&quot;</td><td>null</td><td>&quot;１丁目&quot;</td><td>&quot;北海道札幌市中央区大通西１丁…</td><td>141.35637</td><td>43.06102</td></tr><tr><td>&quot;060-0042&quot;</td><td>&quot;北海道&quot;</td><td>&quot;札幌市中央区&quot;</td><td>&quot;大通西&quot;</td><td>null</td><td>&quot;２丁目&quot;</td><td>&quot;北海道札幌市中央区大通西２丁…</td><td>141.35445</td><td>43.0608</td></tr><tr><td>&quot;060-0042&quot;</td><td>&quot;北海道&quot;</td><td>&quot;札幌市中央区&quot;</td><td>&quot;大通西&quot;</td><td>null</td><td>&quot;３丁目&quot;</td><td>&quot;北海道札幌市中央区大通西３丁…</td><td>141.35275</td><td>43.06086</td></tr></tbody></table></div>"
      ],
      "text/plain": [
       "shape: (5, 9)\n",
       "┌───────────┬───────────┬───────────┬────────┬────────┬─────────┬───────────┬───────────┬──────────┐\n",
       "│ postal_cd ┆ prefectur ┆ city      ┆ town   ┆ street ┆ address ┆ full_addr ┆ longitude ┆ latitude │\n",
       "│ ---       ┆ e         ┆ ---       ┆ ---    ┆ ---    ┆ ---     ┆ ess       ┆ ---       ┆ ---      │\n",
       "│ str       ┆ ---       ┆ str       ┆ str    ┆ str    ┆ str     ┆ ---       ┆ f64       ┆ f64      │\n",
       "│           ┆ str       ┆           ┆        ┆        ┆         ┆ str       ┆           ┆          │\n",
       "╞═══════════╪═══════════╪═══════════╪════════╪════════╪═════════╪═══════════╪═══════════╪══════════╡\n",
       "│ 060-0000  ┆ 北海道    ┆ 札幌市中  ┆ null   ┆ null   ┆ null    ┆ 北海道札  ┆ 141.34103 ┆ 43.05513 │\n",
       "│           ┆           ┆ 央区      ┆        ┆        ┆         ┆ 幌市中央  ┆           ┆          │\n",
       "│           ┆           ┆           ┆        ┆        ┆         ┆ 区        ┆           ┆          │\n",
       "│ 064-0941  ┆ 北海道    ┆ 札幌市中  ┆ 旭ケ丘 ┆ null   ┆ null    ┆ 北海道札  ┆ 141.31972 ┆ 43.04223 │\n",
       "│           ┆           ┆ 央区      ┆        ┆        ┆         ┆ 幌市中央  ┆           ┆          │\n",
       "│           ┆           ┆           ┆        ┆        ┆         ┆ 区旭ケ丘  ┆           ┆          │\n",
       "│ 060-0042  ┆ 北海道    ┆ 札幌市中  ┆ 大通西 ┆ null   ┆ １丁目  ┆ 北海道札  ┆ 141.35637 ┆ 43.06102 │\n",
       "│           ┆           ┆ 央区      ┆        ┆        ┆         ┆ 幌市中央  ┆           ┆          │\n",
       "│           ┆           ┆           ┆        ┆        ┆         ┆ 区大通西  ┆           ┆          │\n",
       "│           ┆           ┆           ┆        ┆        ┆         ┆ １丁目    ┆           ┆          │\n",
       "│ 060-0042  ┆ 北海道    ┆ 札幌市中  ┆ 大通西 ┆ null   ┆ ２丁目  ┆ 北海道札  ┆ 141.35445 ┆ 43.0608  │\n",
       "│           ┆           ┆ 央区      ┆        ┆        ┆         ┆ 幌市中央  ┆           ┆          │\n",
       "│           ┆           ┆           ┆        ┆        ┆         ┆ 区大通西  ┆           ┆          │\n",
       "│           ┆           ┆           ┆        ┆        ┆         ┆ ２丁目    ┆           ┆          │\n",
       "│ 060-0042  ┆ 北海道    ┆ 札幌市中  ┆ 大通西 ┆ null   ┆ ３丁目  ┆ 北海道札  ┆ 141.35275 ┆ 43.06086 │\n",
       "│           ┆           ┆ 央区      ┆        ┆        ┆         ┆ 幌市中央  ┆           ┆          │\n",
       "│           ┆           ┆           ┆        ┆        ┆         ┆ 区大通西  ┆           ┆          │\n",
       "│           ┆           ┆           ┆        ┆        ┆         ┆ ３丁目    ┆           ┆          │\n",
       "└───────────┴───────────┴───────────┴────────┴────────┴─────────┴───────────┴───────────┴──────────┘"
      ]
     },
     "metadata": {},
     "output_type": "display_data"
    }
   ],
   "source": [
    "df_customer = pl.read_csv(\"../docker/work/data/customer.csv\")\n",
    "display(df_customer.head())\n",
    "\n",
    "df_geocode = pl.read_csv(\"../docker/work/data/geocode.csv\")\n",
    "display(df_geocode.head())"
   ]
  },
  {
   "cell_type": "markdown",
   "metadata": {},
   "source": [
    "### ノック"
   ]
  },
  {
   "cell_type": "code",
   "execution_count": 3,
   "metadata": {},
   "outputs": [
    {
     "data": {
      "text/html": [
       "<div><style>\n",
       ".dataframe > thead > tr,\n",
       ".dataframe > tbody > tr {\n",
       "  text-align: right;\n",
       "  white-space: pre-wrap;\n",
       "}\n",
       "</style>\n",
       "<small>shape: (10, 13)</small><table border=\"1\" class=\"dataframe\"><thead><tr><th>customer_id</th><th>customer_name</th><th>gender_cd</th><th>gender</th><th>birth_day</th><th>age</th><th>postal_cd</th><th>address</th><th>application_store_cd</th><th>application_date</th><th>status_cd</th><th>longitude</th><th>latitude</th></tr><tr><td>str</td><td>str</td><td>i64</td><td>str</td><td>str</td><td>i64</td><td>str</td><td>str</td><td>str</td><td>i64</td><td>str</td><td>f64</td><td>f64</td></tr></thead><tbody><tr><td>&quot;CS021313000114…</td><td>&quot;大野 あや子&quot;</td><td>1</td><td>&quot;女性&quot;</td><td>&quot;1981-04-29&quot;</td><td>37</td><td>&quot;259-1113&quot;</td><td>&quot;神奈川県伊勢原市粟窪****…</td><td>&quot;S14021&quot;</td><td>20150905</td><td>&quot;0-00000000-0&quot;</td><td>139.31779</td><td>35.41358</td></tr><tr><td>&quot;CS037613000071…</td><td>&quot;六角 雅彦&quot;</td><td>9</td><td>&quot;不明&quot;</td><td>&quot;1952-04-01&quot;</td><td>66</td><td>&quot;136-0076&quot;</td><td>&quot;東京都江東区南砂******…</td><td>&quot;S13037&quot;</td><td>20150414</td><td>&quot;0-00000000-0&quot;</td><td>139.83502</td><td>35.67193</td></tr><tr><td>&quot;CS031415000172…</td><td>&quot;宇多田 貴美子&quot;</td><td>1</td><td>&quot;女性&quot;</td><td>&quot;1976-10-04&quot;</td><td>42</td><td>&quot;151-0053&quot;</td><td>&quot;東京都渋谷区代々木*****…</td><td>&quot;S13031&quot;</td><td>20150529</td><td>&quot;D-20100325-C&quot;</td><td>139.68965</td><td>35.67374</td></tr><tr><td>&quot;CS028811000001…</td><td>&quot;堀井 かおり&quot;</td><td>1</td><td>&quot;女性&quot;</td><td>&quot;1933-03-27&quot;</td><td>86</td><td>&quot;245-0016&quot;</td><td>&quot;神奈川県横浜市泉区和泉町**…</td><td>&quot;S14028&quot;</td><td>20160115</td><td>&quot;0-00000000-0&quot;</td><td>139.4836</td><td>35.39125</td></tr><tr><td>&quot;CS001215000145…</td><td>&quot;田崎 美紀&quot;</td><td>1</td><td>&quot;女性&quot;</td><td>&quot;1995-03-29&quot;</td><td>24</td><td>&quot;144-0055&quot;</td><td>&quot;東京都大田区仲六郷*****…</td><td>&quot;S13001&quot;</td><td>20170605</td><td>&quot;6-20090929-2&quot;</td><td>139.70775</td><td>35.54084</td></tr><tr><td>&quot;CS020401000016…</td><td>&quot;宮下 達士&quot;</td><td>0</td><td>&quot;男性&quot;</td><td>&quot;1974-09-15&quot;</td><td>44</td><td>&quot;174-0065&quot;</td><td>&quot;東京都板橋区若木******…</td><td>&quot;S13020&quot;</td><td>20150225</td><td>&quot;0-00000000-0&quot;</td><td>139.67245</td><td>35.77073</td></tr><tr><td>&quot;CS015414000103…</td><td>&quot;奥野 陽子&quot;</td><td>1</td><td>&quot;女性&quot;</td><td>&quot;1977-08-09&quot;</td><td>41</td><td>&quot;136-0073&quot;</td><td>&quot;東京都江東区北砂******…</td><td>&quot;S13015&quot;</td><td>20150722</td><td>&quot;B-20100609-B&quot;</td><td>139.83601</td><td>35.67818</td></tr><tr><td>&quot;CS029403000008…</td><td>&quot;釈 人志&quot;</td><td>0</td><td>&quot;男性&quot;</td><td>&quot;1973-08-17&quot;</td><td>45</td><td>&quot;279-0003&quot;</td><td>&quot;千葉県浦安市海楽******…</td><td>&quot;S12029&quot;</td><td>20150515</td><td>&quot;0-00000000-0&quot;</td><td>139.90469</td><td>35.65422</td></tr><tr><td>&quot;CS015804000004…</td><td>&quot;松谷 米蔵&quot;</td><td>0</td><td>&quot;男性&quot;</td><td>&quot;1931-05-02&quot;</td><td>87</td><td>&quot;136-0073&quot;</td><td>&quot;東京都江東区北砂******…</td><td>&quot;S13015&quot;</td><td>20150607</td><td>&quot;0-00000000-0&quot;</td><td>139.83601</td><td>35.67818</td></tr><tr><td>&quot;CS033513000180…</td><td>&quot;安斎 遥&quot;</td><td>1</td><td>&quot;女性&quot;</td><td>&quot;1962-07-11&quot;</td><td>56</td><td>&quot;241-0823&quot;</td><td>&quot;神奈川県横浜市旭区善部町**…</td><td>&quot;S14033&quot;</td><td>20150728</td><td>&quot;6-20080506-5&quot;</td><td>139.51463</td><td>35.45013</td></tr></tbody></table></div>"
      ],
      "text/plain": [
       "shape: (10, 13)\n",
       "┌─────┬─────┬────────┬───────┬───────┬─────┬───────┬───────┬───────┬───────┬───────┬───────┬───────┐\n",
       "│ cus ┆ cus ┆ gender ┆ gende ┆ birth ┆ age ┆ posta ┆ addre ┆ appli ┆ appli ┆ statu ┆ longi ┆ latit │\n",
       "│ tom ┆ tom ┆ _cd    ┆ r     ┆ _day  ┆ --- ┆ l_cd  ┆ ss    ┆ catio ┆ catio ┆ s_cd  ┆ tude  ┆ ude   │\n",
       "│ er_ ┆ er_ ┆ ---    ┆ ---   ┆ ---   ┆ i64 ┆ ---   ┆ ---   ┆ n_sto ┆ n_dat ┆ ---   ┆ ---   ┆ ---   │\n",
       "│ id  ┆ nam ┆ i64    ┆ str   ┆ str   ┆     ┆ str   ┆ str   ┆ re_cd ┆ e     ┆ str   ┆ f64   ┆ f64   │\n",
       "│ --- ┆ e   ┆        ┆       ┆       ┆     ┆       ┆       ┆ ---   ┆ ---   ┆       ┆       ┆       │\n",
       "│ str ┆ --- ┆        ┆       ┆       ┆     ┆       ┆       ┆ str   ┆ i64   ┆       ┆       ┆       │\n",
       "│     ┆ str ┆        ┆       ┆       ┆     ┆       ┆       ┆       ┆       ┆       ┆       ┆       │\n",
       "╞═════╪═════╪════════╪═══════╪═══════╪═════╪═══════╪═══════╪═══════╪═══════╪═══════╪═══════╪═══════╡\n",
       "│ CS0 ┆ 大  ┆ 1      ┆ 女性  ┆ 1981- ┆ 37  ┆ 259-1 ┆ 神奈  ┆ S1402 ┆ 20150 ┆ 0-000 ┆ 139.3 ┆ 35.41 │\n",
       "│ 213 ┆ 野  ┆        ┆       ┆ 04-29 ┆     ┆ 113   ┆ 川県  ┆ 1     ┆ 905   ┆ 00000 ┆ 1779  ┆ 358   │\n",
       "│ 130 ┆ あ  ┆        ┆       ┆       ┆     ┆       ┆ 伊勢  ┆       ┆       ┆ -0    ┆       ┆       │\n",
       "│ 001 ┆ や  ┆        ┆       ┆       ┆     ┆       ┆ 原市  ┆       ┆       ┆       ┆       ┆       │\n",
       "│ 14  ┆ 子  ┆        ┆       ┆       ┆     ┆       ┆ 粟窪* ┆       ┆       ┆       ┆       ┆       │\n",
       "│     ┆     ┆        ┆       ┆       ┆     ┆       ┆ ***** ┆       ┆       ┆       ┆       ┆       │\n",
       "│     ┆     ┆        ┆       ┆       ┆     ┆       ┆ ****  ┆       ┆       ┆       ┆       ┆       │\n",
       "│ CS0 ┆ 六  ┆ 9      ┆ 不明  ┆ 1952- ┆ 66  ┆ 136-0 ┆ 東京  ┆ S1303 ┆ 20150 ┆ 0-000 ┆ 139.8 ┆ 35.67 │\n",
       "│ 376 ┆ 角  ┆        ┆       ┆ 04-01 ┆     ┆ 076   ┆ 都江  ┆ 7     ┆ 414   ┆ 00000 ┆ 3502  ┆ 193   │\n",
       "│ 130 ┆ 雅  ┆        ┆       ┆       ┆     ┆       ┆ 東区  ┆       ┆       ┆ -0    ┆       ┆       │\n",
       "│ 000 ┆ 彦  ┆        ┆       ┆       ┆     ┆       ┆ 南砂* ┆       ┆       ┆       ┆       ┆       │\n",
       "│ 71  ┆     ┆        ┆       ┆       ┆     ┆       ┆ ***** ┆       ┆       ┆       ┆       ┆       │\n",
       "│     ┆     ┆        ┆       ┆       ┆     ┆       ┆ ****  ┆       ┆       ┆       ┆       ┆       │\n",
       "│ CS0 ┆ 宇  ┆ 1      ┆ 女性  ┆ 1976- ┆ 42  ┆ 151-0 ┆ 東京  ┆ S1303 ┆ 20150 ┆ D-201 ┆ 139.6 ┆ 35.67 │\n",
       "│ 314 ┆ 多  ┆        ┆       ┆ 10-04 ┆     ┆ 053   ┆ 都渋  ┆ 1     ┆ 529   ┆ 00325 ┆ 8965  ┆ 374   │\n",
       "│ 150 ┆ 田  ┆        ┆       ┆       ┆     ┆       ┆ 谷区  ┆       ┆       ┆ -C    ┆       ┆       │\n",
       "│ 001 ┆ 貴  ┆        ┆       ┆       ┆     ┆       ┆ 代々  ┆       ┆       ┆       ┆       ┆       │\n",
       "│ 72  ┆ 美  ┆        ┆       ┆       ┆     ┆       ┆ 木*** ┆       ┆       ┆       ┆       ┆       │\n",
       "│     ┆ 子  ┆        ┆       ┆       ┆     ┆       ┆ ***** ┆       ┆       ┆       ┆       ┆       │\n",
       "│     ┆     ┆        ┆       ┆       ┆     ┆       ┆ **    ┆       ┆       ┆       ┆       ┆       │\n",
       "│ CS0 ┆ 堀  ┆ 1      ┆ 女性  ┆ 1933- ┆ 86  ┆ 245-0 ┆ 神奈  ┆ S1402 ┆ 20160 ┆ 0-000 ┆ 139.4 ┆ 35.39 │\n",
       "│ 288 ┆ 井  ┆        ┆       ┆ 03-27 ┆     ┆ 016   ┆ 川県  ┆ 8     ┆ 115   ┆ 00000 ┆ 836   ┆ 125   │\n",
       "│ 110 ┆ か  ┆        ┆       ┆       ┆     ┆       ┆ 横浜  ┆       ┆       ┆ -0    ┆       ┆       │\n",
       "│ 000 ┆ お  ┆        ┆       ┆       ┆     ┆       ┆ 市泉  ┆       ┆       ┆       ┆       ┆       │\n",
       "│ 01  ┆ り  ┆        ┆       ┆       ┆     ┆       ┆ 区和  ┆       ┆       ┆       ┆       ┆       │\n",
       "│     ┆     ┆        ┆       ┆       ┆     ┆       ┆ 泉町* ┆       ┆       ┆       ┆       ┆       │\n",
       "│     ┆     ┆        ┆       ┆       ┆     ┆       ┆ ***** ┆       ┆       ┆       ┆       ┆       │\n",
       "│     ┆     ┆        ┆       ┆       ┆     ┆       ┆ ****  ┆       ┆       ┆       ┆       ┆       │\n",
       "│ …   ┆ …   ┆ …      ┆ …     ┆ …     ┆ …   ┆ …     ┆ …     ┆ …     ┆ …     ┆ …     ┆ …     ┆ …     │\n",
       "│ CS0 ┆ 奥  ┆ 1      ┆ 女性  ┆ 1977- ┆ 41  ┆ 136-0 ┆ 東京  ┆ S1301 ┆ 20150 ┆ B-201 ┆ 139.8 ┆ 35.67 │\n",
       "│ 154 ┆ 野  ┆        ┆       ┆ 08-09 ┆     ┆ 073   ┆ 都江  ┆ 5     ┆ 722   ┆ 00609 ┆ 3601  ┆ 818   │\n",
       "│ 140 ┆ 陽  ┆        ┆       ┆       ┆     ┆       ┆ 東区  ┆       ┆       ┆ -B    ┆       ┆       │\n",
       "│ 001 ┆ 子  ┆        ┆       ┆       ┆     ┆       ┆ 北砂* ┆       ┆       ┆       ┆       ┆       │\n",
       "│ 03  ┆     ┆        ┆       ┆       ┆     ┆       ┆ ***** ┆       ┆       ┆       ┆       ┆       │\n",
       "│     ┆     ┆        ┆       ┆       ┆     ┆       ┆ ****  ┆       ┆       ┆       ┆       ┆       │\n",
       "│ CS0 ┆ 釈  ┆ 0      ┆ 男性  ┆ 1973- ┆ 45  ┆ 279-0 ┆ 千葉  ┆ S1202 ┆ 20150 ┆ 0-000 ┆ 139.9 ┆ 35.65 │\n",
       "│ 294 ┆ 人  ┆        ┆       ┆ 08-17 ┆     ┆ 003   ┆ 県浦  ┆ 9     ┆ 515   ┆ 00000 ┆ 0469  ┆ 422   │\n",
       "│ 030 ┆ 志  ┆        ┆       ┆       ┆     ┆       ┆ 安市  ┆       ┆       ┆ -0    ┆       ┆       │\n",
       "│ 000 ┆     ┆        ┆       ┆       ┆     ┆       ┆ 海楽* ┆       ┆       ┆       ┆       ┆       │\n",
       "│ 08  ┆     ┆        ┆       ┆       ┆     ┆       ┆ ***** ┆       ┆       ┆       ┆       ┆       │\n",
       "│     ┆     ┆        ┆       ┆       ┆     ┆       ┆ ****  ┆       ┆       ┆       ┆       ┆       │\n",
       "│ CS0 ┆ 松  ┆ 0      ┆ 男性  ┆ 1931- ┆ 87  ┆ 136-0 ┆ 東京  ┆ S1301 ┆ 20150 ┆ 0-000 ┆ 139.8 ┆ 35.67 │\n",
       "│ 158 ┆ 谷  ┆        ┆       ┆ 05-02 ┆     ┆ 073   ┆ 都江  ┆ 5     ┆ 607   ┆ 00000 ┆ 3601  ┆ 818   │\n",
       "│ 040 ┆ 米  ┆        ┆       ┆       ┆     ┆       ┆ 東区  ┆       ┆       ┆ -0    ┆       ┆       │\n",
       "│ 000 ┆ 蔵  ┆        ┆       ┆       ┆     ┆       ┆ 北砂* ┆       ┆       ┆       ┆       ┆       │\n",
       "│ 04  ┆     ┆        ┆       ┆       ┆     ┆       ┆ ***** ┆       ┆       ┆       ┆       ┆       │\n",
       "│     ┆     ┆        ┆       ┆       ┆     ┆       ┆ ****  ┆       ┆       ┆       ┆       ┆       │\n",
       "│ CS0 ┆ 安  ┆ 1      ┆ 女性  ┆ 1962- ┆ 56  ┆ 241-0 ┆ 神奈  ┆ S1403 ┆ 20150 ┆ 6-200 ┆ 139.5 ┆ 35.45 │\n",
       "│ 335 ┆ 斎  ┆        ┆       ┆ 07-11 ┆     ┆ 823   ┆ 川県  ┆ 3     ┆ 728   ┆ 80506 ┆ 1463  ┆ 013   │\n",
       "│ 130 ┆ 遥  ┆        ┆       ┆       ┆     ┆       ┆ 横浜  ┆       ┆       ┆ -5    ┆       ┆       │\n",
       "│ 001 ┆     ┆        ┆       ┆       ┆     ┆       ┆ 市旭  ┆       ┆       ┆       ┆       ┆       │\n",
       "│ 80  ┆     ┆        ┆       ┆       ┆     ┆       ┆ 区善  ┆       ┆       ┆       ┆       ┆       │\n",
       "│     ┆     ┆        ┆       ┆       ┆     ┆       ┆ 部町* ┆       ┆       ┆       ┆       ┆       │\n",
       "│     ┆     ┆        ┆       ┆       ┆     ┆       ┆ ***** ┆       ┆       ┆       ┆       ┆       │\n",
       "│     ┆     ┆        ┆       ┆       ┆     ┆       ┆ ****  ┆       ┆       ┆       ┆       ┆       │\n",
       "└─────┴─────┴────────┴───────┴───────┴─────┴───────┴───────┴───────┴───────┴───────┴───────┴───────┘"
      ]
     },
     "execution_count": 3,
     "metadata": {},
     "output_type": "execute_result"
    }
   ],
   "source": [
    "df_knock = (\n",
    "    df_customer\n",
    "    # 郵便番号ごとの経度(longitude)・緯度(latitude)の平均値を加える\n",
    "    .join(\n",
    "        other =\n",
    "        df_geocode\n",
    "        .group_by(by = \"postal_cd\")\n",
    "        .agg([\n",
    "            pl.mean(\"longitude\"),\n",
    "            pl.mean(\"latitude\")\n",
    "        ]),\n",
    "        on = \"postal_cd\",\n",
    "        how = \"left\"        \n",
    "    )\n",
    ")\n",
    "\n",
    "# 先頭10行を表示する\n",
    "df_knock.head(n = 10)"
   ]
  },
  {
   "cell_type": "markdown",
   "metadata": {},
   "source": [
    "### 検算"
   ]
  },
  {
   "cell_type": "code",
   "execution_count": 5,
   "metadata": {},
   "outputs": [
    {
     "data": {
      "text/html": [
       "<div><style>\n",
       ".dataframe > thead > tr,\n",
       ".dataframe > tbody > tr {\n",
       "  text-align: right;\n",
       "  white-space: pre-wrap;\n",
       "}\n",
       "</style>\n",
       "<small>shape: (10, 13)</small><table border=\"1\" class=\"dataframe\"><thead><tr><th>customer_id</th><th>customer_name</th><th>gender_cd</th><th>gender</th><th>birth_day</th><th>age</th><th>postal_cd</th><th>address</th><th>application_store_cd</th><th>application_date</th><th>status_cd</th><th>longitude</th><th>latitude</th></tr><tr><td>str</td><td>str</td><td>i64</td><td>str</td><td>str</td><td>i64</td><td>str</td><td>str</td><td>str</td><td>i64</td><td>str</td><td>f64</td><td>f64</td></tr></thead><tbody><tr><td>&quot;CS021313000114…</td><td>&quot;大野 あや子&quot;</td><td>1</td><td>&quot;女性&quot;</td><td>&quot;1981-04-29&quot;</td><td>37</td><td>&quot;259-1113&quot;</td><td>&quot;神奈川県伊勢原市粟窪****…</td><td>&quot;S14021&quot;</td><td>20150905</td><td>&quot;0-00000000-0&quot;</td><td>139.31779</td><td>35.41358</td></tr><tr><td>&quot;CS021313000025…</td><td>&quot;砂川 あさみ&quot;</td><td>1</td><td>&quot;女性&quot;</td><td>&quot;1981-10-05&quot;</td><td>37</td><td>&quot;259-1131&quot;</td><td>&quot;神奈川県伊勢原市伊勢原***…</td><td>&quot;S14021&quot;</td><td>20150326</td><td>&quot;0-00000000-0&quot;</td><td>139.31374</td><td>35.39748</td></tr><tr><td>&quot;CS021413000022…</td><td>&quot;布施 花&quot;</td><td>1</td><td>&quot;女性&quot;</td><td>&quot;1972-05-18&quot;</td><td>46</td><td>&quot;259-1131&quot;</td><td>&quot;神奈川県伊勢原市伊勢原***…</td><td>&quot;S14021&quot;</td><td>20150225</td><td>&quot;0-00000000-0&quot;</td><td>139.31374</td><td>35.39748</td></tr><tr><td>&quot;CS021413000094…</td><td>&quot;宇佐美 メイサ&quot;</td><td>1</td><td>&quot;女性&quot;</td><td>&quot;1970-05-18&quot;</td><td>48</td><td>&quot;259-1131&quot;</td><td>&quot;神奈川県伊勢原市伊勢原***…</td><td>&quot;S14021&quot;</td><td>20150422</td><td>&quot;0-00000000-0&quot;</td><td>139.31374</td><td>35.39748</td></tr><tr><td>&quot;CS021303000023…</td><td>&quot;堀 一徳&quot;</td><td>0</td><td>&quot;男性&quot;</td><td>&quot;1980-04-05&quot;</td><td>38</td><td>&quot;259-1113&quot;</td><td>&quot;神奈川県伊勢原市粟窪****…</td><td>&quot;S14021&quot;</td><td>20160411</td><td>&quot;0-00000000-0&quot;</td><td>139.31779</td><td>35.41358</td></tr><tr><td>&quot;CS021303000007…</td><td>&quot;石倉 俊二&quot;</td><td>0</td><td>&quot;男性&quot;</td><td>&quot;1987-07-04&quot;</td><td>31</td><td>&quot;259-1113&quot;</td><td>&quot;神奈川県伊勢原市粟窪****…</td><td>&quot;S14021&quot;</td><td>20150707</td><td>&quot;0-00000000-0&quot;</td><td>139.31779</td><td>35.41358</td></tr><tr><td>&quot;CS021313000183…</td><td>&quot;草野 未來&quot;</td><td>1</td><td>&quot;女性&quot;</td><td>&quot;1986-12-21&quot;</td><td>32</td><td>&quot;259-1113&quot;</td><td>&quot;神奈川県伊勢原市粟窪****…</td><td>&quot;S14021&quot;</td><td>20170611</td><td>&quot;0-00000000-0&quot;</td><td>139.31779</td><td>35.41358</td></tr><tr><td>&quot;CS021314000098…</td><td>&quot;筒井 れいな&quot;</td><td>1</td><td>&quot;女性&quot;</td><td>&quot;1985-09-21&quot;</td><td>33</td><td>&quot;259-1113&quot;</td><td>&quot;神奈川県伊勢原市粟窪****…</td><td>&quot;S14021&quot;</td><td>20160901</td><td>&quot;0-00000000-0&quot;</td><td>139.31779</td><td>35.41358</td></tr><tr><td>&quot;CS021314000093…</td><td>&quot;江藤 美佐&quot;</td><td>1</td><td>&quot;女性&quot;</td><td>&quot;1986-06-03&quot;</td><td>32</td><td>&quot;259-1113&quot;</td><td>&quot;神奈川県伊勢原市粟窪****…</td><td>&quot;S14021&quot;</td><td>20151015</td><td>&quot;0-00000000-0&quot;</td><td>139.31779</td><td>35.41358</td></tr><tr><td>&quot;CS021413000049…</td><td>&quot;大野 幸子&quot;</td><td>1</td><td>&quot;女性&quot;</td><td>&quot;1973-04-17&quot;</td><td>45</td><td>&quot;259-1113&quot;</td><td>&quot;神奈川県伊勢原市粟窪****…</td><td>&quot;S14021&quot;</td><td>20150703</td><td>&quot;0-00000000-0&quot;</td><td>139.31779</td><td>35.41358</td></tr></tbody></table></div>"
      ],
      "text/plain": [
       "shape: (10, 13)\n",
       "┌─────┬─────┬────────┬───────┬───────┬─────┬───────┬───────┬───────┬───────┬───────┬───────┬───────┐\n",
       "│ cus ┆ cus ┆ gender ┆ gende ┆ birth ┆ age ┆ posta ┆ addre ┆ appli ┆ appli ┆ statu ┆ longi ┆ latit │\n",
       "│ tom ┆ tom ┆ _cd    ┆ r     ┆ _day  ┆ --- ┆ l_cd  ┆ ss    ┆ catio ┆ catio ┆ s_cd  ┆ tude  ┆ ude   │\n",
       "│ er_ ┆ er_ ┆ ---    ┆ ---   ┆ ---   ┆ i64 ┆ ---   ┆ ---   ┆ n_sto ┆ n_dat ┆ ---   ┆ ---   ┆ ---   │\n",
       "│ id  ┆ nam ┆ i64    ┆ str   ┆ str   ┆     ┆ str   ┆ str   ┆ re_cd ┆ e     ┆ str   ┆ f64   ┆ f64   │\n",
       "│ --- ┆ e   ┆        ┆       ┆       ┆     ┆       ┆       ┆ ---   ┆ ---   ┆       ┆       ┆       │\n",
       "│ str ┆ --- ┆        ┆       ┆       ┆     ┆       ┆       ┆ str   ┆ i64   ┆       ┆       ┆       │\n",
       "│     ┆ str ┆        ┆       ┆       ┆     ┆       ┆       ┆       ┆       ┆       ┆       ┆       │\n",
       "╞═════╪═════╪════════╪═══════╪═══════╪═════╪═══════╪═══════╪═══════╪═══════╪═══════╪═══════╪═══════╡\n",
       "│ CS0 ┆ 大  ┆ 1      ┆ 女性  ┆ 1981- ┆ 37  ┆ 259-1 ┆ 神奈  ┆ S1402 ┆ 20150 ┆ 0-000 ┆ 139.3 ┆ 35.41 │\n",
       "│ 213 ┆ 野  ┆        ┆       ┆ 04-29 ┆     ┆ 113   ┆ 川県  ┆ 1     ┆ 905   ┆ 00000 ┆ 1779  ┆ 358   │\n",
       "│ 130 ┆ あ  ┆        ┆       ┆       ┆     ┆       ┆ 伊勢  ┆       ┆       ┆ -0    ┆       ┆       │\n",
       "│ 001 ┆ や  ┆        ┆       ┆       ┆     ┆       ┆ 原市  ┆       ┆       ┆       ┆       ┆       │\n",
       "│ 14  ┆ 子  ┆        ┆       ┆       ┆     ┆       ┆ 粟窪* ┆       ┆       ┆       ┆       ┆       │\n",
       "│     ┆     ┆        ┆       ┆       ┆     ┆       ┆ ***** ┆       ┆       ┆       ┆       ┆       │\n",
       "│     ┆     ┆        ┆       ┆       ┆     ┆       ┆ ****  ┆       ┆       ┆       ┆       ┆       │\n",
       "│ CS0 ┆ 砂  ┆ 1      ┆ 女性  ┆ 1981- ┆ 37  ┆ 259-1 ┆ 神奈  ┆ S1402 ┆ 20150 ┆ 0-000 ┆ 139.3 ┆ 35.39 │\n",
       "│ 213 ┆ 川  ┆        ┆       ┆ 10-05 ┆     ┆ 131   ┆ 川県  ┆ 1     ┆ 326   ┆ 00000 ┆ 1374  ┆ 748   │\n",
       "│ 130 ┆ あ  ┆        ┆       ┆       ┆     ┆       ┆ 伊勢  ┆       ┆       ┆ -0    ┆       ┆       │\n",
       "│ 000 ┆ さ  ┆        ┆       ┆       ┆     ┆       ┆ 原市  ┆       ┆       ┆       ┆       ┆       │\n",
       "│ 25  ┆ み  ┆        ┆       ┆       ┆     ┆       ┆ 伊勢  ┆       ┆       ┆       ┆       ┆       │\n",
       "│     ┆     ┆        ┆       ┆       ┆     ┆       ┆ 原*** ┆       ┆       ┆       ┆       ┆       │\n",
       "│     ┆     ┆        ┆       ┆       ┆     ┆       ┆ ***** ┆       ┆       ┆       ┆       ┆       │\n",
       "│     ┆     ┆        ┆       ┆       ┆     ┆       ┆ **    ┆       ┆       ┆       ┆       ┆       │\n",
       "│ CS0 ┆ 布  ┆ 1      ┆ 女性  ┆ 1972- ┆ 46  ┆ 259-1 ┆ 神奈  ┆ S1402 ┆ 20150 ┆ 0-000 ┆ 139.3 ┆ 35.39 │\n",
       "│ 214 ┆ 施  ┆        ┆       ┆ 05-18 ┆     ┆ 131   ┆ 川県  ┆ 1     ┆ 225   ┆ 00000 ┆ 1374  ┆ 748   │\n",
       "│ 130 ┆ 花  ┆        ┆       ┆       ┆     ┆       ┆ 伊勢  ┆       ┆       ┆ -0    ┆       ┆       │\n",
       "│ 000 ┆     ┆        ┆       ┆       ┆     ┆       ┆ 原市  ┆       ┆       ┆       ┆       ┆       │\n",
       "│ 22  ┆     ┆        ┆       ┆       ┆     ┆       ┆ 伊勢  ┆       ┆       ┆       ┆       ┆       │\n",
       "│     ┆     ┆        ┆       ┆       ┆     ┆       ┆ 原*** ┆       ┆       ┆       ┆       ┆       │\n",
       "│     ┆     ┆        ┆       ┆       ┆     ┆       ┆ ***** ┆       ┆       ┆       ┆       ┆       │\n",
       "│     ┆     ┆        ┆       ┆       ┆     ┆       ┆ **    ┆       ┆       ┆       ┆       ┆       │\n",
       "│ CS0 ┆ 宇  ┆ 1      ┆ 女性  ┆ 1970- ┆ 48  ┆ 259-1 ┆ 神奈  ┆ S1402 ┆ 20150 ┆ 0-000 ┆ 139.3 ┆ 35.39 │\n",
       "│ 214 ┆ 佐  ┆        ┆       ┆ 05-18 ┆     ┆ 131   ┆ 川県  ┆ 1     ┆ 422   ┆ 00000 ┆ 1374  ┆ 748   │\n",
       "│ 130 ┆ 美  ┆        ┆       ┆       ┆     ┆       ┆ 伊勢  ┆       ┆       ┆ -0    ┆       ┆       │\n",
       "│ 000 ┆ メ  ┆        ┆       ┆       ┆     ┆       ┆ 原市  ┆       ┆       ┆       ┆       ┆       │\n",
       "│ 94  ┆ イ  ┆        ┆       ┆       ┆     ┆       ┆ 伊勢  ┆       ┆       ┆       ┆       ┆       │\n",
       "│     ┆ サ  ┆        ┆       ┆       ┆     ┆       ┆ 原*** ┆       ┆       ┆       ┆       ┆       │\n",
       "│     ┆     ┆        ┆       ┆       ┆     ┆       ┆ ***** ┆       ┆       ┆       ┆       ┆       │\n",
       "│     ┆     ┆        ┆       ┆       ┆     ┆       ┆ **    ┆       ┆       ┆       ┆       ┆       │\n",
       "│ …   ┆ …   ┆ …      ┆ …     ┆ …     ┆ …   ┆ …     ┆ …     ┆ …     ┆ …     ┆ …     ┆ …     ┆ …     │\n",
       "│ CS0 ┆ 草  ┆ 1      ┆ 女性  ┆ 1986- ┆ 32  ┆ 259-1 ┆ 神奈  ┆ S1402 ┆ 20170 ┆ 0-000 ┆ 139.3 ┆ 35.41 │\n",
       "│ 213 ┆ 野  ┆        ┆       ┆ 12-21 ┆     ┆ 113   ┆ 川県  ┆ 1     ┆ 611   ┆ 00000 ┆ 1779  ┆ 358   │\n",
       "│ 130 ┆ 未  ┆        ┆       ┆       ┆     ┆       ┆ 伊勢  ┆       ┆       ┆ -0    ┆       ┆       │\n",
       "│ 001 ┆ 來  ┆        ┆       ┆       ┆     ┆       ┆ 原市  ┆       ┆       ┆       ┆       ┆       │\n",
       "│ 83  ┆     ┆        ┆       ┆       ┆     ┆       ┆ 粟窪* ┆       ┆       ┆       ┆       ┆       │\n",
       "│     ┆     ┆        ┆       ┆       ┆     ┆       ┆ ***** ┆       ┆       ┆       ┆       ┆       │\n",
       "│     ┆     ┆        ┆       ┆       ┆     ┆       ┆ ****  ┆       ┆       ┆       ┆       ┆       │\n",
       "│ CS0 ┆ 筒  ┆ 1      ┆ 女性  ┆ 1985- ┆ 33  ┆ 259-1 ┆ 神奈  ┆ S1402 ┆ 20160 ┆ 0-000 ┆ 139.3 ┆ 35.41 │\n",
       "│ 213 ┆ 井  ┆        ┆       ┆ 09-21 ┆     ┆ 113   ┆ 川県  ┆ 1     ┆ 901   ┆ 00000 ┆ 1779  ┆ 358   │\n",
       "│ 140 ┆ れ  ┆        ┆       ┆       ┆     ┆       ┆ 伊勢  ┆       ┆       ┆ -0    ┆       ┆       │\n",
       "│ 000 ┆ い  ┆        ┆       ┆       ┆     ┆       ┆ 原市  ┆       ┆       ┆       ┆       ┆       │\n",
       "│ 98  ┆ な  ┆        ┆       ┆       ┆     ┆       ┆ 粟窪* ┆       ┆       ┆       ┆       ┆       │\n",
       "│     ┆     ┆        ┆       ┆       ┆     ┆       ┆ ***** ┆       ┆       ┆       ┆       ┆       │\n",
       "│     ┆     ┆        ┆       ┆       ┆     ┆       ┆ ****  ┆       ┆       ┆       ┆       ┆       │\n",
       "│ CS0 ┆ 江  ┆ 1      ┆ 女性  ┆ 1986- ┆ 32  ┆ 259-1 ┆ 神奈  ┆ S1402 ┆ 20151 ┆ 0-000 ┆ 139.3 ┆ 35.41 │\n",
       "│ 213 ┆ 藤  ┆        ┆       ┆ 06-03 ┆     ┆ 113   ┆ 川県  ┆ 1     ┆ 015   ┆ 00000 ┆ 1779  ┆ 358   │\n",
       "│ 140 ┆ 美  ┆        ┆       ┆       ┆     ┆       ┆ 伊勢  ┆       ┆       ┆ -0    ┆       ┆       │\n",
       "│ 000 ┆ 佐  ┆        ┆       ┆       ┆     ┆       ┆ 原市  ┆       ┆       ┆       ┆       ┆       │\n",
       "│ 93  ┆     ┆        ┆       ┆       ┆     ┆       ┆ 粟窪* ┆       ┆       ┆       ┆       ┆       │\n",
       "│     ┆     ┆        ┆       ┆       ┆     ┆       ┆ ***** ┆       ┆       ┆       ┆       ┆       │\n",
       "│     ┆     ┆        ┆       ┆       ┆     ┆       ┆ ****  ┆       ┆       ┆       ┆       ┆       │\n",
       "│ CS0 ┆ 大  ┆ 1      ┆ 女性  ┆ 1973- ┆ 45  ┆ 259-1 ┆ 神奈  ┆ S1402 ┆ 20150 ┆ 0-000 ┆ 139.3 ┆ 35.41 │\n",
       "│ 214 ┆ 野  ┆        ┆       ┆ 04-17 ┆     ┆ 113   ┆ 川県  ┆ 1     ┆ 703   ┆ 00000 ┆ 1779  ┆ 358   │\n",
       "│ 130 ┆ 幸  ┆        ┆       ┆       ┆     ┆       ┆ 伊勢  ┆       ┆       ┆ -0    ┆       ┆       │\n",
       "│ 000 ┆ 子  ┆        ┆       ┆       ┆     ┆       ┆ 原市  ┆       ┆       ┆       ┆       ┆       │\n",
       "│ 49  ┆     ┆        ┆       ┆       ┆     ┆       ┆ 粟窪* ┆       ┆       ┆       ┆       ┆       │\n",
       "│     ┆     ┆        ┆       ┆       ┆     ┆       ┆ ***** ┆       ┆       ┆       ┆       ┆       │\n",
       "│     ┆     ┆        ┆       ┆       ┆     ┆       ┆ ****  ┆       ┆       ┆       ┆       ┆       │\n",
       "└─────┴─────┴────────┴───────┴───────┴─────┴───────┴───────┴───────┴───────┴───────┴───────┴───────┘"
      ]
     },
     "execution_count": 5,
     "metadata": {},
     "output_type": "execute_result"
    }
   ],
   "source": [
    "df_knock.filter(\n",
    "    (pl.col(\"customer_id\") == \"CS021313000114\") |\n",
    "    (pl.col(\"customer_id\") == \"CS021303000023\") |\n",
    "    (pl.col(\"customer_id\") == \"CS021303000007\") |\n",
    "    (pl.col(\"customer_id\") == \"CS021313000183\") |\n",
    "    (pl.col(\"customer_id\") == \"CS021314000098\") |\n",
    "\n",
    "    (pl.col(\"customer_id\") == \"CS021314000093\") |\n",
    "    (pl.col(\"customer_id\") == \"CS021413000049\") |\n",
    "    (pl.col(\"customer_id\") == \"CS021313000025\") |\n",
    "    (pl.col(\"customer_id\") == \"CS021413000022\") |\n",
    "    (pl.col(\"customer_id\") == \"CS021413000094\")\n",
    ")"
   ]
  }
 ],
 "metadata": {
  "kernelspec": {
   "display_name": "Python 3",
   "language": "python",
   "name": "python3"
  },
  "language_info": {
   "codemirror_mode": {
    "name": "ipython",
    "version": 3
   },
   "file_extension": ".py",
   "mimetype": "text/x-python",
   "name": "python",
   "nbconvert_exporter": "python",
   "pygments_lexer": "ipython3",
   "version": "3.11.4"
  }
 },
 "nbformat": 4,
 "nbformat_minor": 2
}
