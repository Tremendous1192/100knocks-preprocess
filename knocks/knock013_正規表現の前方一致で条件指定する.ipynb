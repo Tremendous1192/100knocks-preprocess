{
 "cells": [
  {
   "cell_type": "markdown",
   "metadata": {},
   "source": [
    "## knock 013 正規表現の前方一致で条件指定する"
   ]
  },
  {
   "cell_type": "code",
   "execution_count": 21,
   "metadata": {},
   "outputs": [
    {
     "data": {
      "text/plain": [
       "polars.config.Config"
      ]
     },
     "execution_count": 21,
     "metadata": {},
     "output_type": "execute_result"
    }
   ],
   "source": [
    "import polars as pl\n",
    "pl.Config.set_tbl_cols(-1)# 列が省略されないようにする"
   ]
  },
  {
   "cell_type": "markdown",
   "metadata": {},
   "source": [
    "### データを読み込む"
   ]
  },
  {
   "cell_type": "code",
   "execution_count": 22,
   "metadata": {},
   "outputs": [
    {
     "data": {
      "text/html": [
       "<div><style>\n",
       ".dataframe > thead > tr,\n",
       ".dataframe > tbody > tr {\n",
       "  text-align: right;\n",
       "  white-space: pre-wrap;\n",
       "}\n",
       "</style>\n",
       "<small>shape: (5, 11)</small><table border=\"1\" class=\"dataframe\"><thead><tr><th>customer_id</th><th>customer_name</th><th>gender_cd</th><th>gender</th><th>birth_day</th><th>age</th><th>postal_cd</th><th>address</th><th>application_store_cd</th><th>application_date</th><th>status_cd</th></tr><tr><td>str</td><td>str</td><td>i64</td><td>str</td><td>str</td><td>i64</td><td>str</td><td>str</td><td>str</td><td>i64</td><td>str</td></tr></thead><tbody><tr><td>&quot;CS021313000114…</td><td>&quot;大野 あや子&quot;</td><td>1</td><td>&quot;女性&quot;</td><td>&quot;1981-04-29&quot;</td><td>37</td><td>&quot;259-1113&quot;</td><td>&quot;神奈川県伊勢原市粟窪****…</td><td>&quot;S14021&quot;</td><td>20150905</td><td>&quot;0-00000000-0&quot;</td></tr><tr><td>&quot;CS037613000071…</td><td>&quot;六角 雅彦&quot;</td><td>9</td><td>&quot;不明&quot;</td><td>&quot;1952-04-01&quot;</td><td>66</td><td>&quot;136-0076&quot;</td><td>&quot;東京都江東区南砂******…</td><td>&quot;S13037&quot;</td><td>20150414</td><td>&quot;0-00000000-0&quot;</td></tr><tr><td>&quot;CS031415000172…</td><td>&quot;宇多田 貴美子&quot;</td><td>1</td><td>&quot;女性&quot;</td><td>&quot;1976-10-04&quot;</td><td>42</td><td>&quot;151-0053&quot;</td><td>&quot;東京都渋谷区代々木*****…</td><td>&quot;S13031&quot;</td><td>20150529</td><td>&quot;D-20100325-C&quot;</td></tr><tr><td>&quot;CS028811000001…</td><td>&quot;堀井 かおり&quot;</td><td>1</td><td>&quot;女性&quot;</td><td>&quot;1933-03-27&quot;</td><td>86</td><td>&quot;245-0016&quot;</td><td>&quot;神奈川県横浜市泉区和泉町**…</td><td>&quot;S14028&quot;</td><td>20160115</td><td>&quot;0-00000000-0&quot;</td></tr><tr><td>&quot;CS001215000145…</td><td>&quot;田崎 美紀&quot;</td><td>1</td><td>&quot;女性&quot;</td><td>&quot;1995-03-29&quot;</td><td>24</td><td>&quot;144-0055&quot;</td><td>&quot;東京都大田区仲六郷*****…</td><td>&quot;S13001&quot;</td><td>20170605</td><td>&quot;6-20090929-2&quot;</td></tr></tbody></table></div>"
      ],
      "text/plain": [
       "shape: (5, 11)\n",
       "┌─────────┬─────────┬─────────┬────────┬────────┬─────┬────────┬────────┬────────┬────────┬────────┐\n",
       "│ custome ┆ custome ┆ gender_ ┆ gender ┆ birth_ ┆ age ┆ postal ┆ addres ┆ applic ┆ applic ┆ status │\n",
       "│ r_id    ┆ r_name  ┆ cd      ┆ ---    ┆ day    ┆ --- ┆ _cd    ┆ s      ┆ ation_ ┆ ation_ ┆ _cd    │\n",
       "│ ---     ┆ ---     ┆ ---     ┆ str    ┆ ---    ┆ i64 ┆ ---    ┆ ---    ┆ store_ ┆ date   ┆ ---    │\n",
       "│ str     ┆ str     ┆ i64     ┆        ┆ str    ┆     ┆ str    ┆ str    ┆ cd     ┆ ---    ┆ str    │\n",
       "│         ┆         ┆         ┆        ┆        ┆     ┆        ┆        ┆ ---    ┆ i64    ┆        │\n",
       "│         ┆         ┆         ┆        ┆        ┆     ┆        ┆        ┆ str    ┆        ┆        │\n",
       "╞═════════╪═════════╪═════════╪════════╪════════╪═════╪════════╪════════╪════════╪════════╪════════╡\n",
       "│ CS02131 ┆ 大野    ┆ 1       ┆ 女性   ┆ 1981-0 ┆ 37  ┆ 259-11 ┆ 神奈川 ┆ S14021 ┆ 201509 ┆ 0-0000 │\n",
       "│ 3000114 ┆ あや子  ┆         ┆        ┆ 4-29   ┆     ┆ 13     ┆ 県伊勢 ┆        ┆ 05     ┆ 0000-0 │\n",
       "│         ┆         ┆         ┆        ┆        ┆     ┆        ┆ 原市粟 ┆        ┆        ┆        │\n",
       "│         ┆         ┆         ┆        ┆        ┆     ┆        ┆ 窪**** ┆        ┆        ┆        │\n",
       "│         ┆         ┆         ┆        ┆        ┆     ┆        ┆ ****** ┆        ┆        ┆        │\n",
       "│ CS03761 ┆ 六角    ┆ 9       ┆ 不明   ┆ 1952-0 ┆ 66  ┆ 136-00 ┆ 東京都 ┆ S13037 ┆ 201504 ┆ 0-0000 │\n",
       "│ 3000071 ┆ 雅彦    ┆         ┆        ┆ 4-01   ┆     ┆ 76     ┆ 江東区 ┆        ┆ 14     ┆ 0000-0 │\n",
       "│         ┆         ┆         ┆        ┆        ┆     ┆        ┆ 南砂** ┆        ┆        ┆        │\n",
       "│         ┆         ┆         ┆        ┆        ┆     ┆        ┆ ****** ┆        ┆        ┆        │\n",
       "│         ┆         ┆         ┆        ┆        ┆     ┆        ┆ **     ┆        ┆        ┆        │\n",
       "│ CS03141 ┆ 宇多田  ┆ 1       ┆ 女性   ┆ 1976-1 ┆ 42  ┆ 151-00 ┆ 東京都 ┆ S13031 ┆ 201505 ┆ D-2010 │\n",
       "│ 5000172 ┆ 貴美子  ┆         ┆        ┆ 0-04   ┆     ┆ 53     ┆ 渋谷区 ┆        ┆ 29     ┆ 0325-C │\n",
       "│         ┆         ┆         ┆        ┆        ┆     ┆        ┆ 代々木 ┆        ┆        ┆        │\n",
       "│         ┆         ┆         ┆        ┆        ┆     ┆        ┆ ****** ┆        ┆        ┆        │\n",
       "│         ┆         ┆         ┆        ┆        ┆     ┆        ┆ ****   ┆        ┆        ┆        │\n",
       "│ CS02881 ┆ 堀井    ┆ 1       ┆ 女性   ┆ 1933-0 ┆ 86  ┆ 245-00 ┆ 神奈川 ┆ S14028 ┆ 201601 ┆ 0-0000 │\n",
       "│ 1000001 ┆ かおり  ┆         ┆        ┆ 3-27   ┆     ┆ 16     ┆ 県横浜 ┆        ┆ 15     ┆ 0000-0 │\n",
       "│         ┆         ┆         ┆        ┆        ┆     ┆        ┆ 市泉区 ┆        ┆        ┆        │\n",
       "│         ┆         ┆         ┆        ┆        ┆     ┆        ┆ 和泉町 ┆        ┆        ┆        │\n",
       "│         ┆         ┆         ┆        ┆        ┆     ┆        ┆ ****** ┆        ┆        ┆        │\n",
       "│         ┆         ┆         ┆        ┆        ┆     ┆        ┆ ****   ┆        ┆        ┆        │\n",
       "│ CS00121 ┆ 田崎    ┆ 1       ┆ 女性   ┆ 1995-0 ┆ 24  ┆ 144-00 ┆ 東京都 ┆ S13001 ┆ 201706 ┆ 6-2009 │\n",
       "│ 5000145 ┆ 美紀    ┆         ┆        ┆ 3-29   ┆     ┆ 55     ┆ 大田区 ┆        ┆ 05     ┆ 0929-2 │\n",
       "│         ┆         ┆         ┆        ┆        ┆     ┆        ┆ 仲六郷 ┆        ┆        ┆        │\n",
       "│         ┆         ┆         ┆        ┆        ┆     ┆        ┆ ****** ┆        ┆        ┆        │\n",
       "│         ┆         ┆         ┆        ┆        ┆     ┆        ┆ ****   ┆        ┆        ┆        │\n",
       "└─────────┴─────────┴─────────┴────────┴────────┴─────┴────────┴────────┴────────┴────────┴────────┘"
      ]
     },
     "execution_count": 22,
     "metadata": {},
     "output_type": "execute_result"
    }
   ],
   "source": [
    "df_customer = pl.read_csv(\"../docker/work/data/customer.csv\")\n",
    "df_customer.head()"
   ]
  },
  {
   "cell_type": "markdown",
   "metadata": {},
   "source": [
    "### ノック"
   ]
  },
  {
   "cell_type": "code",
   "execution_count": 25,
   "metadata": {},
   "outputs": [
    {
     "data": {
      "text/html": [
       "<div><style>\n",
       ".dataframe > thead > tr,\n",
       ".dataframe > tbody > tr {\n",
       "  text-align: right;\n",
       "  white-space: pre-wrap;\n",
       "}\n",
       "</style>\n",
       "<small>shape: (10, 11)</small><table border=\"1\" class=\"dataframe\"><thead><tr><th>customer_id</th><th>customer_name</th><th>gender_cd</th><th>gender</th><th>birth_day</th><th>age</th><th>postal_cd</th><th>address</th><th>application_store_cd</th><th>application_date</th><th>status_cd</th></tr><tr><td>str</td><td>str</td><td>i64</td><td>str</td><td>str</td><td>i64</td><td>str</td><td>str</td><td>str</td><td>i64</td><td>str</td></tr></thead><tbody><tr><td>&quot;CS031415000172…</td><td>&quot;宇多田 貴美子&quot;</td><td>1</td><td>&quot;女性&quot;</td><td>&quot;1976-10-04&quot;</td><td>42</td><td>&quot;151-0053&quot;</td><td>&quot;東京都渋谷区代々木*****…</td><td>&quot;S13031&quot;</td><td>20150529</td><td>&quot;D-20100325-C&quot;</td></tr><tr><td>&quot;CS015414000103…</td><td>&quot;奥野 陽子&quot;</td><td>1</td><td>&quot;女性&quot;</td><td>&quot;1977-08-09&quot;</td><td>41</td><td>&quot;136-0073&quot;</td><td>&quot;東京都江東区北砂******…</td><td>&quot;S13015&quot;</td><td>20150722</td><td>&quot;B-20100609-B&quot;</td></tr><tr><td>&quot;CS011215000048…</td><td>&quot;芦田 沙耶&quot;</td><td>1</td><td>&quot;女性&quot;</td><td>&quot;1992-02-01&quot;</td><td>27</td><td>&quot;223-0062&quot;</td><td>&quot;神奈川県横浜市港北区日吉本町…</td><td>&quot;S14011&quot;</td><td>20150228</td><td>&quot;C-20100421-9&quot;</td></tr><tr><td>&quot;CS029415000023…</td><td>&quot;梅田 里穂&quot;</td><td>1</td><td>&quot;女性&quot;</td><td>&quot;1976-01-17&quot;</td><td>43</td><td>&quot;279-0043&quot;</td><td>&quot;千葉県浦安市富士見*****…</td><td>&quot;S12029&quot;</td><td>20150610</td><td>&quot;D-20100918-E&quot;</td></tr><tr><td>&quot;CS035415000029…</td><td>&quot;寺沢 真希&quot;</td><td>9</td><td>&quot;不明&quot;</td><td>&quot;1977-09-27&quot;</td><td>41</td><td>&quot;158-0096&quot;</td><td>&quot;東京都世田谷区玉川台****…</td><td>&quot;S13035&quot;</td><td>20141220</td><td>&quot;F-20101029-F&quot;</td></tr><tr><td>&quot;CS031415000106…</td><td>&quot;宇野 由美子&quot;</td><td>1</td><td>&quot;女性&quot;</td><td>&quot;1970-02-26&quot;</td><td>49</td><td>&quot;151-0053&quot;</td><td>&quot;東京都渋谷区代々木*****…</td><td>&quot;S13031&quot;</td><td>20150201</td><td>&quot;F-20100511-E&quot;</td></tr><tr><td>&quot;CS029215000025…</td><td>&quot;石倉 美帆&quot;</td><td>1</td><td>&quot;女性&quot;</td><td>&quot;1993-09-28&quot;</td><td>25</td><td>&quot;279-0022&quot;</td><td>&quot;千葉県浦安市今川******…</td><td>&quot;S12029&quot;</td><td>20150708</td><td>&quot;B-20100820-C&quot;</td></tr><tr><td>&quot;CS033605000005…</td><td>&quot;猪股 雄太&quot;</td><td>0</td><td>&quot;男性&quot;</td><td>&quot;1955-12-05&quot;</td><td>63</td><td>&quot;246-0031&quot;</td><td>&quot;神奈川県横浜市瀬谷区瀬谷**…</td><td>&quot;S14033&quot;</td><td>20150425</td><td>&quot;F-20100917-E&quot;</td></tr><tr><td>&quot;CS033415000229…</td><td>&quot;板垣 菜々美&quot;</td><td>1</td><td>&quot;女性&quot;</td><td>&quot;1977-11-07&quot;</td><td>41</td><td>&quot;246-0021&quot;</td><td>&quot;神奈川県横浜市瀬谷区二ツ橋町…</td><td>&quot;S14033&quot;</td><td>20150712</td><td>&quot;F-20100326-E&quot;</td></tr><tr><td>&quot;CS008415000145…</td><td>&quot;黒谷 麻緒&quot;</td><td>1</td><td>&quot;女性&quot;</td><td>&quot;1977-06-27&quot;</td><td>41</td><td>&quot;157-0067&quot;</td><td>&quot;東京都世田谷区喜多見****…</td><td>&quot;S13008&quot;</td><td>20150829</td><td>&quot;F-20100622-F&quot;</td></tr></tbody></table></div>"
      ],
      "text/plain": [
       "shape: (10, 11)\n",
       "┌─────────┬─────────┬─────────┬────────┬────────┬─────┬────────┬────────┬────────┬────────┬────────┐\n",
       "│ custome ┆ custome ┆ gender_ ┆ gender ┆ birth_ ┆ age ┆ postal ┆ addres ┆ applic ┆ applic ┆ status │\n",
       "│ r_id    ┆ r_name  ┆ cd      ┆ ---    ┆ day    ┆ --- ┆ _cd    ┆ s      ┆ ation_ ┆ ation_ ┆ _cd    │\n",
       "│ ---     ┆ ---     ┆ ---     ┆ str    ┆ ---    ┆ i64 ┆ ---    ┆ ---    ┆ store_ ┆ date   ┆ ---    │\n",
       "│ str     ┆ str     ┆ i64     ┆        ┆ str    ┆     ┆ str    ┆ str    ┆ cd     ┆ ---    ┆ str    │\n",
       "│         ┆         ┆         ┆        ┆        ┆     ┆        ┆        ┆ ---    ┆ i64    ┆        │\n",
       "│         ┆         ┆         ┆        ┆        ┆     ┆        ┆        ┆ str    ┆        ┆        │\n",
       "╞═════════╪═════════╪═════════╪════════╪════════╪═════╪════════╪════════╪════════╪════════╪════════╡\n",
       "│ CS03141 ┆ 宇多田  ┆ 1       ┆ 女性   ┆ 1976-1 ┆ 42  ┆ 151-00 ┆ 東京都 ┆ S13031 ┆ 201505 ┆ D-2010 │\n",
       "│ 5000172 ┆ 貴美子  ┆         ┆        ┆ 0-04   ┆     ┆ 53     ┆ 渋谷区 ┆        ┆ 29     ┆ 0325-C │\n",
       "│         ┆         ┆         ┆        ┆        ┆     ┆        ┆ 代々木 ┆        ┆        ┆        │\n",
       "│         ┆         ┆         ┆        ┆        ┆     ┆        ┆ ****** ┆        ┆        ┆        │\n",
       "│         ┆         ┆         ┆        ┆        ┆     ┆        ┆ ****   ┆        ┆        ┆        │\n",
       "│ CS01541 ┆ 奥野    ┆ 1       ┆ 女性   ┆ 1977-0 ┆ 41  ┆ 136-00 ┆ 東京都 ┆ S13015 ┆ 201507 ┆ B-2010 │\n",
       "│ 4000103 ┆ 陽子    ┆         ┆        ┆ 8-09   ┆     ┆ 73     ┆ 江東区 ┆        ┆ 22     ┆ 0609-B │\n",
       "│         ┆         ┆         ┆        ┆        ┆     ┆        ┆ 北砂** ┆        ┆        ┆        │\n",
       "│         ┆         ┆         ┆        ┆        ┆     ┆        ┆ ****** ┆        ┆        ┆        │\n",
       "│         ┆         ┆         ┆        ┆        ┆     ┆        ┆ **     ┆        ┆        ┆        │\n",
       "│ CS01121 ┆ 芦田    ┆ 1       ┆ 女性   ┆ 1992-0 ┆ 27  ┆ 223-00 ┆ 神奈川 ┆ S14011 ┆ 201502 ┆ C-2010 │\n",
       "│ 5000048 ┆ 沙耶    ┆         ┆        ┆ 2-01   ┆     ┆ 62     ┆ 県横浜 ┆        ┆ 28     ┆ 0421-9 │\n",
       "│         ┆         ┆         ┆        ┆        ┆     ┆        ┆ 市港北 ┆        ┆        ┆        │\n",
       "│         ┆         ┆         ┆        ┆        ┆     ┆        ┆ 区日吉 ┆        ┆        ┆        │\n",
       "│         ┆         ┆         ┆        ┆        ┆     ┆        ┆ 本町** ┆        ┆        ┆        │\n",
       "│         ┆         ┆         ┆        ┆        ┆     ┆        ┆ ****** ┆        ┆        ┆        │\n",
       "│         ┆         ┆         ┆        ┆        ┆     ┆        ┆ **     ┆        ┆        ┆        │\n",
       "│ CS02941 ┆ 梅田    ┆ 1       ┆ 女性   ┆ 1976-0 ┆ 43  ┆ 279-00 ┆ 千葉県 ┆ S12029 ┆ 201506 ┆ D-2010 │\n",
       "│ 5000023 ┆ 里穂    ┆         ┆        ┆ 1-17   ┆     ┆ 43     ┆ 浦安市 ┆        ┆ 10     ┆ 0918-E │\n",
       "│         ┆         ┆         ┆        ┆        ┆     ┆        ┆ 富士見 ┆        ┆        ┆        │\n",
       "│         ┆         ┆         ┆        ┆        ┆     ┆        ┆ ****** ┆        ┆        ┆        │\n",
       "│         ┆         ┆         ┆        ┆        ┆     ┆        ┆ ****   ┆        ┆        ┆        │\n",
       "│ …       ┆ …       ┆ …       ┆ …      ┆ …      ┆ …   ┆ …      ┆ …      ┆ …      ┆ …      ┆ …      │\n",
       "│ CS02921 ┆ 石倉    ┆ 1       ┆ 女性   ┆ 1993-0 ┆ 25  ┆ 279-00 ┆ 千葉県 ┆ S12029 ┆ 201507 ┆ B-2010 │\n",
       "│ 5000025 ┆ 美帆    ┆         ┆        ┆ 9-28   ┆     ┆ 22     ┆ 浦安市 ┆        ┆ 08     ┆ 0820-C │\n",
       "│         ┆         ┆         ┆        ┆        ┆     ┆        ┆ 今川** ┆        ┆        ┆        │\n",
       "│         ┆         ┆         ┆        ┆        ┆     ┆        ┆ ****** ┆        ┆        ┆        │\n",
       "│         ┆         ┆         ┆        ┆        ┆     ┆        ┆ **     ┆        ┆        ┆        │\n",
       "│ CS03360 ┆ 猪股    ┆ 0       ┆ 男性   ┆ 1955-1 ┆ 63  ┆ 246-00 ┆ 神奈川 ┆ S14033 ┆ 201504 ┆ F-2010 │\n",
       "│ 5000005 ┆ 雄太    ┆         ┆        ┆ 2-05   ┆     ┆ 31     ┆ 県横浜 ┆        ┆ 25     ┆ 0917-E │\n",
       "│         ┆         ┆         ┆        ┆        ┆     ┆        ┆ 市瀬谷 ┆        ┆        ┆        │\n",
       "│         ┆         ┆         ┆        ┆        ┆     ┆        ┆ 区瀬谷 ┆        ┆        ┆        │\n",
       "│         ┆         ┆         ┆        ┆        ┆     ┆        ┆ ****** ┆        ┆        ┆        │\n",
       "│         ┆         ┆         ┆        ┆        ┆     ┆        ┆ ****   ┆        ┆        ┆        │\n",
       "│ CS03341 ┆ 板垣    ┆ 1       ┆ 女性   ┆ 1977-1 ┆ 41  ┆ 246-00 ┆ 神奈川 ┆ S14033 ┆ 201507 ┆ F-2010 │\n",
       "│ 5000229 ┆ 菜々美  ┆         ┆        ┆ 1-07   ┆     ┆ 21     ┆ 県横浜 ┆        ┆ 12     ┆ 0326-E │\n",
       "│         ┆         ┆         ┆        ┆        ┆     ┆        ┆ 市瀬谷 ┆        ┆        ┆        │\n",
       "│         ┆         ┆         ┆        ┆        ┆     ┆        ┆ 区二ツ ┆        ┆        ┆        │\n",
       "│         ┆         ┆         ┆        ┆        ┆     ┆        ┆ 橋町** ┆        ┆        ┆        │\n",
       "│         ┆         ┆         ┆        ┆        ┆     ┆        ┆ ****** ┆        ┆        ┆        │\n",
       "│         ┆         ┆         ┆        ┆        ┆     ┆        ┆ **     ┆        ┆        ┆        │\n",
       "│ CS00841 ┆ 黒谷    ┆ 1       ┆ 女性   ┆ 1977-0 ┆ 41  ┆ 157-00 ┆ 東京都 ┆ S13008 ┆ 201508 ┆ F-2010 │\n",
       "│ 5000145 ┆ 麻緒    ┆         ┆        ┆ 6-27   ┆     ┆ 67     ┆ 世田谷 ┆        ┆ 29     ┆ 0622-F │\n",
       "│         ┆         ┆         ┆        ┆        ┆     ┆        ┆ 区喜多 ┆        ┆        ┆        │\n",
       "│         ┆         ┆         ┆        ┆        ┆     ┆        ┆ 見**** ┆        ┆        ┆        │\n",
       "│         ┆         ┆         ┆        ┆        ┆     ┆        ┆ ****** ┆        ┆        ┆        │\n",
       "└─────────┴─────────┴─────────┴────────┴────────┴─────┴────────┴────────┴────────┴────────┴────────┘"
      ]
     },
     "execution_count": 25,
     "metadata": {},
     "output_type": "execute_result"
    }
   ],
   "source": [
    "df_customer.filter( pl.col(\"status_cd\").str.slice(0, 1).is_in([\"A\", \"B\", \"C\", \"D\", \"E\", \"F\"])).head(n = 10)"
   ]
  }
 ],
 "metadata": {
  "kernelspec": {
   "display_name": "Python 3",
   "language": "python",
   "name": "python3"
  },
  "language_info": {
   "codemirror_mode": {
    "name": "ipython",
    "version": 3
   },
   "file_extension": ".py",
   "mimetype": "text/x-python",
   "name": "python",
   "nbconvert_exporter": "python",
   "pygments_lexer": "ipython3",
   "version": "3.11.4"
  }
 },
 "nbformat": 4,
 "nbformat_minor": 2
}
