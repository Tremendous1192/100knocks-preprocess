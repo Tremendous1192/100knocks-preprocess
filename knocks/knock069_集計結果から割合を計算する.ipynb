{
 "cells": [
  {
   "cell_type": "markdown",
   "metadata": {},
   "source": [
    "## knock 069 集計結果から割合を計算する"
   ]
  },
  {
   "cell_type": "code",
   "execution_count": 7,
   "metadata": {},
   "outputs": [],
   "source": [
    "import polars as pl\n",
    "pl.Config.set_tbl_cols(-1)# 列の表示が省略されないようにする\n",
    "import polars.selectors as cs# 抽出条件のプリセット"
   ]
  },
  {
   "cell_type": "markdown",
   "metadata": {},
   "source": [
    "### データを読み込む"
   ]
  },
  {
   "cell_type": "code",
   "execution_count": 8,
   "metadata": {},
   "outputs": [
    {
     "data": {
      "text/html": [
       "<div><style>\n",
       ".dataframe > thead > tr,\n",
       ".dataframe > tbody > tr {\n",
       "  text-align: right;\n",
       "  white-space: pre-wrap;\n",
       "}\n",
       "</style>\n",
       "<small>shape: (5, 9)</small><table border=\"1\" class=\"dataframe\"><thead><tr><th>sales_ymd</th><th>sales_epoch</th><th>store_cd</th><th>receipt_no</th><th>receipt_sub_no</th><th>customer_id</th><th>product_cd</th><th>quantity</th><th>amount</th></tr><tr><td>i64</td><td>i64</td><td>str</td><td>i64</td><td>i64</td><td>str</td><td>str</td><td>i64</td><td>i64</td></tr></thead><tbody><tr><td>20181103</td><td>1541203200</td><td>&quot;S14006&quot;</td><td>112</td><td>1</td><td>&quot;CS006214000001…</td><td>&quot;P070305012&quot;</td><td>1</td><td>158</td></tr><tr><td>20181118</td><td>1542499200</td><td>&quot;S13008&quot;</td><td>1132</td><td>2</td><td>&quot;CS008415000097…</td><td>&quot;P070701017&quot;</td><td>1</td><td>81</td></tr><tr><td>20170712</td><td>1499817600</td><td>&quot;S14028&quot;</td><td>1102</td><td>1</td><td>&quot;CS028414000014…</td><td>&quot;P060101005&quot;</td><td>1</td><td>170</td></tr><tr><td>20190205</td><td>1549324800</td><td>&quot;S14042&quot;</td><td>1132</td><td>1</td><td>&quot;ZZ000000000000…</td><td>&quot;P050301001&quot;</td><td>1</td><td>25</td></tr><tr><td>20180821</td><td>1534809600</td><td>&quot;S14025&quot;</td><td>1102</td><td>2</td><td>&quot;CS025415000050…</td><td>&quot;P060102007&quot;</td><td>1</td><td>90</td></tr></tbody></table></div>"
      ],
      "text/plain": [
       "shape: (5, 9)\n",
       "┌───────────┬───────────┬──────────┬──────────┬──────────┬──────────┬──────────┬──────────┬────────┐\n",
       "│ sales_ymd ┆ sales_epo ┆ store_cd ┆ receipt_ ┆ receipt_ ┆ customer ┆ product_ ┆ quantity ┆ amount │\n",
       "│ ---       ┆ ch        ┆ ---      ┆ no       ┆ sub_no   ┆ _id      ┆ cd       ┆ ---      ┆ ---    │\n",
       "│ i64       ┆ ---       ┆ str      ┆ ---      ┆ ---      ┆ ---      ┆ ---      ┆ i64      ┆ i64    │\n",
       "│           ┆ i64       ┆          ┆ i64      ┆ i64      ┆ str      ┆ str      ┆          ┆        │\n",
       "╞═══════════╪═══════════╪══════════╪══════════╪══════════╪══════════╪══════════╪══════════╪════════╡\n",
       "│ 20181103  ┆ 154120320 ┆ S14006   ┆ 112      ┆ 1        ┆ CS006214 ┆ P0703050 ┆ 1        ┆ 158    │\n",
       "│           ┆ 0         ┆          ┆          ┆          ┆ 000001   ┆ 12       ┆          ┆        │\n",
       "│ 20181118  ┆ 154249920 ┆ S13008   ┆ 1132     ┆ 2        ┆ CS008415 ┆ P0707010 ┆ 1        ┆ 81     │\n",
       "│           ┆ 0         ┆          ┆          ┆          ┆ 000097   ┆ 17       ┆          ┆        │\n",
       "│ 20170712  ┆ 149981760 ┆ S14028   ┆ 1102     ┆ 1        ┆ CS028414 ┆ P0601010 ┆ 1        ┆ 170    │\n",
       "│           ┆ 0         ┆          ┆          ┆          ┆ 000014   ┆ 05       ┆          ┆        │\n",
       "│ 20190205  ┆ 154932480 ┆ S14042   ┆ 1132     ┆ 1        ┆ ZZ000000 ┆ P0503010 ┆ 1        ┆ 25     │\n",
       "│           ┆ 0         ┆          ┆          ┆          ┆ 000000   ┆ 01       ┆          ┆        │\n",
       "│ 20180821  ┆ 153480960 ┆ S14025   ┆ 1102     ┆ 2        ┆ CS025415 ┆ P0601020 ┆ 1        ┆ 90     │\n",
       "│           ┆ 0         ┆          ┆          ┆          ┆ 000050   ┆ 07       ┆          ┆        │\n",
       "└───────────┴───────────┴──────────┴──────────┴──────────┴──────────┴──────────┴──────────┴────────┘"
      ]
     },
     "metadata": {},
     "output_type": "display_data"
    },
    {
     "data": {
      "text/html": [
       "<div><style>\n",
       ".dataframe > thead > tr,\n",
       ".dataframe > tbody > tr {\n",
       "  text-align: right;\n",
       "  white-space: pre-wrap;\n",
       "}\n",
       "</style>\n",
       "<small>shape: (5, 6)</small><table border=\"1\" class=\"dataframe\"><thead><tr><th>product_cd</th><th>category_major_cd</th><th>category_medium_cd</th><th>category_small_cd</th><th>unit_price</th><th>unit_cost</th></tr><tr><td>str</td><td>i64</td><td>i64</td><td>i64</td><td>i64</td><td>i64</td></tr></thead><tbody><tr><td>&quot;P040101001&quot;</td><td>4</td><td>401</td><td>40101</td><td>198</td><td>149</td></tr><tr><td>&quot;P040101002&quot;</td><td>4</td><td>401</td><td>40101</td><td>218</td><td>164</td></tr><tr><td>&quot;P040101003&quot;</td><td>4</td><td>401</td><td>40101</td><td>230</td><td>173</td></tr><tr><td>&quot;P040101004&quot;</td><td>4</td><td>401</td><td>40101</td><td>248</td><td>186</td></tr><tr><td>&quot;P040101005&quot;</td><td>4</td><td>401</td><td>40101</td><td>268</td><td>201</td></tr></tbody></table></div>"
      ],
      "text/plain": [
       "shape: (5, 6)\n",
       "┌────────────┬───────────────────┬────────────────────┬───────────────────┬────────────┬───────────┐\n",
       "│ product_cd ┆ category_major_cd ┆ category_medium_cd ┆ category_small_cd ┆ unit_price ┆ unit_cost │\n",
       "│ ---        ┆ ---               ┆ ---                ┆ ---               ┆ ---        ┆ ---       │\n",
       "│ str        ┆ i64               ┆ i64                ┆ i64               ┆ i64        ┆ i64       │\n",
       "╞════════════╪═══════════════════╪════════════════════╪═══════════════════╪════════════╪═══════════╡\n",
       "│ P040101001 ┆ 4                 ┆ 401                ┆ 40101             ┆ 198        ┆ 149       │\n",
       "│ P040101002 ┆ 4                 ┆ 401                ┆ 40101             ┆ 218        ┆ 164       │\n",
       "│ P040101003 ┆ 4                 ┆ 401                ┆ 40101             ┆ 230        ┆ 173       │\n",
       "│ P040101004 ┆ 4                 ┆ 401                ┆ 40101             ┆ 248        ┆ 186       │\n",
       "│ P040101005 ┆ 4                 ┆ 401                ┆ 40101             ┆ 268        ┆ 201       │\n",
       "└────────────┴───────────────────┴────────────────────┴───────────────────┴────────────┴───────────┘"
      ]
     },
     "metadata": {},
     "output_type": "display_data"
    }
   ],
   "source": [
    "df_receipt = pl.read_csv(\"../docker/work/data/receipt.csv\")\n",
    "display(df_receipt.head())\n",
    "\n",
    "df_product = pl.read_csv(\"../docker/work/data/product.csv\")\n",
    "display(df_product.head())"
   ]
  },
  {
   "cell_type": "markdown",
   "metadata": {},
   "source": [
    "### ノック"
   ]
  },
  {
   "cell_type": "code",
   "execution_count": 9,
   "metadata": {},
   "outputs": [
    {
     "data": {
      "text/html": [
       "<div><style>\n",
       ".dataframe > thead > tr,\n",
       ".dataframe > tbody > tr {\n",
       "  text-align: right;\n",
       "  white-space: pre-wrap;\n",
       "}\n",
       "</style>\n",
       "<small>shape: (10, 3)</small><table border=\"1\" class=\"dataframe\"><thead><tr><th>customer_id</th><th>sum_all</th><th>sum_a7</th></tr><tr><td>str</td><td>i64</td><td>i64</td></tr></thead><tbody><tr><td>&quot;CS002413000071…</td><td>198</td><td>198</td></tr><tr><td>&quot;CS004415000607…</td><td>200</td><td>200</td></tr><tr><td>&quot;CS007515000232…</td><td>5605</td><td>2136</td></tr><tr><td>&quot;CS023515000126…</td><td>2079</td><td>218</td></tr><tr><td>&quot;CS040513000111…</td><td>968</td><td>0</td></tr><tr><td>&quot;CS038515000114…</td><td>3164</td><td>1076</td></tr><tr><td>&quot;CS029214000018…</td><td>1685</td><td>1087</td></tr><tr><td>&quot;CS015415000018…</td><td>8218</td><td>5245</td></tr><tr><td>&quot;CS019214000005…</td><td>4396</td><td>3692</td></tr><tr><td>&quot;CS004115000010…</td><td>4830</td><td>2650</td></tr></tbody></table></div>"
      ],
      "text/plain": [
       "shape: (10, 3)\n",
       "┌────────────────┬─────────┬────────┐\n",
       "│ customer_id    ┆ sum_all ┆ sum_a7 │\n",
       "│ ---            ┆ ---     ┆ ---    │\n",
       "│ str            ┆ i64     ┆ i64    │\n",
       "╞════════════════╪═════════╪════════╡\n",
       "│ CS002413000071 ┆ 198     ┆ 198    │\n",
       "│ CS004415000607 ┆ 200     ┆ 200    │\n",
       "│ CS007515000232 ┆ 5605    ┆ 2136   │\n",
       "│ CS023515000126 ┆ 2079    ┆ 218    │\n",
       "│ …              ┆ …       ┆ …      │\n",
       "│ CS029214000018 ┆ 1685    ┆ 1087   │\n",
       "│ CS015415000018 ┆ 8218    ┆ 5245   │\n",
       "│ CS019214000005 ┆ 4396    ┆ 3692   │\n",
       "│ CS004115000010 ┆ 4830    ┆ 2650   │\n",
       "└────────────────┴─────────┴────────┘"
      ]
     },
     "execution_count": 9,
     "metadata": {},
     "output_type": "execute_result"
    }
   ],
   "source": [
    "(\n",
    "    df_receipt\n",
    "    # 使用する列を抽出する(大規模データの場合メモリ使用量を節約する効果がある)\n",
    "    .select(\n",
    "        pl.col(\"customer_id\"),\n",
    "        pl.col(\"product_cd\"),\n",
    "        pl.col(\"amount\")\n",
    "    )\n",
    "    # 売上明細に商品カテゴリ大区分を追加する\n",
    "    .join(\n",
    "        other = df_product[[\"product_cd\", \"category_major_cd\"]],\n",
    "        on = \"product_cd\",\n",
    "        how = \"left\"\n",
    "    )\n",
    "    # 顧客別の売上高と商品カテゴリ大区分7(瓶詰め缶詰)の売上高を計算する\n",
    "    .group_by(by = \"customer_id\")\n",
    "    .agg([\n",
    "        pl.col(\"amount\").sum().alias(\"sum_all\"),\n",
    "        pl.col(\"amount\").filter( pl.col(\"category_major_cd\") == 7 ).sum().alias(\"sum_a7\")\n",
    "    ])\n",
    "    # 商品カテゴリ大区分7(瓶詰め缶詰)の売上高比率を計算する\n",
    "    .with_columns(\n",
    "        (pl.col(\"sum_a7\") / pl.col(\"sum_all\")).alias(\"sales_rate\")\n",
    "    )\n",
    "    # 先頭10行\n",
    "    .head(n = 10)\n",
    ")"
   ]
  }
 ],
 "metadata": {
  "kernelspec": {
   "display_name": "Python 3",
   "language": "python",
   "name": "python3"
  },
  "language_info": {
   "codemirror_mode": {
    "name": "ipython",
    "version": 3
   },
   "file_extension": ".py",
   "mimetype": "text/x-python",
   "name": "python",
   "nbconvert_exporter": "python",
   "pygments_lexer": "ipython3",
   "version": "3.11.4"
  }
 },
 "nbformat": 4,
 "nbformat_minor": 2
}
