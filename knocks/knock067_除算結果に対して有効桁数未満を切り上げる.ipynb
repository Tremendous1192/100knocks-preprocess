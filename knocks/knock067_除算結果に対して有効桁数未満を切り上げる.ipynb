{
 "cells": [
  {
   "cell_type": "markdown",
   "metadata": {},
   "source": [
    "## knock 067 除算結果に対して有効桁数未満を切り上げる"
   ]
  },
  {
   "cell_type": "code",
   "execution_count": 4,
   "metadata": {},
   "outputs": [],
   "source": [
    "import polars as pl\n",
    "pl.Config.set_tbl_cols(-1)# 列の表示が省略されないようにする\n",
    "import polars.selectors as cs# 抽出条件のプリセット"
   ]
  },
  {
   "cell_type": "markdown",
   "metadata": {},
   "source": [
    "### データを読み込む"
   ]
  },
  {
   "cell_type": "code",
   "execution_count": 5,
   "metadata": {},
   "outputs": [
    {
     "data": {
      "text/html": [
       "<div><style>\n",
       ".dataframe > thead > tr,\n",
       ".dataframe > tbody > tr {\n",
       "  text-align: right;\n",
       "  white-space: pre-wrap;\n",
       "}\n",
       "</style>\n",
       "<small>shape: (5, 6)</small><table border=\"1\" class=\"dataframe\"><thead><tr><th>product_cd</th><th>category_major_cd</th><th>category_medium_cd</th><th>category_small_cd</th><th>unit_price</th><th>unit_cost</th></tr><tr><td>str</td><td>i64</td><td>i64</td><td>i64</td><td>i64</td><td>i64</td></tr></thead><tbody><tr><td>&quot;P040101001&quot;</td><td>4</td><td>401</td><td>40101</td><td>198</td><td>149</td></tr><tr><td>&quot;P040101002&quot;</td><td>4</td><td>401</td><td>40101</td><td>218</td><td>164</td></tr><tr><td>&quot;P040101003&quot;</td><td>4</td><td>401</td><td>40101</td><td>230</td><td>173</td></tr><tr><td>&quot;P040101004&quot;</td><td>4</td><td>401</td><td>40101</td><td>248</td><td>186</td></tr><tr><td>&quot;P040101005&quot;</td><td>4</td><td>401</td><td>40101</td><td>268</td><td>201</td></tr></tbody></table></div>"
      ],
      "text/plain": [
       "shape: (5, 6)\n",
       "┌────────────┬───────────────────┬────────────────────┬───────────────────┬────────────┬───────────┐\n",
       "│ product_cd ┆ category_major_cd ┆ category_medium_cd ┆ category_small_cd ┆ unit_price ┆ unit_cost │\n",
       "│ ---        ┆ ---               ┆ ---                ┆ ---               ┆ ---        ┆ ---       │\n",
       "│ str        ┆ i64               ┆ i64                ┆ i64               ┆ i64        ┆ i64       │\n",
       "╞════════════╪═══════════════════╪════════════════════╪═══════════════════╪════════════╪═══════════╡\n",
       "│ P040101001 ┆ 4                 ┆ 401                ┆ 40101             ┆ 198        ┆ 149       │\n",
       "│ P040101002 ┆ 4                 ┆ 401                ┆ 40101             ┆ 218        ┆ 164       │\n",
       "│ P040101003 ┆ 4                 ┆ 401                ┆ 40101             ┆ 230        ┆ 173       │\n",
       "│ P040101004 ┆ 4                 ┆ 401                ┆ 40101             ┆ 248        ┆ 186       │\n",
       "│ P040101005 ┆ 4                 ┆ 401                ┆ 40101             ┆ 268        ┆ 201       │\n",
       "└────────────┴───────────────────┴────────────────────┴───────────────────┴────────────┴───────────┘"
      ]
     },
     "metadata": {},
     "output_type": "display_data"
    }
   ],
   "source": [
    "df_product = pl.read_csv(\"../docker/work/data/product.csv\")\n",
    "display(df_product.head())"
   ]
  },
  {
   "cell_type": "markdown",
   "metadata": {},
   "source": [
    "### ノック"
   ]
  },
  {
   "cell_type": "code",
   "execution_count": 6,
   "metadata": {},
   "outputs": [
    {
     "data": {
      "text/html": [
       "<div><style>\n",
       ".dataframe > thead > tr,\n",
       ".dataframe > tbody > tr {\n",
       "  text-align: right;\n",
       "  white-space: pre-wrap;\n",
       "}\n",
       "</style>\n",
       "<small>shape: (10, 4)</small><table border=\"1\" class=\"dataframe\"><thead><tr><th>unit_price</th><th>unit_cost</th><th>new_price</th><th>new_profit_rate</th></tr><tr><td>i64</td><td>i64</td><td>f64</td><td>f64</td></tr></thead><tbody><tr><td>198</td><td>149</td><td>213.0</td><td>0.300469</td></tr><tr><td>218</td><td>164</td><td>235.0</td><td>0.302128</td></tr><tr><td>230</td><td>173</td><td>248.0</td><td>0.302419</td></tr><tr><td>248</td><td>186</td><td>266.0</td><td>0.300752</td></tr><tr><td>268</td><td>201</td><td>288.0</td><td>0.302083</td></tr><tr><td>298</td><td>224</td><td>320.0</td><td>0.3</td></tr><tr><td>338</td><td>254</td><td>363.0</td><td>0.300275</td></tr><tr><td>420</td><td>315</td><td>451.0</td><td>0.301552</td></tr><tr><td>498</td><td>374</td><td>535.0</td><td>0.300935</td></tr><tr><td>580</td><td>435</td><td>622.0</td><td>0.300643</td></tr></tbody></table></div>"
      ],
      "text/plain": [
       "shape: (10, 4)\n",
       "┌────────────┬───────────┬───────────┬─────────────────┐\n",
       "│ unit_price ┆ unit_cost ┆ new_price ┆ new_profit_rate │\n",
       "│ ---        ┆ ---       ┆ ---       ┆ ---             │\n",
       "│ i64        ┆ i64       ┆ f64       ┆ f64             │\n",
       "╞════════════╪═══════════╪═══════════╪═════════════════╡\n",
       "│ 198        ┆ 149       ┆ 213.0     ┆ 0.300469        │\n",
       "│ 218        ┆ 164       ┆ 235.0     ┆ 0.302128        │\n",
       "│ 230        ┆ 173       ┆ 248.0     ┆ 0.302419        │\n",
       "│ 248        ┆ 186       ┆ 266.0     ┆ 0.300752        │\n",
       "│ …          ┆ …         ┆ …         ┆ …               │\n",
       "│ 338        ┆ 254       ┆ 363.0     ┆ 0.300275        │\n",
       "│ 420        ┆ 315       ┆ 451.0     ┆ 0.301552        │\n",
       "│ 498        ┆ 374       ┆ 535.0     ┆ 0.300935        │\n",
       "│ 580        ┆ 435       ┆ 622.0     ┆ 0.300643        │\n",
       "└────────────┴───────────┴───────────┴─────────────────┘"
      ]
     },
     "execution_count": 6,
     "metadata": {},
     "output_type": "execute_result"
    }
   ],
   "source": [
    "(\n",
    "    df_product\n",
    "    # 使用する列を抽出する(大規模データの場合メモリ使用量を節約する効果がある)\n",
    "    .select([\n",
    "        pl.col(\"unit_price\"),\n",
    "        pl.col(\"unit_cost\")\n",
    "    ])\n",
    "    # 利益率30%の販売価格を計算する\n",
    "    .with_columns(\n",
    "        (pl.col(\"unit_cost\") / 0.7)\n",
    "        .ceil()\n",
    "        .alias(\"new_price\")\n",
    "    )\n",
    "    # 新しい販売価格の利益率を計算する\n",
    "    .with_columns(\n",
    "        ((pl.col(\"new_price\") - pl.col(\"unit_cost\")) / pl.col(\"new_price\"))\n",
    "        .alias(\"new_profit_rate\")\n",
    "    )\n",
    "    # 先頭10行\n",
    "    .head(n = 10)\n",
    ")"
   ]
  }
 ],
 "metadata": {
  "kernelspec": {
   "display_name": "Python 3",
   "language": "python",
   "name": "python3"
  },
  "language_info": {
   "codemirror_mode": {
    "name": "ipython",
    "version": 3
   },
   "file_extension": ".py",
   "mimetype": "text/x-python",
   "name": "python",
   "nbconvert_exporter": "python",
   "pygments_lexer": "ipython3",
   "version": "3.11.4"
  }
 },
 "nbformat": 4,
 "nbformat_minor": 2
}
