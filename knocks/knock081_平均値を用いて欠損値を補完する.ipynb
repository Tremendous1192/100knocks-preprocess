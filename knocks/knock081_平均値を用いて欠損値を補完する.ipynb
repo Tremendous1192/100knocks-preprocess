{
 "cells": [
  {
   "cell_type": "markdown",
   "metadata": {},
   "source": [
    "## knock 081 平均値を用いて欠損値を補完する"
   ]
  },
  {
   "cell_type": "code",
   "execution_count": 5,
   "metadata": {},
   "outputs": [],
   "source": [
    "import polars as pl\n",
    "pl.Config.set_tbl_cols(-1)# 列の表示が省略されないようにする\n",
    "import polars.selectors as cs# 抽出条件のプリセット"
   ]
  },
  {
   "cell_type": "markdown",
   "metadata": {},
   "source": [
    "### データを読み込む"
   ]
  },
  {
   "cell_type": "code",
   "execution_count": 6,
   "metadata": {},
   "outputs": [
    {
     "data": {
      "text/html": [
       "<div><style>\n",
       ".dataframe > thead > tr,\n",
       ".dataframe > tbody > tr {\n",
       "  text-align: right;\n",
       "  white-space: pre-wrap;\n",
       "}\n",
       "</style>\n",
       "<small>shape: (5, 6)</small><table border=\"1\" class=\"dataframe\"><thead><tr><th>product_cd</th><th>category_major_cd</th><th>category_medium_cd</th><th>category_small_cd</th><th>unit_price</th><th>unit_cost</th></tr><tr><td>str</td><td>i64</td><td>i64</td><td>i64</td><td>i64</td><td>i64</td></tr></thead><tbody><tr><td>&quot;P040101001&quot;</td><td>4</td><td>401</td><td>40101</td><td>198</td><td>149</td></tr><tr><td>&quot;P040101002&quot;</td><td>4</td><td>401</td><td>40101</td><td>218</td><td>164</td></tr><tr><td>&quot;P040101003&quot;</td><td>4</td><td>401</td><td>40101</td><td>230</td><td>173</td></tr><tr><td>&quot;P040101004&quot;</td><td>4</td><td>401</td><td>40101</td><td>248</td><td>186</td></tr><tr><td>&quot;P040101005&quot;</td><td>4</td><td>401</td><td>40101</td><td>268</td><td>201</td></tr></tbody></table></div>"
      ],
      "text/plain": [
       "shape: (5, 6)\n",
       "┌────────────┬───────────────────┬────────────────────┬───────────────────┬────────────┬───────────┐\n",
       "│ product_cd ┆ category_major_cd ┆ category_medium_cd ┆ category_small_cd ┆ unit_price ┆ unit_cost │\n",
       "│ ---        ┆ ---               ┆ ---                ┆ ---               ┆ ---        ┆ ---       │\n",
       "│ str        ┆ i64               ┆ i64                ┆ i64               ┆ i64        ┆ i64       │\n",
       "╞════════════╪═══════════════════╪════════════════════╪═══════════════════╪════════════╪═══════════╡\n",
       "│ P040101001 ┆ 4                 ┆ 401                ┆ 40101             ┆ 198        ┆ 149       │\n",
       "│ P040101002 ┆ 4                 ┆ 401                ┆ 40101             ┆ 218        ┆ 164       │\n",
       "│ P040101003 ┆ 4                 ┆ 401                ┆ 40101             ┆ 230        ┆ 173       │\n",
       "│ P040101004 ┆ 4                 ┆ 401                ┆ 40101             ┆ 248        ┆ 186       │\n",
       "│ P040101005 ┆ 4                 ┆ 401                ┆ 40101             ┆ 268        ┆ 201       │\n",
       "└────────────┴───────────────────┴────────────────────┴───────────────────┴────────────┴───────────┘"
      ]
     },
     "metadata": {},
     "output_type": "display_data"
    }
   ],
   "source": [
    "df_product = pl.read_csv(\"../docker/work/data/product.csv\")\n",
    "display(df_product.head())"
   ]
  },
  {
   "cell_type": "markdown",
   "metadata": {},
   "source": [
    "### ノック"
   ]
  },
  {
   "cell_type": "code",
   "execution_count": 7,
   "metadata": {},
   "outputs": [
    {
     "data": {
      "text/html": [
       "<div><style>\n",
       ".dataframe > thead > tr,\n",
       ".dataframe > tbody > tr {\n",
       "  text-align: right;\n",
       "  white-space: pre-wrap;\n",
       "}\n",
       "</style>\n",
       "<small>shape: (1, 6)</small><table border=\"1\" class=\"dataframe\"><thead><tr><th>product_cd</th><th>category_major_cd</th><th>category_medium_cd</th><th>category_small_cd</th><th>unit_price</th><th>unit_cost</th></tr><tr><td>u32</td><td>u32</td><td>u32</td><td>u32</td><td>u32</td><td>u32</td></tr></thead><tbody><tr><td>0</td><td>0</td><td>0</td><td>0</td><td>7</td><td>7</td></tr></tbody></table></div>"
      ],
      "text/plain": [
       "shape: (1, 6)\n",
       "┌────────────┬───────────────────┬────────────────────┬───────────────────┬────────────┬───────────┐\n",
       "│ product_cd ┆ category_major_cd ┆ category_medium_cd ┆ category_small_cd ┆ unit_price ┆ unit_cost │\n",
       "│ ---        ┆ ---               ┆ ---                ┆ ---               ┆ ---        ┆ ---       │\n",
       "│ u32        ┆ u32               ┆ u32                ┆ u32               ┆ u32        ┆ u32       │\n",
       "╞════════════╪═══════════════════╪════════════════════╪═══════════════════╪════════════╪═══════════╡\n",
       "│ 0          ┆ 0                 ┆ 0                  ┆ 0                 ┆ 7          ┆ 7         │\n",
       "└────────────┴───────────────────┴────────────────────┴───────────────────┴────────────┴───────────┘"
      ]
     },
     "metadata": {},
     "output_type": "display_data"
    },
    {
     "data": {
      "text/html": [
       "<div><style>\n",
       ".dataframe > thead > tr,\n",
       ".dataframe > tbody > tr {\n",
       "  text-align: right;\n",
       "  white-space: pre-wrap;\n",
       "}\n",
       "</style>\n",
       "<small>shape: (1, 6)</small><table border=\"1\" class=\"dataframe\"><thead><tr><th>product_cd</th><th>category_major_cd</th><th>category_medium_cd</th><th>category_small_cd</th><th>unit_price</th><th>unit_cost</th></tr><tr><td>u32</td><td>u32</td><td>u32</td><td>u32</td><td>u32</td><td>u32</td></tr></thead><tbody><tr><td>0</td><td>0</td><td>0</td><td>0</td><td>0</td><td>0</td></tr></tbody></table></div>"
      ],
      "text/plain": [
       "shape: (1, 6)\n",
       "┌────────────┬───────────────────┬────────────────────┬───────────────────┬────────────┬───────────┐\n",
       "│ product_cd ┆ category_major_cd ┆ category_medium_cd ┆ category_small_cd ┆ unit_price ┆ unit_cost │\n",
       "│ ---        ┆ ---               ┆ ---                ┆ ---               ┆ ---        ┆ ---       │\n",
       "│ u32        ┆ u32               ┆ u32                ┆ u32               ┆ u32        ┆ u32       │\n",
       "╞════════════╪═══════════════════╪════════════════════╪═══════════════════╪════════════╪═══════════╡\n",
       "│ 0          ┆ 0                 ┆ 0                  ┆ 0                 ┆ 0          ┆ 0         │\n",
       "└────────────┴───────────────────┴────────────────────┴───────────────────┴────────────┴───────────┘"
      ]
     },
     "metadata": {},
     "output_type": "display_data"
    }
   ],
   "source": [
    "# 処理前の欠損値の確認\n",
    "# unit_price と unit_cost に欠損値が含まれる\n",
    "display(df_product.null_count())\n",
    "\n",
    "df_filled = (\n",
    "    df_product\n",
    "    # 欠損値を1円未満を丸めた平均値で補完する\n",
    "    .with_columns([\n",
    "        pl.col(\"unit_price\").fill_null(value = pl.mean(\"unit_price\").round()),\n",
    "        pl.col(\"unit_cost\").fill_null(value = pl.mean(\"unit_cost\").round())\n",
    "    ])\n",
    ")\n",
    "\n",
    "# 処理後の欠損値の確認\n",
    "display(df_filled.null_count())"
   ]
  }
 ],
 "metadata": {
  "kernelspec": {
   "display_name": "Python 3",
   "language": "python",
   "name": "python3"
  },
  "language_info": {
   "codemirror_mode": {
    "name": "ipython",
    "version": 3
   },
   "file_extension": ".py",
   "mimetype": "text/x-python",
   "name": "python",
   "nbconvert_exporter": "python",
   "pygments_lexer": "ipython3",
   "version": "3.11.4"
  }
 },
 "nbformat": 4,
 "nbformat_minor": 2
}
