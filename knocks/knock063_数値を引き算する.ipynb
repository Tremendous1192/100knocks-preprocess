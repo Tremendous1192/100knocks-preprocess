{
 "cells": [
  {
   "cell_type": "markdown",
   "metadata": {},
   "source": [
    "## knock 063 数値を引き算する"
   ]
  },
  {
   "cell_type": "code",
   "execution_count": 4,
   "metadata": {},
   "outputs": [],
   "source": [
    "import polars as pl\n",
    "pl.Config.set_tbl_cols(-1)# 列の表示が省略されないようにする\n",
    "import polars.selectors as cs# 抽出条件のプリセット"
   ]
  },
  {
   "cell_type": "markdown",
   "metadata": {},
   "source": [
    "### データを読み込む"
   ]
  },
  {
   "cell_type": "code",
   "execution_count": 5,
   "metadata": {},
   "outputs": [
    {
     "data": {
      "text/html": [
       "<div><style>\n",
       ".dataframe > thead > tr,\n",
       ".dataframe > tbody > tr {\n",
       "  text-align: right;\n",
       "  white-space: pre-wrap;\n",
       "}\n",
       "</style>\n",
       "<small>shape: (5, 6)</small><table border=\"1\" class=\"dataframe\"><thead><tr><th>product_cd</th><th>category_major_cd</th><th>category_medium_cd</th><th>category_small_cd</th><th>unit_price</th><th>unit_cost</th></tr><tr><td>str</td><td>i64</td><td>i64</td><td>i64</td><td>i64</td><td>i64</td></tr></thead><tbody><tr><td>&quot;P040101001&quot;</td><td>4</td><td>401</td><td>40101</td><td>198</td><td>149</td></tr><tr><td>&quot;P040101002&quot;</td><td>4</td><td>401</td><td>40101</td><td>218</td><td>164</td></tr><tr><td>&quot;P040101003&quot;</td><td>4</td><td>401</td><td>40101</td><td>230</td><td>173</td></tr><tr><td>&quot;P040101004&quot;</td><td>4</td><td>401</td><td>40101</td><td>248</td><td>186</td></tr><tr><td>&quot;P040101005&quot;</td><td>4</td><td>401</td><td>40101</td><td>268</td><td>201</td></tr></tbody></table></div>"
      ],
      "text/plain": [
       "shape: (5, 6)\n",
       "┌────────────┬───────────────────┬────────────────────┬───────────────────┬────────────┬───────────┐\n",
       "│ product_cd ┆ category_major_cd ┆ category_medium_cd ┆ category_small_cd ┆ unit_price ┆ unit_cost │\n",
       "│ ---        ┆ ---               ┆ ---                ┆ ---               ┆ ---        ┆ ---       │\n",
       "│ str        ┆ i64               ┆ i64                ┆ i64               ┆ i64        ┆ i64       │\n",
       "╞════════════╪═══════════════════╪════════════════════╪═══════════════════╪════════════╪═══════════╡\n",
       "│ P040101001 ┆ 4                 ┆ 401                ┆ 40101             ┆ 198        ┆ 149       │\n",
       "│ P040101002 ┆ 4                 ┆ 401                ┆ 40101             ┆ 218        ┆ 164       │\n",
       "│ P040101003 ┆ 4                 ┆ 401                ┆ 40101             ┆ 230        ┆ 173       │\n",
       "│ P040101004 ┆ 4                 ┆ 401                ┆ 40101             ┆ 248        ┆ 186       │\n",
       "│ P040101005 ┆ 4                 ┆ 401                ┆ 40101             ┆ 268        ┆ 201       │\n",
       "└────────────┴───────────────────┴────────────────────┴───────────────────┴────────────┴───────────┘"
      ]
     },
     "metadata": {},
     "output_type": "display_data"
    }
   ],
   "source": [
    "df_product = pl.read_csv(\"../docker/work/data/product.csv\")\n",
    "display(df_product.head())"
   ]
  },
  {
   "cell_type": "markdown",
   "metadata": {},
   "source": [
    "### ノック"
   ]
  },
  {
   "cell_type": "code",
   "execution_count": 6,
   "metadata": {},
   "outputs": [
    {
     "data": {
      "text/html": [
       "<div><style>\n",
       ".dataframe > thead > tr,\n",
       ".dataframe > tbody > tr {\n",
       "  text-align: right;\n",
       "  white-space: pre-wrap;\n",
       "}\n",
       "</style>\n",
       "<small>shape: (10, 4)</small><table border=\"1\" class=\"dataframe\"><thead><tr><th>product_cd</th><th>unit_price</th><th>unit_cost</th><th>unit_profit</th></tr><tr><td>str</td><td>i64</td><td>i64</td><td>i64</td></tr></thead><tbody><tr><td>&quot;P040101001&quot;</td><td>198</td><td>149</td><td>49</td></tr><tr><td>&quot;P040101002&quot;</td><td>218</td><td>164</td><td>54</td></tr><tr><td>&quot;P040101003&quot;</td><td>230</td><td>173</td><td>57</td></tr><tr><td>&quot;P040101004&quot;</td><td>248</td><td>186</td><td>62</td></tr><tr><td>&quot;P040101005&quot;</td><td>268</td><td>201</td><td>67</td></tr><tr><td>&quot;P040101006&quot;</td><td>298</td><td>224</td><td>74</td></tr><tr><td>&quot;P040101007&quot;</td><td>338</td><td>254</td><td>84</td></tr><tr><td>&quot;P040101008&quot;</td><td>420</td><td>315</td><td>105</td></tr><tr><td>&quot;P040101009&quot;</td><td>498</td><td>374</td><td>124</td></tr><tr><td>&quot;P040101010&quot;</td><td>580</td><td>435</td><td>145</td></tr></tbody></table></div>"
      ],
      "text/plain": [
       "shape: (10, 4)\n",
       "┌────────────┬────────────┬───────────┬─────────────┐\n",
       "│ product_cd ┆ unit_price ┆ unit_cost ┆ unit_profit │\n",
       "│ ---        ┆ ---        ┆ ---       ┆ ---         │\n",
       "│ str        ┆ i64        ┆ i64       ┆ i64         │\n",
       "╞════════════╪════════════╪═══════════╪═════════════╡\n",
       "│ P040101001 ┆ 198        ┆ 149       ┆ 49          │\n",
       "│ P040101002 ┆ 218        ┆ 164       ┆ 54          │\n",
       "│ P040101003 ┆ 230        ┆ 173       ┆ 57          │\n",
       "│ P040101004 ┆ 248        ┆ 186       ┆ 62          │\n",
       "│ …          ┆ …          ┆ …         ┆ …           │\n",
       "│ P040101007 ┆ 338        ┆ 254       ┆ 84          │\n",
       "│ P040101008 ┆ 420        ┆ 315       ┆ 105         │\n",
       "│ P040101009 ┆ 498        ┆ 374       ┆ 124         │\n",
       "│ P040101010 ┆ 580        ┆ 435       ┆ 145         │\n",
       "└────────────┴────────────┴───────────┴─────────────┘"
      ]
     },
     "execution_count": 6,
     "metadata": {},
     "output_type": "execute_result"
    }
   ],
   "source": [
    "(\n",
    "    df_product\n",
    "    # 使用する列を抽出する(大規模データの場合メモリ使用量を節約する効果がある)\n",
    "    .select([\n",
    "        pl.col(\"product_cd\"),\n",
    "        pl.col(\"unit_price\"),\n",
    "        pl.col(\"unit_cost\")\n",
    "    ])\n",
    "    # 利益を計算する\n",
    "    .with_columns(\n",
    "        (pl.col(\"unit_price\") - pl.col(\"unit_cost\"))\n",
    "        .alias(\"unit_profit\")\n",
    "    )\n",
    "    # 先頭10行\n",
    "    .head(n = 10)\n",
    ")"
   ]
  }
 ],
 "metadata": {
  "kernelspec": {
   "display_name": "Python 3",
   "language": "python",
   "name": "python3"
  },
  "language_info": {
   "codemirror_mode": {
    "name": "ipython",
    "version": 3
   },
   "file_extension": ".py",
   "mimetype": "text/x-python",
   "name": "python",
   "nbconvert_exporter": "python",
   "pygments_lexer": "ipython3",
   "version": "3.11.4"
  }
 },
 "nbformat": 4,
 "nbformat_minor": 2
}
