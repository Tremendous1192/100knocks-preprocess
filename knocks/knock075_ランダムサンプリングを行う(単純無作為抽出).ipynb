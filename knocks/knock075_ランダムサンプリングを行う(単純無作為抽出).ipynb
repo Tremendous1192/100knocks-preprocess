{
 "cells": [
  {
   "cell_type": "markdown",
   "metadata": {},
   "source": [
    "## knock 075 ランダムサンプリングを行う(単純無作為抽出)"
   ]
  },
  {
   "cell_type": "code",
   "execution_count": 4,
   "metadata": {},
   "outputs": [],
   "source": [
    "import polars as pl\n",
    "pl.Config.set_tbl_cols(-1)# 列の表示が省略されないようにする\n",
    "import polars.selectors as cs# 抽出条件のプリセット"
   ]
  },
  {
   "cell_type": "markdown",
   "metadata": {},
   "source": [
    "### データを読み込む"
   ]
  },
  {
   "cell_type": "code",
   "execution_count": 5,
   "metadata": {},
   "outputs": [
    {
     "data": {
      "text/html": [
       "<div><style>\n",
       ".dataframe > thead > tr,\n",
       ".dataframe > tbody > tr {\n",
       "  text-align: right;\n",
       "  white-space: pre-wrap;\n",
       "}\n",
       "</style>\n",
       "<small>shape: (5, 11)</small><table border=\"1\" class=\"dataframe\"><thead><tr><th>customer_id</th><th>customer_name</th><th>gender_cd</th><th>gender</th><th>birth_day</th><th>age</th><th>postal_cd</th><th>address</th><th>application_store_cd</th><th>application_date</th><th>status_cd</th></tr><tr><td>str</td><td>str</td><td>i64</td><td>str</td><td>str</td><td>i64</td><td>str</td><td>str</td><td>str</td><td>i64</td><td>str</td></tr></thead><tbody><tr><td>&quot;CS021313000114…</td><td>&quot;大野 あや子&quot;</td><td>1</td><td>&quot;女性&quot;</td><td>&quot;1981-04-29&quot;</td><td>37</td><td>&quot;259-1113&quot;</td><td>&quot;神奈川県伊勢原市粟窪****…</td><td>&quot;S14021&quot;</td><td>20150905</td><td>&quot;0-00000000-0&quot;</td></tr><tr><td>&quot;CS037613000071…</td><td>&quot;六角 雅彦&quot;</td><td>9</td><td>&quot;不明&quot;</td><td>&quot;1952-04-01&quot;</td><td>66</td><td>&quot;136-0076&quot;</td><td>&quot;東京都江東区南砂******…</td><td>&quot;S13037&quot;</td><td>20150414</td><td>&quot;0-00000000-0&quot;</td></tr><tr><td>&quot;CS031415000172…</td><td>&quot;宇多田 貴美子&quot;</td><td>1</td><td>&quot;女性&quot;</td><td>&quot;1976-10-04&quot;</td><td>42</td><td>&quot;151-0053&quot;</td><td>&quot;東京都渋谷区代々木*****…</td><td>&quot;S13031&quot;</td><td>20150529</td><td>&quot;D-20100325-C&quot;</td></tr><tr><td>&quot;CS028811000001…</td><td>&quot;堀井 かおり&quot;</td><td>1</td><td>&quot;女性&quot;</td><td>&quot;1933-03-27&quot;</td><td>86</td><td>&quot;245-0016&quot;</td><td>&quot;神奈川県横浜市泉区和泉町**…</td><td>&quot;S14028&quot;</td><td>20160115</td><td>&quot;0-00000000-0&quot;</td></tr><tr><td>&quot;CS001215000145…</td><td>&quot;田崎 美紀&quot;</td><td>1</td><td>&quot;女性&quot;</td><td>&quot;1995-03-29&quot;</td><td>24</td><td>&quot;144-0055&quot;</td><td>&quot;東京都大田区仲六郷*****…</td><td>&quot;S13001&quot;</td><td>20170605</td><td>&quot;6-20090929-2&quot;</td></tr></tbody></table></div>"
      ],
      "text/plain": [
       "shape: (5, 11)\n",
       "┌─────────┬─────────┬─────────┬────────┬────────┬─────┬────────┬────────┬────────┬────────┬────────┐\n",
       "│ custome ┆ custome ┆ gender_ ┆ gender ┆ birth_ ┆ age ┆ postal ┆ addres ┆ applic ┆ applic ┆ status │\n",
       "│ r_id    ┆ r_name  ┆ cd      ┆ ---    ┆ day    ┆ --- ┆ _cd    ┆ s      ┆ ation_ ┆ ation_ ┆ _cd    │\n",
       "│ ---     ┆ ---     ┆ ---     ┆ str    ┆ ---    ┆ i64 ┆ ---    ┆ ---    ┆ store_ ┆ date   ┆ ---    │\n",
       "│ str     ┆ str     ┆ i64     ┆        ┆ str    ┆     ┆ str    ┆ str    ┆ cd     ┆ ---    ┆ str    │\n",
       "│         ┆         ┆         ┆        ┆        ┆     ┆        ┆        ┆ ---    ┆ i64    ┆        │\n",
       "│         ┆         ┆         ┆        ┆        ┆     ┆        ┆        ┆ str    ┆        ┆        │\n",
       "╞═════════╪═════════╪═════════╪════════╪════════╪═════╪════════╪════════╪════════╪════════╪════════╡\n",
       "│ CS02131 ┆ 大野    ┆ 1       ┆ 女性   ┆ 1981-0 ┆ 37  ┆ 259-11 ┆ 神奈川 ┆ S14021 ┆ 201509 ┆ 0-0000 │\n",
       "│ 3000114 ┆ あや子  ┆         ┆        ┆ 4-29   ┆     ┆ 13     ┆ 県伊勢 ┆        ┆ 05     ┆ 0000-0 │\n",
       "│         ┆         ┆         ┆        ┆        ┆     ┆        ┆ 原市粟 ┆        ┆        ┆        │\n",
       "│         ┆         ┆         ┆        ┆        ┆     ┆        ┆ 窪**** ┆        ┆        ┆        │\n",
       "│         ┆         ┆         ┆        ┆        ┆     ┆        ┆ ****** ┆        ┆        ┆        │\n",
       "│ CS03761 ┆ 六角    ┆ 9       ┆ 不明   ┆ 1952-0 ┆ 66  ┆ 136-00 ┆ 東京都 ┆ S13037 ┆ 201504 ┆ 0-0000 │\n",
       "│ 3000071 ┆ 雅彦    ┆         ┆        ┆ 4-01   ┆     ┆ 76     ┆ 江東区 ┆        ┆ 14     ┆ 0000-0 │\n",
       "│         ┆         ┆         ┆        ┆        ┆     ┆        ┆ 南砂** ┆        ┆        ┆        │\n",
       "│         ┆         ┆         ┆        ┆        ┆     ┆        ┆ ****** ┆        ┆        ┆        │\n",
       "│         ┆         ┆         ┆        ┆        ┆     ┆        ┆ **     ┆        ┆        ┆        │\n",
       "│ CS03141 ┆ 宇多田  ┆ 1       ┆ 女性   ┆ 1976-1 ┆ 42  ┆ 151-00 ┆ 東京都 ┆ S13031 ┆ 201505 ┆ D-2010 │\n",
       "│ 5000172 ┆ 貴美子  ┆         ┆        ┆ 0-04   ┆     ┆ 53     ┆ 渋谷区 ┆        ┆ 29     ┆ 0325-C │\n",
       "│         ┆         ┆         ┆        ┆        ┆     ┆        ┆ 代々木 ┆        ┆        ┆        │\n",
       "│         ┆         ┆         ┆        ┆        ┆     ┆        ┆ ****** ┆        ┆        ┆        │\n",
       "│         ┆         ┆         ┆        ┆        ┆     ┆        ┆ ****   ┆        ┆        ┆        │\n",
       "│ CS02881 ┆ 堀井    ┆ 1       ┆ 女性   ┆ 1933-0 ┆ 86  ┆ 245-00 ┆ 神奈川 ┆ S14028 ┆ 201601 ┆ 0-0000 │\n",
       "│ 1000001 ┆ かおり  ┆         ┆        ┆ 3-27   ┆     ┆ 16     ┆ 県横浜 ┆        ┆ 15     ┆ 0000-0 │\n",
       "│         ┆         ┆         ┆        ┆        ┆     ┆        ┆ 市泉区 ┆        ┆        ┆        │\n",
       "│         ┆         ┆         ┆        ┆        ┆     ┆        ┆ 和泉町 ┆        ┆        ┆        │\n",
       "│         ┆         ┆         ┆        ┆        ┆     ┆        ┆ ****** ┆        ┆        ┆        │\n",
       "│         ┆         ┆         ┆        ┆        ┆     ┆        ┆ ****   ┆        ┆        ┆        │\n",
       "│ CS00121 ┆ 田崎    ┆ 1       ┆ 女性   ┆ 1995-0 ┆ 24  ┆ 144-00 ┆ 東京都 ┆ S13001 ┆ 201706 ┆ 6-2009 │\n",
       "│ 5000145 ┆ 美紀    ┆         ┆        ┆ 3-29   ┆     ┆ 55     ┆ 大田区 ┆        ┆ 05     ┆ 0929-2 │\n",
       "│         ┆         ┆         ┆        ┆        ┆     ┆        ┆ 仲六郷 ┆        ┆        ┆        │\n",
       "│         ┆         ┆         ┆        ┆        ┆     ┆        ┆ ****** ┆        ┆        ┆        │\n",
       "│         ┆         ┆         ┆        ┆        ┆     ┆        ┆ ****   ┆        ┆        ┆        │\n",
       "└─────────┴─────────┴─────────┴────────┴────────┴─────┴────────┴────────┴────────┴────────┴────────┘"
      ]
     },
     "metadata": {},
     "output_type": "display_data"
    }
   ],
   "source": [
    "df_customer = pl.read_csv(\"../docker/work/data/customer.csv\")\n",
    "display(df_customer.head())"
   ]
  },
  {
   "cell_type": "markdown",
   "metadata": {},
   "source": [
    "### ノック"
   ]
  },
  {
   "cell_type": "code",
   "execution_count": 6,
   "metadata": {},
   "outputs": [
    {
     "data": {
      "text/html": [
       "<div><style>\n",
       ".dataframe > thead > tr,\n",
       ".dataframe > tbody > tr {\n",
       "  text-align: right;\n",
       "  white-space: pre-wrap;\n",
       "}\n",
       "</style>\n",
       "<small>shape: (10, 11)</small><table border=\"1\" class=\"dataframe\"><thead><tr><th>customer_id</th><th>customer_name</th><th>gender_cd</th><th>gender</th><th>birth_day</th><th>age</th><th>postal_cd</th><th>address</th><th>application_store_cd</th><th>application_date</th><th>status_cd</th></tr><tr><td>str</td><td>str</td><td>i64</td><td>str</td><td>str</td><td>i64</td><td>str</td><td>str</td><td>str</td><td>i64</td><td>str</td></tr></thead><tbody><tr><td>&quot;CS003512000506…</td><td>&quot;山崎 愛子&quot;</td><td>1</td><td>&quot;女性&quot;</td><td>&quot;1961-05-15&quot;</td><td>57</td><td>&quot;201-0012&quot;</td><td>&quot;東京都狛江市中和泉*****…</td><td>&quot;S13003&quot;</td><td>20170705</td><td>&quot;0-00000000-0&quot;</td></tr><tr><td>&quot;CS027415000302…</td><td>&quot;笠原 美菜&quot;</td><td>1</td><td>&quot;女性&quot;</td><td>&quot;1973-03-26&quot;</td><td>46</td><td>&quot;251-0052&quot;</td><td>&quot;神奈川県藤沢市藤沢*****…</td><td>&quot;S14027&quot;</td><td>20180201</td><td>&quot;0-00000000-0&quot;</td></tr><tr><td>&quot;CS038515000163…</td><td>&quot;宮崎 真帆&quot;</td><td>1</td><td>&quot;女性&quot;</td><td>&quot;1959-08-03&quot;</td><td>59</td><td>&quot;279-0043&quot;</td><td>&quot;千葉県浦安市富士見*****…</td><td>&quot;S13038&quot;</td><td>20150715</td><td>&quot;6-20100729-B&quot;</td></tr><tr><td>&quot;CS005513000192…</td><td>&quot;志村 エリカ&quot;</td><td>1</td><td>&quot;女性&quot;</td><td>&quot;1962-03-24&quot;</td><td>57</td><td>&quot;165-0035&quot;</td><td>&quot;東京都中野区白鷺******…</td><td>&quot;S13005&quot;</td><td>20151117</td><td>&quot;0-00000000-0&quot;</td></tr><tr><td>&quot;CS029715000042…</td><td>&quot;西井 恵麻&quot;</td><td>1</td><td>&quot;女性&quot;</td><td>&quot;1945-03-24&quot;</td><td>74</td><td>&quot;279-0026&quot;</td><td>&quot;千葉県浦安市弁天******…</td><td>&quot;S12029&quot;</td><td>20151106</td><td>&quot;0-00000000-0&quot;</td></tr><tr><td>&quot;CS005303000009…</td><td>&quot;若山 雅彦&quot;</td><td>0</td><td>&quot;男性&quot;</td><td>&quot;1980-06-19&quot;</td><td>38</td><td>&quot;167-0021&quot;</td><td>&quot;東京都杉並区井草******…</td><td>&quot;S13005&quot;</td><td>20150606</td><td>&quot;0-00000000-0&quot;</td></tr><tr><td>&quot;CS004303000008…</td><td>&quot;五大 薫&quot;</td><td>0</td><td>&quot;男性&quot;</td><td>&quot;1986-06-28&quot;</td><td>32</td><td>&quot;165-0021&quot;</td><td>&quot;東京都中野区丸山******…</td><td>&quot;S13004&quot;</td><td>20151107</td><td>&quot;0-00000000-0&quot;</td></tr><tr><td>&quot;CS014614000056…</td><td>&quot;梅田 花&quot;</td><td>1</td><td>&quot;女性&quot;</td><td>&quot;1952-12-25&quot;</td><td>66</td><td>&quot;263-0015&quot;</td><td>&quot;千葉県千葉市稲毛区作草部**…</td><td>&quot;S12014&quot;</td><td>20150802</td><td>&quot;1-20080729-3&quot;</td></tr><tr><td>&quot;CS002515000597…</td><td>&quot;田端 哲平&quot;</td><td>9</td><td>&quot;不明&quot;</td><td>&quot;1959-09-16&quot;</td><td>59</td><td>&quot;185-0021&quot;</td><td>&quot;東京都国分寺市南町*****…</td><td>&quot;S13002&quot;</td><td>20171019</td><td>&quot;0-00000000-0&quot;</td></tr><tr><td>&quot;CS003214000083…</td><td>&quot;土居 奈央&quot;</td><td>1</td><td>&quot;女性&quot;</td><td>&quot;1997-06-09&quot;</td><td>21</td><td>&quot;201-0012&quot;</td><td>&quot;東京都狛江市中和泉*****…</td><td>&quot;S13003&quot;</td><td>20171127</td><td>&quot;2-20100624-2&quot;</td></tr></tbody></table></div>"
      ],
      "text/plain": [
       "shape: (10, 11)\n",
       "┌─────────┬─────────┬─────────┬────────┬────────┬─────┬────────┬────────┬────────┬────────┬────────┐\n",
       "│ custome ┆ custome ┆ gender_ ┆ gender ┆ birth_ ┆ age ┆ postal ┆ addres ┆ applic ┆ applic ┆ status │\n",
       "│ r_id    ┆ r_name  ┆ cd      ┆ ---    ┆ day    ┆ --- ┆ _cd    ┆ s      ┆ ation_ ┆ ation_ ┆ _cd    │\n",
       "│ ---     ┆ ---     ┆ ---     ┆ str    ┆ ---    ┆ i64 ┆ ---    ┆ ---    ┆ store_ ┆ date   ┆ ---    │\n",
       "│ str     ┆ str     ┆ i64     ┆        ┆ str    ┆     ┆ str    ┆ str    ┆ cd     ┆ ---    ┆ str    │\n",
       "│         ┆         ┆         ┆        ┆        ┆     ┆        ┆        ┆ ---    ┆ i64    ┆        │\n",
       "│         ┆         ┆         ┆        ┆        ┆     ┆        ┆        ┆ str    ┆        ┆        │\n",
       "╞═════════╪═════════╪═════════╪════════╪════════╪═════╪════════╪════════╪════════╪════════╪════════╡\n",
       "│ CS00351 ┆ 山崎    ┆ 1       ┆ 女性   ┆ 1961-0 ┆ 57  ┆ 201-00 ┆ 東京都 ┆ S13003 ┆ 201707 ┆ 0-0000 │\n",
       "│ 2000506 ┆ 愛子    ┆         ┆        ┆ 5-15   ┆     ┆ 12     ┆ 狛江市 ┆        ┆ 05     ┆ 0000-0 │\n",
       "│         ┆         ┆         ┆        ┆        ┆     ┆        ┆ 中和泉 ┆        ┆        ┆        │\n",
       "│         ┆         ┆         ┆        ┆        ┆     ┆        ┆ ****** ┆        ┆        ┆        │\n",
       "│         ┆         ┆         ┆        ┆        ┆     ┆        ┆ ****   ┆        ┆        ┆        │\n",
       "│ CS02741 ┆ 笠原    ┆ 1       ┆ 女性   ┆ 1973-0 ┆ 46  ┆ 251-00 ┆ 神奈川 ┆ S14027 ┆ 201802 ┆ 0-0000 │\n",
       "│ 5000302 ┆ 美菜    ┆         ┆        ┆ 3-26   ┆     ┆ 52     ┆ 県藤沢 ┆        ┆ 01     ┆ 0000-0 │\n",
       "│         ┆         ┆         ┆        ┆        ┆     ┆        ┆ 市藤沢 ┆        ┆        ┆        │\n",
       "│         ┆         ┆         ┆        ┆        ┆     ┆        ┆ ****** ┆        ┆        ┆        │\n",
       "│         ┆         ┆         ┆        ┆        ┆     ┆        ┆ ****   ┆        ┆        ┆        │\n",
       "│ CS03851 ┆ 宮崎    ┆ 1       ┆ 女性   ┆ 1959-0 ┆ 59  ┆ 279-00 ┆ 千葉県 ┆ S13038 ┆ 201507 ┆ 6-2010 │\n",
       "│ 5000163 ┆ 真帆    ┆         ┆        ┆ 8-03   ┆     ┆ 43     ┆ 浦安市 ┆        ┆ 15     ┆ 0729-B │\n",
       "│         ┆         ┆         ┆        ┆        ┆     ┆        ┆ 富士見 ┆        ┆        ┆        │\n",
       "│         ┆         ┆         ┆        ┆        ┆     ┆        ┆ ****** ┆        ┆        ┆        │\n",
       "│         ┆         ┆         ┆        ┆        ┆     ┆        ┆ ****   ┆        ┆        ┆        │\n",
       "│ CS00551 ┆ 志村    ┆ 1       ┆ 女性   ┆ 1962-0 ┆ 57  ┆ 165-00 ┆ 東京都 ┆ S13005 ┆ 201511 ┆ 0-0000 │\n",
       "│ 3000192 ┆ エリカ  ┆         ┆        ┆ 3-24   ┆     ┆ 35     ┆ 中野区 ┆        ┆ 17     ┆ 0000-0 │\n",
       "│         ┆         ┆         ┆        ┆        ┆     ┆        ┆ 白鷺** ┆        ┆        ┆        │\n",
       "│         ┆         ┆         ┆        ┆        ┆     ┆        ┆ ****** ┆        ┆        ┆        │\n",
       "│         ┆         ┆         ┆        ┆        ┆     ┆        ┆ **     ┆        ┆        ┆        │\n",
       "│ …       ┆ …       ┆ …       ┆ …      ┆ …      ┆ …   ┆ …      ┆ …      ┆ …      ┆ …      ┆ …      │\n",
       "│ CS00430 ┆ 五大 薫 ┆ 0       ┆ 男性   ┆ 1986-0 ┆ 32  ┆ 165-00 ┆ 東京都 ┆ S13004 ┆ 201511 ┆ 0-0000 │\n",
       "│ 3000008 ┆         ┆         ┆        ┆ 6-28   ┆     ┆ 21     ┆ 中野区 ┆        ┆ 07     ┆ 0000-0 │\n",
       "│         ┆         ┆         ┆        ┆        ┆     ┆        ┆ 丸山** ┆        ┆        ┆        │\n",
       "│         ┆         ┆         ┆        ┆        ┆     ┆        ┆ ****** ┆        ┆        ┆        │\n",
       "│         ┆         ┆         ┆        ┆        ┆     ┆        ┆ **     ┆        ┆        ┆        │\n",
       "│ CS01461 ┆ 梅田 花 ┆ 1       ┆ 女性   ┆ 1952-1 ┆ 66  ┆ 263-00 ┆ 千葉県 ┆ S12014 ┆ 201508 ┆ 1-2008 │\n",
       "│ 4000056 ┆         ┆         ┆        ┆ 2-25   ┆     ┆ 15     ┆ 千葉市 ┆        ┆ 02     ┆ 0729-3 │\n",
       "│         ┆         ┆         ┆        ┆        ┆     ┆        ┆ 稲毛区 ┆        ┆        ┆        │\n",
       "│         ┆         ┆         ┆        ┆        ┆     ┆        ┆ 作草部 ┆        ┆        ┆        │\n",
       "│         ┆         ┆         ┆        ┆        ┆     ┆        ┆ ****** ┆        ┆        ┆        │\n",
       "│         ┆         ┆         ┆        ┆        ┆     ┆        ┆ ****   ┆        ┆        ┆        │\n",
       "│ CS00251 ┆ 田端    ┆ 9       ┆ 不明   ┆ 1959-0 ┆ 59  ┆ 185-00 ┆ 東京都 ┆ S13002 ┆ 201710 ┆ 0-0000 │\n",
       "│ 5000597 ┆ 哲平    ┆         ┆        ┆ 9-16   ┆     ┆ 21     ┆ 国分寺 ┆        ┆ 19     ┆ 0000-0 │\n",
       "│         ┆         ┆         ┆        ┆        ┆     ┆        ┆ 市南町 ┆        ┆        ┆        │\n",
       "│         ┆         ┆         ┆        ┆        ┆     ┆        ┆ ****** ┆        ┆        ┆        │\n",
       "│         ┆         ┆         ┆        ┆        ┆     ┆        ┆ ****   ┆        ┆        ┆        │\n",
       "│ CS00321 ┆ 土居    ┆ 1       ┆ 女性   ┆ 1997-0 ┆ 21  ┆ 201-00 ┆ 東京都 ┆ S13003 ┆ 201711 ┆ 2-2010 │\n",
       "│ 4000083 ┆ 奈央    ┆         ┆        ┆ 6-09   ┆     ┆ 12     ┆ 狛江市 ┆        ┆ 27     ┆ 0624-2 │\n",
       "│         ┆         ┆         ┆        ┆        ┆     ┆        ┆ 中和泉 ┆        ┆        ┆        │\n",
       "│         ┆         ┆         ┆        ┆        ┆     ┆        ┆ ****** ┆        ┆        ┆        │\n",
       "│         ┆         ┆         ┆        ┆        ┆     ┆        ┆ ****   ┆        ┆        ┆        │\n",
       "└─────────┴─────────┴─────────┴────────┴────────┴─────┴────────┴────────┴────────┴────────┴────────┘"
      ]
     },
     "execution_count": 6,
     "metadata": {},
     "output_type": "execute_result"
    }
   ],
   "source": [
    "(\n",
    "    df_customer\n",
    "    # 1%のデータを抽出する\n",
    "    .sample(fraction = 0.01, seed = 42)\n",
    "    # 先頭10行\n",
    "    .head(n = 10)\n",
    ")"
   ]
  }
 ],
 "metadata": {
  "kernelspec": {
   "display_name": "Python 3",
   "language": "python",
   "name": "python3"
  },
  "language_info": {
   "codemirror_mode": {
    "name": "ipython",
    "version": 3
   },
   "file_extension": ".py",
   "mimetype": "text/x-python",
   "name": "python",
   "nbconvert_exporter": "python",
   "pygments_lexer": "ipython3",
   "version": "3.11.4"
  }
 },
 "nbformat": 4,
 "nbformat_minor": 2
}
