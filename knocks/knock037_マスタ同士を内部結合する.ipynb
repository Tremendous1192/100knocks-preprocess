{
 "cells": [
  {
   "cell_type": "markdown",
   "metadata": {},
   "source": [
    "## knock 037 マスタ同士を内部結合する"
   ]
  },
  {
   "cell_type": "code",
   "execution_count": 4,
   "metadata": {},
   "outputs": [
    {
     "data": {
      "text/plain": [
       "polars.config.Config"
      ]
     },
     "execution_count": 4,
     "metadata": {},
     "output_type": "execute_result"
    }
   ],
   "source": [
    "import polars as pl\n",
    "pl.Config.set_tbl_cols(-1)# 列が省略されないようにする"
   ]
  },
  {
   "cell_type": "markdown",
   "metadata": {},
   "source": [
    "### データを読み込む"
   ]
  },
  {
   "cell_type": "code",
   "execution_count": 5,
   "metadata": {},
   "outputs": [
    {
     "data": {
      "text/html": [
       "<div><style>\n",
       ".dataframe > thead > tr,\n",
       ".dataframe > tbody > tr {\n",
       "  text-align: right;\n",
       "  white-space: pre-wrap;\n",
       "}\n",
       "</style>\n",
       "<small>shape: (5, 6)</small><table border=\"1\" class=\"dataframe\"><thead><tr><th>product_cd</th><th>category_major_cd</th><th>category_medium_cd</th><th>category_small_cd</th><th>unit_price</th><th>unit_cost</th></tr><tr><td>str</td><td>i64</td><td>i64</td><td>i64</td><td>i64</td><td>i64</td></tr></thead><tbody><tr><td>&quot;P040101001&quot;</td><td>4</td><td>401</td><td>40101</td><td>198</td><td>149</td></tr><tr><td>&quot;P040101002&quot;</td><td>4</td><td>401</td><td>40101</td><td>218</td><td>164</td></tr><tr><td>&quot;P040101003&quot;</td><td>4</td><td>401</td><td>40101</td><td>230</td><td>173</td></tr><tr><td>&quot;P040101004&quot;</td><td>4</td><td>401</td><td>40101</td><td>248</td><td>186</td></tr><tr><td>&quot;P040101005&quot;</td><td>4</td><td>401</td><td>40101</td><td>268</td><td>201</td></tr></tbody></table></div>"
      ],
      "text/plain": [
       "shape: (5, 6)\n",
       "┌────────────┬───────────────────┬────────────────────┬───────────────────┬────────────┬───────────┐\n",
       "│ product_cd ┆ category_major_cd ┆ category_medium_cd ┆ category_small_cd ┆ unit_price ┆ unit_cost │\n",
       "│ ---        ┆ ---               ┆ ---                ┆ ---               ┆ ---        ┆ ---       │\n",
       "│ str        ┆ i64               ┆ i64                ┆ i64               ┆ i64        ┆ i64       │\n",
       "╞════════════╪═══════════════════╪════════════════════╪═══════════════════╪════════════╪═══════════╡\n",
       "│ P040101001 ┆ 4                 ┆ 401                ┆ 40101             ┆ 198        ┆ 149       │\n",
       "│ P040101002 ┆ 4                 ┆ 401                ┆ 40101             ┆ 218        ┆ 164       │\n",
       "│ P040101003 ┆ 4                 ┆ 401                ┆ 40101             ┆ 230        ┆ 173       │\n",
       "│ P040101004 ┆ 4                 ┆ 401                ┆ 40101             ┆ 248        ┆ 186       │\n",
       "│ P040101005 ┆ 4                 ┆ 401                ┆ 40101             ┆ 268        ┆ 201       │\n",
       "└────────────┴───────────────────┴────────────────────┴───────────────────┴────────────┴───────────┘"
      ]
     },
     "metadata": {},
     "output_type": "display_data"
    },
    {
     "data": {
      "text/html": [
       "<div><style>\n",
       ".dataframe > thead > tr,\n",
       ".dataframe > tbody > tr {\n",
       "  text-align: right;\n",
       "  white-space: pre-wrap;\n",
       "}\n",
       "</style>\n",
       "<small>shape: (5, 6)</small><table border=\"1\" class=\"dataframe\"><thead><tr><th>category_major_cd</th><th>category_major_name</th><th>category_medium_cd</th><th>category_medium_name</th><th>category_small_cd</th><th>category_small_name</th></tr><tr><td>i64</td><td>str</td><td>i64</td><td>str</td><td>i64</td><td>str</td></tr></thead><tbody><tr><td>4</td><td>&quot;惣菜&quot;</td><td>401</td><td>&quot;御飯類&quot;</td><td>40101</td><td>&quot;弁当類&quot;</td></tr><tr><td>4</td><td>&quot;惣菜&quot;</td><td>401</td><td>&quot;御飯類&quot;</td><td>40102</td><td>&quot;寿司類&quot;</td></tr><tr><td>4</td><td>&quot;惣菜&quot;</td><td>402</td><td>&quot;佃煮類&quot;</td><td>40201</td><td>&quot;魚介佃煮類&quot;</td></tr><tr><td>4</td><td>&quot;惣菜&quot;</td><td>402</td><td>&quot;佃煮類&quot;</td><td>40202</td><td>&quot;海草佃煮類&quot;</td></tr><tr><td>4</td><td>&quot;惣菜&quot;</td><td>402</td><td>&quot;佃煮類&quot;</td><td>40203</td><td>&quot;野菜佃煮類&quot;</td></tr></tbody></table></div>"
      ],
      "text/plain": [
       "shape: (5, 6)\n",
       "┌────────────────┬────────────────┬────────────────┬───────────────┬───────────────┬───────────────┐\n",
       "│ category_major ┆ category_major ┆ category_mediu ┆ category_medi ┆ category_smal ┆ category_smal │\n",
       "│ _cd            ┆ _name          ┆ m_cd           ┆ um_name       ┆ l_cd          ┆ l_name        │\n",
       "│ ---            ┆ ---            ┆ ---            ┆ ---           ┆ ---           ┆ ---           │\n",
       "│ i64            ┆ str            ┆ i64            ┆ str           ┆ i64           ┆ str           │\n",
       "╞════════════════╪════════════════╪════════════════╪═══════════════╪═══════════════╪═══════════════╡\n",
       "│ 4              ┆ 惣菜           ┆ 401            ┆ 御飯類        ┆ 40101         ┆ 弁当類        │\n",
       "│ 4              ┆ 惣菜           ┆ 401            ┆ 御飯類        ┆ 40102         ┆ 寿司類        │\n",
       "│ 4              ┆ 惣菜           ┆ 402            ┆ 佃煮類        ┆ 40201         ┆ 魚介佃煮類    │\n",
       "│ 4              ┆ 惣菜           ┆ 402            ┆ 佃煮類        ┆ 40202         ┆ 海草佃煮類    │\n",
       "│ 4              ┆ 惣菜           ┆ 402            ┆ 佃煮類        ┆ 40203         ┆ 野菜佃煮類    │\n",
       "└────────────────┴────────────────┴────────────────┴───────────────┴───────────────┴───────────────┘"
      ]
     },
     "metadata": {},
     "output_type": "display_data"
    }
   ],
   "source": [
    "df_product = pl.read_csv(\"../docker/work/data/product.csv\")\n",
    "display(df_product.head())\n",
    "\n",
    "df_category = pl.read_csv(\"../docker/work/data/category.csv\")\n",
    "display(df_category.head())"
   ]
  },
  {
   "cell_type": "markdown",
   "metadata": {},
   "source": [
    "### ノック"
   ]
  },
  {
   "cell_type": "code",
   "execution_count": 7,
   "metadata": {},
   "outputs": [
    {
     "data": {
      "text/html": [
       "<div><style>\n",
       ".dataframe > thead > tr,\n",
       ".dataframe > tbody > tr {\n",
       "  text-align: right;\n",
       "  white-space: pre-wrap;\n",
       "}\n",
       "</style>\n",
       "<small>shape: (10, 7)</small><table border=\"1\" class=\"dataframe\"><thead><tr><th>product_cd</th><th>category_major_cd</th><th>category_medium_cd</th><th>category_small_cd</th><th>unit_price</th><th>unit_cost</th><th>category_small_name</th></tr><tr><td>str</td><td>i64</td><td>i64</td><td>i64</td><td>i64</td><td>i64</td><td>str</td></tr></thead><tbody><tr><td>&quot;P040101001&quot;</td><td>4</td><td>401</td><td>40101</td><td>198</td><td>149</td><td>&quot;弁当類&quot;</td></tr><tr><td>&quot;P040101002&quot;</td><td>4</td><td>401</td><td>40101</td><td>218</td><td>164</td><td>&quot;弁当類&quot;</td></tr><tr><td>&quot;P040101003&quot;</td><td>4</td><td>401</td><td>40101</td><td>230</td><td>173</td><td>&quot;弁当類&quot;</td></tr><tr><td>&quot;P040101004&quot;</td><td>4</td><td>401</td><td>40101</td><td>248</td><td>186</td><td>&quot;弁当類&quot;</td></tr><tr><td>&quot;P040101005&quot;</td><td>4</td><td>401</td><td>40101</td><td>268</td><td>201</td><td>&quot;弁当類&quot;</td></tr><tr><td>&quot;P040101006&quot;</td><td>4</td><td>401</td><td>40101</td><td>298</td><td>224</td><td>&quot;弁当類&quot;</td></tr><tr><td>&quot;P040101007&quot;</td><td>4</td><td>401</td><td>40101</td><td>338</td><td>254</td><td>&quot;弁当類&quot;</td></tr><tr><td>&quot;P040101008&quot;</td><td>4</td><td>401</td><td>40101</td><td>420</td><td>315</td><td>&quot;弁当類&quot;</td></tr><tr><td>&quot;P040101009&quot;</td><td>4</td><td>401</td><td>40101</td><td>498</td><td>374</td><td>&quot;弁当類&quot;</td></tr><tr><td>&quot;P040101010&quot;</td><td>4</td><td>401</td><td>40101</td><td>580</td><td>435</td><td>&quot;弁当類&quot;</td></tr></tbody></table></div>"
      ],
      "text/plain": [
       "shape: (10, 7)\n",
       "┌────────────┬───────────────┬──────────────┬──────────────┬────────────┬───────────┬──────────────┐\n",
       "│ product_cd ┆ category_majo ┆ category_med ┆ category_sma ┆ unit_price ┆ unit_cost ┆ category_sma │\n",
       "│ ---        ┆ r_cd          ┆ ium_cd       ┆ ll_cd        ┆ ---        ┆ ---       ┆ ll_name      │\n",
       "│ str        ┆ ---           ┆ ---          ┆ ---          ┆ i64        ┆ i64       ┆ ---          │\n",
       "│            ┆ i64           ┆ i64          ┆ i64          ┆            ┆           ┆ str          │\n",
       "╞════════════╪═══════════════╪══════════════╪══════════════╪════════════╪═══════════╪══════════════╡\n",
       "│ P040101001 ┆ 4             ┆ 401          ┆ 40101        ┆ 198        ┆ 149       ┆ 弁当類       │\n",
       "│ P040101002 ┆ 4             ┆ 401          ┆ 40101        ┆ 218        ┆ 164       ┆ 弁当類       │\n",
       "│ P040101003 ┆ 4             ┆ 401          ┆ 40101        ┆ 230        ┆ 173       ┆ 弁当類       │\n",
       "│ P040101004 ┆ 4             ┆ 401          ┆ 40101        ┆ 248        ┆ 186       ┆ 弁当類       │\n",
       "│ …          ┆ …             ┆ …            ┆ …            ┆ …          ┆ …         ┆ …            │\n",
       "│ P040101007 ┆ 4             ┆ 401          ┆ 40101        ┆ 338        ┆ 254       ┆ 弁当類       │\n",
       "│ P040101008 ┆ 4             ┆ 401          ┆ 40101        ┆ 420        ┆ 315       ┆ 弁当類       │\n",
       "│ P040101009 ┆ 4             ┆ 401          ┆ 40101        ┆ 498        ┆ 374       ┆ 弁当類       │\n",
       "│ P040101010 ┆ 4             ┆ 401          ┆ 40101        ┆ 580        ┆ 435       ┆ 弁当類       │\n",
       "└────────────┴───────────────┴──────────────┴──────────────┴────────────┴───────────┴──────────────┘"
      ]
     },
     "execution_count": 7,
     "metadata": {},
     "output_type": "execute_result"
    }
   ],
   "source": [
    "(\n",
    "    df_product\n",
    "    .join(other = df_category[[\"category_small_cd\", \"category_small_name\"]],\n",
    "          on = \"category_small_cd\",\n",
    "          how = \"inner\")\n",
    "    .head(n = 10)\n",
    ")"
   ]
  }
 ],
 "metadata": {
  "kernelspec": {
   "display_name": "Python 3",
   "language": "python",
   "name": "python3"
  },
  "language_info": {
   "codemirror_mode": {
    "name": "ipython",
    "version": 3
   },
   "file_extension": ".py",
   "mimetype": "text/x-python",
   "name": "python",
   "nbconvert_exporter": "python",
   "pygments_lexer": "ipython3",
   "version": "3.11.4"
  }
 },
 "nbformat": 4,
 "nbformat_minor": 2
}
