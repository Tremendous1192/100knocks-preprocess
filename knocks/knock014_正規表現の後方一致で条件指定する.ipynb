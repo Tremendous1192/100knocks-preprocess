{
 "cells": [
  {
   "cell_type": "markdown",
   "metadata": {},
   "source": [
    "## knock 014 正規表現の後方一致で条件指定する"
   ]
  },
  {
   "cell_type": "code",
   "execution_count": 4,
   "metadata": {},
   "outputs": [
    {
     "data": {
      "text/plain": [
       "polars.config.Config"
      ]
     },
     "execution_count": 4,
     "metadata": {},
     "output_type": "execute_result"
    }
   ],
   "source": [
    "import polars as pl\n",
    "pl.Config.set_tbl_cols(-1)# 列が省略されないようにする"
   ]
  },
  {
   "cell_type": "markdown",
   "metadata": {},
   "source": [
    "### データを読み込む"
   ]
  },
  {
   "cell_type": "code",
   "execution_count": 5,
   "metadata": {},
   "outputs": [
    {
     "data": {
      "text/html": [
       "<div><style>\n",
       ".dataframe > thead > tr,\n",
       ".dataframe > tbody > tr {\n",
       "  text-align: right;\n",
       "  white-space: pre-wrap;\n",
       "}\n",
       "</style>\n",
       "<small>shape: (5, 11)</small><table border=\"1\" class=\"dataframe\"><thead><tr><th>customer_id</th><th>customer_name</th><th>gender_cd</th><th>gender</th><th>birth_day</th><th>age</th><th>postal_cd</th><th>address</th><th>application_store_cd</th><th>application_date</th><th>status_cd</th></tr><tr><td>str</td><td>str</td><td>i64</td><td>str</td><td>str</td><td>i64</td><td>str</td><td>str</td><td>str</td><td>i64</td><td>str</td></tr></thead><tbody><tr><td>&quot;CS021313000114…</td><td>&quot;大野 あや子&quot;</td><td>1</td><td>&quot;女性&quot;</td><td>&quot;1981-04-29&quot;</td><td>37</td><td>&quot;259-1113&quot;</td><td>&quot;神奈川県伊勢原市粟窪****…</td><td>&quot;S14021&quot;</td><td>20150905</td><td>&quot;0-00000000-0&quot;</td></tr><tr><td>&quot;CS037613000071…</td><td>&quot;六角 雅彦&quot;</td><td>9</td><td>&quot;不明&quot;</td><td>&quot;1952-04-01&quot;</td><td>66</td><td>&quot;136-0076&quot;</td><td>&quot;東京都江東区南砂******…</td><td>&quot;S13037&quot;</td><td>20150414</td><td>&quot;0-00000000-0&quot;</td></tr><tr><td>&quot;CS031415000172…</td><td>&quot;宇多田 貴美子&quot;</td><td>1</td><td>&quot;女性&quot;</td><td>&quot;1976-10-04&quot;</td><td>42</td><td>&quot;151-0053&quot;</td><td>&quot;東京都渋谷区代々木*****…</td><td>&quot;S13031&quot;</td><td>20150529</td><td>&quot;D-20100325-C&quot;</td></tr><tr><td>&quot;CS028811000001…</td><td>&quot;堀井 かおり&quot;</td><td>1</td><td>&quot;女性&quot;</td><td>&quot;1933-03-27&quot;</td><td>86</td><td>&quot;245-0016&quot;</td><td>&quot;神奈川県横浜市泉区和泉町**…</td><td>&quot;S14028&quot;</td><td>20160115</td><td>&quot;0-00000000-0&quot;</td></tr><tr><td>&quot;CS001215000145…</td><td>&quot;田崎 美紀&quot;</td><td>1</td><td>&quot;女性&quot;</td><td>&quot;1995-03-29&quot;</td><td>24</td><td>&quot;144-0055&quot;</td><td>&quot;東京都大田区仲六郷*****…</td><td>&quot;S13001&quot;</td><td>20170605</td><td>&quot;6-20090929-2&quot;</td></tr></tbody></table></div>"
      ],
      "text/plain": [
       "shape: (5, 11)\n",
       "┌─────────┬─────────┬─────────┬────────┬────────┬─────┬────────┬────────┬────────┬────────┬────────┐\n",
       "│ custome ┆ custome ┆ gender_ ┆ gender ┆ birth_ ┆ age ┆ postal ┆ addres ┆ applic ┆ applic ┆ status │\n",
       "│ r_id    ┆ r_name  ┆ cd      ┆ ---    ┆ day    ┆ --- ┆ _cd    ┆ s      ┆ ation_ ┆ ation_ ┆ _cd    │\n",
       "│ ---     ┆ ---     ┆ ---     ┆ str    ┆ ---    ┆ i64 ┆ ---    ┆ ---    ┆ store_ ┆ date   ┆ ---    │\n",
       "│ str     ┆ str     ┆ i64     ┆        ┆ str    ┆     ┆ str    ┆ str    ┆ cd     ┆ ---    ┆ str    │\n",
       "│         ┆         ┆         ┆        ┆        ┆     ┆        ┆        ┆ ---    ┆ i64    ┆        │\n",
       "│         ┆         ┆         ┆        ┆        ┆     ┆        ┆        ┆ str    ┆        ┆        │\n",
       "╞═════════╪═════════╪═════════╪════════╪════════╪═════╪════════╪════════╪════════╪════════╪════════╡\n",
       "│ CS02131 ┆ 大野    ┆ 1       ┆ 女性   ┆ 1981-0 ┆ 37  ┆ 259-11 ┆ 神奈川 ┆ S14021 ┆ 201509 ┆ 0-0000 │\n",
       "│ 3000114 ┆ あや子  ┆         ┆        ┆ 4-29   ┆     ┆ 13     ┆ 県伊勢 ┆        ┆ 05     ┆ 0000-0 │\n",
       "│         ┆         ┆         ┆        ┆        ┆     ┆        ┆ 原市粟 ┆        ┆        ┆        │\n",
       "│         ┆         ┆         ┆        ┆        ┆     ┆        ┆ 窪**** ┆        ┆        ┆        │\n",
       "│         ┆         ┆         ┆        ┆        ┆     ┆        ┆ ****** ┆        ┆        ┆        │\n",
       "│ CS03761 ┆ 六角    ┆ 9       ┆ 不明   ┆ 1952-0 ┆ 66  ┆ 136-00 ┆ 東京都 ┆ S13037 ┆ 201504 ┆ 0-0000 │\n",
       "│ 3000071 ┆ 雅彦    ┆         ┆        ┆ 4-01   ┆     ┆ 76     ┆ 江東区 ┆        ┆ 14     ┆ 0000-0 │\n",
       "│         ┆         ┆         ┆        ┆        ┆     ┆        ┆ 南砂** ┆        ┆        ┆        │\n",
       "│         ┆         ┆         ┆        ┆        ┆     ┆        ┆ ****** ┆        ┆        ┆        │\n",
       "│         ┆         ┆         ┆        ┆        ┆     ┆        ┆ **     ┆        ┆        ┆        │\n",
       "│ CS03141 ┆ 宇多田  ┆ 1       ┆ 女性   ┆ 1976-1 ┆ 42  ┆ 151-00 ┆ 東京都 ┆ S13031 ┆ 201505 ┆ D-2010 │\n",
       "│ 5000172 ┆ 貴美子  ┆         ┆        ┆ 0-04   ┆     ┆ 53     ┆ 渋谷区 ┆        ┆ 29     ┆ 0325-C │\n",
       "│         ┆         ┆         ┆        ┆        ┆     ┆        ┆ 代々木 ┆        ┆        ┆        │\n",
       "│         ┆         ┆         ┆        ┆        ┆     ┆        ┆ ****** ┆        ┆        ┆        │\n",
       "│         ┆         ┆         ┆        ┆        ┆     ┆        ┆ ****   ┆        ┆        ┆        │\n",
       "│ CS02881 ┆ 堀井    ┆ 1       ┆ 女性   ┆ 1933-0 ┆ 86  ┆ 245-00 ┆ 神奈川 ┆ S14028 ┆ 201601 ┆ 0-0000 │\n",
       "│ 1000001 ┆ かおり  ┆         ┆        ┆ 3-27   ┆     ┆ 16     ┆ 県横浜 ┆        ┆ 15     ┆ 0000-0 │\n",
       "│         ┆         ┆         ┆        ┆        ┆     ┆        ┆ 市泉区 ┆        ┆        ┆        │\n",
       "│         ┆         ┆         ┆        ┆        ┆     ┆        ┆ 和泉町 ┆        ┆        ┆        │\n",
       "│         ┆         ┆         ┆        ┆        ┆     ┆        ┆ ****** ┆        ┆        ┆        │\n",
       "│         ┆         ┆         ┆        ┆        ┆     ┆        ┆ ****   ┆        ┆        ┆        │\n",
       "│ CS00121 ┆ 田崎    ┆ 1       ┆ 女性   ┆ 1995-0 ┆ 24  ┆ 144-00 ┆ 東京都 ┆ S13001 ┆ 201706 ┆ 6-2009 │\n",
       "│ 5000145 ┆ 美紀    ┆         ┆        ┆ 3-29   ┆     ┆ 55     ┆ 大田区 ┆        ┆ 05     ┆ 0929-2 │\n",
       "│         ┆         ┆         ┆        ┆        ┆     ┆        ┆ 仲六郷 ┆        ┆        ┆        │\n",
       "│         ┆         ┆         ┆        ┆        ┆     ┆        ┆ ****** ┆        ┆        ┆        │\n",
       "│         ┆         ┆         ┆        ┆        ┆     ┆        ┆ ****   ┆        ┆        ┆        │\n",
       "└─────────┴─────────┴─────────┴────────┴────────┴─────┴────────┴────────┴────────┴────────┴────────┘"
      ]
     },
     "execution_count": 5,
     "metadata": {},
     "output_type": "execute_result"
    }
   ],
   "source": [
    "df_customer = pl.read_csv(\"../docker/work/data/customer.csv\")\n",
    "df_customer.head()"
   ]
  },
  {
   "cell_type": "markdown",
   "metadata": {},
   "source": [
    "### ノック"
   ]
  },
  {
   "cell_type": "code",
   "execution_count": 9,
   "metadata": {},
   "outputs": [
    {
     "data": {
      "text/html": [
       "<div><style>\n",
       ".dataframe > thead > tr,\n",
       ".dataframe > tbody > tr {\n",
       "  text-align: right;\n",
       "  white-space: pre-wrap;\n",
       "}\n",
       "</style>\n",
       "<small>shape: (10, 11)</small><table border=\"1\" class=\"dataframe\"><thead><tr><th>customer_id</th><th>customer_name</th><th>gender_cd</th><th>gender</th><th>birth_day</th><th>age</th><th>postal_cd</th><th>address</th><th>application_store_cd</th><th>application_date</th><th>status_cd</th></tr><tr><td>str</td><td>str</td><td>i64</td><td>str</td><td>str</td><td>i64</td><td>str</td><td>str</td><td>str</td><td>i64</td><td>str</td></tr></thead><tbody><tr><td>&quot;CS001215000145…</td><td>&quot;田崎 美紀&quot;</td><td>1</td><td>&quot;女性&quot;</td><td>&quot;1995-03-29&quot;</td><td>24</td><td>&quot;144-0055&quot;</td><td>&quot;東京都大田区仲六郷*****…</td><td>&quot;S13001&quot;</td><td>20170605</td><td>&quot;6-20090929-2&quot;</td></tr><tr><td>&quot;CS033513000180…</td><td>&quot;安斎 遥&quot;</td><td>1</td><td>&quot;女性&quot;</td><td>&quot;1962-07-11&quot;</td><td>56</td><td>&quot;241-0823&quot;</td><td>&quot;神奈川県横浜市旭区善部町**…</td><td>&quot;S14033&quot;</td><td>20150728</td><td>&quot;6-20080506-5&quot;</td></tr><tr><td>&quot;CS011215000048…</td><td>&quot;芦田 沙耶&quot;</td><td>1</td><td>&quot;女性&quot;</td><td>&quot;1992-02-01&quot;</td><td>27</td><td>&quot;223-0062&quot;</td><td>&quot;神奈川県横浜市港北区日吉本町…</td><td>&quot;S14011&quot;</td><td>20150228</td><td>&quot;C-20100421-9&quot;</td></tr><tr><td>&quot;CS040412000191…</td><td>&quot;川井 郁恵&quot;</td><td>1</td><td>&quot;女性&quot;</td><td>&quot;1977-01-05&quot;</td><td>42</td><td>&quot;226-0021&quot;</td><td>&quot;神奈川県横浜市緑区北八朔町*…</td><td>&quot;S14040&quot;</td><td>20151101</td><td>&quot;1-20091025-4&quot;</td></tr><tr><td>&quot;CS009315000023…</td><td>&quot;皆川 文世&quot;</td><td>1</td><td>&quot;女性&quot;</td><td>&quot;1980-04-15&quot;</td><td>38</td><td>&quot;154-0012&quot;</td><td>&quot;東京都世田谷区駒沢*****…</td><td>&quot;S13009&quot;</td><td>20150319</td><td>&quot;5-20080322-1&quot;</td></tr><tr><td>&quot;CS015315000033…</td><td>&quot;福士 璃奈子&quot;</td><td>1</td><td>&quot;女性&quot;</td><td>&quot;1983-03-17&quot;</td><td>36</td><td>&quot;135-0043&quot;</td><td>&quot;東京都江東区塩浜******…</td><td>&quot;S13015&quot;</td><td>20141024</td><td>&quot;4-20080219-3&quot;</td></tr><tr><td>&quot;CS023513000066…</td><td>&quot;神戸 そら&quot;</td><td>1</td><td>&quot;女性&quot;</td><td>&quot;1961-12-17&quot;</td><td>57</td><td>&quot;210-0005&quot;</td><td>&quot;神奈川県川崎市川崎区東田町*…</td><td>&quot;S14023&quot;</td><td>20150915</td><td>&quot;5-20100524-9&quot;</td></tr><tr><td>&quot;CS035513000134…</td><td>&quot;市川 美帆&quot;</td><td>1</td><td>&quot;女性&quot;</td><td>&quot;1960-03-27&quot;</td><td>59</td><td>&quot;156-0053&quot;</td><td>&quot;東京都世田谷区桜******…</td><td>&quot;S13035&quot;</td><td>20150227</td><td>&quot;8-20100711-9&quot;</td></tr><tr><td>&quot;CS001515000263…</td><td>&quot;高松 夏空&quot;</td><td>1</td><td>&quot;女性&quot;</td><td>&quot;1962-11-09&quot;</td><td>56</td><td>&quot;144-0051&quot;</td><td>&quot;東京都大田区西蒲田*****…</td><td>&quot;S13001&quot;</td><td>20160812</td><td>&quot;1-20100804-1&quot;</td></tr><tr><td>&quot;CS040314000027…</td><td>&quot;鶴田 きみまろ&quot;</td><td>9</td><td>&quot;不明&quot;</td><td>&quot;1986-03-26&quot;</td><td>33</td><td>&quot;226-0027&quot;</td><td>&quot;神奈川県横浜市緑区長津田**…</td><td>&quot;S14040&quot;</td><td>20150122</td><td>&quot;2-20080426-4&quot;</td></tr></tbody></table></div>"
      ],
      "text/plain": [
       "shape: (10, 11)\n",
       "┌─────────┬─────────┬─────────┬────────┬────────┬─────┬────────┬────────┬────────┬────────┬────────┐\n",
       "│ custome ┆ custome ┆ gender_ ┆ gender ┆ birth_ ┆ age ┆ postal ┆ addres ┆ applic ┆ applic ┆ status │\n",
       "│ r_id    ┆ r_name  ┆ cd      ┆ ---    ┆ day    ┆ --- ┆ _cd    ┆ s      ┆ ation_ ┆ ation_ ┆ _cd    │\n",
       "│ ---     ┆ ---     ┆ ---     ┆ str    ┆ ---    ┆ i64 ┆ ---    ┆ ---    ┆ store_ ┆ date   ┆ ---    │\n",
       "│ str     ┆ str     ┆ i64     ┆        ┆ str    ┆     ┆ str    ┆ str    ┆ cd     ┆ ---    ┆ str    │\n",
       "│         ┆         ┆         ┆        ┆        ┆     ┆        ┆        ┆ ---    ┆ i64    ┆        │\n",
       "│         ┆         ┆         ┆        ┆        ┆     ┆        ┆        ┆ str    ┆        ┆        │\n",
       "╞═════════╪═════════╪═════════╪════════╪════════╪═════╪════════╪════════╪════════╪════════╪════════╡\n",
       "│ CS00121 ┆ 田崎    ┆ 1       ┆ 女性   ┆ 1995-0 ┆ 24  ┆ 144-00 ┆ 東京都 ┆ S13001 ┆ 201706 ┆ 6-2009 │\n",
       "│ 5000145 ┆ 美紀    ┆         ┆        ┆ 3-29   ┆     ┆ 55     ┆ 大田区 ┆        ┆ 05     ┆ 0929-2 │\n",
       "│         ┆         ┆         ┆        ┆        ┆     ┆        ┆ 仲六郷 ┆        ┆        ┆        │\n",
       "│         ┆         ┆         ┆        ┆        ┆     ┆        ┆ ****** ┆        ┆        ┆        │\n",
       "│         ┆         ┆         ┆        ┆        ┆     ┆        ┆ ****   ┆        ┆        ┆        │\n",
       "│ CS03351 ┆ 安斎 遥 ┆ 1       ┆ 女性   ┆ 1962-0 ┆ 56  ┆ 241-08 ┆ 神奈川 ┆ S14033 ┆ 201507 ┆ 6-2008 │\n",
       "│ 3000180 ┆         ┆         ┆        ┆ 7-11   ┆     ┆ 23     ┆ 県横浜 ┆        ┆ 28     ┆ 0506-5 │\n",
       "│         ┆         ┆         ┆        ┆        ┆     ┆        ┆ 市旭区 ┆        ┆        ┆        │\n",
       "│         ┆         ┆         ┆        ┆        ┆     ┆        ┆ 善部町 ┆        ┆        ┆        │\n",
       "│         ┆         ┆         ┆        ┆        ┆     ┆        ┆ ****** ┆        ┆        ┆        │\n",
       "│         ┆         ┆         ┆        ┆        ┆     ┆        ┆ ****   ┆        ┆        ┆        │\n",
       "│ CS01121 ┆ 芦田    ┆ 1       ┆ 女性   ┆ 1992-0 ┆ 27  ┆ 223-00 ┆ 神奈川 ┆ S14011 ┆ 201502 ┆ C-2010 │\n",
       "│ 5000048 ┆ 沙耶    ┆         ┆        ┆ 2-01   ┆     ┆ 62     ┆ 県横浜 ┆        ┆ 28     ┆ 0421-9 │\n",
       "│         ┆         ┆         ┆        ┆        ┆     ┆        ┆ 市港北 ┆        ┆        ┆        │\n",
       "│         ┆         ┆         ┆        ┆        ┆     ┆        ┆ 区日吉 ┆        ┆        ┆        │\n",
       "│         ┆         ┆         ┆        ┆        ┆     ┆        ┆ 本町** ┆        ┆        ┆        │\n",
       "│         ┆         ┆         ┆        ┆        ┆     ┆        ┆ ****** ┆        ┆        ┆        │\n",
       "│         ┆         ┆         ┆        ┆        ┆     ┆        ┆ **     ┆        ┆        ┆        │\n",
       "│ CS04041 ┆ 川井    ┆ 1       ┆ 女性   ┆ 1977-0 ┆ 42  ┆ 226-00 ┆ 神奈川 ┆ S14040 ┆ 201511 ┆ 1-2009 │\n",
       "│ 2000191 ┆ 郁恵    ┆         ┆        ┆ 1-05   ┆     ┆ 21     ┆ 県横浜 ┆        ┆ 01     ┆ 1025-4 │\n",
       "│         ┆         ┆         ┆        ┆        ┆     ┆        ┆ 市緑区 ┆        ┆        ┆        │\n",
       "│         ┆         ┆         ┆        ┆        ┆     ┆        ┆ 北八朔 ┆        ┆        ┆        │\n",
       "│         ┆         ┆         ┆        ┆        ┆     ┆        ┆ 町**** ┆        ┆        ┆        │\n",
       "│         ┆         ┆         ┆        ┆        ┆     ┆        ┆ ****** ┆        ┆        ┆        │\n",
       "│ …       ┆ …       ┆ …       ┆ …      ┆ …      ┆ …   ┆ …      ┆ …      ┆ …      ┆ …      ┆ …      │\n",
       "│ CS02351 ┆ 神戸    ┆ 1       ┆ 女性   ┆ 1961-1 ┆ 57  ┆ 210-00 ┆ 神奈川 ┆ S14023 ┆ 201509 ┆ 5-2010 │\n",
       "│ 3000066 ┆ そら    ┆         ┆        ┆ 2-17   ┆     ┆ 05     ┆ 県川崎 ┆        ┆ 15     ┆ 0524-9 │\n",
       "│         ┆         ┆         ┆        ┆        ┆     ┆        ┆ 市川崎 ┆        ┆        ┆        │\n",
       "│         ┆         ┆         ┆        ┆        ┆     ┆        ┆ 区東田 ┆        ┆        ┆        │\n",
       "│         ┆         ┆         ┆        ┆        ┆     ┆        ┆ 町**** ┆        ┆        ┆        │\n",
       "│         ┆         ┆         ┆        ┆        ┆     ┆        ┆ ****** ┆        ┆        ┆        │\n",
       "│ CS03551 ┆ 市川    ┆ 1       ┆ 女性   ┆ 1960-0 ┆ 59  ┆ 156-00 ┆ 東京都 ┆ S13035 ┆ 201502 ┆ 8-2010 │\n",
       "│ 3000134 ┆ 美帆    ┆         ┆        ┆ 3-27   ┆     ┆ 53     ┆ 世田谷 ┆        ┆ 27     ┆ 0711-9 │\n",
       "│         ┆         ┆         ┆        ┆        ┆     ┆        ┆ 区桜** ┆        ┆        ┆        │\n",
       "│         ┆         ┆         ┆        ┆        ┆     ┆        ┆ ****** ┆        ┆        ┆        │\n",
       "│         ┆         ┆         ┆        ┆        ┆     ┆        ┆ **     ┆        ┆        ┆        │\n",
       "│ CS00151 ┆ 高松    ┆ 1       ┆ 女性   ┆ 1962-1 ┆ 56  ┆ 144-00 ┆ 東京都 ┆ S13001 ┆ 201608 ┆ 1-2010 │\n",
       "│ 5000263 ┆ 夏空    ┆         ┆        ┆ 1-09   ┆     ┆ 51     ┆ 大田区 ┆        ┆ 12     ┆ 0804-1 │\n",
       "│         ┆         ┆         ┆        ┆        ┆     ┆        ┆ 西蒲田 ┆        ┆        ┆        │\n",
       "│         ┆         ┆         ┆        ┆        ┆     ┆        ┆ ****** ┆        ┆        ┆        │\n",
       "│         ┆         ┆         ┆        ┆        ┆     ┆        ┆ ****   ┆        ┆        ┆        │\n",
       "│ CS04031 ┆ 鶴田    ┆ 9       ┆ 不明   ┆ 1986-0 ┆ 33  ┆ 226-00 ┆ 神奈川 ┆ S14040 ┆ 201501 ┆ 2-2008 │\n",
       "│ 4000027 ┆ きみま  ┆         ┆        ┆ 3-26   ┆     ┆ 27     ┆ 県横浜 ┆        ┆ 22     ┆ 0426-4 │\n",
       "│         ┆ ろ      ┆         ┆        ┆        ┆     ┆        ┆ 市緑区 ┆        ┆        ┆        │\n",
       "│         ┆         ┆         ┆        ┆        ┆     ┆        ┆ 長津田 ┆        ┆        ┆        │\n",
       "│         ┆         ┆         ┆        ┆        ┆     ┆        ┆ ****** ┆        ┆        ┆        │\n",
       "│         ┆         ┆         ┆        ┆        ┆     ┆        ┆ ****   ┆        ┆        ┆        │\n",
       "└─────────┴─────────┴─────────┴────────┴────────┴─────┴────────┴────────┴────────┴────────┴────────┘"
      ]
     },
     "execution_count": 9,
     "metadata": {},
     "output_type": "execute_result"
    }
   ],
   "source": [
    "# 正規表現はcontainsメソッドで機能する\n",
    "(\n",
    "    df_customer\n",
    "    # 8桁の数字 ハイフン 1から９ で抽出する\n",
    "    # 後方一致のために他の条件も追加している\n",
    "    .filter(pl.col(\"status_cd\").str.contains(r\"\\d{8}-(1|2|3|4|5|6|7|8|9)\"))\n",
    "    .head(n = 10)\n",
    ")"
   ]
  },
  {
   "cell_type": "code",
   "execution_count": 7,
   "metadata": {},
   "outputs": [
    {
     "data": {
      "text/html": [
       "<div><style>\n",
       ".dataframe > thead > tr,\n",
       ".dataframe > tbody > tr {\n",
       "  text-align: right;\n",
       "  white-space: pre-wrap;\n",
       "}\n",
       "</style>\n",
       "<small>shape: (10, 11)</small><table border=\"1\" class=\"dataframe\"><thead><tr><th>customer_id</th><th>customer_name</th><th>gender_cd</th><th>gender</th><th>birth_day</th><th>age</th><th>postal_cd</th><th>address</th><th>application_store_cd</th><th>application_date</th><th>status_cd</th></tr><tr><td>str</td><td>str</td><td>i64</td><td>str</td><td>str</td><td>i64</td><td>str</td><td>str</td><td>str</td><td>i64</td><td>str</td></tr></thead><tbody><tr><td>&quot;CS001215000145…</td><td>&quot;田崎 美紀&quot;</td><td>1</td><td>&quot;女性&quot;</td><td>&quot;1995-03-29&quot;</td><td>24</td><td>&quot;144-0055&quot;</td><td>&quot;東京都大田区仲六郷*****…</td><td>&quot;S13001&quot;</td><td>20170605</td><td>&quot;6-20090929-2&quot;</td></tr><tr><td>&quot;CS033513000180…</td><td>&quot;安斎 遥&quot;</td><td>1</td><td>&quot;女性&quot;</td><td>&quot;1962-07-11&quot;</td><td>56</td><td>&quot;241-0823&quot;</td><td>&quot;神奈川県横浜市旭区善部町**…</td><td>&quot;S14033&quot;</td><td>20150728</td><td>&quot;6-20080506-5&quot;</td></tr><tr><td>&quot;CS011215000048…</td><td>&quot;芦田 沙耶&quot;</td><td>1</td><td>&quot;女性&quot;</td><td>&quot;1992-02-01&quot;</td><td>27</td><td>&quot;223-0062&quot;</td><td>&quot;神奈川県横浜市港北区日吉本町…</td><td>&quot;S14011&quot;</td><td>20150228</td><td>&quot;C-20100421-9&quot;</td></tr><tr><td>&quot;CS040412000191…</td><td>&quot;川井 郁恵&quot;</td><td>1</td><td>&quot;女性&quot;</td><td>&quot;1977-01-05&quot;</td><td>42</td><td>&quot;226-0021&quot;</td><td>&quot;神奈川県横浜市緑区北八朔町*…</td><td>&quot;S14040&quot;</td><td>20151101</td><td>&quot;1-20091025-4&quot;</td></tr><tr><td>&quot;CS009315000023…</td><td>&quot;皆川 文世&quot;</td><td>1</td><td>&quot;女性&quot;</td><td>&quot;1980-04-15&quot;</td><td>38</td><td>&quot;154-0012&quot;</td><td>&quot;東京都世田谷区駒沢*****…</td><td>&quot;S13009&quot;</td><td>20150319</td><td>&quot;5-20080322-1&quot;</td></tr><tr><td>&quot;CS015315000033…</td><td>&quot;福士 璃奈子&quot;</td><td>1</td><td>&quot;女性&quot;</td><td>&quot;1983-03-17&quot;</td><td>36</td><td>&quot;135-0043&quot;</td><td>&quot;東京都江東区塩浜******…</td><td>&quot;S13015&quot;</td><td>20141024</td><td>&quot;4-20080219-3&quot;</td></tr><tr><td>&quot;CS023513000066…</td><td>&quot;神戸 そら&quot;</td><td>1</td><td>&quot;女性&quot;</td><td>&quot;1961-12-17&quot;</td><td>57</td><td>&quot;210-0005&quot;</td><td>&quot;神奈川県川崎市川崎区東田町*…</td><td>&quot;S14023&quot;</td><td>20150915</td><td>&quot;5-20100524-9&quot;</td></tr><tr><td>&quot;CS035513000134…</td><td>&quot;市川 美帆&quot;</td><td>1</td><td>&quot;女性&quot;</td><td>&quot;1960-03-27&quot;</td><td>59</td><td>&quot;156-0053&quot;</td><td>&quot;東京都世田谷区桜******…</td><td>&quot;S13035&quot;</td><td>20150227</td><td>&quot;8-20100711-9&quot;</td></tr><tr><td>&quot;CS001515000263…</td><td>&quot;高松 夏空&quot;</td><td>1</td><td>&quot;女性&quot;</td><td>&quot;1962-11-09&quot;</td><td>56</td><td>&quot;144-0051&quot;</td><td>&quot;東京都大田区西蒲田*****…</td><td>&quot;S13001&quot;</td><td>20160812</td><td>&quot;1-20100804-1&quot;</td></tr><tr><td>&quot;CS040314000027…</td><td>&quot;鶴田 きみまろ&quot;</td><td>9</td><td>&quot;不明&quot;</td><td>&quot;1986-03-26&quot;</td><td>33</td><td>&quot;226-0027&quot;</td><td>&quot;神奈川県横浜市緑区長津田**…</td><td>&quot;S14040&quot;</td><td>20150122</td><td>&quot;2-20080426-4&quot;</td></tr></tbody></table></div>"
      ],
      "text/plain": [
       "shape: (10, 11)\n",
       "┌─────────┬─────────┬─────────┬────────┬────────┬─────┬────────┬────────┬────────┬────────┬────────┐\n",
       "│ custome ┆ custome ┆ gender_ ┆ gender ┆ birth_ ┆ age ┆ postal ┆ addres ┆ applic ┆ applic ┆ status │\n",
       "│ r_id    ┆ r_name  ┆ cd      ┆ ---    ┆ day    ┆ --- ┆ _cd    ┆ s      ┆ ation_ ┆ ation_ ┆ _cd    │\n",
       "│ ---     ┆ ---     ┆ ---     ┆ str    ┆ ---    ┆ i64 ┆ ---    ┆ ---    ┆ store_ ┆ date   ┆ ---    │\n",
       "│ str     ┆ str     ┆ i64     ┆        ┆ str    ┆     ┆ str    ┆ str    ┆ cd     ┆ ---    ┆ str    │\n",
       "│         ┆         ┆         ┆        ┆        ┆     ┆        ┆        ┆ ---    ┆ i64    ┆        │\n",
       "│         ┆         ┆         ┆        ┆        ┆     ┆        ┆        ┆ str    ┆        ┆        │\n",
       "╞═════════╪═════════╪═════════╪════════╪════════╪═════╪════════╪════════╪════════╪════════╪════════╡\n",
       "│ CS00121 ┆ 田崎    ┆ 1       ┆ 女性   ┆ 1995-0 ┆ 24  ┆ 144-00 ┆ 東京都 ┆ S13001 ┆ 201706 ┆ 6-2009 │\n",
       "│ 5000145 ┆ 美紀    ┆         ┆        ┆ 3-29   ┆     ┆ 55     ┆ 大田区 ┆        ┆ 05     ┆ 0929-2 │\n",
       "│         ┆         ┆         ┆        ┆        ┆     ┆        ┆ 仲六郷 ┆        ┆        ┆        │\n",
       "│         ┆         ┆         ┆        ┆        ┆     ┆        ┆ ****** ┆        ┆        ┆        │\n",
       "│         ┆         ┆         ┆        ┆        ┆     ┆        ┆ ****   ┆        ┆        ┆        │\n",
       "│ CS03351 ┆ 安斎 遥 ┆ 1       ┆ 女性   ┆ 1962-0 ┆ 56  ┆ 241-08 ┆ 神奈川 ┆ S14033 ┆ 201507 ┆ 6-2008 │\n",
       "│ 3000180 ┆         ┆         ┆        ┆ 7-11   ┆     ┆ 23     ┆ 県横浜 ┆        ┆ 28     ┆ 0506-5 │\n",
       "│         ┆         ┆         ┆        ┆        ┆     ┆        ┆ 市旭区 ┆        ┆        ┆        │\n",
       "│         ┆         ┆         ┆        ┆        ┆     ┆        ┆ 善部町 ┆        ┆        ┆        │\n",
       "│         ┆         ┆         ┆        ┆        ┆     ┆        ┆ ****** ┆        ┆        ┆        │\n",
       "│         ┆         ┆         ┆        ┆        ┆     ┆        ┆ ****   ┆        ┆        ┆        │\n",
       "│ CS01121 ┆ 芦田    ┆ 1       ┆ 女性   ┆ 1992-0 ┆ 27  ┆ 223-00 ┆ 神奈川 ┆ S14011 ┆ 201502 ┆ C-2010 │\n",
       "│ 5000048 ┆ 沙耶    ┆         ┆        ┆ 2-01   ┆     ┆ 62     ┆ 県横浜 ┆        ┆ 28     ┆ 0421-9 │\n",
       "│         ┆         ┆         ┆        ┆        ┆     ┆        ┆ 市港北 ┆        ┆        ┆        │\n",
       "│         ┆         ┆         ┆        ┆        ┆     ┆        ┆ 区日吉 ┆        ┆        ┆        │\n",
       "│         ┆         ┆         ┆        ┆        ┆     ┆        ┆ 本町** ┆        ┆        ┆        │\n",
       "│         ┆         ┆         ┆        ┆        ┆     ┆        ┆ ****** ┆        ┆        ┆        │\n",
       "│         ┆         ┆         ┆        ┆        ┆     ┆        ┆ **     ┆        ┆        ┆        │\n",
       "│ CS04041 ┆ 川井    ┆ 1       ┆ 女性   ┆ 1977-0 ┆ 42  ┆ 226-00 ┆ 神奈川 ┆ S14040 ┆ 201511 ┆ 1-2009 │\n",
       "│ 2000191 ┆ 郁恵    ┆         ┆        ┆ 1-05   ┆     ┆ 21     ┆ 県横浜 ┆        ┆ 01     ┆ 1025-4 │\n",
       "│         ┆         ┆         ┆        ┆        ┆     ┆        ┆ 市緑区 ┆        ┆        ┆        │\n",
       "│         ┆         ┆         ┆        ┆        ┆     ┆        ┆ 北八朔 ┆        ┆        ┆        │\n",
       "│         ┆         ┆         ┆        ┆        ┆     ┆        ┆ 町**** ┆        ┆        ┆        │\n",
       "│         ┆         ┆         ┆        ┆        ┆     ┆        ┆ ****** ┆        ┆        ┆        │\n",
       "│ …       ┆ …       ┆ …       ┆ …      ┆ …      ┆ …   ┆ …      ┆ …      ┆ …      ┆ …      ┆ …      │\n",
       "│ CS02351 ┆ 神戸    ┆ 1       ┆ 女性   ┆ 1961-1 ┆ 57  ┆ 210-00 ┆ 神奈川 ┆ S14023 ┆ 201509 ┆ 5-2010 │\n",
       "│ 3000066 ┆ そら    ┆         ┆        ┆ 2-17   ┆     ┆ 05     ┆ 県川崎 ┆        ┆ 15     ┆ 0524-9 │\n",
       "│         ┆         ┆         ┆        ┆        ┆     ┆        ┆ 市川崎 ┆        ┆        ┆        │\n",
       "│         ┆         ┆         ┆        ┆        ┆     ┆        ┆ 区東田 ┆        ┆        ┆        │\n",
       "│         ┆         ┆         ┆        ┆        ┆     ┆        ┆ 町**** ┆        ┆        ┆        │\n",
       "│         ┆         ┆         ┆        ┆        ┆     ┆        ┆ ****** ┆        ┆        ┆        │\n",
       "│ CS03551 ┆ 市川    ┆ 1       ┆ 女性   ┆ 1960-0 ┆ 59  ┆ 156-00 ┆ 東京都 ┆ S13035 ┆ 201502 ┆ 8-2010 │\n",
       "│ 3000134 ┆ 美帆    ┆         ┆        ┆ 3-27   ┆     ┆ 53     ┆ 世田谷 ┆        ┆ 27     ┆ 0711-9 │\n",
       "│         ┆         ┆         ┆        ┆        ┆     ┆        ┆ 区桜** ┆        ┆        ┆        │\n",
       "│         ┆         ┆         ┆        ┆        ┆     ┆        ┆ ****** ┆        ┆        ┆        │\n",
       "│         ┆         ┆         ┆        ┆        ┆     ┆        ┆ **     ┆        ┆        ┆        │\n",
       "│ CS00151 ┆ 高松    ┆ 1       ┆ 女性   ┆ 1962-1 ┆ 56  ┆ 144-00 ┆ 東京都 ┆ S13001 ┆ 201608 ┆ 1-2010 │\n",
       "│ 5000263 ┆ 夏空    ┆         ┆        ┆ 1-09   ┆     ┆ 51     ┆ 大田区 ┆        ┆ 12     ┆ 0804-1 │\n",
       "│         ┆         ┆         ┆        ┆        ┆     ┆        ┆ 西蒲田 ┆        ┆        ┆        │\n",
       "│         ┆         ┆         ┆        ┆        ┆     ┆        ┆ ****** ┆        ┆        ┆        │\n",
       "│         ┆         ┆         ┆        ┆        ┆     ┆        ┆ ****   ┆        ┆        ┆        │\n",
       "│ CS04031 ┆ 鶴田    ┆ 9       ┆ 不明   ┆ 1986-0 ┆ 33  ┆ 226-00 ┆ 神奈川 ┆ S14040 ┆ 201501 ┆ 2-2008 │\n",
       "│ 4000027 ┆ きみま  ┆         ┆        ┆ 3-26   ┆     ┆ 27     ┆ 県横浜 ┆        ┆ 22     ┆ 0426-4 │\n",
       "│         ┆ ろ      ┆         ┆        ┆        ┆     ┆        ┆ 市緑区 ┆        ┆        ┆        │\n",
       "│         ┆         ┆         ┆        ┆        ┆     ┆        ┆ 長津田 ┆        ┆        ┆        │\n",
       "│         ┆         ┆         ┆        ┆        ┆     ┆        ┆ ****** ┆        ┆        ┆        │\n",
       "│         ┆         ┆         ┆        ┆        ┆     ┆        ┆ ****   ┆        ┆        ┆        │\n",
       "└─────────┴─────────┴─────────┴────────┴────────┴─────┴────────┴────────┴────────┴────────┴────────┘"
      ]
     },
     "execution_count": 7,
     "metadata": {},
     "output_type": "execute_result"
    }
   ],
   "source": [
    "(\n",
    "    df_customer\n",
    "    .filter(pl.col(\"status_cd\").str.ends_with(\"1\") |\n",
    "            pl.col(\"status_cd\").str.ends_with(\"2\") |\n",
    "            pl.col(\"status_cd\").str.ends_with(\"3\") |\n",
    "            pl.col(\"status_cd\").str.ends_with(\"4\") |\n",
    "            pl.col(\"status_cd\").str.ends_with(\"5\") |\n",
    "            pl.col(\"status_cd\").str.ends_with(\"6\") |\n",
    "            pl.col(\"status_cd\").str.ends_with(\"7\") |\n",
    "            pl.col(\"status_cd\").str.ends_with(\"8\") |\n",
    "            pl.col(\"status_cd\").str.ends_with(\"9\"))\n",
    "    .head(n = 10)\n",
    ")"
   ]
  }
 ],
 "metadata": {
  "kernelspec": {
   "display_name": "Python 3",
   "language": "python",
   "name": "python3"
  },
  "language_info": {
   "codemirror_mode": {
    "name": "ipython",
    "version": 3
   },
   "file_extension": ".py",
   "mimetype": "text/x-python",
   "name": "python",
   "nbconvert_exporter": "python",
   "pygments_lexer": "ipython3",
   "version": "3.11.4"
  }
 },
 "nbformat": 4,
 "nbformat_minor": 2
}
