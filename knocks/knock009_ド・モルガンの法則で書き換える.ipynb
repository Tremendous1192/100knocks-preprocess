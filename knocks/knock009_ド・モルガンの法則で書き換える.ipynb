{
 "cells": [
  {
   "cell_type": "markdown",
   "metadata": {},
   "source": [
    "## knock 009 ド・モルガンの法則で書き換える"
   ]
  },
  {
   "cell_type": "code",
   "execution_count": 15,
   "metadata": {},
   "outputs": [
    {
     "data": {
      "text/plain": [
       "polars.config.Config"
      ]
     },
     "execution_count": 15,
     "metadata": {},
     "output_type": "execute_result"
    }
   ],
   "source": [
    "import polars as pl\n",
    "pl.Config.set_tbl_cols(-1)# 列が省略されないようにする"
   ]
  },
  {
   "cell_type": "markdown",
   "metadata": {},
   "source": [
    "### データを読み込む"
   ]
  },
  {
   "cell_type": "code",
   "execution_count": 16,
   "metadata": {},
   "outputs": [
    {
     "data": {
      "text/html": [
       "<div><style>\n",
       ".dataframe > thead > tr,\n",
       ".dataframe > tbody > tr {\n",
       "  text-align: right;\n",
       "  white-space: pre-wrap;\n",
       "}\n",
       "</style>\n",
       "<small>shape: (5, 10)</small><table border=\"1\" class=\"dataframe\"><thead><tr><th>store_cd</th><th>store_name</th><th>prefecture_cd</th><th>prefecture</th><th>address</th><th>address_kana</th><th>tel_no</th><th>longitude</th><th>latitude</th><th>floor_area</th></tr><tr><td>str</td><td>str</td><td>i64</td><td>str</td><td>str</td><td>str</td><td>str</td><td>f64</td><td>f64</td><td>f64</td></tr></thead><tbody><tr><td>&quot;S12014&quot;</td><td>&quot;千草台店&quot;</td><td>12</td><td>&quot;千葉県&quot;</td><td>&quot;千葉県千葉市稲毛区千草台一丁…</td><td>&quot;チバケンチバシイナゲクチグサ…</td><td>&quot;043-123-4003&quot;</td><td>140.118</td><td>35.63559</td><td>1698.0</td></tr><tr><td>&quot;S13002&quot;</td><td>&quot;国分寺店&quot;</td><td>13</td><td>&quot;東京都&quot;</td><td>&quot;東京都国分寺市本多二丁目&quot;</td><td>&quot;トウキョウトコクブンジシホン…</td><td>&quot;042-123-4008&quot;</td><td>139.4802</td><td>35.70566</td><td>1735.0</td></tr><tr><td>&quot;S14010&quot;</td><td>&quot;菊名店&quot;</td><td>14</td><td>&quot;神奈川県&quot;</td><td>&quot;神奈川県横浜市港北区菊名一丁…</td><td>&quot;カナガワケンヨコハマシコウホ…</td><td>&quot;045-123-4032&quot;</td><td>139.6326</td><td>35.50049</td><td>1732.0</td></tr><tr><td>&quot;S14033&quot;</td><td>&quot;阿久和店&quot;</td><td>14</td><td>&quot;神奈川県&quot;</td><td>&quot;神奈川県横浜市瀬谷区阿久和西…</td><td>&quot;カナガワケンヨコハマシセヤク…</td><td>&quot;045-123-4043&quot;</td><td>139.4961</td><td>35.45918</td><td>1495.0</td></tr><tr><td>&quot;S14036&quot;</td><td>&quot;相模原中央店&quot;</td><td>14</td><td>&quot;神奈川県&quot;</td><td>&quot;神奈川県相模原市中央二丁目&quot;</td><td>&quot;カナガワケンサガミハラシチュ…</td><td>&quot;042-123-4045&quot;</td><td>139.3716</td><td>35.57327</td><td>1679.0</td></tr></tbody></table></div>"
      ],
      "text/plain": [
       "shape: (5, 10)\n",
       "┌─────────┬─────────┬─────────┬─────────┬─────────┬─────────┬─────────┬─────────┬─────────┬────────┐\n",
       "│ store_c ┆ store_n ┆ prefect ┆ prefect ┆ address ┆ address ┆ tel_no  ┆ longitu ┆ latitud ┆ floor_ │\n",
       "│ d       ┆ ame     ┆ ure_cd  ┆ ure     ┆ ---     ┆ _kana   ┆ ---     ┆ de      ┆ e       ┆ area   │\n",
       "│ ---     ┆ ---     ┆ ---     ┆ ---     ┆ str     ┆ ---     ┆ str     ┆ ---     ┆ ---     ┆ ---    │\n",
       "│ str     ┆ str     ┆ i64     ┆ str     ┆         ┆ str     ┆         ┆ f64     ┆ f64     ┆ f64    │\n",
       "╞═════════╪═════════╪═════════╪═════════╪═════════╪═════════╪═════════╪═════════╪═════════╪════════╡\n",
       "│ S12014  ┆ 千草台  ┆ 12      ┆ 千葉県  ┆ 千葉県  ┆ チバケ  ┆ 043-123 ┆ 140.118 ┆ 35.6355 ┆ 1698.0 │\n",
       "│         ┆ 店      ┆         ┆         ┆ 千葉市  ┆ ンチバ  ┆ -4003   ┆         ┆ 9       ┆        │\n",
       "│         ┆         ┆         ┆         ┆ 稲毛区  ┆ シイナ  ┆         ┆         ┆         ┆        │\n",
       "│         ┆         ┆         ┆         ┆ 千草台  ┆ ゲクチ  ┆         ┆         ┆         ┆        │\n",
       "│         ┆         ┆         ┆         ┆ 一丁目  ┆ グサダ  ┆         ┆         ┆         ┆        │\n",
       "│         ┆         ┆         ┆         ┆         ┆ イイッ  ┆         ┆         ┆         ┆        │\n",
       "│         ┆         ┆         ┆         ┆         ┆ チョウ  ┆         ┆         ┆         ┆        │\n",
       "│         ┆         ┆         ┆         ┆         ┆ メ      ┆         ┆         ┆         ┆        │\n",
       "│ S13002  ┆ 国分寺  ┆ 13      ┆ 東京都  ┆ 東京都  ┆ トウキ  ┆ 042-123 ┆ 139.480 ┆ 35.7056 ┆ 1735.0 │\n",
       "│         ┆ 店      ┆         ┆         ┆ 国分寺  ┆ ョウト  ┆ -4008   ┆ 2       ┆ 6       ┆        │\n",
       "│         ┆         ┆         ┆         ┆ 市本多  ┆ コクブ  ┆         ┆         ┆         ┆        │\n",
       "│         ┆         ┆         ┆         ┆ 二丁目  ┆ ンジシ  ┆         ┆         ┆         ┆        │\n",
       "│         ┆         ┆         ┆         ┆         ┆ ホンダ  ┆         ┆         ┆         ┆        │\n",
       "│         ┆         ┆         ┆         ┆         ┆ ニチョ  ┆         ┆         ┆         ┆        │\n",
       "│         ┆         ┆         ┆         ┆         ┆ ウメ    ┆         ┆         ┆         ┆        │\n",
       "│ S14010  ┆ 菊名店  ┆ 14      ┆ 神奈川  ┆ 神奈川  ┆ カナガ  ┆ 045-123 ┆ 139.632 ┆ 35.5004 ┆ 1732.0 │\n",
       "│         ┆         ┆         ┆ 県      ┆ 県横浜  ┆ ワケン  ┆ -4032   ┆ 6       ┆ 9       ┆        │\n",
       "│         ┆         ┆         ┆         ┆ 市港北  ┆ ヨコハ  ┆         ┆         ┆         ┆        │\n",
       "│         ┆         ┆         ┆         ┆ 区菊名  ┆ マシコ  ┆         ┆         ┆         ┆        │\n",
       "│         ┆         ┆         ┆         ┆ 一丁目  ┆ ウホク  ┆         ┆         ┆         ┆        │\n",
       "│         ┆         ┆         ┆         ┆         ┆ クキク  ┆         ┆         ┆         ┆        │\n",
       "│         ┆         ┆         ┆         ┆         ┆ ナイッ  ┆         ┆         ┆         ┆        │\n",
       "│         ┆         ┆         ┆         ┆         ┆ チョウ  ┆         ┆         ┆         ┆        │\n",
       "│         ┆         ┆         ┆         ┆         ┆ メ      ┆         ┆         ┆         ┆        │\n",
       "│ S14033  ┆ 阿久和  ┆ 14      ┆ 神奈川  ┆ 神奈川  ┆ カナガ  ┆ 045-123 ┆ 139.496 ┆ 35.4591 ┆ 1495.0 │\n",
       "│         ┆ 店      ┆         ┆ 県      ┆ 県横浜  ┆ ワケン  ┆ -4043   ┆ 1       ┆ 8       ┆        │\n",
       "│         ┆         ┆         ┆         ┆ 市瀬谷  ┆ ヨコハ  ┆         ┆         ┆         ┆        │\n",
       "│         ┆         ┆         ┆         ┆ 区阿久  ┆ マシセ  ┆         ┆         ┆         ┆        │\n",
       "│         ┆         ┆         ┆         ┆ 和西一  ┆ ヤクア  ┆         ┆         ┆         ┆        │\n",
       "│         ┆         ┆         ┆         ┆ 丁目    ┆ クワニ  ┆         ┆         ┆         ┆        │\n",
       "│         ┆         ┆         ┆         ┆         ┆ シイッ  ┆         ┆         ┆         ┆        │\n",
       "│         ┆         ┆         ┆         ┆         ┆ チョウ  ┆         ┆         ┆         ┆        │\n",
       "│         ┆         ┆         ┆         ┆         ┆ メ      ┆         ┆         ┆         ┆        │\n",
       "│ S14036  ┆ 相模原  ┆ 14      ┆ 神奈川  ┆ 神奈川  ┆ カナガ  ┆ 042-123 ┆ 139.371 ┆ 35.5732 ┆ 1679.0 │\n",
       "│         ┆ 中央店  ┆         ┆ 県      ┆ 県相模  ┆ ワケン  ┆ -4045   ┆ 6       ┆ 7       ┆        │\n",
       "│         ┆         ┆         ┆         ┆ 原市中  ┆ サガミ  ┆         ┆         ┆         ┆        │\n",
       "│         ┆         ┆         ┆         ┆ 央二丁  ┆ ハラシ  ┆         ┆         ┆         ┆        │\n",
       "│         ┆         ┆         ┆         ┆ 目      ┆ チュウ  ┆         ┆         ┆         ┆        │\n",
       "│         ┆         ┆         ┆         ┆         ┆ オウニ  ┆         ┆         ┆         ┆        │\n",
       "│         ┆         ┆         ┆         ┆         ┆ チョウ  ┆         ┆         ┆         ┆        │\n",
       "│         ┆         ┆         ┆         ┆         ┆ メ      ┆         ┆         ┆         ┆        │\n",
       "└─────────┴─────────┴─────────┴─────────┴─────────┴─────────┴─────────┴─────────┴─────────┴────────┘"
      ]
     },
     "execution_count": 16,
     "metadata": {},
     "output_type": "execute_result"
    }
   ],
   "source": [
    "df_store = pl.read_csv(\"../docker/work/data/store.csv\")\n",
    "df_store.head()"
   ]
  },
  {
   "cell_type": "markdown",
   "metadata": {},
   "source": [
    "### ノック"
   ]
  },
  {
   "cell_type": "code",
   "execution_count": 17,
   "metadata": {},
   "outputs": [
    {
     "data": {
      "text/html": [
       "<div><style>\n",
       ".dataframe > thead > tr,\n",
       ".dataframe > tbody > tr {\n",
       "  text-align: right;\n",
       "  white-space: pre-wrap;\n",
       "}\n",
       "</style>\n",
       "<small>shape: (3, 10)</small><table border=\"1\" class=\"dataframe\"><thead><tr><th>store_cd</th><th>store_name</th><th>prefecture_cd</th><th>prefecture</th><th>address</th><th>address_kana</th><th>tel_no</th><th>longitude</th><th>latitude</th><th>floor_area</th></tr><tr><td>str</td><td>str</td><td>i64</td><td>str</td><td>str</td><td>str</td><td>str</td><td>f64</td><td>f64</td><td>f64</td></tr></thead><tbody><tr><td>&quot;S14046&quot;</td><td>&quot;北山田店&quot;</td><td>14</td><td>&quot;神奈川県&quot;</td><td>&quot;神奈川県横浜市都筑区北山田一…</td><td>&quot;カナガワケンヨコハマシツヅキ…</td><td>&quot;045-123-4049&quot;</td><td>139.5916</td><td>35.56189</td><td>831.0</td></tr><tr><td>&quot;S14011&quot;</td><td>&quot;日吉本町店&quot;</td><td>14</td><td>&quot;神奈川県&quot;</td><td>&quot;神奈川県横浜市港北区日吉本町…</td><td>&quot;カナガワケンヨコハマシコウホ…</td><td>&quot;045-123-4033&quot;</td><td>139.6316</td><td>35.54655</td><td>890.0</td></tr><tr><td>&quot;S12013&quot;</td><td>&quot;習志野店&quot;</td><td>12</td><td>&quot;千葉県&quot;</td><td>&quot;千葉県習志野市芝園一丁目&quot;</td><td>&quot;チバケンナラシノシシバゾノイ…</td><td>&quot;047-123-4002&quot;</td><td>140.022</td><td>35.66122</td><td>808.0</td></tr></tbody></table></div>"
      ],
      "text/plain": [
       "shape: (3, 10)\n",
       "┌─────────┬─────────┬─────────┬─────────┬─────────┬─────────┬─────────┬─────────┬─────────┬────────┐\n",
       "│ store_c ┆ store_n ┆ prefect ┆ prefect ┆ address ┆ address ┆ tel_no  ┆ longitu ┆ latitud ┆ floor_ │\n",
       "│ d       ┆ ame     ┆ ure_cd  ┆ ure     ┆ ---     ┆ _kana   ┆ ---     ┆ de      ┆ e       ┆ area   │\n",
       "│ ---     ┆ ---     ┆ ---     ┆ ---     ┆ str     ┆ ---     ┆ str     ┆ ---     ┆ ---     ┆ ---    │\n",
       "│ str     ┆ str     ┆ i64     ┆ str     ┆         ┆ str     ┆         ┆ f64     ┆ f64     ┆ f64    │\n",
       "╞═════════╪═════════╪═════════╪═════════╪═════════╪═════════╪═════════╪═════════╪═════════╪════════╡\n",
       "│ S14046  ┆ 北山田  ┆ 14      ┆ 神奈川  ┆ 神奈川  ┆ カナガ  ┆ 045-123 ┆ 139.591 ┆ 35.5618 ┆ 831.0  │\n",
       "│         ┆ 店      ┆         ┆ 県      ┆ 県横浜  ┆ ワケン  ┆ -4049   ┆ 6       ┆ 9       ┆        │\n",
       "│         ┆         ┆         ┆         ┆ 市都筑  ┆ ヨコハ  ┆         ┆         ┆         ┆        │\n",
       "│         ┆         ┆         ┆         ┆ 区北山  ┆ マシツ  ┆         ┆         ┆         ┆        │\n",
       "│         ┆         ┆         ┆         ┆ 田一丁  ┆ ヅキク  ┆         ┆         ┆         ┆        │\n",
       "│         ┆         ┆         ┆         ┆ 目      ┆ キタヤ  ┆         ┆         ┆         ┆        │\n",
       "│         ┆         ┆         ┆         ┆         ┆ マタイ  ┆         ┆         ┆         ┆        │\n",
       "│         ┆         ┆         ┆         ┆         ┆ ッチョ  ┆         ┆         ┆         ┆        │\n",
       "│         ┆         ┆         ┆         ┆         ┆ ウメ    ┆         ┆         ┆         ┆        │\n",
       "│ S14011  ┆ 日吉本  ┆ 14      ┆ 神奈川  ┆ 神奈川  ┆ カナガ  ┆ 045-123 ┆ 139.631 ┆ 35.5465 ┆ 890.0  │\n",
       "│         ┆ 町店    ┆         ┆ 県      ┆ 県横浜  ┆ ワケン  ┆ -4033   ┆ 6       ┆ 5       ┆        │\n",
       "│         ┆         ┆         ┆         ┆ 市港北  ┆ ヨコハ  ┆         ┆         ┆         ┆        │\n",
       "│         ┆         ┆         ┆         ┆ 区日吉  ┆ マシコ  ┆         ┆         ┆         ┆        │\n",
       "│         ┆         ┆         ┆         ┆ 本町四  ┆ ウホク  ┆         ┆         ┆         ┆        │\n",
       "│         ┆         ┆         ┆         ┆ 丁目    ┆ クヒヨ  ┆         ┆         ┆         ┆        │\n",
       "│         ┆         ┆         ┆         ┆         ┆ シホン  ┆         ┆         ┆         ┆        │\n",
       "│         ┆         ┆         ┆         ┆         ┆ チョウ  ┆         ┆         ┆         ┆        │\n",
       "│         ┆         ┆         ┆         ┆         ┆ ヨンチ  ┆         ┆         ┆         ┆        │\n",
       "│         ┆         ┆         ┆         ┆         ┆ ョウメ  ┆         ┆         ┆         ┆        │\n",
       "│ S12013  ┆ 習志野  ┆ 12      ┆ 千葉県  ┆ 千葉県  ┆ チバケ  ┆ 047-123 ┆ 140.022 ┆ 35.6612 ┆ 808.0  │\n",
       "│         ┆ 店      ┆         ┆         ┆ 習志野  ┆ ンナラ  ┆ -4002   ┆         ┆ 2       ┆        │\n",
       "│         ┆         ┆         ┆         ┆ 市芝園  ┆ シノシ  ┆         ┆         ┆         ┆        │\n",
       "│         ┆         ┆         ┆         ┆ 一丁目  ┆ シバゾ  ┆         ┆         ┆         ┆        │\n",
       "│         ┆         ┆         ┆         ┆         ┆ ノイッ  ┆         ┆         ┆         ┆        │\n",
       "│         ┆         ┆         ┆         ┆         ┆ チョウ  ┆         ┆         ┆         ┆        │\n",
       "│         ┆         ┆         ┆         ┆         ┆ メ      ┆         ┆         ┆         ┆        │\n",
       "└─────────┴─────────┴─────────┴─────────┴─────────┴─────────┴─────────┴─────────┴─────────┴────────┘"
      ]
     },
     "execution_count": 17,
     "metadata": {},
     "output_type": "execute_result"
    }
   ],
   "source": [
    "# 元の処理\n",
    "df_store.filter( ~((pl.col(\"prefecture_cd\") == 13) | (pl.col(\"floor_area\") > 900)) )"
   ]
  },
  {
   "cell_type": "code",
   "execution_count": 18,
   "metadata": {},
   "outputs": [
    {
     "data": {
      "text/html": [
       "<div><style>\n",
       ".dataframe > thead > tr,\n",
       ".dataframe > tbody > tr {\n",
       "  text-align: right;\n",
       "  white-space: pre-wrap;\n",
       "}\n",
       "</style>\n",
       "<small>shape: (3, 10)</small><table border=\"1\" class=\"dataframe\"><thead><tr><th>store_cd</th><th>store_name</th><th>prefecture_cd</th><th>prefecture</th><th>address</th><th>address_kana</th><th>tel_no</th><th>longitude</th><th>latitude</th><th>floor_area</th></tr><tr><td>str</td><td>str</td><td>i64</td><td>str</td><td>str</td><td>str</td><td>str</td><td>f64</td><td>f64</td><td>f64</td></tr></thead><tbody><tr><td>&quot;S14046&quot;</td><td>&quot;北山田店&quot;</td><td>14</td><td>&quot;神奈川県&quot;</td><td>&quot;神奈川県横浜市都筑区北山田一…</td><td>&quot;カナガワケンヨコハマシツヅキ…</td><td>&quot;045-123-4049&quot;</td><td>139.5916</td><td>35.56189</td><td>831.0</td></tr><tr><td>&quot;S14011&quot;</td><td>&quot;日吉本町店&quot;</td><td>14</td><td>&quot;神奈川県&quot;</td><td>&quot;神奈川県横浜市港北区日吉本町…</td><td>&quot;カナガワケンヨコハマシコウホ…</td><td>&quot;045-123-4033&quot;</td><td>139.6316</td><td>35.54655</td><td>890.0</td></tr><tr><td>&quot;S12013&quot;</td><td>&quot;習志野店&quot;</td><td>12</td><td>&quot;千葉県&quot;</td><td>&quot;千葉県習志野市芝園一丁目&quot;</td><td>&quot;チバケンナラシノシシバゾノイ…</td><td>&quot;047-123-4002&quot;</td><td>140.022</td><td>35.66122</td><td>808.0</td></tr></tbody></table></div>"
      ],
      "text/plain": [
       "shape: (3, 10)\n",
       "┌─────────┬─────────┬─────────┬─────────┬─────────┬─────────┬─────────┬─────────┬─────────┬────────┐\n",
       "│ store_c ┆ store_n ┆ prefect ┆ prefect ┆ address ┆ address ┆ tel_no  ┆ longitu ┆ latitud ┆ floor_ │\n",
       "│ d       ┆ ame     ┆ ure_cd  ┆ ure     ┆ ---     ┆ _kana   ┆ ---     ┆ de      ┆ e       ┆ area   │\n",
       "│ ---     ┆ ---     ┆ ---     ┆ ---     ┆ str     ┆ ---     ┆ str     ┆ ---     ┆ ---     ┆ ---    │\n",
       "│ str     ┆ str     ┆ i64     ┆ str     ┆         ┆ str     ┆         ┆ f64     ┆ f64     ┆ f64    │\n",
       "╞═════════╪═════════╪═════════╪═════════╪═════════╪═════════╪═════════╪═════════╪═════════╪════════╡\n",
       "│ S14046  ┆ 北山田  ┆ 14      ┆ 神奈川  ┆ 神奈川  ┆ カナガ  ┆ 045-123 ┆ 139.591 ┆ 35.5618 ┆ 831.0  │\n",
       "│         ┆ 店      ┆         ┆ 県      ┆ 県横浜  ┆ ワケン  ┆ -4049   ┆ 6       ┆ 9       ┆        │\n",
       "│         ┆         ┆         ┆         ┆ 市都筑  ┆ ヨコハ  ┆         ┆         ┆         ┆        │\n",
       "│         ┆         ┆         ┆         ┆ 区北山  ┆ マシツ  ┆         ┆         ┆         ┆        │\n",
       "│         ┆         ┆         ┆         ┆ 田一丁  ┆ ヅキク  ┆         ┆         ┆         ┆        │\n",
       "│         ┆         ┆         ┆         ┆ 目      ┆ キタヤ  ┆         ┆         ┆         ┆        │\n",
       "│         ┆         ┆         ┆         ┆         ┆ マタイ  ┆         ┆         ┆         ┆        │\n",
       "│         ┆         ┆         ┆         ┆         ┆ ッチョ  ┆         ┆         ┆         ┆        │\n",
       "│         ┆         ┆         ┆         ┆         ┆ ウメ    ┆         ┆         ┆         ┆        │\n",
       "│ S14011  ┆ 日吉本  ┆ 14      ┆ 神奈川  ┆ 神奈川  ┆ カナガ  ┆ 045-123 ┆ 139.631 ┆ 35.5465 ┆ 890.0  │\n",
       "│         ┆ 町店    ┆         ┆ 県      ┆ 県横浜  ┆ ワケン  ┆ -4033   ┆ 6       ┆ 5       ┆        │\n",
       "│         ┆         ┆         ┆         ┆ 市港北  ┆ ヨコハ  ┆         ┆         ┆         ┆        │\n",
       "│         ┆         ┆         ┆         ┆ 区日吉  ┆ マシコ  ┆         ┆         ┆         ┆        │\n",
       "│         ┆         ┆         ┆         ┆ 本町四  ┆ ウホク  ┆         ┆         ┆         ┆        │\n",
       "│         ┆         ┆         ┆         ┆ 丁目    ┆ クヒヨ  ┆         ┆         ┆         ┆        │\n",
       "│         ┆         ┆         ┆         ┆         ┆ シホン  ┆         ┆         ┆         ┆        │\n",
       "│         ┆         ┆         ┆         ┆         ┆ チョウ  ┆         ┆         ┆         ┆        │\n",
       "│         ┆         ┆         ┆         ┆         ┆ ヨンチ  ┆         ┆         ┆         ┆        │\n",
       "│         ┆         ┆         ┆         ┆         ┆ ョウメ  ┆         ┆         ┆         ┆        │\n",
       "│ S12013  ┆ 習志野  ┆ 12      ┆ 千葉県  ┆ 千葉県  ┆ チバケ  ┆ 047-123 ┆ 140.022 ┆ 35.6612 ┆ 808.0  │\n",
       "│         ┆ 店      ┆         ┆         ┆ 習志野  ┆ ンナラ  ┆ -4002   ┆         ┆ 2       ┆        │\n",
       "│         ┆         ┆         ┆         ┆ 市芝園  ┆ シノシ  ┆         ┆         ┆         ┆        │\n",
       "│         ┆         ┆         ┆         ┆ 一丁目  ┆ シバゾ  ┆         ┆         ┆         ┆        │\n",
       "│         ┆         ┆         ┆         ┆         ┆ ノイッ  ┆         ┆         ┆         ┆        │\n",
       "│         ┆         ┆         ┆         ┆         ┆ チョウ  ┆         ┆         ┆         ┆        │\n",
       "│         ┆         ┆         ┆         ┆         ┆ メ      ┆         ┆         ┆         ┆        │\n",
       "└─────────┴─────────┴─────────┴─────────┴─────────┴─────────┴─────────┴─────────┴─────────┴────────┘"
      ]
     },
     "execution_count": 18,
     "metadata": {},
     "output_type": "execute_result"
    }
   ],
   "source": [
    "# ド・モルガンの法則で書き換えた処理\n",
    "df_store.filter( ~(pl.col(\"prefecture_cd\") == 13) & ~(pl.col(\"floor_area\") > 900) )"
   ]
  }
 ],
 "metadata": {
  "kernelspec": {
   "display_name": "Python 3",
   "language": "python",
   "name": "python3"
  },
  "language_info": {
   "codemirror_mode": {
    "name": "ipython",
    "version": 3
   },
   "file_extension": ".py",
   "mimetype": "text/x-python",
   "name": "python",
   "nbconvert_exporter": "python",
   "pygments_lexer": "ipython3",
   "version": "3.11.4"
  }
 },
 "nbformat": 4,
 "nbformat_minor": 2
}
